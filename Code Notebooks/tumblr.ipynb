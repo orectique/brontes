{
 "cells": [
  {
   "cell_type": "code",
   "execution_count": 1,
   "metadata": {},
   "outputs": [
    {
     "data": {
      "text/plain": [
       "True"
      ]
     },
     "execution_count": 1,
     "metadata": {},
     "output_type": "execute_result"
    }
   ],
   "source": [
    "import pytumblr\n",
    "from dotenv import load_dotenv\n",
    "import os\n",
    "\n",
    "load_dotenv()"
   ]
  },
  {
   "cell_type": "code",
   "execution_count": 2,
   "metadata": {},
   "outputs": [],
   "source": [
    "client = pytumblr.TumblrRestClient(\n",
    "  os.getenv('TUMBLR_CONSUMER_KEY'),\n",
    "  os.getenv('TUMBLR_SECRET_KEY'),\n",
    "  os.getenv('TUMBLR_OAUTH_TOKEN'),\n",
    "  os.getenv('TUMBLR_OAUTH_SECRET')\n",
    ")"
   ]
  },
  {
   "cell_type": "code",
   "execution_count": 3,
   "metadata": {},
   "outputs": [
    {
     "data": {
      "text/plain": [
       "{'user': {'name': 'palegentlementale',\n",
       "  'likes': 0,\n",
       "  'following': 1,\n",
       "  'default_post_format': 'html',\n",
       "  'blogs': [{'admin': True,\n",
       "    'ask': False,\n",
       "    'ask_anon': False,\n",
       "    'ask_page_title': 'Ask me anything',\n",
       "    'asks_allow_media': True,\n",
       "    'avatar': [{'width': 512,\n",
       "      'height': 512,\n",
       "      'url': 'https://64.media.tumblr.com/37b23e6ae38f98b69bb57e77dd7ac3fb/22895acaf1395642-51/s512x512u_c1/f62424b506ecda324bd2bf7115065473e7f56f6f.png'},\n",
       "     {'width': 128,\n",
       "      'height': 128,\n",
       "      'url': 'https://64.media.tumblr.com/37b23e6ae38f98b69bb57e77dd7ac3fb/22895acaf1395642-51/s128x128u_c1/4af8764b7af52575cef4bf7eb8bb9b5e154ea812.png'},\n",
       "     {'width': 96,\n",
       "      'height': 96,\n",
       "      'url': 'https://64.media.tumblr.com/37b23e6ae38f98b69bb57e77dd7ac3fb/22895acaf1395642-51/s96x96u_c1/b71af30e72ced8aee00a76c55bea9a2eb432600b.png'},\n",
       "     {'width': 64,\n",
       "      'height': 64,\n",
       "      'url': 'https://64.media.tumblr.com/37b23e6ae38f98b69bb57e77dd7ac3fb/22895acaf1395642-51/s64x64u_c1/c0661b49694a547fcbb0b325475b06910d34613d.png'}],\n",
       "    'can_chat': False,\n",
       "    'can_send_fan_mail': True,\n",
       "    'can_subscribe': False,\n",
       "    'description': '',\n",
       "    'drafts': 0,\n",
       "    'facebook': 'N',\n",
       "    'facebook_opengraph_enabled': 'N',\n",
       "    'followed': False,\n",
       "    'followers': 0,\n",
       "    'is_blocked_from_primary': False,\n",
       "    'is_nsfw': False,\n",
       "    'likes': 0,\n",
       "    'messages': 0,\n",
       "    'name': 'palegentlementale',\n",
       "    'posts': 300,\n",
       "    'primary': True,\n",
       "    'queue': 0,\n",
       "    'share_likes': True,\n",
       "    'subscribed': False,\n",
       "    'theme': {'header_full_width': 1920,\n",
       "     'header_full_height': 817,\n",
       "     'avatar_shape': 'circle',\n",
       "     'background_color': '#FFFFFF',\n",
       "     'body_font': 'Helvetica Neue',\n",
       "     'header_bounds': '',\n",
       "     'header_image': 'https://64.media.tumblr.com/56dc2be3d54d845f9cd4ce785ef64de7/22895acaf1395642-fd/s1920x817/4d6793e397df2a4f173a1dd08a65f541e2b79c0a.jpg',\n",
       "     'header_image_focused': 'https://64.media.tumblr.com/56dc2be3d54d845f9cd4ce785ef64de7/22895acaf1395642-fd/s2048x3072/02ba8fb1719a791bfece81c7efb7d3c07977303f.jpg',\n",
       "     'header_image_poster': '',\n",
       "     'header_image_scaled': 'https://64.media.tumblr.com/56dc2be3d54d845f9cd4ce785ef64de7/22895acaf1395642-fd/s2048x3072/02ba8fb1719a791bfece81c7efb7d3c07977303f.jpg',\n",
       "     'header_stretch': True,\n",
       "     'link_color': '#00B8FF',\n",
       "     'show_avatar': True,\n",
       "     'show_description': True,\n",
       "     'show_header_image': True,\n",
       "     'show_title': True,\n",
       "     'title_color': '#000000',\n",
       "     'title_font': 'Gibson',\n",
       "     'title_font_weight': 'bold'},\n",
       "    'title': 'Orectique',\n",
       "    'total_posts': 300,\n",
       "    'tweet': 'N',\n",
       "    'twitter_enabled': False,\n",
       "    'twitter_send': False,\n",
       "    'type': 'public',\n",
       "    'updated': 1661004439,\n",
       "    'url': 'https://palegentlementale.tumblr.com/',\n",
       "    'uuid': 't:FMgAw8nouPKM7ZNVBsCpxQ'}]}}"
      ]
     },
     "execution_count": 3,
     "metadata": {},
     "output_type": "execute_result"
    }
   ],
   "source": [
    "client.info()"
   ]
  },
  {
   "cell_type": "code",
   "execution_count": 4,
   "metadata": {},
   "outputs": [],
   "source": [
    "import pandas as pd"
   ]
  },
  {
   "cell_type": "code",
   "execution_count": 5,
   "metadata": {},
   "outputs": [],
   "source": [
    "import json\n",
    "\n",
    "with open('../Data/listFiles.json') as f:\n",
    "    data = json.load(f)"
   ]
  },
  {
   "cell_type": "code",
   "execution_count": 6,
   "metadata": {},
   "outputs": [],
   "source": [
    "data = pd.DataFrame(data)"
   ]
  },
  {
   "cell_type": "code",
   "execution_count": 7,
   "metadata": {},
   "outputs": [
    {
     "data": {
      "text/html": [
       "<div>\n",
       "<style scoped>\n",
       "    .dataframe tbody tr th:only-of-type {\n",
       "        vertical-align: middle;\n",
       "    }\n",
       "\n",
       "    .dataframe tbody tr th {\n",
       "        vertical-align: top;\n",
       "    }\n",
       "\n",
       "    .dataframe thead th {\n",
       "        text-align: right;\n",
       "    }\n",
       "</style>\n",
       "<table border=\"1\" class=\"dataframe\">\n",
       "  <thead>\n",
       "    <tr style=\"text-align: right;\">\n",
       "      <th></th>\n",
       "      <th>identifier</th>\n",
       "      <th>name</th>\n",
       "      <th>status</th>\n",
       "    </tr>\n",
       "  </thead>\n",
       "  <tbody>\n",
       "    <tr>\n",
       "      <th>0</th>\n",
       "      <td>AandPAngelFoodCake1949A</td>\n",
       "      <td>A and P Angel Food Cake -1949A.jpg</td>\n",
       "      <td>unused</td>\n",
       "    </tr>\n",
       "    <tr>\n",
       "      <th>1</th>\n",
       "      <td>AandPCannedBeans1947A</td>\n",
       "      <td>A and P Canned Beans -1947A.jpg</td>\n",
       "      <td>unused</td>\n",
       "    </tr>\n",
       "    <tr>\n",
       "      <th>2</th>\n",
       "      <td>AandPCannedBeans1949A</td>\n",
       "      <td>A and P Canned Beans -1949A.jpg</td>\n",
       "      <td>unused</td>\n",
       "    </tr>\n",
       "    <tr>\n",
       "      <th>3</th>\n",
       "      <td>AandPCoffee1946A</td>\n",
       "      <td>A and P Coffee -1946A.jpg</td>\n",
       "      <td>unused</td>\n",
       "    </tr>\n",
       "    <tr>\n",
       "      <th>4</th>\n",
       "      <td>AandPCoffee1947A</td>\n",
       "      <td>A and P Coffee -1947A.jpg</td>\n",
       "      <td>unused</td>\n",
       "    </tr>\n",
       "    <tr>\n",
       "      <th>...</th>\n",
       "      <td>...</td>\n",
       "      <td>...</td>\n",
       "      <td>...</td>\n",
       "    </tr>\n",
       "    <tr>\n",
       "      <th>573</th>\n",
       "      <td>WrigleysSpearmintGum1913A</td>\n",
       "      <td>Wrigley's Spearmint Gum -1913A.jpg</td>\n",
       "      <td>unused</td>\n",
       "    </tr>\n",
       "    <tr>\n",
       "      <th>574</th>\n",
       "      <td>WrigleysSpearmintGum1914A</td>\n",
       "      <td>Wrigley's Spearmint Gum -1914A.jpg</td>\n",
       "      <td>unused</td>\n",
       "    </tr>\n",
       "    <tr>\n",
       "      <th>575</th>\n",
       "      <td>WrigleysSpearmintGum1929A</td>\n",
       "      <td>Wrigley's Spearmint Gum -1929A.jpg</td>\n",
       "      <td>unused</td>\n",
       "    </tr>\n",
       "    <tr>\n",
       "      <th>576</th>\n",
       "      <td>YeastFoamandMagicYeast1923A</td>\n",
       "      <td>Yeast Foam and Magic Yeast -1923A.jpg</td>\n",
       "      <td>unused</td>\n",
       "    </tr>\n",
       "    <tr>\n",
       "      <th>577</th>\n",
       "      <td>ZuZuGingerSnaps1910A</td>\n",
       "      <td>Zu Zu Ginger Snaps -1910A.jpg</td>\n",
       "      <td>unused</td>\n",
       "    </tr>\n",
       "  </tbody>\n",
       "</table>\n",
       "<p>578 rows × 3 columns</p>\n",
       "</div>"
      ],
      "text/plain": [
       "                      identifier                                   name  \\\n",
       "0        AandPAngelFoodCake1949A     A and P Angel Food Cake -1949A.jpg   \n",
       "1          AandPCannedBeans1947A        A and P Canned Beans -1947A.jpg   \n",
       "2          AandPCannedBeans1949A        A and P Canned Beans -1949A.jpg   \n",
       "3               AandPCoffee1946A              A and P Coffee -1946A.jpg   \n",
       "4               AandPCoffee1947A              A and P Coffee -1947A.jpg   \n",
       "..                           ...                                    ...   \n",
       "573    WrigleysSpearmintGum1913A     Wrigley's Spearmint Gum -1913A.jpg   \n",
       "574    WrigleysSpearmintGum1914A     Wrigley's Spearmint Gum -1914A.jpg   \n",
       "575    WrigleysSpearmintGum1929A     Wrigley's Spearmint Gum -1929A.jpg   \n",
       "576  YeastFoamandMagicYeast1923A  Yeast Foam and Magic Yeast -1923A.jpg   \n",
       "577         ZuZuGingerSnaps1910A          Zu Zu Ginger Snaps -1910A.jpg   \n",
       "\n",
       "     status  \n",
       "0    unused  \n",
       "1    unused  \n",
       "2    unused  \n",
       "3    unused  \n",
       "4    unused  \n",
       "..      ...  \n",
       "573  unused  \n",
       "574  unused  \n",
       "575  unused  \n",
       "576  unused  \n",
       "577  unused  \n",
       "\n",
       "[578 rows x 3 columns]"
      ]
     },
     "execution_count": 7,
     "metadata": {},
     "output_type": "execute_result"
    }
   ],
   "source": [
    "data"
   ]
  },
  {
   "cell_type": "code",
   "execution_count": 8,
   "metadata": {},
   "outputs": [],
   "source": [
    "from internetarchive import download\n",
    "import pytesseract as pt\n",
    "from PIL import Image\n",
    "\n",
    "import nltk\n",
    "\n",
    "from autocorrect import Speller\n",
    "\n",
    "spell = Speller(lang='en')\n",
    "\n",
    "import shutil"
   ]
  },
  {
   "cell_type": "code",
   "execution_count": 9,
   "metadata": {},
   "outputs": [
    {
     "name": "stderr",
     "output_type": "stream",
     "text": [
      "JonesDairyFarmSausages1909A:\n",
      " downloading Jones Dairy Farm Sausages -1909A.jpg: 100%|██████████| 87.3k/87.3k [00:00<00:00, 373kiB/s]\n"
     ]
    },
    {
     "name": "stdout",
     "output_type": "stream",
     "text": [
      "{'id': 693173767983300608, 'id_string': '693173767983300608', 'state': 'published', 'display_text': 'Posted to palegentlementale'}\n",
      "Done with 300 out of 578\n"
     ]
    },
    {
     "name": "stderr",
     "output_type": "stream",
     "text": [
      "Junket1930A:\n",
      " downloading Junket -1930A.jpg: 100%|██████████| 133k/133k [00:00<00:00, 276kiB/s]\n"
     ]
    },
    {
     "name": "stdout",
     "output_type": "stream",
     "text": [
      "{'id': 693173778598019072, 'id_string': '693173778598019072', 'state': 'published', 'display_text': 'Posted to palegentlementale'}\n",
      "Done with 301 out of 578\n"
     ]
    },
    {
     "name": "stderr",
     "output_type": "stream",
     "text": [
      "KaroCornSyrup1910A:\n",
      " downloading Karo Corn Syrup -1910A.jpg: 100%|██████████| 62.7k/62.7k [00:00<00:00, 267kiB/s]\n"
     ]
    },
    {
     "name": "stdout",
     "output_type": "stream",
     "text": [
      "{'id': 693173784797134848, 'id_string': '693173784797134848', 'state': 'published', 'display_text': 'Posted to palegentlementale'}\n",
      "Done with 302 out of 578\n"
     ]
    },
    {
     "name": "stderr",
     "output_type": "stream",
     "text": [
      "KaroCornSyrup1910B:\n",
      " downloading Karo Corn Syrup -1910B.jpg: 100%|██████████| 62.0k/62.0k [00:00<00:00, 251kiB/s]\n"
     ]
    },
    {
     "name": "stdout",
     "output_type": "stream",
     "text": [
      "{'id': 693173791845744640, 'id_string': '693173791845744640', 'state': 'published', 'display_text': 'Posted to palegentlementale'}\n",
      "Done with 303 out of 578\n"
     ]
    },
    {
     "name": "stderr",
     "output_type": "stream",
     "text": [
      "KaroSyrup1919A:\n",
      " downloading Karo Syrup -1919A.jpg: 100%|██████████| 197k/197k [00:00<00:00, 378kiB/s]\n"
     ]
    },
    {
     "name": "stdout",
     "output_type": "stream",
     "text": [
      "{'id': 693173798511509504, 'id_string': '693173798511509504', 'state': 'published', 'display_text': 'Posted to palegentlementale'}\n",
      "Done with 304 out of 578\n"
     ]
    },
    {
     "name": "stderr",
     "output_type": "stream",
     "text": [
      "KaroSyrup1920A:\n",
      " downloading Karo Syrup -1920A.jpg: 100%|██████████| 171k/171k [00:00<00:00, 336kiB/s]\n"
     ]
    },
    {
     "name": "stdout",
     "output_type": "stream",
     "text": [
      "{'id': 693173805231849472, 'id_string': '693173805231849472', 'state': 'published', 'display_text': 'Posted to palegentlementale'}\n",
      "Done with 305 out of 578\n"
     ]
    },
    {
     "name": "stderr",
     "output_type": "stream",
     "text": [
      "KaroSyrup1920B:\n",
      " downloading Karo Syrup -1920B.jpg: 100%|██████████| 171k/171k [00:00<00:00, 360kiB/s]\n"
     ]
    },
    {
     "name": "stdout",
     "output_type": "stream",
     "text": [
      "{'id': 693173812112621568, 'id_string': '693173812112621568', 'state': 'published', 'display_text': 'Posted to palegentlementale'}\n",
      "Done with 306 out of 578\n"
     ]
    },
    {
     "name": "stderr",
     "output_type": "stream",
     "text": [
      "KelloggsAllBran1927A:\n",
      " downloading Kellogg's All-Bran -1927A.jpg: 100%|██████████| 125k/125k [00:00<00:00, 259kiB/s]\n"
     ]
    },
    {
     "name": "stdout",
     "output_type": "stream",
     "text": [
      "{'id': 693173819863678976, 'id_string': '693173819863678976', 'state': 'published', 'display_text': 'Posted to palegentlementale'}\n",
      "Done with 307 out of 578\n"
     ]
    },
    {
     "name": "stderr",
     "output_type": "stream",
     "text": [
      "KelloggsCornFlakes1923A:\n",
      " downloading Kellogg's Corn Flakes -1923A.jpg: 100%|██████████| 60.3k/60.3k [00:00<00:00, 250kiB/s]\n"
     ]
    },
    {
     "name": "stdout",
     "output_type": "stream",
     "text": [
      "{'id': 693173825624571904, 'id_string': '693173825624571904', 'state': 'published', 'display_text': 'Posted to palegentlementale'}\n",
      "Done with 308 out of 578\n"
     ]
    },
    {
     "name": "stderr",
     "output_type": "stream",
     "text": [
      "KelloggsKaffeeHagCoffee1934A:\n",
      " downloading Kellogg's Kaffee Hag Coffee -1934A.jpg: 100%|██████████| 112k/112k [00:00<00:00, 226kiB/s]\n"
     ]
    },
    {
     "name": "stdout",
     "output_type": "stream",
     "text": [
      "{'id': 693173833194258432, 'id_string': '693173833194258432', 'state': 'published', 'display_text': 'Posted to palegentlementale'}\n",
      "Done with 309 out of 578\n"
     ]
    },
    {
     "name": "stderr",
     "output_type": "stream",
     "text": [
      "KelloggsPep1927A:\n",
      " downloading Kellogg's Pep -1927A.jpg: 100%|██████████| 115k/115k [00:00<00:00, 233kiB/s]\n"
     ]
    },
    {
     "name": "stdout",
     "output_type": "stream",
     "text": [
      "{'id': 693173840468131840, 'id_string': '693173840468131840', 'state': 'published', 'display_text': 'Posted to palegentlementale'}\n",
      "Done with 310 out of 578\n"
     ]
    },
    {
     "name": "stderr",
     "output_type": "stream",
     "text": [
      "KelloggsPep1929A:\n",
      " downloading Kellogg's Pep -1929A.jpg: 100%|██████████| 190k/190k [00:00<00:00, 350kiB/s]\n"
     ]
    },
    {
     "name": "stdout",
     "output_type": "stream",
     "text": [
      "{'id': 693173847658299392, 'id_string': '693173847658299392', 'state': 'published', 'display_text': 'Posted to palegentlementale'}\n",
      "Done with 311 out of 578\n"
     ]
    },
    {
     "name": "stderr",
     "output_type": "stream",
     "text": [
      "KelloggsPep1930A:\n",
      " downloading Kellogg's Pep -1930A.jpg: 100%|██████████| 189k/189k [00:00<00:00, 357kiB/s]\n"
     ]
    },
    {
     "name": "stdout",
     "output_type": "stream",
     "text": [
      "{'id': 693173855241502720, 'id_string': '693173855241502720', 'state': 'published', 'display_text': 'Posted to palegentlementale'}\n",
      "Done with 312 out of 578\n"
     ]
    },
    {
     "name": "stderr",
     "output_type": "stream",
     "text": [
      "KelloggsPep1930B:\n",
      " downloading Kellogg's Pep -1930B.jpg: 100%|██████████| 203k/203k [00:00<00:00, 414kiB/s]\n"
     ]
    },
    {
     "name": "stdout",
     "output_type": "stream",
     "text": [
      "{'id': 693173863324975104, 'id_string': '693173863324975104', 'state': 'published', 'display_text': 'Posted to palegentlementale'}\n",
      "Done with 313 out of 578\n"
     ]
    },
    {
     "name": "stderr",
     "output_type": "stream",
     "text": [
      "KelloggsPep1931A:\n",
      " downloading Kellogg's Pep -1931A.jpg: 100%|██████████| 131k/131k [00:00<00:00, 276kiB/s]\n"
     ]
    },
    {
     "name": "stdout",
     "output_type": "stream",
     "text": [
      "{'id': 693173870443823104, 'id_string': '693173870443823104', 'state': 'published', 'display_text': 'Posted to palegentlementale'}\n",
      "Done with 314 out of 578\n"
     ]
    },
    {
     "name": "stderr",
     "output_type": "stream",
     "text": [
      "KelloggsShreddedKrumbles1920A:\n",
      " downloading Kellogg's Shredded Krumbles -1920A.jpg: 100%|██████████| 126k/126k [00:00<00:00, 260kiB/s]\n"
     ]
    },
    {
     "name": "stdout",
     "output_type": "stream",
     "text": [
      "{'id': 693173879075667968, 'id_string': '693173879075667968', 'state': 'published', 'display_text': 'Posted to palegentlementale'}\n",
      "Done with 315 out of 578\n"
     ]
    },
    {
     "name": "stderr",
     "output_type": "stream",
     "text": [
      "KelloggsToastedCornFlakes1907A:\n",
      " downloading Kellogg's Toasted Corn Flakes -1907A.jpg: 100%|██████████| 59.8k/59.8k [00:00<00:00, 263kiB/s]\n"
     ]
    },
    {
     "name": "stdout",
     "output_type": "stream",
     "text": [
      "{'id': 693173884408807424, 'id_string': '693173884408807424', 'state': 'published', 'display_text': 'Posted to palegentlementale'}\n",
      "Done with 316 out of 578\n"
     ]
    },
    {
     "name": "stderr",
     "output_type": "stream",
     "text": [
      "KelloggsToastedCornFlakes1909A:\n",
      " downloading Kellogg's Toasted Corn Flakes -1909A.jpg: 100%|██████████| 85.7k/85.7k [00:00<00:00, 353kiB/s]\n"
     ]
    },
    {
     "name": "stdout",
     "output_type": "stream",
     "text": [
      "{'id': 693173891237068800, 'id_string': '693173891237068800', 'state': 'published', 'display_text': 'Posted to palegentlementale'}\n",
      "Done with 317 out of 578\n"
     ]
    },
    {
     "name": "stderr",
     "output_type": "stream",
     "text": [
      "KelloggsToastedCornFlakes1909B:\n",
      " downloading Kellogg's Toasted Corn Flakes -1909B.jpg: 100%|██████████| 113k/113k [00:00<00:00, 238kiB/s]\n"
     ]
    },
    {
     "name": "stdout",
     "output_type": "stream",
     "text": [
      "{'id': 693173896830238720, 'id_string': '693173896830238720', 'state': 'published', 'display_text': 'Posted to palegentlementale'}\n",
      "Done with 318 out of 578\n"
     ]
    },
    {
     "name": "stderr",
     "output_type": "stream",
     "text": [
      "KelloggsToastedCornFlakes1910A:\n",
      " downloading Kellogg's Toasted Corn Flakes -1910A.jpg: 100%|██████████| 140k/140k [00:00<00:00, 283kiB/s]\n"
     ]
    },
    {
     "name": "stdout",
     "output_type": "stream",
     "text": [
      "{'id': 693173903376482304, 'id_string': '693173903376482304', 'state': 'published', 'display_text': 'Posted to palegentlementale'}\n",
      "Done with 319 out of 578\n"
     ]
    },
    {
     "name": "stderr",
     "output_type": "stream",
     "text": [
      "KelloggsToastedCornFlakes1910B:\n",
      " downloading Kellogg's Toasted Corn Flakes -1910B.jpg: 100%|██████████| 109k/109k [00:00<00:00, 232kiB/s]\n"
     ]
    },
    {
     "name": "stdout",
     "output_type": "stream",
     "text": [
      "{'id': 693173909817786368, 'id_string': '693173909817786368', 'state': 'published', 'display_text': 'Posted to palegentlementale'}\n",
      "Done with 320 out of 578\n"
     ]
    },
    {
     "name": "stderr",
     "output_type": "stream",
     "text": [
      "KelloggsToastedCornFlakes1910sA:\n",
      " downloading Kellogg's Toasted Corn Flakes -1910'sA.jpg: 100%|██████████| 117k/117k [00:00<00:00, 248kiB/s]\n"
     ]
    },
    {
     "name": "stdout",
     "output_type": "stream",
     "text": [
      "{'id': 693173916421718016, 'id_string': '693173916421718016', 'state': 'published', 'display_text': 'Posted to palegentlementale'}\n",
      "Done with 321 out of 578\n"
     ]
    },
    {
     "name": "stderr",
     "output_type": "stream",
     "text": [
      "KelloggsToastedCornFlakes1912A:\n",
      " downloading Kellogg's Toasted Corn Flakes -1912A.jpg: 100%|██████████| 100k/100k [00:00<00:00, 201kiB/s]\n"
     ]
    },
    {
     "name": "stdout",
     "output_type": "stream",
     "text": [
      "{'id': 693173922455257091, 'id_string': '693173922455257091', 'state': 'published', 'display_text': 'Posted to palegentlementale'}\n",
      "Done with 322 out of 578\n"
     ]
    },
    {
     "name": "stderr",
     "output_type": "stream",
     "text": [
      "KelloggsToastedCornFlakes1912B:\n",
      " downloading Kellogg's Toasted Corn Flakes -1912B.jpg: 100%|██████████| 188k/188k [00:00<00:00, 383kiB/s]\n"
     ]
    },
    {
     "name": "stdout",
     "output_type": "stream",
     "text": [
      "{'id': 693173929552101376, 'id_string': '693173929552101376', 'state': 'published', 'display_text': 'Posted to palegentlementale'}\n",
      "Done with 323 out of 578\n"
     ]
    },
    {
     "name": "stderr",
     "output_type": "stream",
     "text": [
      "KelloggsToastedCornFlakes1913A:\n",
      " downloading Kellogg's Toasted Corn Flakes -1913A.jpg: 100%|██████████| 151k/151k [00:00<00:00, 308kiB/s]\n"
     ]
    },
    {
     "name": "stdout",
     "output_type": "stream",
     "text": [
      "{'id': 693173936244113408, 'id_string': '693173936244113408', 'state': 'published', 'display_text': 'Posted to palegentlementale'}\n",
      "Done with 324 out of 578\n"
     ]
    },
    {
     "name": "stderr",
     "output_type": "stream",
     "text": [
      "KelloggsToastedCornFlakes1913B:\n",
      " downloading Kellogg's Toasted Corn Flakes -1913B.jpg: 100%|██████████| 190k/190k [00:00<00:00, 365kiB/s]\n"
     ]
    },
    {
     "name": "stdout",
     "output_type": "stream",
     "text": [
      "{'id': 693173943059824640, 'id_string': '693173943059824640', 'state': 'published', 'display_text': 'Posted to palegentlementale'}\n",
      "Done with 325 out of 578\n"
     ]
    },
    {
     "name": "stderr",
     "output_type": "stream",
     "text": [
      "KelloggsToastedCornFlakes1914A:\n",
      " downloading Kellogg's Toasted Corn Flakes -1914A.jpg: 100%|██████████| 124k/124k [00:00<00:00, 264kiB/s]\n"
     ]
    },
    {
     "name": "stdout",
     "output_type": "stream",
     "text": [
      "{'id': 693173948597272576, 'id_string': '693173948597272576', 'state': 'published', 'display_text': 'Posted to palegentlementale'}\n",
      "Done with 326 out of 578\n"
     ]
    },
    {
     "name": "stderr",
     "output_type": "stream",
     "text": [
      "KelloggsToastedCornFlakes1915A:\n",
      " downloading Kellogg's Toasted Corn Flakes -1915A.jpg: 100%|██████████| 130k/130k [00:00<00:00, 259kiB/s]\n"
     ]
    },
    {
     "name": "stdout",
     "output_type": "stream",
     "text": [
      "{'id': 693173954929672192, 'id_string': '693173954929672192', 'state': 'published', 'display_text': 'Posted to palegentlementale'}\n",
      "Done with 327 out of 578\n"
     ]
    },
    {
     "name": "stderr",
     "output_type": "stream",
     "text": [
      "KelloggsToastedCornFlakes1919A:\n",
      " downloading Kellogg's Toasted Corn Flakes -1919A.jpg: 100%|██████████| 142k/142k [00:00<00:00, 252kiB/s]\n"
     ]
    },
    {
     "name": "stdout",
     "output_type": "stream",
     "text": [
      "{'id': 693173962382966785, 'id_string': '693173962382966785', 'state': 'published', 'display_text': 'Posted to palegentlementale'}\n",
      "Done with 328 out of 578\n"
     ]
    },
    {
     "name": "stderr",
     "output_type": "stream",
     "text": [
      "KesslersWhiskey1943A:\n",
      " downloading Kessler's Whiskey -1943A.jpg: 100%|██████████| 188k/188k [00:00<00:00, 389kiB/s]\n"
     ]
    },
    {
     "name": "stdout",
     "output_type": "stream",
     "text": [
      "{'id': 693173969306746880, 'id_string': '693173969306746880', 'state': 'published', 'display_text': 'Posted to palegentlementale'}\n",
      "Done with 329 out of 578\n"
     ]
    },
    {
     "name": "stderr",
     "output_type": "stream",
     "text": [
      "KesslersWhiskey1943B:\n",
      " downloading Kessler's Whiskey -1943B.jpg: 100%|██████████| 175k/175k [00:00<00:00, 344kiB/s]\n"
     ]
    },
    {
     "name": "stdout",
     "output_type": "stream",
     "text": [
      "{'id': 693173976104615936, 'id_string': '693173976104615936', 'state': 'published', 'display_text': 'Posted to palegentlementale'}\n",
      "Done with 330 out of 578\n"
     ]
    },
    {
     "name": "stderr",
     "output_type": "stream",
     "text": [
      "KesslersWhiskey1943C:\n",
      " downloading Kessler's Whiskey -1943C.jpg: 100%|██████████| 178k/178k [00:00<00:00, 358kiB/s]\n"
     ]
    },
    {
     "name": "stdout",
     "output_type": "stream",
     "text": [
      "{'id': 693173983903875072, 'id_string': '693173983903875072', 'state': 'published', 'display_text': 'Posted to palegentlementale'}\n",
      "Done with 331 out of 578\n"
     ]
    },
    {
     "name": "stderr",
     "output_type": "stream",
     "text": [
      "KesslersWhiskey1943D:\n",
      " downloading Kessler's Whiskey -1943D.jpg: 100%|██████████| 142k/142k [00:00<00:00, 287kiB/s]\n"
     ]
    },
    {
     "name": "stdout",
     "output_type": "stream",
     "text": [
      "{'id': 693173991279624192, 'id_string': '693173991279624192', 'state': 'published', 'display_text': 'Posted to palegentlementale'}\n",
      "Done with 332 out of 578\n"
     ]
    },
    {
     "name": "stderr",
     "output_type": "stream",
     "text": [
      "KinHeeCoffee1899A:\n",
      " downloading Kin-Hee Coffee -1899A.jpg: 100%|██████████| 81.8k/81.8k [00:00<00:00, 321kiB/s]\n"
     ]
    },
    {
     "name": "stdout",
     "output_type": "stream",
     "text": [
      "{'id': 693173998934163456, 'id_string': '693173998934163456', 'state': 'published', 'display_text': 'Posted to palegentlementale'}\n",
      "Done with 333 out of 578\n"
     ]
    },
    {
     "name": "stderr",
     "output_type": "stream",
     "text": [
      "KingsfordsCornStarch1910A:\n",
      " downloading Kingsford's Corn Starch -1910A.jpg: 100%|██████████| 146k/146k [00:00<00:00, 297kiB/s]\n"
     ]
    },
    {
     "name": "stdout",
     "output_type": "stream",
     "text": [
      "{'id': 693174006310895616, 'id_string': '693174006310895616', 'state': 'published', 'display_text': 'Posted to palegentlementale'}\n",
      "Done with 334 out of 578\n"
     ]
    },
    {
     "name": "stderr",
     "output_type": "stream",
     "text": [
      "KneippMaltCoffee1905A:\n",
      " downloading Kneipp Malt Coffee -1905A.jpg: 100%|██████████| 69.3k/69.3k [00:00<00:00, 303kiB/s]\n"
     ]
    },
    {
     "name": "stdout",
     "output_type": "stream",
     "text": [
      "{'id': 693174012397895680, 'id_string': '693174012397895680', 'state': 'published', 'display_text': 'Posted to palegentlementale'}\n",
      "Done with 335 out of 578\n"
     ]
    },
    {
     "name": "stderr",
     "output_type": "stream",
     "text": [
      "KnoxGelatine1911A:\n",
      " downloading Knox Gelatine -1911A.jpg: 100%|██████████| 84.4k/84.4k [00:00<00:00, 173kiB/s]\n"
     ]
    },
    {
     "name": "stdout",
     "output_type": "stream",
     "text": [
      "{'id': 693174019137077248, 'id_string': '693174019137077248', 'state': 'published', 'display_text': 'Posted to palegentlementale'}\n",
      "Done with 336 out of 578\n"
     ]
    },
    {
     "name": "stderr",
     "output_type": "stream",
     "text": [
      "KnoxGelatine1911B:\n",
      " downloading Knox Gelatine -1911B.jpg: 100%|██████████| 92.6k/92.6k [00:00<00:00, 395kiB/s]\n"
     ]
    },
    {
     "name": "stdout",
     "output_type": "stream",
     "text": [
      "{'id': 693174025394028544, 'id_string': '693174025394028544', 'state': 'published', 'display_text': 'Posted to palegentlementale'}\n",
      "Done with 337 out of 578\n"
     ]
    },
    {
     "name": "stderr",
     "output_type": "stream",
     "text": [
      "KnoxGelatine1949A:\n",
      " downloading Knox Gelatine -1949A.jpg: 100%|██████████| 209k/209k [00:00<00:00, 395kiB/s]\n"
     ]
    },
    {
     "name": "stdout",
     "output_type": "stream",
     "text": [
      "{'id': 693174034062524416, 'id_string': '693174034062524416', 'state': 'published', 'display_text': 'Posted to palegentlementale'}\n",
      "Done with 338 out of 578\n"
     ]
    },
    {
     "name": "stderr",
     "output_type": "stream",
     "text": [
      "KornKrispCereal1900sA:\n",
      " downloading Korn-Krisp Cereal -1900'sA.jpg: 100%|██████████| 137k/137k [00:00<00:00, 279kiB/s]\n"
     ]
    },
    {
     "name": "stdout",
     "output_type": "stream",
     "text": [
      "{'id': 693174039716528128, 'id_string': '693174039716528128', 'state': 'published', 'display_text': 'Posted to palegentlementale'}\n",
      "Done with 339 out of 578\n"
     ]
    },
    {
     "name": "stderr",
     "output_type": "stream",
     "text": [
      "KraftCheese1925A:\n",
      " downloading Kraft Cheese -1925A.jpg: 100%|██████████| 113k/113k [00:00<00:00, 206kiB/s]\n"
     ]
    },
    {
     "name": "stdout",
     "output_type": "stream",
     "text": [
      "{'id': 693174046171496448, 'id_string': '693174046171496448', 'state': 'published', 'display_text': 'Posted to palegentlementale'}\n",
      "Done with 340 out of 578\n"
     ]
    },
    {
     "name": "stderr",
     "output_type": "stream",
     "text": [
      "KraftElkhornCheese1919A:\n",
      " downloading Kraft Elkhorn Cheese -1919A.jpg: 100%|██████████| 159k/159k [00:00<00:00, 333kiB/s]\n"
     ]
    },
    {
     "name": "stdout",
     "output_type": "stream",
     "text": [
      "{'id': 693174058232266752, 'id_string': '693174058232266752', 'state': 'published', 'display_text': 'Posted to palegentlementale'}\n",
      "Done with 341 out of 578\n"
     ]
    },
    {
     "name": "stderr",
     "output_type": "stream",
     "text": [
      "KrogerIcedTea1949A:\n",
      " downloading Kroger Iced Tea -1949A.jpg: 100%|██████████| 141k/141k [00:00<00:00, 274kiB/s]\n"
     ]
    },
    {
     "name": "stdout",
     "output_type": "stream",
     "text": [
      "{'id': 693174065968578560, 'id_string': '693174065968578560', 'state': 'published', 'display_text': 'Posted to palegentlementale'}\n",
      "Done with 342 out of 578\n"
     ]
    },
    {
     "name": "stderr",
     "output_type": "stream",
     "text": [
      "LandOLakesButter1931A:\n",
      " downloading Land O' Lakes Butter -1931A.jpg: 100%|██████████| 149k/149k [00:00<00:00, 313kiB/s]\n"
     ]
    },
    {
     "name": "stdout",
     "output_type": "stream",
     "text": [
      "{'id': 693174076042264576, 'id_string': '693174076042264576', 'state': 'published', 'display_text': 'Posted to palegentlementale'}\n",
      "Done with 343 out of 578\n"
     ]
    },
    {
     "name": "stderr",
     "output_type": "stream",
     "text": [
      "LeaandPerrinsSauce1917A:\n",
      " downloading Lea and Perrins Sauce -1917A.jpg: 100%|██████████| 134k/134k [00:00<00:00, 251kiB/s]\n"
     ]
    },
    {
     "name": "stdout",
     "output_type": "stream",
     "text": [
      "{'id': 693174083139043328, 'id_string': '693174083139043328', 'state': 'published', 'display_text': 'Posted to palegentlementale'}\n",
      "Done with 344 out of 578\n"
     ]
    },
    {
     "name": "stderr",
     "output_type": "stream",
     "text": [
      "LibbysCannedFoods1901A:\n",
      " downloading Libby's Canned Foods -1901A.jpg: 100%|██████████| 126k/126k [00:00<00:00, 257kiB/s]\n"
     ]
    },
    {
     "name": "stdout",
     "output_type": "stream",
     "text": [
      "{'id': 693174090269409280, 'id_string': '693174090269409280', 'state': 'published', 'display_text': 'Posted to palegentlementale'}\n",
      "Done with 345 out of 578\n"
     ]
    },
    {
     "name": "stderr",
     "output_type": "stream",
     "text": [
      "LibbysCannedFoods1950A:\n",
      " downloading Libby's Canned Foods -1950A.jpg: 100%|██████████| 146k/146k [00:00<00:00, 278kiB/s]\n"
     ]
    },
    {
     "name": "stdout",
     "output_type": "stream",
     "text": [
      "{'id': 693174096257761280, 'id_string': '693174096257761280', 'state': 'published', 'display_text': 'Posted to palegentlementale'}\n",
      "Done with 346 out of 578\n"
     ]
    },
    {
     "name": "stderr",
     "output_type": "stream",
     "text": [
      "LibbysPineappleSlices1933A:\n",
      " downloading Libby's Pineapple Slices -1933A.jpg: 100%|██████████| 122k/122k [00:00<00:00, 250kiB/s]\n"
     ]
    },
    {
     "name": "stdout",
     "output_type": "stream",
     "text": [
      "{'id': 693174102335324160, 'id_string': '693174102335324160', 'state': 'published', 'display_text': 'Posted to palegentlementale'}\n",
      "Done with 347 out of 578\n"
     ]
    },
    {
     "name": "stderr",
     "output_type": "stream",
     "text": [
      "LiebigsExtractofBeef1896A:\n",
      " downloading Liebig's Extract of Beef -1896A.jpg: 100%|██████████| 140k/140k [00:00<00:00, 286kiB/s]\n"
     ]
    },
    {
     "name": "stdout",
     "output_type": "stream",
     "text": [
      "{'id': 693174110182850560, 'id_string': '693174110182850560', 'state': 'published', 'display_text': 'Posted to palegentlementale'}\n",
      "Done with 348 out of 578\n"
     ]
    },
    {
     "name": "stderr",
     "output_type": "stream",
     "text": [
      "LifeSavers1930A:\n",
      " downloading Life Savers -1930A.jpg: 100%|██████████| 118k/118k [00:00<00:00, 250kiB/s]\n"
     ]
    },
    {
     "name": "stdout",
     "output_type": "stream",
     "text": [
      "{'id': 693174117631918080, 'id_string': '693174117631918080', 'state': 'published', 'display_text': 'Posted to palegentlementale'}\n",
      "Done with 349 out of 578\n"
     ]
    },
    {
     "name": "stderr",
     "output_type": "stream",
     "text": [
      "LifeSaversFruitDrops1927A:\n",
      " downloading Life Savers Fruit Drops -1927A.jpg: 100%|██████████| 260k/260k [00:00<00:00, 350kiB/s]\n"
     ]
    },
    {
     "name": "stdout",
     "output_type": "stream",
     "text": [
      "{'id': 693174124931104768, 'id_string': '693174124931104768', 'state': 'published', 'display_text': 'Posted to palegentlementale'}\n",
      "Done with 350 out of 578\n"
     ]
    },
    {
     "name": "stderr",
     "output_type": "stream",
     "text": [
      "LifeSaversFruitDrops1930A:\n",
      " downloading Life Savers Fruit Drops -1930A.jpg: 100%|██████████| 244k/244k [00:00<00:00, 334kiB/s]\n"
     ]
    },
    {
     "name": "stdout",
     "output_type": "stream",
     "text": [
      "{'id': 693174131811860480, 'id_string': '693174131811860480', 'state': 'published', 'display_text': 'Posted to palegentlementale'}\n",
      "Done with 351 out of 578\n"
     ]
    },
    {
     "name": "stderr",
     "output_type": "stream",
     "text": [
      "LiptonTea1949A:\n",
      " downloading Lipton Tea -1949A.jpg: 100%|██████████| 303k/303k [00:00<00:00, 406kiB/s]\n"
     ]
    },
    {
     "name": "stdout",
     "output_type": "stream",
     "text": [
      "{'id': 693174139376320512, 'id_string': '693174139376320512', 'state': 'published', 'display_text': 'Posted to palegentlementale'}\n",
      "Done with 352 out of 578\n"
     ]
    },
    {
     "name": "stderr",
     "output_type": "stream",
     "text": [
      "LiptonTea1949B:\n",
      " downloading Lipton Tea -1949B.jpg: 100%|██████████| 207k/207k [00:01<00:00, 111kiB/s]\n"
     ]
    },
    {
     "name": "stdout",
     "output_type": "stream",
     "text": [
      "{'id': 693174148792500224, 'id_string': '693174148792500224', 'state': 'published', 'display_text': 'Posted to palegentlementale'}\n",
      "Done with 353 out of 578\n"
     ]
    },
    {
     "name": "stderr",
     "output_type": "stream",
     "text": [
      "LiptonTea1949C:\n",
      " downloading Lipton Tea -1949C.jpg: 100%|██████████| 188k/188k [00:00<00:00, 387kiB/s]\n"
     ]
    },
    {
     "name": "stdout",
     "output_type": "stream",
     "text": [
      "{'id': 693174158879850496, 'id_string': '693174158879850496', 'state': 'published', 'display_text': 'Posted to palegentlementale'}\n",
      "Done with 354 out of 578\n"
     ]
    },
    {
     "name": "stderr",
     "output_type": "stream",
     "text": [
      "LiptonTea1949D:\n",
      " downloading Lipton Tea -1949D.jpg: 100%|██████████| 195k/195k [00:00<00:00, 393kiB/s]\n"
     ]
    },
    {
     "name": "stdout",
     "output_type": "stream",
     "text": [
      "{'id': 693174166230319104, 'id_string': '693174166230319104', 'state': 'published', 'display_text': 'Posted to palegentlementale'}\n",
      "Done with 355 out of 578\n"
     ]
    },
    {
     "name": "stderr",
     "output_type": "stream",
     "text": [
      "LiptonTea1949E:\n",
      " downloading Lipton Tea -1949E.jpg: 100%|██████████| 182k/182k [00:00<00:00, 381kiB/s]\n"
     ]
    },
    {
     "name": "stdout",
     "output_type": "stream",
     "text": [
      "{'id': 693174176890109952, 'id_string': '693174176890109952', 'state': 'published', 'display_text': 'Posted to palegentlementale'}\n",
      "Done with 356 out of 578\n"
     ]
    },
    {
     "name": "stderr",
     "output_type": "stream",
     "text": [
      "LondonderryLithiaWater1900sA:\n",
      " downloading Londonderry Lithia Water -1900'sA.jpg: 100%|██████████| 136k/136k [00:00<00:00, 278kiB/s]\n"
     ]
    },
    {
     "name": "stdout",
     "output_type": "stream",
     "text": [
      "{'id': 693174183890386944, 'id_string': '693174183890386944', 'state': 'published', 'display_text': 'Posted to palegentlementale'}\n",
      "Done with 357 out of 578\n"
     ]
    },
    {
     "name": "stderr",
     "output_type": "stream",
     "text": [
      "LondonderryLithiaWater1906A:\n",
      " downloading Londonderry Lithia Water -1906A.jpg: 100%|██████████| 123k/123k [00:00<00:00, 256kiB/s]\n"
     ]
    },
    {
     "name": "stdout",
     "output_type": "stream",
     "text": [
      "{'id': 693174190413611008, 'id_string': '693174190413611008', 'state': 'published', 'display_text': 'Posted to palegentlementale'}\n",
      "Done with 358 out of 578\n"
     ]
    },
    {
     "name": "stderr",
     "output_type": "stream",
     "text": [
      "LornaDooneShortbread1919A:\n",
      " downloading Lorna Doone Shortbread -1919A.jpg: 100%|██████████| 80.4k/80.4k [00:00<00:00, 347kiB/s]\n"
     ]
    },
    {
     "name": "stdout",
     "output_type": "stream",
     "text": [
      "{'id': 693174196908556288, 'id_string': '693174196908556288', 'state': 'published', 'display_text': 'Posted to palegentlementale'}\n",
      "Done with 359 out of 578\n"
     ]
    },
    {
     "name": "stderr",
     "output_type": "stream",
     "text": [
      "LowneysChocolates1896A:\n",
      " downloading Lowney's Chocolates -1896A.jpg: 100%|██████████| 75.2k/75.2k [00:00<00:00, 161kiB/s]\n"
     ]
    },
    {
     "name": "stdout",
     "output_type": "stream",
     "text": [
      "{'id': 693174202987102208, 'id_string': '693174202987102208', 'state': 'published', 'display_text': 'Posted to palegentlementale'}\n",
      "Done with 360 out of 578\n"
     ]
    },
    {
     "name": "stderr",
     "output_type": "stream",
     "text": [
      "LowneysChocolates1898A:\n",
      " downloading Lowney's Chocolates -1898A.jpg: 100%|██████████| 226k/226k [00:00<00:00, 311kiB/s]\n"
     ]
    },
    {
     "name": "stdout",
     "output_type": "stream",
     "text": [
      "{'id': 693174210642788352, 'id_string': '693174210642788352', 'state': 'published', 'display_text': 'Posted to palegentlementale'}\n",
      "Done with 361 out of 578\n"
     ]
    },
    {
     "name": "stderr",
     "output_type": "stream",
     "text": [
      "LowneysChocolates1898B:\n",
      " downloading Lowney's Chocolates -1898B.jpg: 100%|██████████| 278k/278k [00:00<00:00, 385kiB/s]\n"
     ]
    },
    {
     "name": "stdout",
     "output_type": "stream",
     "text": [
      "{'id': 693174223260221440, 'id_string': '693174223260221440', 'state': 'published', 'display_text': 'Posted to palegentlementale'}\n",
      "Done with 362 out of 578\n"
     ]
    },
    {
     "name": "stderr",
     "output_type": "stream",
     "text": [
      "LowneysChocolates1900A:\n",
      " downloading Lowney's Chocolates -1900A.jpg: 100%|██████████| 142k/142k [00:00<00:00, 307kiB/s]\n"
     ]
    },
    {
     "name": "stdout",
     "output_type": "stream",
     "text": [
      "{'id': 693174231145562112, 'id_string': '693174231145562112', 'state': 'published', 'display_text': 'Posted to palegentlementale'}\n",
      "Done with 363 out of 578\n"
     ]
    },
    {
     "name": "stderr",
     "output_type": "stream",
     "text": [
      "LowneysChocolates1901A:\n",
      " downloading Lowney's Chocolates -1901A.jpg: 100%|██████████| 162k/162k [00:01<00:00, 102kiB/s]\n"
     ]
    },
    {
     "name": "stdout",
     "output_type": "stream",
     "text": [
      "{'id': 693174239143051264, 'id_string': '693174239143051264', 'state': 'published', 'display_text': 'Posted to palegentlementale'}\n",
      "Done with 364 out of 578\n"
     ]
    },
    {
     "name": "stderr",
     "output_type": "stream",
     "text": [
      "LowneysChocolates1919A:\n",
      " downloading Lowney's Chocolates -1919A.jpg: 100%|██████████| 132k/132k [00:00<00:00, 285kiB/s]\n"
     ]
    },
    {
     "name": "stdout",
     "output_type": "stream",
     "text": [
      "{'id': 693174245901172736, 'id_string': '693174245901172736', 'state': 'published', 'display_text': 'Posted to palegentlementale'}\n",
      "Done with 365 out of 578\n"
     ]
    },
    {
     "name": "stderr",
     "output_type": "stream",
     "text": [
      "LowneysCocoa1900sA:\n",
      " downloading Lowney's Cocoa -1900'sA.jpg: 100%|██████████| 130k/130k [00:00<00:00, 266kiB/s]\n"
     ]
    },
    {
     "name": "stdout",
     "output_type": "stream",
     "text": [
      "{'id': 693174252683378688, 'id_string': '693174252683378688', 'state': 'published', 'display_text': 'Posted to palegentlementale'}\n",
      "Done with 366 out of 578\n"
     ]
    },
    {
     "name": "stderr",
     "output_type": "stream",
     "text": [
      "LowneysCocoa1904A:\n",
      " downloading Lowney's Cocoa -1904A.jpg: 100%|██████████| 135k/135k [00:00<00:00, 253kiB/s]\n"
     ]
    },
    {
     "name": "stdout",
     "output_type": "stream",
     "text": [
      "{'id': 693174260526612480, 'id_string': '693174260526612480', 'state': 'published', 'display_text': 'Posted to palegentlementale'}\n",
      "Done with 367 out of 578\n"
     ]
    },
    {
     "name": "stderr",
     "output_type": "stream",
     "text": [
      "LowneysCocoa1911A:\n",
      " downloading Lowney's Cocoa -1911A.jpg: 100%|██████████| 139k/139k [00:00<00:00, 285kiB/s]\n"
     ]
    },
    {
     "name": "stdout",
     "output_type": "stream",
     "text": [
      "{'id': 693174268686745600, 'id_string': '693174268686745600', 'state': 'published', 'display_text': 'Posted to palegentlementale'}\n",
      "Done with 368 out of 578\n"
     ]
    },
    {
     "name": "stderr",
     "output_type": "stream",
     "text": [
      "LowneysMedallionChocolate1901A:\n",
      " downloading Lowney's Medallion Chocolate -1901A.jpg: 100%|██████████| 69.7k/69.7k [00:00<00:00, 272kiB/s]\n"
     ]
    },
    {
     "name": "stdout",
     "output_type": "stream",
     "text": [
      "{'id': 693174274560819200, 'id_string': '693174274560819200', 'state': 'published', 'display_text': 'Posted to palegentlementale'}\n",
      "Done with 369 out of 578\n"
     ]
    },
    {
     "name": "stderr",
     "output_type": "stream",
     "text": [
      "MaillardsCocoa1900sA:\n",
      " downloading Maillard's Cocoa -1900'sA.jpg: 100%|██████████| 102k/102k [00:00<00:00, 213kiB/s]\n"
     ]
    },
    {
     "name": "stdout",
     "output_type": "stream",
     "text": [
      "{'id': 693174281619800064, 'id_string': '693174281619800064', 'state': 'published', 'display_text': 'Posted to palegentlementale'}\n",
      "Done with 370 out of 578\n"
     ]
    },
    {
     "name": "stderr",
     "output_type": "stream",
     "text": [
      "MaltNutrine1900A:\n",
      " downloading Malt-Nutrine -1900A.jpg: 100%|██████████| 55.1k/55.1k [00:00<00:00, 240kiB/s]\n"
     ]
    },
    {
     "name": "stdout",
     "output_type": "stream",
     "text": [
      "{'id': 693174287976267776, 'id_string': '693174287976267776', 'state': 'published', 'display_text': 'Posted to palegentlementale'}\n",
      "Done with 371 out of 578\n"
     ]
    },
    {
     "name": "stderr",
     "output_type": "stream",
     "text": [
      "MaltNutrine1909A:\n",
      " downloading Malt-Nutrine -1909A.jpg: 100%|██████████| 157k/157k [00:00<00:00, 315kiB/s]\n"
     ]
    },
    {
     "name": "stdout",
     "output_type": "stream",
     "text": [
      "{'id': 693174295426400257, 'id_string': '693174295426400257', 'state': 'published', 'display_text': 'Posted to palegentlementale'}\n",
      "Done with 372 out of 578\n"
     ]
    },
    {
     "name": "stderr",
     "output_type": "stream",
     "text": [
      "MaltNutrine1909B:\n",
      " downloading Malt-Nutrine -1909B.jpg: 100%|██████████| 195k/195k [00:00<00:00, 384kiB/s]\n"
     ]
    },
    {
     "name": "stdout",
     "output_type": "stream",
     "text": [
      "{'id': 693174302726569984, 'id_string': '693174302726569984', 'state': 'published', 'display_text': 'Posted to palegentlementale'}\n",
      "Done with 373 out of 578\n"
     ]
    },
    {
     "name": "stderr",
     "output_type": "stream",
     "text": [
      "MaltNutrine1913A:\n",
      " downloading Malt-Nutrine -1913A.jpg: 100%|██████████| 170k/170k [00:00<00:00, 338kiB/s]\n"
     ]
    },
    {
     "name": "stdout",
     "output_type": "stream",
     "text": [
      "{'id': 693174311256784896, 'id_string': '693174311256784896', 'state': 'published', 'display_text': 'Posted to palegentlementale'}\n",
      "Done with 374 out of 578\n"
     ]
    },
    {
     "name": "stderr",
     "output_type": "stream",
     "text": [
      "MaltNutrine1913B:\n",
      " downloading Malt-Nutrine -1913B.jpg: 100%|██████████| 137k/137k [00:00<00:00, 284kiB/s]\n"
     ]
    },
    {
     "name": "stdout",
     "output_type": "stream",
     "text": [
      "{'id': 693174318184775680, 'id_string': '693174318184775680', 'state': 'published', 'display_text': 'Posted to palegentlementale'}\n",
      "Done with 375 out of 578\n"
     ]
    },
    {
     "name": "stderr",
     "output_type": "stream",
     "text": [
      "MaltNutrine1914A:\n",
      " downloading Malt-Nutrine -1914A.jpg: 100%|██████████| 116k/116k [00:00<00:00, 241kiB/s]\n"
     ]
    },
    {
     "name": "stdout",
     "output_type": "stream",
     "text": [
      "{'id': 693174325690417152, 'id_string': '693174325690417152', 'state': 'published', 'display_text': 'Posted to palegentlementale'}\n",
      "Done with 376 out of 578\n"
     ]
    },
    {
     "name": "stderr",
     "output_type": "stream",
     "text": [
      "MartiniandRossiVermouth1938A:\n",
      " downloading Martini and Rossi Vermouth -1938A.jpg: 100%|██████████| 147k/147k [00:00<00:00, 289kiB/s]\n"
     ]
    },
    {
     "name": "stdout",
     "output_type": "stream",
     "text": [
      "{'id': 693174332089909248, 'id_string': '693174332089909248', 'state': 'published', 'display_text': 'Posted to palegentlementale'}\n",
      "Done with 377 out of 578\n"
     ]
    },
    {
     "name": "stderr",
     "output_type": "stream",
     "text": [
      "MaxwellHouseCoffee1926A:\n",
      " downloading Maxwell House Coffee -1926A.jpg: 100%|██████████| 153k/153k [00:01<00:00, 145kiB/s]\n"
     ]
    },
    {
     "name": "stdout",
     "output_type": "stream",
     "text": [
      "{'id': 693174342239027200, 'id_string': '693174342239027200', 'state': 'published', 'display_text': 'Posted to palegentlementale'}\n",
      "Done with 378 out of 578\n"
     ]
    },
    {
     "name": "stderr",
     "output_type": "stream",
     "text": [
      "MaxwellHouseCoffee1927A:\n",
      " downloading Maxwell House Coffee -1927A.jpg: 100%|██████████| 122k/122k [00:00<00:00, 259kiB/s]\n"
     ]
    },
    {
     "name": "stdout",
     "output_type": "stream",
     "text": [
      "{'id': 693174351292432384, 'id_string': '693174351292432384', 'state': 'published', 'display_text': 'Posted to palegentlementale'}\n",
      "Done with 379 out of 578\n"
     ]
    },
    {
     "name": "stderr",
     "output_type": "stream",
     "text": [
      "MaxwellHouseCoffee1931A:\n",
      " downloading Maxwell House Coffee -1931A.jpg: 100%|██████████| 102k/102k [00:00<00:00, 163kiB/s]\n"
     ]
    },
    {
     "name": "stdout",
     "output_type": "stream",
     "text": [
      "{'id': 693174359450402816, 'id_string': '693174359450402816', 'state': 'published', 'display_text': 'Posted to palegentlementale'}\n",
      "Done with 380 out of 578\n"
     ]
    },
    {
     "name": "stderr",
     "output_type": "stream",
     "text": [
      "MaxwellHouseInstantCoffee1948A:\n",
      " downloading Maxwell House Instant Coffee -1948A.jpg: 100%|██████████| 163k/163k [00:00<00:00, 298kiB/s]\n"
     ]
    },
    {
     "name": "stdout",
     "output_type": "stream",
     "text": [
      "{'id': 693174365684219904, 'id_string': '693174365684219904', 'state': 'published', 'display_text': 'Posted to palegentlementale'}\n",
      "Done with 381 out of 578\n"
     ]
    },
    {
     "name": "stderr",
     "output_type": "stream",
     "text": [
      "MazolaOil1920A:\n",
      " downloading Mazola Oil -1920A.jpg: 100%|██████████| 154k/154k [00:00<00:00, 318kiB/s]\n"
     ]
    },
    {
     "name": "stdout",
     "output_type": "stream",
     "text": [
      "{'id': 693174374202785792, 'id_string': '693174374202785792', 'state': 'published', 'display_text': 'Posted to palegentlementale'}\n",
      "Done with 382 out of 578\n"
     ]
    },
    {
     "name": "stderr",
     "output_type": "stream",
     "text": [
      "MazolaOil1920B:\n",
      " downloading Mazola Oil -1920B.jpg: 100%|██████████| 153k/153k [00:00<00:00, 300kiB/s]\n"
     ]
    },
    {
     "name": "stdout",
     "output_type": "stream",
     "text": [
      "{'id': 693174381218824192, 'id_string': '693174381218824192', 'state': 'published', 'display_text': 'Posted to palegentlementale'}\n",
      "Done with 383 out of 578\n"
     ]
    },
    {
     "name": "stderr",
     "output_type": "stream",
     "text": [
      "MazolaOil1920C:\n",
      " downloading Mazola Oil -1920C.jpg: 100%|██████████| 199k/199k [00:00<00:00, 395kiB/s]\n"
     ]
    },
    {
     "name": "stdout",
     "output_type": "stream",
     "text": [
      "{'id': 693174388534673408, 'id_string': '693174388534673408', 'state': 'published', 'display_text': 'Posted to palegentlementale'}\n",
      "Done with 384 out of 578\n"
     ]
    },
    {
     "name": "stderr",
     "output_type": "stream",
     "text": [
      "MeadowGoldButter1912A:\n",
      " downloading Meadow Gold Butter -1912A.jpg: 100%|██████████| 200k/200k [00:00<00:00, 402kiB/s]\n"
     ]
    },
    {
     "name": "stdout",
     "output_type": "stream",
     "text": [
      "{'id': 693174396215525376, 'id_string': '693174396215525376', 'state': 'published', 'display_text': 'Posted to palegentlementale'}\n",
      "Done with 385 out of 578\n"
     ]
    },
    {
     "name": "stderr",
     "output_type": "stream",
     "text": [
      "MilkyWayCandyBars1930A:\n",
      " downloading Milky Way Candy Bars -1930A.jpg: 100%|██████████| 118k/118k [00:00<00:00, 218kiB/s]\n"
     ]
    },
    {
     "name": "stdout",
     "output_type": "stream",
     "text": [
      "{'id': 693174402402189312, 'id_string': '693174402402189312', 'state': 'published', 'display_text': 'Posted to palegentlementale'}\n",
      "Done with 386 out of 578\n"
     ]
    },
    {
     "name": "stderr",
     "output_type": "stream",
     "text": [
      "MillerHighLifeBeer1946A:\n",
      " downloading Miller High Life Beer -1946A.jpg: 100%|██████████| 115k/115k [00:00<00:00, 240kiB/s]\n"
     ]
    },
    {
     "name": "stdout",
     "output_type": "stream",
     "text": [
      "{'id': 693174409233612800, 'id_string': '693174409233612800', 'state': 'published', 'display_text': 'Posted to palegentlementale'}\n",
      "Done with 387 out of 578\n"
     ]
    },
    {
     "name": "stderr",
     "output_type": "stream",
     "text": [
      "MonarchCoffeeCocoaandTea1925A:\n",
      " downloading Monarch Coffee, Cocoa and Tea -1925A.jpg: 100%|██████████| 126k/126k [00:00<00:00, 259kiB/s]\n"
     ]
    },
    {
     "name": "stdout",
     "output_type": "stream",
     "text": [
      "{'id': 693174416259072000, 'id_string': '693174416259072000', 'state': 'published', 'display_text': 'Posted to palegentlementale'}\n",
      "Done with 388 out of 578\n"
     ]
    },
    {
     "name": "stderr",
     "output_type": "stream",
     "text": [
      "MortonsSalt1919A:\n",
      " downloading Morton's Salt -1919A.jpg: 100%|██████████| 179k/179k [00:00<00:00, 369kiB/s]\n"
     ]
    },
    {
     "name": "stdout",
     "output_type": "stream",
     "text": [
      "{'id': 693174422399549440, 'id_string': '693174422399549440', 'state': 'published', 'display_text': 'Posted to palegentlementale'}\n",
      "Done with 389 out of 578\n"
     ]
    },
    {
     "name": "stderr",
     "output_type": "stream",
     "text": [
      "MountVernonStraightRyeWhiskey1937A:\n",
      " downloading Mount Vernon Straight Rye Whiskey -1937A.jpg: 100%|██████████| 121k/121k [00:00<00:00, 234kiB/s]\n"
     ]
    },
    {
     "name": "stdout",
     "output_type": "stream",
     "text": [
      "{'id': 693174430590976000, 'id_string': '693174430590976000', 'state': 'published', 'display_text': 'Posted to palegentlementale'}\n",
      "Done with 390 out of 578\n"
     ]
    },
    {
     "name": "stderr",
     "output_type": "stream",
     "text": [
      "Moxie1914A:\n",
      " downloading Moxie -1914A.jpg: 100%|██████████| 85.0k/85.0k [00:00<00:00, 358kiB/s]\n"
     ]
    },
    {
     "name": "stdout",
     "output_type": "stream",
     "text": [
      "{'id': 693174436432658432, 'id_string': '693174436432658432', 'state': 'published', 'display_text': 'Posted to palegentlementale'}\n",
      "Done with 391 out of 578\n"
     ]
    },
    {
     "name": "stderr",
     "output_type": "stream",
     "text": [
      "MrsRorersOwnBlendCoffee1912A:\n",
      " downloading Mrs. Rorer's Own Blend Coffee -1912A.jpg: 100%|██████████| 95.8k/95.8k [00:00<00:00, 398kiB/s]\n"
     ]
    },
    {
     "name": "stdout",
     "output_type": "stream",
     "text": [
      "{'id': 693174442016243712, 'id_string': '693174442016243712', 'state': 'published', 'display_text': 'Posted to palegentlementale'}\n",
      "Done with 392 out of 578\n"
     ]
    },
    {
     "name": "stderr",
     "output_type": "stream",
     "text": [
      "NabiscoGrahamCrackers1947A:\n",
      " downloading Nabisco Graham Crackers -1947A.jpg: 100%|██████████| 156k/156k [00:01<00:00, 104kiB/s]\n"
     ]
    },
    {
     "name": "stdout",
     "output_type": "stream",
     "text": [
      "{'id': 693174450361925632, 'id_string': '693174450361925632', 'state': 'published', 'display_text': 'Posted to palegentlementale'}\n",
      "Done with 393 out of 578\n"
     ]
    },
    {
     "name": "stderr",
     "output_type": "stream",
     "text": [
      "NabiscoSugarWafers1905A:\n",
      " downloading Nabisco Sugar Wafers -1905A.jpg: 100%|██████████| 46.8k/46.8k [00:00<00:00, 200kiB/s]\n"
     ]
    },
    {
     "name": "stdout",
     "output_type": "stream",
     "text": [
      "{'id': 693174456302059520, 'id_string': '693174456302059520', 'state': 'published', 'display_text': 'Posted to palegentlementale'}\n",
      "Done with 394 out of 578\n"
     ]
    },
    {
     "name": "stderr",
     "output_type": "stream",
     "text": [
      "NabiscoSugarWafers1911A:\n",
      " downloading Nabisco Sugar Wafers -1911A..jpg: 100%|██████████| 109k/109k [00:00<00:00, 236kiB/s]\n"
     ]
    },
    {
     "name": "stdout",
     "output_type": "stream",
     "text": [
      "{'id': 693174462924898304, 'id_string': '693174462924898304', 'state': 'published', 'display_text': 'Posted to palegentlementale'}\n",
      "Done with 395 out of 578\n"
     ]
    },
    {
     "name": "stderr",
     "output_type": "stream",
     "text": [
      "NabiscoSugarWafers1911B:\n",
      " downloading Nabisco Sugar Wafers -1911B.jpg: 100%|██████████| 131k/131k [00:00<00:00, 273kiB/s]\n"
     ]
    },
    {
     "name": "stdout",
     "output_type": "stream",
     "text": [
      "{'id': 693174470006947840, 'id_string': '693174470006947840', 'state': 'published', 'display_text': 'Posted to palegentlementale'}\n",
      "Done with 396 out of 578\n"
     ]
    },
    {
     "name": "stderr",
     "output_type": "stream",
     "text": [
      "NabiscoSugarWafers1912A:\n",
      " downloading Nabisco Sugar Wafers -1912A.jpg: 100%|██████████| 127k/127k [00:00<00:00, 262kiB/s]\n"
     ]
    },
    {
     "name": "stdout",
     "output_type": "stream",
     "text": [
      "{'id': 693174478538162176, 'id_string': '693174478538162176', 'state': 'published', 'display_text': 'Posted to palegentlementale'}\n",
      "Done with 397 out of 578\n"
     ]
    },
    {
     "name": "stderr",
     "output_type": "stream",
     "text": [
      "NabiscoSugarWafers1912B:\n",
      " downloading Nabisco Sugar Wafers -1912B.jpg: 100%|██████████| 109k/109k [00:00<00:00, 222kiB/s]\n"
     ]
    },
    {
     "name": "stdout",
     "output_type": "stream",
     "text": [
      "{'id': 693174485578366976, 'id_string': '693174485578366976', 'state': 'published', 'display_text': 'Posted to palegentlementale'}\n",
      "Done with 398 out of 578\n"
     ]
    },
    {
     "name": "stderr",
     "output_type": "stream",
     "text": [
      "NabiscoSugarWafers1913A:\n",
      " downloading Nabisco Sugar Wafers -1913A.jpg: 100%|██████████| 127k/127k [00:00<00:00, 256kiB/s]\n"
     ]
    },
    {
     "name": "stdout",
     "output_type": "stream",
     "text": [
      "{'id': 693174492724330496, 'id_string': '693174492724330496', 'state': 'published', 'display_text': 'Posted to palegentlementale'}\n",
      "Done with 399 out of 578\n"
     ]
    },
    {
     "name": "stderr",
     "output_type": "stream",
     "text": [
      "NabiscoSugarWafers1915A:\n",
      " downloading Nabisco Sugar Wafers -1915A.jpg: 100%|██████████| 120k/120k [00:00<00:00, 259kiB/s]\n"
     ]
    },
    {
     "name": "stdout",
     "output_type": "stream",
     "text": [
      "{'id': 693174499391275008, 'id_string': '693174499391275008', 'state': 'published', 'display_text': 'Posted to palegentlementale'}\n",
      "Done with 400 out of 578\n"
     ]
    },
    {
     "name": "stderr",
     "output_type": "stream",
     "text": [
      "NabiscoSugarWafers1915B:\n",
      " downloading Nabisco Sugar Wafers -1915B.jpg: 100%|██████████| 123k/123k [00:00<00:00, 129kiB/s]\n"
     ]
    },
    {
     "name": "stdout",
     "output_type": "stream",
     "text": [
      "{'id': 693174505810640896, 'id_string': '693174505810640896', 'state': 'published', 'display_text': 'Posted to palegentlementale'}\n",
      "Done with 401 out of 578\n"
     ]
    },
    {
     "name": "stderr",
     "output_type": "stream",
     "text": [
      "NabiscoSugarWafers1915C:\n",
      " downloading Nabisco Sugar Wafers -1915C.jpg: 100%|██████████| 104k/104k [00:00<00:00, 218kiB/s]\n"
     ]
    },
    {
     "name": "stdout",
     "output_type": "stream",
     "text": [
      "{'id': 693174512785686528, 'id_string': '693174512785686528', 'state': 'published', 'display_text': 'Posted to palegentlementale'}\n",
      "Done with 402 out of 578\n"
     ]
    },
    {
     "name": "stderr",
     "output_type": "stream",
     "text": [
      "NationalBiscuit1916A:\n",
      " downloading National Biscuit -1916A.jpg: 100%|██████████| 52.3k/52.3k [00:00<00:00, 224kiB/s]\n"
     ]
    },
    {
     "name": "stdout",
     "output_type": "stream",
     "text": [
      "{'id': 693174518586507264, 'id_string': '693174518586507264', 'state': 'published', 'display_text': 'Posted to palegentlementale'}\n",
      "Done with 403 out of 578\n"
     ]
    },
    {
     "name": "stderr",
     "output_type": "stream",
     "text": [
      "NationalBiscuitFigNewtons1924A:\n",
      " downloading National Biscuit Fig Newtons -1924A.jpg: 100%|██████████| 120k/120k [00:00<00:00, 124kiB/s]\n"
     ]
    },
    {
     "name": "stdout",
     "output_type": "stream",
     "text": [
      "{'id': 693174526800953344, 'id_string': '693174526800953344', 'state': 'published', 'display_text': 'Posted to palegentlementale'}\n",
      "Done with 404 out of 578\n"
     ]
    },
    {
     "name": "stderr",
     "output_type": "stream",
     "text": [
      "NationalOatsCereal1920A:\n",
      " downloading National Oats Cereal -1920A.jpg: 100%|██████████| 218k/218k [00:00<00:00, 292kiB/s]\n"
     ]
    },
    {
     "name": "stdout",
     "output_type": "stream",
     "text": [
      "{'id': 693174533540151296, 'id_string': '693174533540151296', 'state': 'published', 'display_text': 'Posted to palegentlementale'}\n",
      "Done with 405 out of 578\n"
     ]
    },
    {
     "name": "stderr",
     "output_type": "stream",
     "text": [
      "NaturalFoodCoShreddedWheat1905A:\n",
      " downloading Natural Food Co. Shredded Wheat -1905A.jpg: 100%|██████████| 84.1k/84.1k [00:01<00:00, 48.6kiB/s]\n"
     ]
    },
    {
     "name": "stdout",
     "output_type": "stream",
     "text": [
      "{'id': 693174540868730880, 'id_string': '693174540868730880', 'state': 'published', 'display_text': 'Posted to palegentlementale'}\n",
      "Done with 406 out of 578\n"
     ]
    },
    {
     "name": "stderr",
     "output_type": "stream",
     "text": [
      "NeccoWafers1915A:\n",
      " downloading Necco Wafers -1915A.jpg: 100%|██████████| 93.8k/93.8k [00:00<00:00, 172kiB/s]\n"
     ]
    },
    {
     "name": "stdout",
     "output_type": "stream",
     "text": [
      "{'id': 693174547126599680, 'id_string': '693174547126599680', 'state': 'published', 'display_text': 'Posted to palegentlementale'}\n",
      "Done with 407 out of 578\n"
     ]
    },
    {
     "name": "stderr",
     "output_type": "stream",
     "text": [
      "NoneSuchMinceMeat1936A:\n",
      " downloading None Such Mince Meat -1936A.jpg: 100%|██████████| 142k/142k [00:02<00:00, 67.6kiB/s]\n"
     ]
    },
    {
     "name": "stdout",
     "output_type": "stream",
     "text": [
      "{'id': 693174554933280768, 'id_string': '693174554933280768', 'state': 'published', 'display_text': 'Posted to palegentlementale'}\n",
      "Done with 408 out of 578\n"
     ]
    },
    {
     "name": "stderr",
     "output_type": "stream",
     "text": [
      "NorthwesternYeast1929A:\n",
      " downloading Northwestern Yeast -1929A.jpg: 100%|██████████| 127k/127k [00:00<00:00, 265kiB/s]\n"
     ]
    },
    {
     "name": "stdout",
     "output_type": "stream",
     "text": [
      "{'id': 693174562208219136, 'id_string': '693174562208219136', 'state': 'published', 'display_text': 'Posted to palegentlementale'}\n",
      "Done with 409 out of 578\n"
     ]
    },
    {
     "name": "stderr",
     "output_type": "stream",
     "text": [
      "OccidentFlour1911A:\n",
      " downloading Occident Flour -1911A.jpg: 100%|██████████| 172k/172k [00:00<00:00, 347kiB/s]\n"
     ]
    },
    {
     "name": "stdout",
     "output_type": "stream",
     "text": [
      "{'id': 693174571070783488, 'id_string': '693174571070783488', 'state': 'published', 'display_text': 'Posted to palegentlementale'}\n",
      "Done with 410 out of 578\n"
     ]
    },
    {
     "name": "stderr",
     "output_type": "stream",
     "text": [
      "OceanSprayCranberrySauce1949A:\n",
      " downloading Ocean Spray Cranberry Sauce -1949A.jpg: 100%|██████████| 83.7k/83.7k [00:00<00:00, 351kiB/s]\n"
     ]
    },
    {
     "name": "stdout",
     "output_type": "stream",
     "text": [
      "{'id': 693174577321426944, 'id_string': '693174577321426944', 'state': 'published', 'display_text': 'Posted to palegentlementale'}\n",
      "Done with 411 out of 578\n"
     ]
    },
    {
     "name": "stderr",
     "output_type": "stream",
     "text": [
      "OhHenryCandy1925A:\n",
      " downloading Oh! Henry Candy -1925A.jpg: 100%|██████████| 131k/131k [00:00<00:00, 237kiB/s]\n"
     ]
    },
    {
     "name": "stdout",
     "output_type": "stream",
     "text": [
      "{'id': 693174584717049856, 'id_string': '693174584717049856', 'state': 'published', 'display_text': 'Posted to palegentlementale'}\n",
      "Done with 412 out of 578\n"
     ]
    },
    {
     "name": "stderr",
     "output_type": "stream",
     "text": [
      "OldCrowBourbonWhiskey1943A:\n",
      " downloading Old Crow Bourbon Whiskey -1943A.jpg: 100%|██████████| 124k/124k [00:00<00:00, 257kiB/s]\n"
     ]
    },
    {
     "name": "stdout",
     "output_type": "stream",
     "text": [
      "{'id': 693174591438372864, 'id_string': '693174591438372864', 'state': 'published', 'display_text': 'Posted to palegentlementale'}\n",
      "Done with 413 out of 578\n"
     ]
    },
    {
     "name": "stderr",
     "output_type": "stream",
     "text": [
      "OldDrumBlendedWhiskey1939A:\n",
      " downloading Old Drum Blended Whiskey -1939A.jpg: 100%|██████████| 141k/141k [00:00<00:00, 185kiB/s]\n"
     ]
    },
    {
     "name": "stdout",
     "output_type": "stream",
     "text": [
      "{'id': 693174598891618304, 'id_string': '693174598891618304', 'state': 'published', 'display_text': 'Posted to palegentlementale'}\n",
      "Done with 414 out of 578\n"
     ]
    },
    {
     "name": "stderr",
     "output_type": "stream",
     "text": [
      "OldOverholtRyeWhiskey1910A:\n",
      " downloading Old Overholt Rye Whiskey -1910A.jpg: 100%|██████████| 220k/220k [00:00<00:00, 283kiB/s]\n"
     ]
    },
    {
     "name": "stdout",
     "output_type": "stream",
     "text": [
      "{'id': 693174606765457408, 'id_string': '693174606765457408', 'state': 'published', 'display_text': 'Posted to palegentlementale'}\n",
      "Done with 415 out of 578\n"
     ]
    },
    {
     "name": "stderr",
     "output_type": "stream",
     "text": [
      "OldOverholtRyeWhiskey1935A:\n",
      " downloading Old Overholt Rye Whiskey -1935A.jpg: 100%|██████████| 124k/124k [00:01<00:00, 104kiB/s]\n"
     ]
    },
    {
     "name": "stdout",
     "output_type": "stream",
     "text": [
      "{'id': 693174615687741440, 'id_string': '693174615687741440', 'state': 'published', 'display_text': 'Posted to palegentlementale'}\n",
      "Done with 416 out of 578\n"
     ]
    },
    {
     "name": "stderr",
     "output_type": "stream",
     "text": [
      "OrangeCrush1920A:\n",
      " downloading Orange-Crush -1920A.jpg: 100%|██████████| 257k/257k [00:00<00:00, 346kiB/s]\n"
     ]
    },
    {
     "name": "stdout",
     "output_type": "stream",
     "text": [
      "{'id': 693174622262296576, 'id_string': '693174622262296576', 'state': 'published', 'display_text': 'Posted to palegentlementale'}\n",
      "Done with 417 out of 578\n"
     ]
    },
    {
     "name": "stderr",
     "output_type": "stream",
     "text": [
      "OrangeCrush1923A:\n",
      " downloading Orange-Crush -1923A.jpg: 100%|██████████| 80.0k/80.0k [00:00<00:00, 326kiB/s]\n"
     ]
    },
    {
     "name": "stdout",
     "output_type": "stream",
     "text": [
      "{'id': 693174630129745920, 'id_string': '693174630129745920', 'state': 'published', 'display_text': 'Posted to palegentlementale'}\n",
      "Done with 418 out of 578\n"
     ]
    },
    {
     "name": "stderr",
     "output_type": "stream",
     "text": [
      "Ovaltine1946A:\n",
      " downloading Ovaltine -1946A.jpg: 100%|██████████| 158k/158k [00:00<00:00, 315kiB/s]\n"
     ]
    },
    {
     "name": "stdout",
     "output_type": "stream",
     "text": [
      "{'id': 693174637592494080, 'id_string': '693174637592494080', 'state': 'published', 'display_text': 'Posted to palegentlementale'}\n",
      "Done with 419 out of 578\n"
     ]
    },
    {
     "name": "stderr",
     "output_type": "stream",
     "text": [
      "Ovaltine1947A:\n",
      " downloading Ovaltine -1947A.jpg: 100%|██████████| 164k/164k [00:00<00:00, 331kiB/s]\n"
     ]
    },
    {
     "name": "stdout",
     "output_type": "stream",
     "text": [
      "{'id': 693174646564061184, 'id_string': '693174646564061184', 'state': 'published', 'display_text': 'Posted to palegentlementale'}\n",
      "Done with 420 out of 578\n"
     ]
    },
    {
     "name": "stderr",
     "output_type": "stream",
     "text": [
      "PabstBlueRibbonBeer1900sA:\n",
      " downloading Pabst Blue Ribbon Beer -1900'sA.jpg: 100%|██████████| 89.9k/89.9k [00:00<00:00, 95.8kiB/s]\n"
     ]
    },
    {
     "name": "stdout",
     "output_type": "stream",
     "text": [
      "{'id': 693174654389600256, 'id_string': '693174654389600256', 'state': 'published', 'display_text': 'Posted to palegentlementale'}\n",
      "Done with 421 out of 578\n"
     ]
    },
    {
     "name": "stderr",
     "output_type": "stream",
     "text": [
      "PabstBlueRibbonBeer1911A:\n",
      " downloading Pabst Blue Ribbon Beer -1911A.jpg: 100%|██████████| 97.5k/97.5k [00:00<00:00, 135kiB/s]\n"
     ]
    },
    {
     "name": "stdout",
     "output_type": "stream",
     "text": [
      "{'id': 693174662738427904, 'id_string': '693174662738427904', 'state': 'published', 'display_text': 'Posted to palegentlementale'}\n",
      "Done with 422 out of 578\n"
     ]
    },
    {
     "name": "stderr",
     "output_type": "stream",
     "text": [
      "PabstBlueRibbonBeer1935A:\n",
      " downloading Pabst Blue Ribbon Beer -1935A.jpg: 100%|██████████| 111k/111k [00:01<00:00, 94.3kiB/s]\n"
     ]
    },
    {
     "name": "stdout",
     "output_type": "stream",
     "text": [
      "{'id': 693174670287060992, 'id_string': '693174670287060992', 'state': 'published', 'display_text': 'Posted to palegentlementale'}\n",
      "Done with 423 out of 578\n"
     ]
    },
    {
     "name": "stderr",
     "output_type": "stream",
     "text": [
      "PabstExtract1900sA:\n",
      " downloading Pabst Extract -1900'sA.jpg: 100%|██████████| 120k/120k [00:00<00:00, 243kiB/s]\n"
     ]
    },
    {
     "name": "stdout",
     "output_type": "stream",
     "text": [
      "{'id': 693174677908111360, 'id_string': '693174677908111360', 'state': 'published', 'display_text': 'Posted to palegentlementale'}\n",
      "Done with 424 out of 578\n"
     ]
    },
    {
     "name": "stderr",
     "output_type": "stream",
     "text": [
      "PabstExtract1905A:\n",
      " downloading Pabst Extract -1905A.jpg: 100%|██████████| 130k/130k [00:00<00:00, 268kiB/s]\n"
     ]
    },
    {
     "name": "stdout",
     "output_type": "stream",
     "text": [
      "{'id': 693174684442918912, 'id_string': '693174684442918912', 'state': 'published', 'display_text': 'Posted to palegentlementale'}\n",
      "Done with 425 out of 578\n"
     ]
    },
    {
     "name": "stderr",
     "output_type": "stream",
     "text": [
      "PabstExtract1906A:\n",
      " downloading Pabst Extract -1906A.jpg: 100%|██████████| 149k/149k [00:00<00:00, 294kiB/s]\n"
     ]
    },
    {
     "name": "stdout",
     "output_type": "stream",
     "text": [
      "{'id': 693174690531950592, 'id_string': '693174690531950592', 'state': 'published', 'display_text': 'Posted to palegentlementale'}\n",
      "Done with 426 out of 578\n"
     ]
    },
    {
     "name": "stderr",
     "output_type": "stream",
     "text": [
      "PabstExtract1908A:\n",
      " downloading Pabst Extract -1908A.jpg: 100%|██████████| 142k/142k [00:00<00:00, 297kiB/s]\n"
     ]
    },
    {
     "name": "stdout",
     "output_type": "stream",
     "text": [
      "{'id': 693174698255761408, 'id_string': '693174698255761408', 'state': 'published', 'display_text': 'Posted to palegentlementale'}\n",
      "Done with 427 out of 578\n"
     ]
    },
    {
     "name": "stderr",
     "output_type": "stream",
     "text": [
      "PabstExtract1909A:\n",
      " downloading Pabst Extract -1909A.jpg: 100%|██████████| 159k/159k [00:01<00:00, 93.9kiB/s]\n"
     ]
    },
    {
     "name": "stdout",
     "output_type": "stream",
     "text": [
      "{'id': 693174707135086592, 'id_string': '693174707135086592', 'state': 'published', 'display_text': 'Posted to palegentlementale'}\n",
      "Done with 428 out of 578\n"
     ]
    },
    {
     "name": "stderr",
     "output_type": "stream",
     "text": [
      "PabstExtract1909B:\n",
      " downloading Pabst Extract -1909B.jpg: 100%|██████████| 215k/215k [00:00<00:00, 277kiB/s]\n"
     ]
    },
    {
     "name": "stdout",
     "output_type": "stream",
     "text": [
      "{'id': 693174716307996672, 'id_string': '693174716307996672', 'state': 'published', 'display_text': 'Posted to palegentlementale'}\n",
      "Done with 429 out of 578\n"
     ]
    },
    {
     "name": "stderr",
     "output_type": "stream",
     "text": [
      "PabstExtract1910A:\n",
      " downloading Pabst Extract -1910A.jpg: 100%|██████████| 167k/167k [00:00<00:00, 320kiB/s]\n"
     ]
    },
    {
     "name": "stdout",
     "output_type": "stream",
     "text": [
      "{'id': 693174724934746112, 'id_string': '693174724934746112', 'state': 'published', 'display_text': 'Posted to palegentlementale'}\n",
      "Done with 430 out of 578\n"
     ]
    },
    {
     "name": "stderr",
     "output_type": "stream",
     "text": [
      "PabstMaltExtract1896A:\n",
      " downloading Pabst Malt Extract -1896A.jpg: 100%|██████████| 160k/160k [00:00<00:00, 172kiB/s]\n"
     ]
    },
    {
     "name": "stdout",
     "output_type": "stream",
     "text": [
      "{'id': 693174732392169473, 'id_string': '693174732392169473', 'state': 'published', 'display_text': 'Posted to palegentlementale'}\n",
      "Done with 431 out of 578\n"
     ]
    },
    {
     "name": "stderr",
     "output_type": "stream",
     "text": [
      "PabstMaltExtract1896B:\n",
      " downloading Pabst Malt Extract -1896B.jpg: 100%|██████████| 96.1k/96.1k [00:00<00:00, 385kiB/s]\n"
     ]
    },
    {
     "name": "stdout",
     "output_type": "stream",
     "text": [
      "{'id': 693174739182714880, 'id_string': '693174739182714880', 'state': 'published', 'display_text': 'Posted to palegentlementale'}\n",
      "Done with 432 out of 578\n"
     ]
    },
    {
     "name": "stderr",
     "output_type": "stream",
     "text": [
      "PabstMaltExtract1900A:\n",
      " downloading Pabst Malt Extract -1900A.jpg: 100%|██████████| 122k/122k [00:00<00:00, 254kiB/s]\n"
     ]
    },
    {
     "name": "stdout",
     "output_type": "stream",
     "text": [
      "{'id': 693174745769951232, 'id_string': '693174745769951232', 'state': 'published', 'display_text': 'Posted to palegentlementale'}\n",
      "Done with 433 out of 578\n"
     ]
    },
    {
     "name": "stderr",
     "output_type": "stream",
     "text": [
      "PepsiCola1940A:\n",
      " downloading Pepsi-Cola 1940A.jpg: 100%|██████████| 133k/133k [00:00<00:00, 178kiB/s]\n"
     ]
    },
    {
     "name": "stdout",
     "output_type": "stream",
     "text": [
      "{'id': 693174752501776384, 'id_string': '693174752501776384', 'state': 'published', 'display_text': 'Posted to palegentlementale'}\n",
      "Done with 434 out of 578\n"
     ]
    },
    {
     "name": "stderr",
     "output_type": "stream",
     "text": [
      "PepsiCola1940B:\n",
      " downloading Pepsi-Cola 1940B.jpg: 100%|██████████| 79.2k/79.2k [00:00<00:00, 111kiB/s]\n"
     ]
    },
    {
     "name": "stdout",
     "output_type": "stream",
     "text": [
      "{'id': 693174758632751104, 'id_string': '693174758632751104', 'state': 'published', 'display_text': 'Posted to palegentlementale'}\n",
      "Done with 435 out of 578\n"
     ]
    },
    {
     "name": "stderr",
     "output_type": "stream",
     "text": [
      "PepsiCola1940C:\n",
      " downloading Pepsi-Cola 1940C.jpg: 100%|██████████| 75.9k/75.9k [00:00<00:00, 309kiB/s]\n"
     ]
    },
    {
     "name": "stdout",
     "output_type": "stream",
     "text": [
      "{'id': 693174765886881792, 'id_string': '693174765886881792', 'state': 'published', 'display_text': 'Posted to palegentlementale'}\n",
      "Done with 436 out of 578\n"
     ]
    },
    {
     "name": "stderr",
     "output_type": "stream",
     "text": [
      "PepsiCola1940D:\n",
      " downloading Pepsi-Cola 1940D.jpg: 100%|██████████| 115k/115k [00:00<00:00, 235kiB/s]\n"
     ]
    },
    {
     "name": "stdout",
     "output_type": "stream",
     "text": [
      "{'id': 693174772146765824, 'id_string': '693174772146765824', 'state': 'published', 'display_text': 'Posted to palegentlementale'}\n",
      "Done with 437 out of 578\n"
     ]
    },
    {
     "name": "stderr",
     "output_type": "stream",
     "text": [
      "PerrierWater1910A:\n",
      " downloading Perrier Water -1910A.jpg: 100%|██████████| 118k/118k [00:00<00:00, 242kiB/s]\n"
     ]
    },
    {
     "name": "stdout",
     "output_type": "stream",
     "text": [
      "{'id': 693174778193969152, 'id_string': '693174778193969152', 'state': 'published', 'display_text': 'Posted to palegentlementale'}\n",
      "Done with 438 out of 578\n"
     ]
    },
    {
     "name": "stderr",
     "output_type": "stream",
     "text": [
      "PetMilk1927A:\n",
      " downloading Pet Milk -1927A.jpg: 100%|██████████| 120k/120k [00:00<00:00, 227kiB/s]\n"
     ]
    },
    {
     "name": "stdout",
     "output_type": "stream",
     "text": [
      "{'id': 693174785560248320, 'id_string': '693174785560248320', 'state': 'published', 'display_text': 'Posted to palegentlementale'}\n",
      "Done with 439 out of 578\n"
     ]
    },
    {
     "name": "stderr",
     "output_type": "stream",
     "text": [
      "PettijohnsBreakfastFood1898A:\n",
      " downloading Pettijohn's Breakfast Food -1898A.jpg: 100%|██████████| 167k/167k [00:00<00:00, 332kiB/s]\n"
     ]
    },
    {
     "name": "stdout",
     "output_type": "stream",
     "text": [
      "{'id': 693174793253568512, 'id_string': '693174793253568512', 'state': 'published', 'display_text': 'Posted to palegentlementale'}\n",
      "Done with 440 out of 578\n"
     ]
    },
    {
     "name": "stderr",
     "output_type": "stream",
     "text": [
      "PettijohnsBreakfastFood1901A:\n",
      " downloading Pettijohn's Breakfast Food -1901A.jpg: 100%|██████████| 101k/101k [00:00<00:00, 196kiB/s]\n"
     ]
    },
    {
     "name": "stdout",
     "output_type": "stream",
     "text": [
      "{'id': 693174800814931968, 'id_string': '693174800814931968', 'state': 'published', 'display_text': 'Posted to palegentlementale'}\n",
      "Done with 441 out of 578\n"
     ]
    },
    {
     "name": "stderr",
     "output_type": "stream",
     "text": [
      "PillsburyPancakeFlour1927A:\n",
      " downloading Pillsbury Pancake Flour -1927A.jpg: 100%|██████████| 95.3k/95.3k [00:00<00:00, 316kiB/s]\n"
     ]
    },
    {
     "name": "stdout",
     "output_type": "stream",
     "text": [
      "{'id': 693174807053959168, 'id_string': '693174807053959168', 'state': 'published', 'display_text': 'Posted to palegentlementale'}\n",
      "Done with 442 out of 578\n"
     ]
    },
    {
     "name": "stderr",
     "output_type": "stream",
     "text": [
      "PillsburyPieCrustMix1949A:\n",
      " downloading Pillsbury Pie Crust Mix -1949A.jpg: 100%|██████████| 141k/141k [00:00<00:00, 240kiB/s]\n"
     ]
    },
    {
     "name": "stdout",
     "output_type": "stream",
     "text": [
      "{'id': 693174816097878016, 'id_string': '693174816097878016', 'state': 'published', 'display_text': 'Posted to palegentlementale'}\n",
      "Done with 443 out of 578\n"
     ]
    },
    {
     "name": "stderr",
     "output_type": "stream",
     "text": [
      "PillsburysFlour1933A:\n",
      " downloading Pillsbury's Flour -1933A.jpg: 100%|██████████| 142k/142k [00:00<00:00, 260kiB/s]\n"
     ]
    },
    {
     "name": "stdout",
     "output_type": "stream",
     "text": [
      "{'id': 693174823192543232, 'id_string': '693174823192543232', 'state': 'published', 'display_text': 'Posted to palegentlementale'}\n",
      "Done with 444 out of 578\n"
     ]
    },
    {
     "name": "stderr",
     "output_type": "stream",
     "text": [
      "PillsburysVitos1898A:\n",
      " downloading Pillsbury's Vitos -1898A.jpg: 100%|██████████| 174k/174k [00:00<00:00, 347kiB/s]\n"
     ]
    },
    {
     "name": "stdout",
     "output_type": "stream",
     "text": [
      "{'id': 693174830807351296, 'id_string': '693174830807351296', 'state': 'published', 'display_text': 'Posted to palegentlementale'}\n",
      "Done with 445 out of 578\n"
     ]
    },
    {
     "name": "stderr",
     "output_type": "stream",
     "text": [
      "PlantersPennantPeanuts1920sA:\n",
      " downloading Planter's Pennant Peanuts -1920'sA.jpg: 100%|██████████| 138k/138k [00:01<00:00, 109kiB/s]\n"
     ]
    },
    {
     "name": "stdout",
     "output_type": "stream",
     "text": [
      "{'id': 693174838454550528, 'id_string': '693174838454550528', 'state': 'published', 'display_text': 'Posted to palegentlementale'}\n",
      "Done with 446 out of 578\n"
     ]
    },
    {
     "name": "stderr",
     "output_type": "stream",
     "text": [
      "PlantersPennantPeanuts1921A:\n",
      " downloading Planter's Pennant Peanuts -1921A.jpg: 100%|██████████| 130k/130k [00:00<00:00, 257kiB/s]\n"
     ]
    },
    {
     "name": "stdout",
     "output_type": "stream",
     "text": [
      "{'id': 693174845692854272, 'id_string': '693174845692854272', 'state': 'published', 'display_text': 'Posted to palegentlementale'}\n",
      "Done with 447 out of 578\n"
     ]
    },
    {
     "name": "stderr",
     "output_type": "stream",
     "text": [
      "PlutoWater1918A:\n",
      " downloading Pluto Water -1918A.jpg: 100%|██████████| 270k/270k [00:02<00:00, 112kiB/s]\n"
     ]
    },
    {
     "name": "stdout",
     "output_type": "stream",
     "text": [
      "{'id': 693174854848020480, 'id_string': '693174854848020480', 'state': 'published', 'display_text': 'Posted to palegentlementale'}\n",
      "Done with 448 out of 578\n"
     ]
    },
    {
     "name": "stderr",
     "output_type": "stream",
     "text": [
      "PostToasties1911A:\n",
      " downloading Post Toasties -1911A.jpg: 100%|██████████| 113k/113k [00:00<00:00, 231kiB/s]\n"
     ]
    },
    {
     "name": "stdout",
     "output_type": "stream",
     "text": [
      "{'id': 693174862175453184, 'id_string': '693174862175453184', 'state': 'published', 'display_text': 'Posted to palegentlementale'}\n",
      "Done with 449 out of 578\n"
     ]
    },
    {
     "name": "stderr",
     "output_type": "stream",
     "text": [
      "PostToasties1911B:\n",
      " downloading Post Toasties -1911B.jpg: 100%|██████████| 188k/188k [00:01<00:00, 185kiB/s]\n"
     ]
    },
    {
     "name": "stdout",
     "output_type": "stream",
     "text": [
      "{'meta': {'status': 400, 'msg': 'Bad Request'}, 'response': {'errors': [\"Oh no! You've reached your photo upload limit for today. Please come again tomorrow!\"]}}\n",
      "Done with 450 out of 578\n"
     ]
    },
    {
     "name": "stderr",
     "output_type": "stream",
     "text": [
      "PostToasties1937A:\n",
      " downloading Post Toasties -1937A.jpg: 100%|██████████| 125k/125k [00:00<00:00, 266kiB/s]\n"
     ]
    },
    {
     "name": "stdout",
     "output_type": "stream",
     "text": [
      "{'meta': {'status': 400, 'msg': 'Bad Request'}, 'response': {'errors': [\"Oh no! You've reached your photo upload limit for today. Please come again tomorrow!\"]}}\n",
      "Done with 451 out of 578\n"
     ]
    },
    {
     "name": "stderr",
     "output_type": "stream",
     "text": [
      "Postum1907A:\n",
      " downloading Postum -1907A.jpg: 100%|██████████| 83.4k/83.4k [00:00<00:00, 348kiB/s]\n"
     ]
    },
    {
     "name": "stdout",
     "output_type": "stream",
     "text": [
      "{'meta': {'status': 400, 'msg': 'Bad Request'}, 'response': {'errors': [\"Oh no! You've reached your photo upload limit for today. Please come again tomorrow!\"]}}\n",
      "Done with 452 out of 578\n"
     ]
    },
    {
     "name": "stderr",
     "output_type": "stream",
     "text": [
      "Postum1914A:\n",
      " downloading Postum -1914A.jpg: 100%|██████████| 136k/136k [00:01<00:00, 110kiB/s]\n"
     ]
    },
    {
     "name": "stdout",
     "output_type": "stream",
     "text": [
      "{'meta': {'status': 400, 'msg': 'Bad Request'}, 'response': {'errors': [\"Oh no! You've reached your photo upload limit for today. Please come again tomorrow!\"]}}\n",
      "Done with 453 out of 578\n"
     ]
    },
    {
     "name": "stderr",
     "output_type": "stream",
     "text": [
      "Postum1915A:\n",
      " downloading Postum -1915A.jpg: 100%|██████████| 165k/165k [00:00<00:00, 315kiB/s]\n"
     ]
    },
    {
     "name": "stdout",
     "output_type": "stream",
     "text": [
      "{'meta': {'status': 400, 'msg': 'Bad Request'}, 'response': {'errors': [\"Oh no! You've reached your photo upload limit for today. Please come again tomorrow!\"]}}\n",
      "Done with 454 out of 578\n"
     ]
    },
    {
     "name": "stderr",
     "output_type": "stream",
     "text": [
      "Postum1919A:\n",
      " downloading Postum -1919A.jpg: 100%|██████████| 133k/133k [00:01<00:00, 93.1kiB/s]\n"
     ]
    },
    {
     "name": "stdout",
     "output_type": "stream",
     "text": [
      "{'meta': {'status': 400, 'msg': 'Bad Request'}, 'response': {'errors': [\"Oh no! You've reached your photo upload limit for today. Please come again tomorrow!\"]}}\n",
      "Done with 455 out of 578\n"
     ]
    },
    {
     "name": "stderr",
     "output_type": "stream",
     "text": [
      "PuffedGrainCereals1918A:\n",
      " downloading Puffed Grain Cereals -1918A.jpg: 100%|██████████| 125k/125k [00:00<00:00, 270kiB/s]\n"
     ]
    },
    {
     "name": "stdout",
     "output_type": "stream",
     "text": [
      "{'meta': {'status': 400, 'msg': 'Bad Request'}, 'response': {'errors': [\"Oh no! You've reached your photo upload limit for today. Please come again tomorrow!\"]}}\n",
      "Done with 456 out of 578\n"
     ]
    },
    {
     "name": "stderr",
     "output_type": "stream",
     "text": [
      "QuakerOats1896A:\n",
      " downloading Quaker Oats -1896A.jpg: 100%|██████████| 138k/138k [00:00<00:00, 186kiB/s]\n"
     ]
    },
    {
     "name": "stdout",
     "output_type": "stream",
     "text": [
      "{'meta': {'status': 400, 'msg': 'Bad Request'}, 'response': {'errors': [\"Oh no! You've reached your photo upload limit for today. Please come again tomorrow!\"]}}\n",
      "Done with 457 out of 578\n"
     ]
    },
    {
     "name": "stderr",
     "output_type": "stream",
     "text": [
      "QuakerOats1899A:\n",
      " downloading Quaker Oats -1899A.jpg: 100%|██████████| 134k/134k [00:00<00:00, 282kiB/s]\n"
     ]
    },
    {
     "name": "stdout",
     "output_type": "stream",
     "text": [
      "{'meta': {'status': 400, 'msg': 'Bad Request'}, 'response': {'errors': [\"Oh no! You've reached your photo upload limit for today. Please come again tomorrow!\"]}}\n",
      "Done with 458 out of 578\n"
     ]
    },
    {
     "name": "stderr",
     "output_type": "stream",
     "text": [
      "QuakerOats1899B:\n",
      " downloading Quaker Oats -1899B.jpg: 100%|██████████| 140k/140k [00:00<00:00, 293kiB/s]\n"
     ]
    },
    {
     "name": "stdout",
     "output_type": "stream",
     "text": [
      "{'meta': {'status': 400, 'msg': 'Bad Request'}, 'response': {'errors': [\"Oh no! You've reached your photo upload limit for today. Please come again tomorrow!\"]}}\n",
      "Done with 459 out of 578\n"
     ]
    },
    {
     "name": "stderr",
     "output_type": "stream",
     "text": [
      "QuakerOats1926A:\n",
      " downloading Quaker Oats -1926A.jpg: 100%|██████████| 124k/124k [00:00<00:00, 129kiB/s]\n"
     ]
    },
    {
     "name": "stdout",
     "output_type": "stream",
     "text": [
      "{'meta': {'status': 400, 'msg': 'Bad Request'}, 'response': {'errors': [\"Oh no! You've reached your photo upload limit for today. Please come again tomorrow!\"]}}\n",
      "Done with 460 out of 578\n"
     ]
    },
    {
     "name": "stderr",
     "output_type": "stream",
     "text": [
      "QuakerOats1947A:\n",
      " downloading Quaker Oats -1947A.jpg: 100%|██████████| 155k/155k [00:00<00:00, 340kiB/s]\n"
     ]
    },
    {
     "name": "stdout",
     "output_type": "stream",
     "text": [
      "{'meta': {'status': 400, 'msg': 'Bad Request'}, 'response': {'errors': [\"Oh no! You've reached your photo upload limit for today. Please come again tomorrow!\"]}}\n",
      "Done with 461 out of 578\n"
     ]
    },
    {
     "name": "stderr",
     "output_type": "stream",
     "text": [
      "QuakerOatsCereals1927A:\n",
      " downloading Quaker Oats Cereals -1927A.jpg: 100%|██████████| 116k/116k [00:00<00:00, 236kiB/s]\n"
     ]
    },
    {
     "name": "stdout",
     "output_type": "stream",
     "text": [
      "{'meta': {'status': 400, 'msg': 'Bad Request'}, 'response': {'errors': [\"Oh no! You've reached your photo upload limit for today. Please come again tomorrow!\"]}}\n",
      "Done with 462 out of 578\n"
     ]
    },
    {
     "name": "stderr",
     "output_type": "stream",
     "text": [
      "QuakerOatsCereals1927B:\n",
      " downloading Quaker Oats Cereals -1927B.jpg: 100%|██████████| 122k/122k [00:00<00:00, 260kiB/s]\n"
     ]
    },
    {
     "name": "stdout",
     "output_type": "stream",
     "text": [
      "{'meta': {'status': 400, 'msg': 'Bad Request'}, 'response': {'errors': [\"Oh no! You've reached your photo upload limit for today. Please come again tomorrow!\"]}}\n",
      "Done with 463 out of 578\n"
     ]
    },
    {
     "name": "stderr",
     "output_type": "stream",
     "text": [
      "RalstonBreakfastFood1901A:\n",
      " downloading Ralston Breakfast Food -1901A.jpg: 100%|██████████| 193k/193k [00:00<00:00, 395kiB/s]\n"
     ]
    },
    {
     "name": "stdout",
     "output_type": "stream",
     "text": [
      "{'meta': {'status': 400, 'msg': 'Bad Request'}, 'response': {'errors': [\"Oh no! You've reached your photo upload limit for today. Please come again tomorrow!\"]}}\n",
      "Done with 464 out of 578\n"
     ]
    },
    {
     "name": "stderr",
     "output_type": "stream",
     "text": [
      "RalstonBreakfastFood1911A:\n",
      " downloading Ralston Breakfast Food -1911A.jpg: 100%|██████████| 124k/124k [00:00<00:00, 258kiB/s]\n"
     ]
    },
    {
     "name": "stdout",
     "output_type": "stream",
     "text": [
      "{'meta': {'status': 400, 'msg': 'Bad Request'}, 'response': {'errors': [\"Oh no! You've reached your photo upload limit for today. Please come again tomorrow!\"]}}\n",
      "Done with 465 out of 578\n"
     ]
    },
    {
     "name": "stderr",
     "output_type": "stream",
     "text": [
      "RalstonPurinaCereals1904A:\n",
      " downloading Ralston Purina Cereals -1904A.jpg: 100%|██████████| 143k/143k [00:00<00:00, 284kiB/s]\n"
     ]
    },
    {
     "name": "stdout",
     "output_type": "stream",
     "text": [
      "{'meta': {'status': 400, 'msg': 'Bad Request'}, 'response': {'errors': [\"Oh no! You've reached your photo upload limit for today. Please come again tomorrow!\"]}}\n",
      "Done with 466 out of 578\n"
     ]
    },
    {
     "name": "stderr",
     "output_type": "stream",
     "text": [
      "RamonaandAthenaSugarWafers1901A:\n",
      " downloading Ramona and Athena Sugar Wafers -1901A.jpg: 100%|██████████| 100k/100k [00:00<00:00, 196kiB/s]\n"
     ]
    },
    {
     "name": "stdout",
     "output_type": "stream",
     "text": [
      "{'meta': {'status': 400, 'msg': 'Bad Request'}, 'response': {'errors': [\"Oh no! You've reached your photo upload limit for today. Please come again tomorrow!\"]}}\n",
      "Done with 467 out of 578\n"
     ]
    },
    {
     "name": "stderr",
     "output_type": "stream",
     "text": [
      "RamonaandAthenaSugarWafers1901B:\n",
      " downloading Ramona and Athena Sugar Wafers -1901B.jpg: 100%|██████████| 93.6k/93.6k [00:00<00:00, 391kiB/s]\n"
     ]
    },
    {
     "name": "stdout",
     "output_type": "stream",
     "text": [
      "{'meta': {'status': 400, 'msg': 'Bad Request'}, 'response': {'errors': [\"Oh no! You've reached your photo upload limit for today. Please come again tomorrow!\"]}}\n",
      "Done with 468 out of 578\n"
     ]
    },
    {
     "name": "stderr",
     "output_type": "stream",
     "text": [
      "RedWingGrapeJuice1915A:\n",
      " downloading Red Wing Grape Juice -1915A.jpg: 100%|██████████| 65.1k/65.1k [00:00<00:00, 293kiB/s]\n"
     ]
    },
    {
     "name": "stdout",
     "output_type": "stream",
     "text": [
      "{'meta': {'status': 400, 'msg': 'Bad Request'}, 'response': {'errors': [\"Oh no! You've reached your photo upload limit for today. Please come again tomorrow!\"]}}\n",
      "Done with 469 out of 578\n"
     ]
    },
    {
     "name": "stderr",
     "output_type": "stream",
     "text": [
      "RedWingGrapeJuice1916A:\n",
      " downloading Red Wing Grape Juice -1916A.jpg: 100%|██████████| 134k/134k [00:01<00:00, 97.0kiB/s]\n"
     ]
    },
    {
     "name": "stdout",
     "output_type": "stream",
     "text": [
      "{'meta': {'status': 400, 'msg': 'Bad Request'}, 'response': {'errors': [\"Oh no! You've reached your photo upload limit for today. Please come again tomorrow!\"]}}\n",
      "Done with 470 out of 578\n"
     ]
    },
    {
     "name": "stderr",
     "output_type": "stream",
     "text": [
      "RedWingGrapeJuice1916B:\n",
      " downloading Red Wing Grape Juice -1916B.jpg: 100%|██████████| 144k/144k [00:00<00:00, 292kiB/s]\n"
     ]
    },
    {
     "name": "stdout",
     "output_type": "stream",
     "text": [
      "{'meta': {'status': 400, 'msg': 'Bad Request'}, 'response': {'errors': [\"Oh no! You've reached your photo upload limit for today. Please come again tomorrow!\"]}}\n",
      "Done with 471 out of 578\n"
     ]
    },
    {
     "name": "stderr",
     "output_type": "stream",
     "text": [
      "RexChocolates1913A:\n",
      " downloading Rex Chocolates -1913A.jpg: 100%|██████████| 86.0k/86.0k [00:00<00:00, 185kiB/s]\n"
     ]
    },
    {
     "name": "stdout",
     "output_type": "stream",
     "text": [
      "{'meta': {'status': 400, 'msg': 'Bad Request'}, 'response': {'errors': [\"Oh no! You've reached your photo upload limit for today. Please come again tomorrow!\"]}}\n",
      "Done with 472 out of 578\n"
     ]
    },
    {
     "name": "stderr",
     "output_type": "stream",
     "text": [
      "RheingoldBeer1952A:\n",
      " downloading Rheingold Beer -1952A.jpg: 100%|██████████| 90.4k/90.4k [00:00<00:00, 311kiB/s]\n"
     ]
    },
    {
     "name": "stdout",
     "output_type": "stream",
     "text": [
      "{'meta': {'status': 400, 'msg': 'Bad Request'}, 'response': {'errors': [\"Oh no! You've reached your photo upload limit for today. Please come again tomorrow!\"]}}\n",
      "Done with 473 out of 578\n"
     ]
    },
    {
     "name": "stderr",
     "output_type": "stream",
     "text": [
      "RitzCrackers1949A:\n",
      " downloading Ritz Crackers -1949A.jpg: 100%|██████████| 145k/145k [00:00<00:00, 299kiB/s]\n"
     ]
    },
    {
     "name": "stdout",
     "output_type": "stream",
     "text": [
      "{'meta': {'status': 400, 'msg': 'Bad Request'}, 'response': {'errors': [\"Oh no! You've reached your photo upload limit for today. Please come again tomorrow!\"]}}\n",
      "Done with 474 out of 578\n"
     ]
    },
    {
     "name": "stderr",
     "output_type": "stream",
     "text": [
      "RockwoodChocolateBits1946A:\n",
      " downloading Rockwood Chocolate Bits -1946A.jpg: 100%|██████████| 119k/119k [00:00<00:00, 209kiB/s]\n"
     ]
    },
    {
     "name": "stdout",
     "output_type": "stream",
     "text": [
      "{'meta': {'status': 400, 'msg': 'Bad Request'}, 'response': {'errors': [\"Oh no! You've reached your photo upload limit for today. Please come again tomorrow!\"]}}\n",
      "Done with 475 out of 578\n"
     ]
    },
    {
     "name": "stderr",
     "output_type": "stream",
     "text": [
      "RockwoodChocolateBits1947A:\n",
      " downloading Rockwood Chocolate Bits -1947A.jpg: 100%|██████████| 129k/129k [00:01<00:00, 91.9kiB/s]\n"
     ]
    },
    {
     "name": "stdout",
     "output_type": "stream",
     "text": [
      "{'meta': {'status': 400, 'msg': 'Bad Request'}, 'response': {'errors': [\"Oh no! You've reached your photo upload limit for today. Please come again tomorrow!\"]}}\n",
      "Done with 476 out of 578\n"
     ]
    },
    {
     "name": "stderr",
     "output_type": "stream",
     "text": [
      "RockwoodChocolateBits1948A:\n",
      " downloading Rockwood Chocolate Bits -1948A.jpg: 100%|██████████| 131k/131k [00:00<00:00, 268kiB/s]\n"
     ]
    },
    {
     "name": "stdout",
     "output_type": "stream",
     "text": [
      "{'meta': {'status': 400, 'msg': 'Bad Request'}, 'response': {'errors': [\"Oh no! You've reached your photo upload limit for today. Please come again tomorrow!\"]}}\n",
      "Done with 477 out of 578\n"
     ]
    },
    {
     "name": "stderr",
     "output_type": "stream",
     "text": [
      "RoyalBakingPowder1920A:\n",
      " downloading Royal Baking Powder -1920A.jpg: 100%|██████████| 165k/165k [00:00<00:00, 339kiB/s]\n"
     ]
    },
    {
     "name": "stdout",
     "output_type": "stream",
     "text": [
      "{'meta': {'status': 400, 'msg': 'Bad Request'}, 'response': {'errors': [\"Oh no! You've reached your photo upload limit for today. Please come again tomorrow!\"]}}\n",
      "Done with 478 out of 578\n"
     ]
    },
    {
     "name": "stderr",
     "output_type": "stream",
     "text": [
      "RoyalBakingPowder1922A:\n",
      " downloading Royal Baking Powder -1922A.jpg: 100%|██████████| 134k/134k [00:00<00:00, 285kiB/s]\n"
     ]
    },
    {
     "name": "stdout",
     "output_type": "stream",
     "text": [
      "{'meta': {'status': 400, 'msg': 'Bad Request'}, 'response': {'errors': [\"Oh no! You've reached your photo upload limit for today. Please come again tomorrow!\"]}}\n",
      "Done with 479 out of 578\n"
     ]
    },
    {
     "name": "stderr",
     "output_type": "stream",
     "text": [
      "RoyalCrownCola1948A:\n",
      " downloading Royal Crown Cola -1948A.jpg: 100%|██████████| 84.5k/84.5k [00:00<00:00, 140kiB/s]\n"
     ]
    },
    {
     "name": "stdout",
     "output_type": "stream",
     "text": [
      "{'meta': {'status': 400, 'msg': 'Bad Request'}, 'response': {'errors': [\"Oh no! You've reached your photo upload limit for today. Please come again tomorrow!\"]}}\n",
      "Done with 480 out of 578\n"
     ]
    },
    {
     "name": "stderr",
     "output_type": "stream",
     "text": [
      "RoyalPurpleGrapeJuice1915A:\n",
      " downloading Royal Purple Grape Juice -1915A.jpg: 100%|██████████| 131k/131k [00:01<00:00, 106kiB/s]\n"
     ]
    },
    {
     "name": "stdout",
     "output_type": "stream",
     "text": [
      "{'meta': {'status': 400, 'msg': 'Bad Request'}, 'response': {'errors': [\"Oh no! You've reached your photo upload limit for today. Please come again tomorrow!\"]}}\n",
      "Done with 481 out of 578\n"
     ]
    },
    {
     "name": "stderr",
     "output_type": "stream",
     "text": [
      "RutherfordHypowerTamales1949A:\n",
      " downloading Rutherford Hypower Tamales -1949A.jpg: 100%|██████████| 171k/171k [00:00<00:00, 345kiB/s]\n"
     ]
    },
    {
     "name": "stdout",
     "output_type": "stream",
     "text": [
      "{'meta': {'status': 400, 'msg': 'Bad Request'}, 'response': {'errors': [\"Oh no! You've reached your photo upload limit for today. Please come again tomorrow!\"]}}\n",
      "Done with 482 out of 578\n"
     ]
    },
    {
     "name": "stderr",
     "output_type": "stream",
     "text": [
      "SankaCoffee1930A:\n",
      " downloading Sanka Coffee -1930A.jpg: 100%|██████████| 61.7k/61.7k [00:00<00:00, 262kiB/s]\n"
     ]
    },
    {
     "name": "stdout",
     "output_type": "stream",
     "text": [
      "{'meta': {'status': 400, 'msg': 'Bad Request'}, 'response': {'errors': [\"Oh no! You've reached your photo upload limit for today. Please come again tomorrow!\"]}}\n",
      "Done with 483 out of 578\n"
     ]
    },
    {
     "name": "stderr",
     "output_type": "stream",
     "text": [
      "SchlitzBeer1911A:\n",
      " downloading Schlitz Beer -1911A.jpg: 100%|██████████| 138k/138k [00:00<00:00, 295kiB/s]\n"
     ]
    },
    {
     "name": "stdout",
     "output_type": "stream",
     "text": [
      "{'meta': {'status': 400, 'msg': 'Bad Request'}, 'response': {'errors': [\"Oh no! You've reached your photo upload limit for today. Please come again tomorrow!\"]}}\n",
      "Done with 484 out of 578\n"
     ]
    },
    {
     "name": "stderr",
     "output_type": "stream",
     "text": [
      "SchlitzBeer1912A:\n",
      " downloading Schlitz Beer -1912A.jpg: 100%|██████████| 131k/131k [00:00<00:00, 235kiB/s]\n"
     ]
    },
    {
     "name": "stdout",
     "output_type": "stream",
     "text": [
      "{'meta': {'status': 400, 'msg': 'Bad Request'}, 'response': {'errors': [\"Oh no! You've reached your photo upload limit for today. Please come again tomorrow!\"]}}\n",
      "Done with 485 out of 578\n"
     ]
    },
    {
     "name": "stderr",
     "output_type": "stream",
     "text": [
      "SchlitzBeer1912B:\n",
      " downloading Schlitz Beer -1912B.jpg: 100%|██████████| 127k/127k [00:00<00:00, 252kiB/s]\n"
     ]
    },
    {
     "name": "stdout",
     "output_type": "stream",
     "text": [
      "{'meta': {'status': 400, 'msg': 'Bad Request'}, 'response': {'errors': [\"Oh no! You've reached your photo upload limit for today. Please come again tomorrow!\"]}}\n",
      "Done with 486 out of 578\n"
     ]
    },
    {
     "name": "stderr",
     "output_type": "stream",
     "text": [
      "SchlitzBeer1912C:\n",
      " downloading Schlitz Beer -1912C.jpg: 100%|██████████| 136k/136k [00:00<00:00, 284kiB/s]\n"
     ]
    },
    {
     "name": "stdout",
     "output_type": "stream",
     "text": [
      "{'meta': {'status': 400, 'msg': 'Bad Request'}, 'response': {'errors': [\"Oh no! You've reached your photo upload limit for today. Please come again tomorrow!\"]}}\n",
      "Done with 487 out of 578\n"
     ]
    },
    {
     "name": "stderr",
     "output_type": "stream",
     "text": [
      "SchlitzBeer1912D:\n",
      " downloading Schlitz Beer -1912D.jpg: 100%|██████████| 142k/142k [00:00<00:00, 294kiB/s]\n"
     ]
    },
    {
     "name": "stdout",
     "output_type": "stream",
     "text": [
      "{'meta': {'status': 400, 'msg': 'Bad Request'}, 'response': {'errors': [\"Oh no! You've reached your photo upload limit for today. Please come again tomorrow!\"]}}\n",
      "Done with 488 out of 578\n"
     ]
    },
    {
     "name": "stderr",
     "output_type": "stream",
     "text": [
      "ShreddedWheat1910A:\n",
      " downloading Shredded Wheat -1910A.jpg: 100%|██████████| 139k/139k [00:00<00:00, 289kiB/s]\n"
     ]
    },
    {
     "name": "stdout",
     "output_type": "stream",
     "text": [
      "{'meta': {'status': 400, 'msg': 'Bad Request'}, 'response': {'errors': [\"Oh no! You've reached your photo upload limit for today. Please come again tomorrow!\"]}}\n",
      "Done with 489 out of 578\n"
     ]
    },
    {
     "name": "stderr",
     "output_type": "stream",
     "text": [
      "ShreddedWheat1917A:\n",
      " downloading Shredded Wheat -1917A.jpg: 100%|██████████| 146k/146k [00:00<00:00, 310kiB/s]\n"
     ]
    },
    {
     "name": "stdout",
     "output_type": "stream",
     "text": [
      "{'meta': {'status': 400, 'msg': 'Bad Request'}, 'response': {'errors': [\"Oh no! You've reached your photo upload limit for today. Please come again tomorrow!\"]}}\n",
      "Done with 490 out of 578\n"
     ]
    },
    {
     "name": "stderr",
     "output_type": "stream",
     "text": [
      "ShreddedWheatBiscuit1903A:\n",
      " downloading Shredded Wheat Biscuit -1903A.jpg: 100%|██████████| 114k/114k [00:00<00:00, 235kiB/s]\n"
     ]
    },
    {
     "name": "stdout",
     "output_type": "stream",
     "text": [
      "{'meta': {'status': 400, 'msg': 'Bad Request'}, 'response': {'errors': [\"Oh no! You've reached your photo upload limit for today. Please come again tomorrow!\"]}}\n",
      "Done with 491 out of 578\n"
     ]
    },
    {
     "name": "stderr",
     "output_type": "stream",
     "text": [
      "SnidersCatsup1911A:\n",
      " downloading Snider's Catsup -1911A.jpg: 100%|██████████| 243k/243k [00:02<00:00, 92.6kiB/s]\n"
     ]
    },
    {
     "name": "stdout",
     "output_type": "stream",
     "text": [
      "{'meta': {'status': 400, 'msg': 'Bad Request'}, 'response': {'errors': [\"Oh no! You've reached your photo upload limit for today. Please come again tomorrow!\"]}}\n",
      "Done with 492 out of 578\n"
     ]
    },
    {
     "name": "stderr",
     "output_type": "stream",
     "text": [
      "SnidersCatsup1912A:\n",
      " downloading Snider's Catsup -1912A.jpg: 100%|██████████| 169k/169k [00:00<00:00, 357kiB/s]\n"
     ]
    },
    {
     "name": "stdout",
     "output_type": "stream",
     "text": [
      "{'meta': {'status': 400, 'msg': 'Bad Request'}, 'response': {'errors': [\"Oh no! You've reached your photo upload limit for today. Please come again tomorrow!\"]}}\n",
      "Done with 493 out of 578\n"
     ]
    },
    {
     "name": "stderr",
     "output_type": "stream",
     "text": [
      "SnidersCatsup1913A:\n",
      " downloading Snider's Catsup -1913A.jpg: 100%|██████████| 69.7k/69.7k [00:00<00:00, 289kiB/s]\n"
     ]
    },
    {
     "name": "stdout",
     "output_type": "stream",
     "text": [
      "{'meta': {'status': 400, 'msg': 'Bad Request'}, 'response': {'errors': [\"Oh no! You've reached your photo upload limit for today. Please come again tomorrow!\"]}}\n",
      "Done with 494 out of 578\n"
     ]
    },
    {
     "name": "stderr",
     "output_type": "stream",
     "text": [
      "SnowdriftShortening1927A:\n",
      " downloading Snowdrift Shortening -1927A.jpg: 100%|██████████| 90.6k/90.6k [00:00<00:00, 187kiB/s]\n"
     ]
    },
    {
     "name": "stdout",
     "output_type": "stream",
     "text": [
      "{'meta': {'status': 400, 'msg': 'Bad Request'}, 'response': {'errors': [\"Oh no! You've reached your photo upload limit for today. Please come again tomorrow!\"]}}\n",
      "Done with 495 out of 578\n"
     ]
    },
    {
     "name": "stderr",
     "output_type": "stream",
     "text": [
      "SomatoseAlbumoses1900A:\n",
      " downloading Somatose Albumoses -1900A.jpg: 100%|██████████| 96.6k/96.6k [00:00<00:00, 408kiB/s]\n"
     ]
    },
    {
     "name": "stdout",
     "output_type": "stream",
     "text": [
      "{'meta': {'status': 400, 'msg': 'Bad Request'}, 'response': {'errors': [\"Oh no! You've reached your photo upload limit for today. Please come again tomorrow!\"]}}\n",
      "Done with 496 out of 578\n"
     ]
    },
    {
     "name": "stderr",
     "output_type": "stream",
     "text": [
      "SterlingCinammonGum1914A:\n",
      " downloading Sterling Cinammon Gum -1914A.jpg: 100%|██████████| 132k/132k [00:01<00:00, 112kiB/s]\n"
     ]
    },
    {
     "name": "stdout",
     "output_type": "stream",
     "text": [
      "{'meta': {'status': 400, 'msg': 'Bad Request'}, 'response': {'errors': [\"Oh no! You've reached your photo upload limit for today. Please come again tomorrow!\"]}}\n",
      "Done with 497 out of 578\n"
     ]
    },
    {
     "name": "stderr",
     "output_type": "stream",
     "text": [
      "SterlingSpearmintGum1916A:\n",
      " downloading Sterling Spearmint Gum -1916A.jpg: 100%|██████████| 133k/133k [00:00<00:00, 182kiB/s]\n"
     ]
    },
    {
     "name": "stdout",
     "output_type": "stream",
     "text": [
      "{'meta': {'status': 400, 'msg': 'Bad Request'}, 'response': {'errors': [\"Oh no! You've reached your photo upload limit for today. Please come again tomorrow!\"]}}\n",
      "Done with 498 out of 578\n"
     ]
    },
    {
     "name": "stderr",
     "output_type": "stream",
     "text": [
      "StrawberryHillPork1890A:\n",
      " downloading Strawberry Hill Pork -1890A.jpg: 100%|██████████| 140k/140k [00:00<00:00, 289kiB/s]\n"
     ]
    },
    {
     "name": "stdout",
     "output_type": "stream",
     "text": [
      "{'meta': {'status': 400, 'msg': 'Bad Request'}, 'response': {'errors': [\"Oh no! You've reached your photo upload limit for today. Please come again tomorrow!\"]}}\n",
      "Done with 499 out of 578\n"
     ]
    },
    {
     "name": "stderr",
     "output_type": "stream",
     "text": [
      "Sugarine1949A:\n",
      " downloading Sugarine -1949A.jpg: 100%|██████████| 132k/132k [00:01<00:00, 110kiB/s]\n"
     ]
    },
    {
     "name": "stdout",
     "output_type": "stream",
     "text": [
      "{'meta': {'status': 400, 'msg': 'Bad Request'}, 'response': {'errors': [\"Oh no! You've reached your photo upload limit for today. Please come again tomorrow!\"]}}\n",
      "Done with 500 out of 578\n"
     ]
    },
    {
     "name": "stderr",
     "output_type": "stream",
     "text": [
      "SunkistLemons1920A:\n",
      " downloading Sunkist Lemons -1920A.jpg: 100%|██████████| 144k/144k [00:01<00:00, 116kiB/s]\n"
     ]
    },
    {
     "name": "stdout",
     "output_type": "stream",
     "text": [
      "{'meta': {'status': 400, 'msg': 'Bad Request'}, 'response': {'errors': [\"Oh no! You've reached your photo upload limit for today. Please come again tomorrow!\"]}}\n",
      "Done with 501 out of 578\n"
     ]
    },
    {
     "name": "stderr",
     "output_type": "stream",
     "text": [
      "SunnyBrookWhiskey1914A:\n",
      " downloading Sunny Brook Whiskey -1914A.jpg: 100%|██████████| 155k/155k [00:00<00:00, 314kiB/s]\n"
     ]
    },
    {
     "name": "stdout",
     "output_type": "stream",
     "text": [
      "{'meta': {'status': 400, 'msg': 'Bad Request'}, 'response': {'errors': [\"Oh no! You've reached your photo upload limit for today. Please come again tomorrow!\"]}}\n",
      "Done with 502 out of 578\n"
     ]
    },
    {
     "name": "stderr",
     "output_type": "stream",
     "text": [
      "SunshineBiscuits1915A:\n",
      " downloading Sunshine Biscuits -1915A.jpg: 100%|██████████| 143k/143k [00:00<00:00, 292kiB/s]\n"
     ]
    },
    {
     "name": "stdout",
     "output_type": "stream",
     "text": [
      "{'meta': {'status': 400, 'msg': 'Bad Request'}, 'response': {'errors': [\"Oh no! You've reached your photo upload limit for today. Please come again tomorrow!\"]}}\n",
      "Done with 503 out of 578\n"
     ]
    },
    {
     "name": "stderr",
     "output_type": "stream",
     "text": [
      "SunshineBiscuits1920A:\n",
      " downloading Sunshine Biscuits -1920A.jpg: 100%|██████████| 132k/132k [00:01<00:00, 93.7kiB/s]\n"
     ]
    },
    {
     "name": "stdout",
     "output_type": "stream",
     "text": [
      "{'meta': {'status': 400, 'msg': 'Bad Request'}, 'response': {'errors': [\"Oh no! You've reached your photo upload limit for today. Please come again tomorrow!\"]}}\n",
      "Done with 504 out of 578\n"
     ]
    },
    {
     "name": "stderr",
     "output_type": "stream",
     "text": [
      "SunshineSpecialtiesCookies1913A:\n",
      " downloading Sunshine Specialties Cookies -1913A.jpg: 100%|██████████| 97.0k/97.0k [00:00<00:00, 412kiB/s]\n"
     ]
    },
    {
     "name": "stdout",
     "output_type": "stream",
     "text": [
      "{'meta': {'status': 400, 'msg': 'Bad Request'}, 'response': {'errors': [\"Oh no! You've reached your photo upload limit for today. Please come again tomorrow!\"]}}\n",
      "Done with 505 out of 578\n"
     ]
    },
    {
     "name": "stderr",
     "output_type": "stream",
     "text": [
      "SunshineSpecialtiesCookies1915A:\n",
      " downloading Sunshine Specialties Cookies -1915A.jpg: 100%|██████████| 131k/131k [00:02<00:00, 53.4kiB/s]\n"
     ]
    },
    {
     "name": "stdout",
     "output_type": "stream",
     "text": [
      "{'meta': {'status': 400, 'msg': 'Bad Request'}, 'response': {'errors': [\"Oh no! You've reached your photo upload limit for today. Please come again tomorrow!\"]}}\n",
      "Done with 506 out of 578\n"
     ]
    },
    {
     "name": "stderr",
     "output_type": "stream",
     "text": [
      "SunshineTakhomaBiscuits1913A:\n",
      " downloading Sunshine Takhoma Biscuits -1913A.jpg: 100%|██████████| 90.6k/90.6k [00:00<00:00, 94.3kiB/s]\n"
     ]
    },
    {
     "name": "stdout",
     "output_type": "stream",
     "text": [
      "{'meta': {'status': 400, 'msg': 'Bad Request'}, 'response': {'errors': [\"Oh no! You've reached your photo upload limit for today. Please come again tomorrow!\"]}}\n",
      "Done with 507 out of 578\n"
     ]
    },
    {
     "name": "stderr",
     "output_type": "stream",
     "text": [
      "SwiftsAllsweetMargarine1948A:\n",
      " downloading Swift's Allsweet Margarine -1948A.jpg: 100%|██████████| 213k/213k [00:00<00:00, 295kiB/s]\n"
     ]
    },
    {
     "name": "stdout",
     "output_type": "stream",
     "text": [
      "{'meta': {'status': 400, 'msg': 'Bad Request'}, 'response': {'errors': [\"Oh no! You've reached your photo upload limit for today. Please come again tomorrow!\"]}}\n",
      "Done with 508 out of 578\n"
     ]
    },
    {
     "name": "stderr",
     "output_type": "stream",
     "text": [
      "SwiftsBrookfieldButter1925A:\n",
      " downloading Swift's Brookfield Butter -1925A.jpg: 100%|██████████| 135k/135k [00:00<00:00, 270kiB/s]\n"
     ]
    },
    {
     "name": "stdout",
     "output_type": "stream",
     "text": [
      "{'meta': {'status': 400, 'msg': 'Bad Request'}, 'response': {'errors': [\"Oh no! You've reached your photo upload limit for today. Please come again tomorrow!\"]}}\n",
      "Done with 509 out of 578\n"
     ]
    },
    {
     "name": "stderr",
     "output_type": "stream",
     "text": [
      "SwiftsPremiumBacon1934A:\n",
      " downloading Swift's Premium Bacon -1934A.jpg: 100%|██████████| 152k/152k [00:00<00:00, 302kiB/s]\n"
     ]
    },
    {
     "name": "stdout",
     "output_type": "stream",
     "text": [
      "{'meta': {'status': 400, 'msg': 'Bad Request'}, 'response': {'errors': [\"Oh no! You've reached your photo upload limit for today. Please come again tomorrow!\"]}}\n",
      "Done with 510 out of 578\n"
     ]
    },
    {
     "name": "stderr",
     "output_type": "stream",
     "text": [
      "SwiftsPremiumHam1915A:\n",
      " downloading Swift's Premium Ham -1915A.jpg: 100%|██████████| 140k/140k [00:00<00:00, 296kiB/s]\n"
     ]
    },
    {
     "name": "stdout",
     "output_type": "stream",
     "text": [
      "{'meta': {'status': 400, 'msg': 'Bad Request'}, 'response': {'errors': [\"Oh no! You've reached your photo upload limit for today. Please come again tomorrow!\"]}}\n",
      "Done with 511 out of 578\n"
     ]
    },
    {
     "name": "stderr",
     "output_type": "stream",
     "text": [
      "SyrupofFigs1900sA:\n",
      " downloading Syrup of Figs -1900'sA.jpg: 100%|██████████| 95.2k/95.2k [00:00<00:00, 343kiB/s]\n"
     ]
    },
    {
     "name": "stdout",
     "output_type": "stream",
     "text": [
      "{'meta': {'status': 400, 'msg': 'Bad Request'}, 'response': {'errors': [\"Oh no! You've reached your photo upload limit for today. Please come again tomorrow!\"]}}\n",
      "Done with 512 out of 578\n"
     ]
    },
    {
     "name": "stderr",
     "output_type": "stream",
     "text": [
      "TenBLowIceCream1948A:\n",
      " downloading Ten-B-Low Ice Cream -1948A.jpg: 100%|██████████| 152k/152k [00:00<00:00, 324kiB/s]\n"
     ]
    },
    {
     "name": "stdout",
     "output_type": "stream",
     "text": [
      "{'meta': {'status': 400, 'msg': 'Bad Request'}, 'response': {'errors': [\"Oh no! You've reached your photo upload limit for today. Please come again tomorrow!\"]}}\n",
      "Done with 513 out of 578\n"
     ]
    },
    {
     "name": "stderr",
     "output_type": "stream",
     "text": [
      "TenBLowIceCream1949A:\n",
      " downloading Ten-B-Low Ice Cream -1949A.jpg: 100%|██████████| 147k/147k [00:00<00:00, 301kiB/s]\n"
     ]
    },
    {
     "name": "stdout",
     "output_type": "stream",
     "text": [
      "{'meta': {'status': 400, 'msg': 'Bad Request'}, 'response': {'errors': [\"Oh no! You've reached your photo upload limit for today. Please come again tomorrow!\"]}}\n",
      "Done with 514 out of 578\n"
     ]
    },
    {
     "name": "stderr",
     "output_type": "stream",
     "text": [
      "TenderLeafInstantTea1949:\n",
      " downloading Tender Leaf Instant Tea -1949.jpg: 100%|██████████| 68.6k/68.6k [00:00<00:00, 284kiB/s]\n"
     ]
    },
    {
     "name": "stdout",
     "output_type": "stream",
     "text": [
      "{'meta': {'status': 400, 'msg': 'Bad Request'}, 'response': {'errors': [\"Oh no! You've reached your photo upload limit for today. Please come again tomorrow!\"]}}\n",
      "Done with 515 out of 578\n"
     ]
    },
    {
     "name": "stderr",
     "output_type": "stream",
     "text": [
      "TenderLeafTea1934A:\n",
      " downloading Tender Leaf Tea -1934A.jpg: 100%|██████████| 133k/133k [00:00<00:00, 277kiB/s]\n"
     ]
    },
    {
     "name": "stdout",
     "output_type": "stream",
     "text": [
      "{'meta': {'status': 400, 'msg': 'Bad Request'}, 'response': {'errors': [\"Oh no! You've reached your photo upload limit for today. Please come again tomorrow!\"]}}\n",
      "Done with 516 out of 578\n"
     ]
    },
    {
     "name": "stderr",
     "output_type": "stream",
     "text": [
      "TrimbleWhiskey1906A:\n",
      " downloading Trimble Whiskey -1906A.jpg: 100%|██████████| 54.0k/54.0k [00:00<00:00, 228kiB/s]\n"
     ]
    },
    {
     "name": "stdout",
     "output_type": "stream",
     "text": [
      "{'meta': {'status': 400, 'msg': 'Bad Request'}, 'response': {'errors': [\"Oh no! You've reached your photo upload limit for today. Please come again tomorrow!\"]}}\n",
      "Done with 517 out of 578\n"
     ]
    },
    {
     "name": "stderr",
     "output_type": "stream",
     "text": [
      "UnderbergBitters1909A:\n",
      " downloading Underberg Bitters -1909A.jpg: 100%|██████████| 206k/206k [00:00<00:00, 234kiB/s]\n"
     ]
    },
    {
     "name": "stdout",
     "output_type": "stream",
     "text": [
      "{'meta': {'status': 400, 'msg': 'Bad Request'}, 'response': {'errors': [\"Oh no! You've reached your photo upload limit for today. Please come again tomorrow!\"]}}\n",
      "Done with 518 out of 578\n"
     ]
    },
    {
     "name": "stderr",
     "output_type": "stream",
     "text": [
      "UnderwoodsDeviledHam1900sA:\n",
      " downloading Underwood's Deviled Ham -1900'sA.jpg: 100%|██████████| 142k/142k [00:00<00:00, 282kiB/s]\n"
     ]
    },
    {
     "name": "stdout",
     "output_type": "stream",
     "text": [
      "{'meta': {'status': 400, 'msg': 'Bad Request'}, 'response': {'errors': [\"Oh no! You've reached your photo upload limit for today. Please come again tomorrow!\"]}}\n",
      "Done with 519 out of 578\n"
     ]
    },
    {
     "name": "stderr",
     "output_type": "stream",
     "text": [
      "UneedaBakers1931A:\n",
      " downloading Uneeda Bakers -1931A.jpg: 100%|██████████| 144k/144k [00:01<00:00, 87.1kiB/s]\n"
     ]
    },
    {
     "name": "stdout",
     "output_type": "stream",
     "text": [
      "{'meta': {'status': 400, 'msg': 'Bad Request'}, 'response': {'errors': [\"Oh no! You've reached your photo upload limit for today. Please come again tomorrow!\"]}}\n",
      "Done with 520 out of 578\n"
     ]
    },
    {
     "name": "stderr",
     "output_type": "stream",
     "text": [
      "UneedaBiscuits1911A:\n",
      " downloading Uneeda Biscuits -1911A.jpg: 100%|██████████| 138k/138k [00:00<00:00, 279kiB/s]\n"
     ]
    },
    {
     "name": "stdout",
     "output_type": "stream",
     "text": [
      "{'meta': {'status': 400, 'msg': 'Bad Request'}, 'response': {'errors': [\"Oh no! You've reached your photo upload limit for today. Please come again tomorrow!\"]}}\n",
      "Done with 521 out of 578\n"
     ]
    },
    {
     "name": "stderr",
     "output_type": "stream",
     "text": [
      "UneedaFigNewtons1930A:\n",
      " downloading Uneeda Fig Newtons -1930A.jpg: 100%|██████████| 127k/127k [00:00<00:00, 239kiB/s]\n"
     ]
    },
    {
     "name": "stdout",
     "output_type": "stream",
     "text": [
      "{'meta': {'status': 400, 'msg': 'Bad Request'}, 'response': {'errors': [\"Oh no! You've reached your photo upload limit for today. Please come again tomorrow!\"]}}\n",
      "Done with 522 out of 578\n"
     ]
    },
    {
     "name": "stderr",
     "output_type": "stream",
     "text": [
      "UneedaGrahamCrackers1930A:\n",
      " downloading Uneeda Graham Crackers -1930A.jpg: 100%|██████████| 122k/122k [00:00<00:00, 262kiB/s]\n"
     ]
    },
    {
     "name": "stdout",
     "output_type": "stream",
     "text": [
      "{'meta': {'status': 400, 'msg': 'Bad Request'}, 'response': {'errors': [\"Oh no! You've reached your photo upload limit for today. Please come again tomorrow!\"]}}\n",
      "Done with 523 out of 578\n"
     ]
    },
    {
     "name": "stderr",
     "output_type": "stream",
     "text": [
      "UshersWhisky1910:\n",
      " downloading Usher's Whisky -1910.jpg: 100%|██████████| 115k/115k [00:01<00:00, 97.9kiB/s]\n"
     ]
    },
    {
     "name": "stdout",
     "output_type": "stream",
     "text": [
      "{'meta': {'status': 400, 'msg': 'Bad Request'}, 'response': {'errors': [\"Oh no! You've reached your photo upload limit for today. Please come again tomorrow!\"]}}\n",
      "Done with 524 out of 578\n"
     ]
    },
    {
     "name": "stderr",
     "output_type": "stream",
     "text": [
      "V8VegetableJuice1948A:\n",
      " downloading V8 Vegetable Juice -1948A.jpg: 100%|██████████| 182k/182k [00:00<00:00, 239kiB/s]\n"
     ]
    },
    {
     "name": "stdout",
     "output_type": "stream",
     "text": [
      "{'meta': {'status': 400, 'msg': 'Bad Request'}, 'response': {'errors': [\"Oh no! You've reached your photo upload limit for today. Please come again tomorrow!\"]}}\n",
      "Done with 525 out of 578\n"
     ]
    },
    {
     "name": "stderr",
     "output_type": "stream",
     "text": [
      "VanCampsPorkandBeans1896A:\n",
      " downloading Van Camp's Pork and Beans -1896A.jpg: 100%|██████████| 146k/146k [00:00<00:00, 288kiB/s]\n"
     ]
    },
    {
     "name": "stdout",
     "output_type": "stream",
     "text": [
      "{'meta': {'status': 400, 'msg': 'Bad Request'}, 'response': {'errors': [\"Oh no! You've reached your photo upload limit for today. Please come again tomorrow!\"]}}\n",
      "Done with 526 out of 578\n"
     ]
    },
    {
     "name": "stderr",
     "output_type": "stream",
     "text": [
      "VanCampsPorkandBeans1947A:\n",
      " downloading Van Camp's Pork and Beans -1947A.jpg: 100%|██████████| 172k/172k [00:01<00:00, 91.1kiB/s]\n"
     ]
    },
    {
     "name": "stdout",
     "output_type": "stream",
     "text": [
      "{'meta': {'status': 400, 'msg': 'Bad Request'}, 'response': {'errors': [\"Oh no! You've reached your photo upload limit for today. Please come again tomorrow!\"]}}\n",
      "Done with 527 out of 578\n"
     ]
    },
    {
     "name": "stderr",
     "output_type": "stream",
     "text": [
      "VanNostrandsOwlMustyAle1906A:\n",
      " downloading Van Nostrand's Owl-Musty Ale -1906A.jpg: 100%|██████████| 133k/133k [00:01<00:00, 112kiB/s]\n"
     ]
    },
    {
     "name": "stdout",
     "output_type": "stream",
     "text": [
      "{'meta': {'status': 400, 'msg': 'Bad Request'}, 'response': {'errors': [\"Oh no! You've reached your photo upload limit for today. Please come again tomorrow!\"]}}\n",
      "Done with 528 out of 578\n"
     ]
    },
    {
     "name": "stderr",
     "output_type": "stream",
     "text": [
      "VeribestCannedMeats1910sA:\n",
      " downloading Veribest Canned Meats -1910'sA.jpg: 100%|██████████| 104k/104k [00:00<00:00, 209kiB/s]\n"
     ]
    },
    {
     "name": "stdout",
     "output_type": "stream",
     "text": [
      "{'meta': {'status': 400, 'msg': 'Bad Request'}, 'response': {'errors': [\"Oh no! You've reached your photo upload limit for today. Please come again tomorrow!\"]}}\n",
      "Done with 529 out of 578\n"
     ]
    },
    {
     "name": "stderr",
     "output_type": "stream",
     "text": [
      "VermontMaidSyrup1949A:\n",
      " downloading Vermont Maid Syrup -1949A.jpg: 100%|██████████| 174k/174k [00:00<00:00, 337kiB/s]\n"
     ]
    },
    {
     "name": "stdout",
     "output_type": "stream",
     "text": [
      "{'meta': {'status': 400, 'msg': 'Bad Request'}, 'response': {'errors': [\"Oh no! You've reached your photo upload limit for today. Please come again tomorrow!\"]}}\n",
      "Done with 530 out of 578\n"
     ]
    },
    {
     "name": "stderr",
     "output_type": "stream",
     "text": [
      "WalkersGrapeJuice1910A:\n",
      " downloading Walker's Grape Juice -1910A.jpg: 100%|██████████| 153k/153k [00:00<00:00, 313kiB/s]\n"
     ]
    },
    {
     "name": "stdout",
     "output_type": "stream",
     "text": [
      "{'meta': {'status': 400, 'msg': 'Bad Request'}, 'response': {'errors': [\"Oh no! You've reached your photo upload limit for today. Please come again tomorrow!\"]}}\n",
      "Done with 531 out of 578\n"
     ]
    },
    {
     "name": "stderr",
     "output_type": "stream",
     "text": [
      "WalterBakersChocolate1904A:\n",
      " downloading Walter Baker's Chocolate -1904A.jpg: 100%|██████████| 106k/106k [00:01<00:00, 90.6kiB/s]\n"
     ]
    },
    {
     "name": "stdout",
     "output_type": "stream",
     "text": [
      "{'meta': {'status': 400, 'msg': 'Bad Request'}, 'response': {'errors': [\"Oh no! You've reached your photo upload limit for today. Please come again tomorrow!\"]}}\n",
      "Done with 532 out of 578\n"
     ]
    },
    {
     "name": "stderr",
     "output_type": "stream",
     "text": [
      "WashingtonCrispsCornFlakes1915A:\n",
      " downloading Washington Crisps Corn Flakes -1915A.jpg: 100%|██████████| 162k/162k [00:00<00:00, 326kiB/s]\n"
     ]
    },
    {
     "name": "stdout",
     "output_type": "stream",
     "text": [
      "{'meta': {'status': 400, 'msg': 'Bad Request'}, 'response': {'errors': [\"Oh no! You've reached your photo upload limit for today. Please come again tomorrow!\"]}}\n",
      "Done with 533 out of 578\n"
     ]
    },
    {
     "name": "stderr",
     "output_type": "stream",
     "text": [
      "WelchsGrapeJuice1898A:\n",
      " downloading Welch's Grape Juice -1898A.jpg: 100%|██████████| 159k/159k [00:00<00:00, 337kiB/s]\n"
     ]
    },
    {
     "name": "stdout",
     "output_type": "stream",
     "text": [
      "{'meta': {'status': 400, 'msg': 'Bad Request'}, 'response': {'errors': [\"Oh no! You've reached your photo upload limit for today. Please come again tomorrow!\"]}}\n",
      "Done with 534 out of 578\n"
     ]
    },
    {
     "name": "stderr",
     "output_type": "stream",
     "text": [
      "WelchsGrapeJuice1912A:\n",
      " downloading Welch's Grape Juice -1912A.jpg: 100%|██████████| 246k/246k [00:00<00:00, 321kiB/s]\n"
     ]
    },
    {
     "name": "stdout",
     "output_type": "stream",
     "text": [
      "{'meta': {'status': 400, 'msg': 'Bad Request'}, 'response': {'errors': [\"Oh no! You've reached your photo upload limit for today. Please come again tomorrow!\"]}}\n",
      "Done with 535 out of 578\n"
     ]
    },
    {
     "name": "stderr",
     "output_type": "stream",
     "text": [
      "WelchsGrapeJuice1913A:\n",
      " downloading Welch's Grape Juice -1913A.jpg: 100%|██████████| 68.9k/68.9k [00:00<00:00, 270kiB/s]\n"
     ]
    },
    {
     "name": "stdout",
     "output_type": "stream",
     "text": [
      "{'meta': {'status': 400, 'msg': 'Bad Request'}, 'response': {'errors': [\"Oh no! You've reached your photo upload limit for today. Please come again tomorrow!\"]}}\n",
      "Done with 536 out of 578\n"
     ]
    },
    {
     "name": "stderr",
     "output_type": "stream",
     "text": [
      "WelchsGrapeJuice1916A:\n",
      " downloading Welch's Grape Juice -1916A.jpg: 100%|██████████| 131k/131k [00:00<00:00, 255kiB/s]\n"
     ]
    },
    {
     "name": "stdout",
     "output_type": "stream",
     "text": [
      "{'meta': {'status': 400, 'msg': 'Bad Request'}, 'response': {'errors': [\"Oh no! You've reached your photo upload limit for today. Please come again tomorrow!\"]}}\n",
      "Done with 537 out of 578\n"
     ]
    },
    {
     "name": "stderr",
     "output_type": "stream",
     "text": [
      "WelchsGrapeJuice1917A:\n",
      " downloading Welch's Grape Juice -1917A.jpg: 100%|██████████| 95.3k/95.3k [00:01<00:00, 90.3kiB/s]\n"
     ]
    },
    {
     "name": "stdout",
     "output_type": "stream",
     "text": [
      "{'meta': {'status': 400, 'msg': 'Bad Request'}, 'response': {'errors': [\"Oh no! You've reached your photo upload limit for today. Please come again tomorrow!\"]}}\n",
      "Done with 538 out of 578\n"
     ]
    },
    {
     "name": "stderr",
     "output_type": "stream",
     "text": [
      "WelchsGrapeJuice1919A:\n",
      " downloading Welch's Grape Juice -1919A.jpg: 100%|██████████| 134k/134k [00:00<00:00, 266kiB/s]\n"
     ]
    },
    {
     "name": "stdout",
     "output_type": "stream",
     "text": [
      "{'meta': {'status': 400, 'msg': 'Bad Request'}, 'response': {'errors': [\"Oh no! You've reached your photo upload limit for today. Please come again tomorrow!\"]}}\n",
      "Done with 539 out of 578\n"
     ]
    },
    {
     "name": "stderr",
     "output_type": "stream",
     "text": [
      "WessonOil1918A:\n",
      " downloading Wesson Oil -1918A.jpg: 100%|██████████| 129k/129k [00:01<00:00, 87.7kiB/s]\n"
     ]
    },
    {
     "name": "stdout",
     "output_type": "stream",
     "text": [
      "{'meta': {'status': 400, 'msg': 'Bad Request'}, 'response': {'errors': [\"Oh no! You've reached your photo upload limit for today. Please come again tomorrow!\"]}}\n",
      "Done with 540 out of 578\n"
     ]
    },
    {
     "name": "stderr",
     "output_type": "stream",
     "text": [
      "WessonOil1920A:\n",
      " downloading Wesson Oil -1920A.jpg: 100%|██████████| 164k/164k [00:02<00:00, 82.4kiB/s]\n"
     ]
    },
    {
     "name": "stdout",
     "output_type": "stream",
     "text": [
      "{'meta': {'status': 400, 'msg': 'Bad Request'}, 'response': {'errors': [\"Oh no! You've reached your photo upload limit for today. Please come again tomorrow!\"]}}\n",
      "Done with 541 out of 578\n"
     ]
    },
    {
     "name": "stderr",
     "output_type": "stream",
     "text": [
      "WessonOil1925A:\n",
      " downloading Wesson Oil -1925A.jpg: 100%|██████████| 135k/135k [00:00<00:00, 261kiB/s]\n"
     ]
    },
    {
     "name": "stdout",
     "output_type": "stream",
     "text": [
      "{'meta': {'status': 400, 'msg': 'Bad Request'}, 'response': {'errors': [\"Oh no! You've reached your photo upload limit for today. Please come again tomorrow!\"]}}\n",
      "Done with 542 out of 578\n"
     ]
    },
    {
     "name": "stderr",
     "output_type": "stream",
     "text": [
      "WessonOil1926A:\n",
      " downloading Wesson Oil -1926A.jpg: 100%|██████████| 154k/154k [00:00<00:00, 287kiB/s]\n"
     ]
    },
    {
     "name": "stdout",
     "output_type": "stream",
     "text": [
      "{'meta': {'status': 400, 'msg': 'Bad Request'}, 'response': {'errors': [\"Oh no! You've reached your photo upload limit for today. Please come again tomorrow!\"]}}\n",
      "Done with 543 out of 578\n"
     ]
    },
    {
     "name": "stderr",
     "output_type": "stream",
     "text": [
      "WessonOil1927A:\n",
      " downloading Wesson Oil -1927A.jpg: 100%|██████████| 102k/102k [00:00<00:00, 207kiB/s]\n"
     ]
    },
    {
     "name": "stdout",
     "output_type": "stream",
     "text": [
      "{'meta': {'status': 400, 'msg': 'Bad Request'}, 'response': {'errors': [\"Oh no! You've reached your photo upload limit for today. Please come again tomorrow!\"]}}\n",
      "Done with 544 out of 578\n"
     ]
    },
    {
     "name": "stderr",
     "output_type": "stream",
     "text": [
      "Wheatena1927A:\n",
      " downloading Wheatena -1927A.jpg: 100%|██████████| 123k/123k [00:00<00:00, 236kiB/s]\n"
     ]
    },
    {
     "name": "stdout",
     "output_type": "stream",
     "text": [
      "{'meta': {'status': 400, 'msg': 'Bad Request'}, 'response': {'errors': [\"Oh no! You've reached your photo upload limit for today. Please come again tomorrow!\"]}}\n",
      "Done with 545 out of 578\n"
     ]
    },
    {
     "name": "stderr",
     "output_type": "stream",
     "text": [
      "Wheaties1936A:\n",
      " downloading Wheaties -1936A.jpg: 100%|██████████| 150k/150k [00:01<00:00, 89.5kiB/s]\n"
     ]
    },
    {
     "name": "stdout",
     "output_type": "stream",
     "text": [
      "{'meta': {'status': 400, 'msg': 'Bad Request'}, 'response': {'errors': [\"Oh no! You've reached your photo upload limit for today. Please come again tomorrow!\"]}}\n",
      "Done with 546 out of 578\n"
     ]
    },
    {
     "name": "stderr",
     "output_type": "stream",
     "text": [
      "Wheatlet1903A:\n",
      " downloading Wheatlet -1903A.jpg: 100%|██████████| 75.1k/75.1k [00:00<00:00, 327kiB/s]\n"
     ]
    },
    {
     "name": "stdout",
     "output_type": "stream",
     "text": [
      "{'meta': {'status': 400, 'msg': 'Bad Request'}, 'response': {'errors': [\"Oh no! You've reached your photo upload limit for today. Please come again tomorrow!\"]}}\n",
      "Done with 547 out of 578\n"
     ]
    },
    {
     "name": "stderr",
     "output_type": "stream",
     "text": [
      "WhiteHouseCoffee1910A:\n",
      " downloading White House Coffee -1910A.jpg: 100%|██████████| 112k/112k [00:00<00:00, 222kiB/s]\n"
     ]
    },
    {
     "name": "stdout",
     "output_type": "stream",
     "text": [
      "{'meta': {'status': 400, 'msg': 'Bad Request'}, 'response': {'errors': [\"Oh no! You've reached your photo upload limit for today. Please come again tomorrow!\"]}}\n",
      "Done with 548 out of 578\n"
     ]
    },
    {
     "name": "stderr",
     "output_type": "stream",
     "text": [
      "WhiteHouseCoffee1913A:\n",
      " downloading White House Coffee -1913A.jpg: 100%|██████████| 116k/116k [00:00<00:00, 239kiB/s]\n"
     ]
    },
    {
     "name": "stdout",
     "output_type": "stream",
     "text": [
      "{'meta': {'status': 400, 'msg': 'Bad Request'}, 'response': {'errors': [\"Oh no! You've reached your photo upload limit for today. Please come again tomorrow!\"]}}\n",
      "Done with 549 out of 578\n"
     ]
    },
    {
     "name": "stderr",
     "output_type": "stream",
     "text": [
      "WhiteHouseCoffeeandTea1911A:\n",
      " downloading White House Coffee and Tea -1911A.jpg: 100%|██████████| 118k/118k [00:00<00:00, 165kiB/s]\n"
     ]
    },
    {
     "name": "stdout",
     "output_type": "stream",
     "text": [
      "{'meta': {'status': 400, 'msg': 'Bad Request'}, 'response': {'errors': [\"Oh no! You've reached your photo upload limit for today. Please come again tomorrow!\"]}}\n",
      "Done with 550 out of 578\n"
     ]
    },
    {
     "name": "stderr",
     "output_type": "stream",
     "text": [
      "WhiteHouseEvaporatedMilk1946A:\n",
      " downloading White House Evaporated Milk -1946A.jpg: 100%|██████████| 125k/125k [00:00<00:00, 245kiB/s]\n"
     ]
    },
    {
     "name": "stdout",
     "output_type": "stream",
     "text": [
      "{'meta': {'status': 400, 'msg': 'Bad Request'}, 'response': {'errors': [\"Oh no! You've reached your photo upload limit for today. Please come again tomorrow!\"]}}\n",
      "Done with 551 out of 578\n"
     ]
    },
    {
     "name": "stderr",
     "output_type": "stream",
     "text": [
      "WhiteHouseEvaporatedMilk1947A:\n",
      " downloading White House Evaporated Milk -1947A.jpg: 100%|██████████| 120k/120k [00:00<00:00, 128kiB/s]\n"
     ]
    },
    {
     "name": "stdout",
     "output_type": "stream",
     "text": [
      "{'meta': {'status': 400, 'msg': 'Bad Request'}, 'response': {'errors': [\"Oh no! You've reached your photo upload limit for today. Please come again tomorrow!\"]}}\n",
      "Done with 552 out of 578\n"
     ]
    },
    {
     "name": "stderr",
     "output_type": "stream",
     "text": [
      "WhiteHouseEvaporatedMilk1948A:\n",
      " downloading White House Evaporated Milk -1948A.jpg: 100%|██████████| 162k/162k [00:01<00:00, 90.0kiB/s]\n"
     ]
    },
    {
     "name": "stdout",
     "output_type": "stream",
     "text": [
      "{'meta': {'status': 400, 'msg': 'Bad Request'}, 'response': {'errors': [\"Oh no! You've reached your photo upload limit for today. Please come again tomorrow!\"]}}\n",
      "Done with 553 out of 578\n"
     ]
    },
    {
     "name": "stderr",
     "output_type": "stream",
     "text": [
      "WhiteRockTableWater1917A:\n",
      " downloading White Rock Table Water -1917A.jpg: 100%|██████████| 56.9k/56.9k [00:00<00:00, 122kiB/s]\n"
     ]
    },
    {
     "name": "stdout",
     "output_type": "stream",
     "text": [
      "{'meta': {'status': 400, 'msg': 'Bad Request'}, 'response': {'errors': [\"Oh no! You've reached your photo upload limit for today. Please come again tomorrow!\"]}}\n",
      "Done with 554 out of 578\n"
     ]
    },
    {
     "name": "stderr",
     "output_type": "stream",
     "text": [
      "WhiteRockWater1907A:\n",
      " downloading White Rock Water -1907A.jpg: 100%|██████████| 145k/145k [00:00<00:00, 294kiB/s]\n"
     ]
    },
    {
     "name": "stdout",
     "output_type": "stream",
     "text": [
      "{'meta': {'status': 400, 'msg': 'Bad Request'}, 'response': {'errors': [\"Oh no! You've reached your photo upload limit for today. Please come again tomorrow!\"]}}\n",
      "Done with 555 out of 578\n"
     ]
    },
    {
     "name": "stderr",
     "output_type": "stream",
     "text": [
      "WhiteRockWater1908A:\n",
      " downloading White Rock Water -1908A.jpg: 100%|██████████| 175k/175k [00:01<00:00, 124kiB/s]\n"
     ]
    },
    {
     "name": "stdout",
     "output_type": "stream",
     "text": [
      "{'meta': {'status': 400, 'msg': 'Bad Request'}, 'response': {'errors': [\"Oh no! You've reached your photo upload limit for today. Please come again tomorrow!\"]}}\n",
      "Done with 556 out of 578\n"
     ]
    },
    {
     "name": "stderr",
     "output_type": "stream",
     "text": [
      "WhiteStarCoffee1900sA1:\n",
      " downloading White Star Coffee -1900'sA-1.jpg: 100%|██████████| 146k/146k [00:01<00:00, 143kiB/s]\n"
     ]
    },
    {
     "name": "stdout",
     "output_type": "stream",
     "text": [
      "{'meta': {'status': 400, 'msg': 'Bad Request'}, 'response': {'errors': [\"Oh no! You've reached your photo upload limit for today. Please come again tomorrow!\"]}}\n",
      "Done with 557 out of 578\n"
     ]
    },
    {
     "name": "stderr",
     "output_type": "stream",
     "text": [
      "WhiteStarCoffee1900sA2:\n",
      " downloading White Star Coffee -1900'sA-2.jpg: 100%|██████████| 101k/101k [00:00<00:00, 214kiB/s]\n"
     ]
    },
    {
     "name": "stdout",
     "output_type": "stream",
     "text": [
      "{'meta': {'status': 400, 'msg': 'Bad Request'}, 'response': {'errors': [\"Oh no! You've reached your photo upload limit for today. Please come again tomorrow!\"]}}\n",
      "Done with 558 out of 578\n"
     ]
    },
    {
     "name": "stderr",
     "output_type": "stream",
     "text": [
      "WhiteStarCoffee1902A:\n",
      " downloading White Star Coffee -1902A.jpg: 100%|██████████| 98.6k/98.6k [00:01<00:00, 52.5kiB/s]\n"
     ]
    },
    {
     "name": "stdout",
     "output_type": "stream",
     "text": [
      "{'meta': {'status': 400, 'msg': 'Bad Request'}, 'response': {'errors': [\"Oh no! You've reached your photo upload limit for today. Please come again tomorrow!\"]}}\n",
      "Done with 559 out of 578\n"
     ]
    },
    {
     "name": "stderr",
     "output_type": "stream",
     "text": [
      "WhitmansChocolates1900sA:\n",
      " downloading Whitman's Chocolates -1900'sA.jpg: 100%|██████████| 139k/139k [00:00<00:00, 285kiB/s]\n"
     ]
    },
    {
     "name": "stdout",
     "output_type": "stream",
     "text": [
      "{'meta': {'status': 400, 'msg': 'Bad Request'}, 'response': {'errors': [\"Oh no! You've reached your photo upload limit for today. Please come again tomorrow!\"]}}\n",
      "Done with 560 out of 578\n"
     ]
    },
    {
     "name": "stderr",
     "output_type": "stream",
     "text": [
      "WhitmansChocolates1901A:\n",
      " downloading Whitman's Chocolates -1901A.jpg: 100%|██████████| 148k/148k [00:00<00:00, 309kiB/s]\n"
     ]
    },
    {
     "name": "stdout",
     "output_type": "stream",
     "text": [
      "{'meta': {'status': 400, 'msg': 'Bad Request'}, 'response': {'errors': [\"Oh no! You've reached your photo upload limit for today. Please come again tomorrow!\"]}}\n",
      "Done with 561 out of 578\n"
     ]
    },
    {
     "name": "stderr",
     "output_type": "stream",
     "text": [
      "WhitmansChocolates1925A:\n",
      " downloading Whitman's Chocolates -1925A.jpg: 100%|██████████| 177k/177k [00:03<00:00, 56.5kiB/s]\n"
     ]
    },
    {
     "name": "stdout",
     "output_type": "stream",
     "text": [
      "{'meta': {'status': 400, 'msg': 'Bad Request'}, 'response': {'errors': [\"Oh no! You've reached your photo upload limit for today. Please come again tomorrow!\"]}}\n",
      "Done with 562 out of 578\n"
     ]
    },
    {
     "name": "stderr",
     "output_type": "stream",
     "text": [
      "WhitmansChocolates1929A:\n",
      " downloading Whitman's Chocolates -1929A.jpg: 100%|██████████| 119k/119k [00:01<00:00, 62.2kiB/s]\n"
     ]
    },
    {
     "name": "stdout",
     "output_type": "stream",
     "text": [
      "{'meta': {'status': 400, 'msg': 'Bad Request'}, 'response': {'errors': [\"Oh no! You've reached your photo upload limit for today. Please come again tomorrow!\"]}}\n",
      "Done with 563 out of 578\n"
     ]
    },
    {
     "name": "stderr",
     "output_type": "stream",
     "text": [
      "WhitmansChocolates1930A:\n",
      " downloading Whitman's Chocolates -1930A.jpg: 100%|██████████| 163k/163k [00:00<00:00, 329kiB/s]\n"
     ]
    },
    {
     "name": "stdout",
     "output_type": "stream",
     "text": [
      "{'meta': {'status': 400, 'msg': 'Bad Request'}, 'response': {'errors': [\"Oh no! You've reached your photo upload limit for today. Please come again tomorrow!\"]}}\n",
      "Done with 564 out of 578\n"
     ]
    },
    {
     "name": "stderr",
     "output_type": "stream",
     "text": [
      "WilsonsCannedMeats1949A:\n",
      " downloading Wilson's Canned Meats -1949A.jpg: 100%|██████████| 147k/147k [00:00<00:00, 293kiB/s]\n"
     ]
    },
    {
     "name": "stdout",
     "output_type": "stream",
     "text": [
      "{'meta': {'status': 400, 'msg': 'Bad Request'}, 'response': {'errors': [\"Oh no! You've reached your photo upload limit for today. Please come again tomorrow!\"]}}\n",
      "Done with 565 out of 578\n"
     ]
    },
    {
     "name": "stderr",
     "output_type": "stream",
     "text": [
      "WrigleysDoubleMintGum1927A:\n",
      " downloading Wrigley's Double Mint Gum -1927A.jpg: 100%|██████████| 166k/166k [00:00<00:00, 325kiB/s]\n"
     ]
    },
    {
     "name": "stdout",
     "output_type": "stream",
     "text": [
      "{'meta': {'status': 400, 'msg': 'Bad Request'}, 'response': {'errors': [\"Oh no! You've reached your photo upload limit for today. Please come again tomorrow!\"]}}\n",
      "Done with 566 out of 578\n"
     ]
    },
    {
     "name": "stderr",
     "output_type": "stream",
     "text": [
      "WrigleysDoubleMintGum1931A:\n",
      " downloading Wrigley's Double Mint Gum -1931A.jpg: 100%|██████████| 103k/103k [00:00<00:00, 200kiB/s]\n"
     ]
    },
    {
     "name": "stdout",
     "output_type": "stream",
     "text": [
      "{'meta': {'status': 400, 'msg': 'Bad Request'}, 'response': {'errors': [\"Oh no! You've reached your photo upload limit for today. Please come again tomorrow!\"]}}\n",
      "Done with 567 out of 578\n"
     ]
    },
    {
     "name": "stderr",
     "output_type": "stream",
     "text": [
      "WrigleysDoubleMintGum1931B:\n",
      " downloading Wrigley's Double Mint Gum -1931B.jpg: 100%|██████████| 105k/105k [00:00<00:00, 220kiB/s]\n"
     ]
    },
    {
     "name": "stdout",
     "output_type": "stream",
     "text": [
      "{'meta': {'status': 400, 'msg': 'Bad Request'}, 'response': {'errors': [\"Oh no! You've reached your photo upload limit for today. Please come again tomorrow!\"]}}\n",
      "Done with 568 out of 578\n"
     ]
    },
    {
     "name": "stderr",
     "output_type": "stream",
     "text": [
      "WrigleysDoubleMintGum1934A:\n",
      " downloading Wrigley's Double Mint Gum -1934A.jpg: 100%|██████████| 130k/130k [00:01<00:00, 108kiB/s]\n"
     ]
    },
    {
     "name": "stdout",
     "output_type": "stream",
     "text": [
      "{'meta': {'status': 400, 'msg': 'Bad Request'}, 'response': {'errors': [\"Oh no! You've reached your photo upload limit for today. Please come again tomorrow!\"]}}\n",
      "Done with 569 out of 578\n"
     ]
    },
    {
     "name": "stderr",
     "output_type": "stream",
     "text": [
      "WrigleysDoubleMintGum1935A:\n",
      " downloading Wrigley's Double Mint Gum -1935A.jpg: 100%|██████████| 144k/144k [00:01<00:00, 138kiB/s]\n"
     ]
    },
    {
     "name": "stdout",
     "output_type": "stream",
     "text": [
      "{'meta': {'status': 400, 'msg': 'Bad Request'}, 'response': {'errors': [\"Oh no! You've reached your photo upload limit for today. Please come again tomorrow!\"]}}\n",
      "Done with 570 out of 578\n"
     ]
    },
    {
     "name": "stderr",
     "output_type": "stream",
     "text": [
      "WrigleysDoublemintGum1940A:\n",
      " downloading Wrigley's Doublemint Gum -1940A.jpg: 100%|██████████| 104k/104k [00:00<00:00, 217kiB/s]\n"
     ]
    },
    {
     "name": "stdout",
     "output_type": "stream",
     "text": [
      "{'meta': {'status': 400, 'msg': 'Bad Request'}, 'response': {'errors': [\"Oh no! You've reached your photo upload limit for today. Please come again tomorrow!\"]}}\n",
      "Done with 571 out of 578\n"
     ]
    },
    {
     "name": "stderr",
     "output_type": "stream",
     "text": [
      "WrigleysSpearmintGum1911A:\n",
      " downloading Wrigley's Spearmint Gum-1911A.jpg: 100%|██████████| 95.4k/95.4k [00:00<00:00, 387kiB/s]\n"
     ]
    },
    {
     "name": "stdout",
     "output_type": "stream",
     "text": [
      "{'meta': {'status': 400, 'msg': 'Bad Request'}, 'response': {'errors': [\"Oh no! You've reached your photo upload limit for today. Please come again tomorrow!\"]}}\n",
      "Done with 572 out of 578\n"
     ]
    },
    {
     "name": "stderr",
     "output_type": "stream",
     "text": [
      "WrigleysSpearmintGum1913A:\n",
      " downloading Wrigley's Spearmint Gum -1913A.jpg: 100%|██████████| 113k/113k [00:00<00:00, 227kiB/s]\n"
     ]
    },
    {
     "name": "stdout",
     "output_type": "stream",
     "text": [
      "{'meta': {'status': 400, 'msg': 'Bad Request'}, 'response': {'errors': [\"Oh no! You've reached your photo upload limit for today. Please come again tomorrow!\"]}}\n",
      "Done with 573 out of 578\n"
     ]
    },
    {
     "name": "stderr",
     "output_type": "stream",
     "text": [
      "WrigleysSpearmintGum1914A:\n",
      " downloading Wrigley's Spearmint Gum -1914A.jpg: 100%|██████████| 151k/151k [00:01<00:00, 85.7kiB/s]\n"
     ]
    },
    {
     "name": "stdout",
     "output_type": "stream",
     "text": [
      "{'meta': {'status': 400, 'msg': 'Bad Request'}, 'response': {'errors': [\"Oh no! You've reached your photo upload limit for today. Please come again tomorrow!\"]}}\n",
      "Done with 574 out of 578\n"
     ]
    },
    {
     "name": "stderr",
     "output_type": "stream",
     "text": [
      "WrigleysSpearmintGum1929A:\n",
      " downloading Wrigley's Spearmint Gum -1929A.jpg: 100%|██████████| 62.1k/62.1k [00:00<00:00, 257kiB/s]\n"
     ]
    },
    {
     "name": "stdout",
     "output_type": "stream",
     "text": [
      "{'meta': {'status': 400, 'msg': 'Bad Request'}, 'response': {'errors': [\"Oh no! You've reached your photo upload limit for today. Please come again tomorrow!\"]}}\n",
      "Done with 575 out of 578\n"
     ]
    },
    {
     "name": "stderr",
     "output_type": "stream",
     "text": [
      "YeastFoamandMagicYeast1923A:\n",
      " downloading Yeast Foam and Magic Yeast -1923A.jpg: 100%|██████████| 182k/182k [00:01<00:00, 185kiB/s]\n"
     ]
    },
    {
     "name": "stdout",
     "output_type": "stream",
     "text": [
      "{'meta': {'status': 400, 'msg': 'Bad Request'}, 'response': {'errors': [\"Oh no! You've reached your photo upload limit for today. Please come again tomorrow!\"]}}\n",
      "Done with 576 out of 578\n"
     ]
    },
    {
     "name": "stderr",
     "output_type": "stream",
     "text": [
      "ZuZuGingerSnaps1910A:\n",
      " downloading Zu Zu Ginger Snaps -1910A.jpg: 100%|██████████| 120k/120k [00:01<00:00, 85.0kiB/s]\n"
     ]
    },
    {
     "name": "stdout",
     "output_type": "stream",
     "text": [
      "{'meta': {'status': 400, 'msg': 'Bad Request'}, 'response': {'errors': [\"Oh no! You've reached your photo upload limit for today. Please come again tomorrow!\"]}}\n",
      "Done with 577 out of 578\n"
     ]
    }
   ],
   "source": [
    "for i in range(450, len(data)):\n",
    "    illustration = data.iloc[i]\n",
    "\n",
    "    download(illustration['identifier'], destdir = '../Dump/', verbose=True, glob_pattern=illustration['name'])\n",
    "\n",
    "    address = '../Dump/' + illustration['identifier'] + '/' + illustration['name']\n",
    "\n",
    "    outString = pt.image_to_string(Image.open(address))\n",
    "    outString = outString.replace('\\n', ' ')\n",
    "\n",
    "    words = nltk.word_tokenize(outString)\n",
    "\n",
    "    words = [spell(word) for word in words if word.isalnum()]    \n",
    "\n",
    "    print(client.create_photo('palegentlementale', state=\"published\", tags= words, tweet=illustration['name'][:-4], data=address))\n",
    "\n",
    "    shutil.rmtree('../Dump/' + illustration['identifier'])\n",
    "\n",
    "    print('Done with ' + str(i) + ' out of ' + str(len(data)))\n",
    "    "
   ]
  },
  {
   "cell_type": "code",
   "execution_count": null,
   "metadata": {},
   "outputs": [],
   "source": []
  }
 ],
 "metadata": {
  "kernelspec": {
   "display_name": "Python 3.10.4 ('tumblr')",
   "language": "python",
   "name": "python3"
  },
  "language_info": {
   "codemirror_mode": {
    "name": "ipython",
    "version": 3
   },
   "file_extension": ".py",
   "mimetype": "text/x-python",
   "name": "python",
   "nbconvert_exporter": "python",
   "pygments_lexer": "ipython3",
   "version": "3.10.4"
  },
  "orig_nbformat": 4,
  "vscode": {
   "interpreter": {
    "hash": "5537f978e9935e9e101cfb4c1eb5c80a886277ac530229be6f1dff443d6806cc"
   }
  }
 },
 "nbformat": 4,
 "nbformat_minor": 2
}
