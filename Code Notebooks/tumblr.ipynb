{
 "cells": [
  {
   "cell_type": "code",
   "execution_count": 1,
   "metadata": {},
   "outputs": [
    {
     "data": {
      "text/plain": [
       "True"
      ]
     },
     "execution_count": 1,
     "metadata": {},
     "output_type": "execute_result"
    }
   ],
   "source": [
    "import pytumblr\n",
    "from dotenv import load_dotenv\n",
    "import os\n",
    "\n",
    "load_dotenv()"
   ]
  },
  {
   "cell_type": "code",
   "execution_count": 2,
   "metadata": {},
   "outputs": [],
   "source": [
    "client = pytumblr.TumblrRestClient(\n",
    "  os.getenv('TUMBLR_CONSUMER_KEY'),\n",
    "  os.getenv('TUMBLR_SECRET_KEY'),\n",
    "  os.getenv('TUMBLR_OAUTH_TOKEN'),\n",
    "  os.getenv('TUMBLR_OAUTH_SECRET')\n",
    ")"
   ]
  },
  {
   "cell_type": "code",
   "execution_count": 3,
   "metadata": {},
   "outputs": [
    {
     "data": {
      "text/plain": [
       "{'user': {'name': 'palegentlementale',\n",
       "  'likes': 0,\n",
       "  'following': 1,\n",
       "  'default_post_format': 'html',\n",
       "  'blogs': [{'admin': True,\n",
       "    'ask': False,\n",
       "    'ask_anon': False,\n",
       "    'ask_page_title': 'Ask me anything',\n",
       "    'asks_allow_media': True,\n",
       "    'avatar': [{'width': 512,\n",
       "      'height': 512,\n",
       "      'url': 'https://64.media.tumblr.com/37b23e6ae38f98b69bb57e77dd7ac3fb/22895acaf1395642-51/s512x512u_c1/f62424b506ecda324bd2bf7115065473e7f56f6f.png'},\n",
       "     {'width': 128,\n",
       "      'height': 128,\n",
       "      'url': 'https://64.media.tumblr.com/37b23e6ae38f98b69bb57e77dd7ac3fb/22895acaf1395642-51/s128x128u_c1/4af8764b7af52575cef4bf7eb8bb9b5e154ea812.png'},\n",
       "     {'width': 96,\n",
       "      'height': 96,\n",
       "      'url': 'https://64.media.tumblr.com/37b23e6ae38f98b69bb57e77dd7ac3fb/22895acaf1395642-51/s96x96u_c1/b71af30e72ced8aee00a76c55bea9a2eb432600b.png'},\n",
       "     {'width': 64,\n",
       "      'height': 64,\n",
       "      'url': 'https://64.media.tumblr.com/37b23e6ae38f98b69bb57e77dd7ac3fb/22895acaf1395642-51/s64x64u_c1/c0661b49694a547fcbb0b325475b06910d34613d.png'}],\n",
       "    'can_chat': False,\n",
       "    'can_send_fan_mail': True,\n",
       "    'can_subscribe': False,\n",
       "    'description': '',\n",
       "    'drafts': 0,\n",
       "    'facebook': 'N',\n",
       "    'facebook_opengraph_enabled': 'N',\n",
       "    'followed': False,\n",
       "    'followers': 2,\n",
       "    'is_blocked_from_primary': False,\n",
       "    'is_nsfw': False,\n",
       "    'likes': 0,\n",
       "    'messages': 0,\n",
       "    'name': 'palegentlementale',\n",
       "    'posts': 450,\n",
       "    'primary': True,\n",
       "    'queue': 0,\n",
       "    'share_likes': True,\n",
       "    'subscribed': False,\n",
       "    'theme': {'header_full_width': 1920,\n",
       "     'header_full_height': 817,\n",
       "     'avatar_shape': 'circle',\n",
       "     'background_color': '#FFFFFF',\n",
       "     'body_font': 'Helvetica Neue',\n",
       "     'header_bounds': '',\n",
       "     'header_image': 'https://64.media.tumblr.com/56dc2be3d54d845f9cd4ce785ef64de7/22895acaf1395642-fd/s1920x817/4d6793e397df2a4f173a1dd08a65f541e2b79c0a.jpg',\n",
       "     'header_image_focused': 'https://64.media.tumblr.com/56dc2be3d54d845f9cd4ce785ef64de7/22895acaf1395642-fd/s2048x3072/02ba8fb1719a791bfece81c7efb7d3c07977303f.jpg',\n",
       "     'header_image_poster': '',\n",
       "     'header_image_scaled': 'https://64.media.tumblr.com/56dc2be3d54d845f9cd4ce785ef64de7/22895acaf1395642-fd/s2048x3072/02ba8fb1719a791bfece81c7efb7d3c07977303f.jpg',\n",
       "     'header_stretch': True,\n",
       "     'link_color': '#00B8FF',\n",
       "     'show_avatar': True,\n",
       "     'show_description': True,\n",
       "     'show_header_image': True,\n",
       "     'show_title': True,\n",
       "     'title_color': '#000000',\n",
       "     'title_font': 'Gibson',\n",
       "     'title_font_weight': 'bold'},\n",
       "    'title': 'Orectique',\n",
       "    'total_posts': 450,\n",
       "    'tweet': 'N',\n",
       "    'twitter_enabled': False,\n",
       "    'twitter_send': False,\n",
       "    'type': 'public',\n",
       "    'updated': 1661063062,\n",
       "    'url': 'https://palegentlementale.tumblr.com/',\n",
       "    'uuid': 't:FMgAw8nouPKM7ZNVBsCpxQ'}]}}"
      ]
     },
     "execution_count": 3,
     "metadata": {},
     "output_type": "execute_result"
    }
   ],
   "source": [
    "client.info()"
   ]
  },
  {
   "cell_type": "code",
   "execution_count": 4,
   "metadata": {},
   "outputs": [],
   "source": [
    "import pandas as pd"
   ]
  },
  {
   "cell_type": "code",
   "execution_count": 5,
   "metadata": {},
   "outputs": [],
   "source": [
    "import json\n",
    "\n",
    "with open('../Data/listFiles.json') as f:\n",
    "    data = json.load(f)"
   ]
  },
  {
   "cell_type": "code",
   "execution_count": 6,
   "metadata": {},
   "outputs": [],
   "source": [
    "data = pd.DataFrame(data)"
   ]
  },
  {
   "cell_type": "code",
   "execution_count": 7,
   "metadata": {},
   "outputs": [
    {
     "data": {
      "text/html": [
       "<div>\n",
       "<style scoped>\n",
       "    .dataframe tbody tr th:only-of-type {\n",
       "        vertical-align: middle;\n",
       "    }\n",
       "\n",
       "    .dataframe tbody tr th {\n",
       "        vertical-align: top;\n",
       "    }\n",
       "\n",
       "    .dataframe thead th {\n",
       "        text-align: right;\n",
       "    }\n",
       "</style>\n",
       "<table border=\"1\" class=\"dataframe\">\n",
       "  <thead>\n",
       "    <tr style=\"text-align: right;\">\n",
       "      <th></th>\n",
       "      <th>identifier</th>\n",
       "      <th>name</th>\n",
       "      <th>status</th>\n",
       "    </tr>\n",
       "  </thead>\n",
       "  <tbody>\n",
       "    <tr>\n",
       "      <th>0</th>\n",
       "      <td>AandPAngelFoodCake1949A</td>\n",
       "      <td>A and P Angel Food Cake -1949A.jpg</td>\n",
       "      <td>unused</td>\n",
       "    </tr>\n",
       "    <tr>\n",
       "      <th>1</th>\n",
       "      <td>AandPCannedBeans1947A</td>\n",
       "      <td>A and P Canned Beans -1947A.jpg</td>\n",
       "      <td>unused</td>\n",
       "    </tr>\n",
       "    <tr>\n",
       "      <th>2</th>\n",
       "      <td>AandPCannedBeans1949A</td>\n",
       "      <td>A and P Canned Beans -1949A.jpg</td>\n",
       "      <td>unused</td>\n",
       "    </tr>\n",
       "    <tr>\n",
       "      <th>3</th>\n",
       "      <td>AandPCoffee1946A</td>\n",
       "      <td>A and P Coffee -1946A.jpg</td>\n",
       "      <td>unused</td>\n",
       "    </tr>\n",
       "    <tr>\n",
       "      <th>4</th>\n",
       "      <td>AandPCoffee1947A</td>\n",
       "      <td>A and P Coffee -1947A.jpg</td>\n",
       "      <td>unused</td>\n",
       "    </tr>\n",
       "    <tr>\n",
       "      <th>...</th>\n",
       "      <td>...</td>\n",
       "      <td>...</td>\n",
       "      <td>...</td>\n",
       "    </tr>\n",
       "    <tr>\n",
       "      <th>573</th>\n",
       "      <td>WrigleysSpearmintGum1913A</td>\n",
       "      <td>Wrigley's Spearmint Gum -1913A.jpg</td>\n",
       "      <td>unused</td>\n",
       "    </tr>\n",
       "    <tr>\n",
       "      <th>574</th>\n",
       "      <td>WrigleysSpearmintGum1914A</td>\n",
       "      <td>Wrigley's Spearmint Gum -1914A.jpg</td>\n",
       "      <td>unused</td>\n",
       "    </tr>\n",
       "    <tr>\n",
       "      <th>575</th>\n",
       "      <td>WrigleysSpearmintGum1929A</td>\n",
       "      <td>Wrigley's Spearmint Gum -1929A.jpg</td>\n",
       "      <td>unused</td>\n",
       "    </tr>\n",
       "    <tr>\n",
       "      <th>576</th>\n",
       "      <td>YeastFoamandMagicYeast1923A</td>\n",
       "      <td>Yeast Foam and Magic Yeast -1923A.jpg</td>\n",
       "      <td>unused</td>\n",
       "    </tr>\n",
       "    <tr>\n",
       "      <th>577</th>\n",
       "      <td>ZuZuGingerSnaps1910A</td>\n",
       "      <td>Zu Zu Ginger Snaps -1910A.jpg</td>\n",
       "      <td>unused</td>\n",
       "    </tr>\n",
       "  </tbody>\n",
       "</table>\n",
       "<p>578 rows × 3 columns</p>\n",
       "</div>"
      ],
      "text/plain": [
       "                      identifier                                   name  \\\n",
       "0        AandPAngelFoodCake1949A     A and P Angel Food Cake -1949A.jpg   \n",
       "1          AandPCannedBeans1947A        A and P Canned Beans -1947A.jpg   \n",
       "2          AandPCannedBeans1949A        A and P Canned Beans -1949A.jpg   \n",
       "3               AandPCoffee1946A              A and P Coffee -1946A.jpg   \n",
       "4               AandPCoffee1947A              A and P Coffee -1947A.jpg   \n",
       "..                           ...                                    ...   \n",
       "573    WrigleysSpearmintGum1913A     Wrigley's Spearmint Gum -1913A.jpg   \n",
       "574    WrigleysSpearmintGum1914A     Wrigley's Spearmint Gum -1914A.jpg   \n",
       "575    WrigleysSpearmintGum1929A     Wrigley's Spearmint Gum -1929A.jpg   \n",
       "576  YeastFoamandMagicYeast1923A  Yeast Foam and Magic Yeast -1923A.jpg   \n",
       "577         ZuZuGingerSnaps1910A          Zu Zu Ginger Snaps -1910A.jpg   \n",
       "\n",
       "     status  \n",
       "0    unused  \n",
       "1    unused  \n",
       "2    unused  \n",
       "3    unused  \n",
       "4    unused  \n",
       "..      ...  \n",
       "573  unused  \n",
       "574  unused  \n",
       "575  unused  \n",
       "576  unused  \n",
       "577  unused  \n",
       "\n",
       "[578 rows x 3 columns]"
      ]
     },
     "execution_count": 7,
     "metadata": {},
     "output_type": "execute_result"
    }
   ],
   "source": [
    "data"
   ]
  },
  {
   "cell_type": "code",
   "execution_count": 8,
   "metadata": {},
   "outputs": [],
   "source": [
    "from internetarchive import download\n",
    "import pytesseract as pt\n",
    "from PIL import Image\n",
    "\n",
    "import nltk\n",
    "\n",
    "from autocorrect import Speller\n",
    "\n",
    "spell = Speller(lang='en')\n",
    "\n",
    "import shutil"
   ]
  },
  {
   "cell_type": "code",
   "execution_count": 9,
   "metadata": {},
   "outputs": [
    {
     "name": "stderr",
     "output_type": "stream",
     "text": [
      "PostToasties1911B:\n",
      " downloading Post Toasties -1911B.jpg: 100%|██████████| 188k/188k [00:00<00:00, 385kiB/s]\n"
     ]
    },
    {
     "name": "stdout",
     "output_type": "stream",
     "text": [
      "{'id': 693265271785422848, 'id_string': '693265271785422848', 'state': 'published', 'display_text': 'Posted to palegentlementale'}\n",
      "Done with 450 out of 578\n"
     ]
    },
    {
     "name": "stderr",
     "output_type": "stream",
     "text": [
      "PostToasties1937A:\n",
      " downloading Post Toasties -1937A.jpg: 100%|██████████| 125k/125k [00:00<00:00, 246kiB/s]\n"
     ]
    },
    {
     "name": "stdout",
     "output_type": "stream",
     "text": [
      "{'id': 693265279613075456, 'id_string': '693265279613075456', 'state': 'published', 'display_text': 'Posted to palegentlementale'}\n",
      "Done with 451 out of 578\n"
     ]
    },
    {
     "name": "stderr",
     "output_type": "stream",
     "text": [
      "Postum1907A:\n",
      " downloading Postum -1907A.jpg: 100%|██████████| 83.4k/83.4k [00:00<00:00, 321kiB/s]\n"
     ]
    },
    {
     "name": "stdout",
     "output_type": "stream",
     "text": [
      "{'id': 693265285726306304, 'id_string': '693265285726306304', 'state': 'published', 'display_text': 'Posted to palegentlementale'}\n",
      "Done with 452 out of 578\n"
     ]
    },
    {
     "name": "stderr",
     "output_type": "stream",
     "text": [
      "Postum1914A:\n",
      " downloading Postum -1914A.jpg: 100%|██████████| 136k/136k [00:00<00:00, 256kiB/s]\n"
     ]
    },
    {
     "name": "stdout",
     "output_type": "stream",
     "text": [
      "{'id': 693265292178145280, 'id_string': '693265292178145280', 'state': 'published', 'display_text': 'Posted to palegentlementale'}\n",
      "Done with 453 out of 578\n"
     ]
    },
    {
     "name": "stderr",
     "output_type": "stream",
     "text": [
      "Postum1915A:\n",
      " downloading Postum -1915A.jpg: 100%|██████████| 165k/165k [00:00<00:00, 306kiB/s]\n"
     ]
    },
    {
     "name": "stdout",
     "output_type": "stream",
     "text": [
      "{'id': 693265299740475392, 'id_string': '693265299740475392', 'state': 'published', 'display_text': 'Posted to palegentlementale'}\n",
      "Done with 454 out of 578\n"
     ]
    },
    {
     "name": "stderr",
     "output_type": "stream",
     "text": [
      "Postum1919A:\n",
      " downloading Postum -1919A.jpg: 100%|██████████| 133k/133k [00:00<00:00, 251kiB/s]\n"
     ]
    },
    {
     "name": "stdout",
     "output_type": "stream",
     "text": [
      "{'id': 693265306406305792, 'id_string': '693265306406305792', 'state': 'published', 'display_text': 'Posted to palegentlementale'}\n",
      "Done with 455 out of 578\n"
     ]
    },
    {
     "name": "stderr",
     "output_type": "stream",
     "text": [
      "PuffedGrainCereals1918A:\n",
      " downloading Puffed Grain Cereals -1918A.jpg: 100%|██████████| 125k/125k [00:00<00:00, 252kiB/s]\n"
     ]
    },
    {
     "name": "stdout",
     "output_type": "stream",
     "text": [
      "{'id': 693265314250702848, 'id_string': '693265314250702848', 'state': 'published', 'display_text': 'Posted to palegentlementale'}\n",
      "Done with 456 out of 578\n"
     ]
    },
    {
     "name": "stderr",
     "output_type": "stream",
     "text": [
      "QuakerOats1896A:\n",
      " downloading Quaker Oats -1896A.jpg: 100%|██████████| 138k/138k [00:00<00:00, 267kiB/s]\n"
     ]
    },
    {
     "name": "stdout",
     "output_type": "stream",
     "text": [
      "{'id': 693265321601138688, 'id_string': '693265321601138688', 'state': 'published', 'display_text': 'Posted to palegentlementale'}\n",
      "Done with 457 out of 578\n"
     ]
    },
    {
     "name": "stderr",
     "output_type": "stream",
     "text": [
      "QuakerOats1899A:\n",
      " downloading Quaker Oats -1899A.jpg: 100%|██████████| 134k/134k [00:00<00:00, 270kiB/s]\n"
     ]
    },
    {
     "name": "stdout",
     "output_type": "stream",
     "text": [
      "{'id': 693265328148480000, 'id_string': '693265328148480000', 'state': 'published', 'display_text': 'Posted to palegentlementale'}\n",
      "Done with 458 out of 578\n"
     ]
    },
    {
     "name": "stderr",
     "output_type": "stream",
     "text": [
      "QuakerOats1899B:\n",
      " downloading Quaker Oats -1899B.jpg: 100%|██████████| 140k/140k [00:00<00:00, 285kiB/s]\n"
     ]
    },
    {
     "name": "stdout",
     "output_type": "stream",
     "text": [
      "{'id': 693265334013214720, 'id_string': '693265334013214720', 'state': 'published', 'display_text': 'Posted to palegentlementale'}\n",
      "Done with 459 out of 578\n"
     ]
    },
    {
     "name": "stderr",
     "output_type": "stream",
     "text": [
      "QuakerOats1926A:\n",
      " downloading Quaker Oats -1926A.jpg: 100%|██████████| 124k/124k [00:00<00:00, 249kiB/s]\n"
     ]
    },
    {
     "name": "stdout",
     "output_type": "stream",
     "text": [
      "{'id': 693265342029529088, 'id_string': '693265342029529088', 'state': 'published', 'display_text': 'Posted to palegentlementale'}\n",
      "Done with 460 out of 578\n"
     ]
    },
    {
     "name": "stderr",
     "output_type": "stream",
     "text": [
      "QuakerOats1947A:\n",
      " downloading Quaker Oats -1947A.jpg: 100%|██████████| 155k/155k [00:00<00:00, 310kiB/s]\n"
     ]
    },
    {
     "name": "stdout",
     "output_type": "stream",
     "text": [
      "{'id': 693265349611782144, 'id_string': '693265349611782144', 'state': 'published', 'display_text': 'Posted to palegentlementale'}\n",
      "Done with 461 out of 578\n"
     ]
    },
    {
     "name": "stderr",
     "output_type": "stream",
     "text": [
      "QuakerOatsCereals1927A:\n",
      " downloading Quaker Oats Cereals -1927A.jpg: 100%|██████████| 116k/116k [00:00<00:00, 232kiB/s]\n"
     ]
    },
    {
     "name": "stdout",
     "output_type": "stream",
     "text": [
      "{'id': 693265356868993024, 'id_string': '693265356868993024', 'state': 'published', 'display_text': 'Posted to palegentlementale'}\n",
      "Done with 462 out of 578\n"
     ]
    },
    {
     "name": "stderr",
     "output_type": "stream",
     "text": [
      "QuakerOatsCereals1927B:\n",
      " downloading Quaker Oats Cereals -1927B.jpg: 100%|██████████| 122k/122k [00:00<00:00, 248kiB/s]\n"
     ]
    },
    {
     "name": "stdout",
     "output_type": "stream",
     "text": [
      "{'id': 693265363503349760, 'id_string': '693265363503349760', 'state': 'published', 'display_text': 'Posted to palegentlementale'}\n",
      "Done with 463 out of 578\n"
     ]
    },
    {
     "name": "stderr",
     "output_type": "stream",
     "text": [
      "RalstonBreakfastFood1901A:\n",
      " downloading Ralston Breakfast Food -1901A.jpg: 100%|██████████| 193k/193k [00:00<00:00, 389kiB/s]\n"
     ]
    },
    {
     "name": "stdout",
     "output_type": "stream",
     "text": [
      "{'id': 693265370332774400, 'id_string': '693265370332774400', 'state': 'published', 'display_text': 'Posted to palegentlementale'}\n",
      "Done with 464 out of 578\n"
     ]
    },
    {
     "name": "stderr",
     "output_type": "stream",
     "text": [
      "RalstonBreakfastFood1911A:\n",
      " downloading Ralston Breakfast Food -1911A.jpg: 100%|██████████| 124k/124k [00:00<00:00, 260kiB/s]\n"
     ]
    },
    {
     "name": "stdout",
     "output_type": "stream",
     "text": [
      "{'id': 693265378072199168, 'id_string': '693265378072199168', 'state': 'published', 'display_text': 'Posted to palegentlementale'}\n",
      "Done with 465 out of 578\n"
     ]
    },
    {
     "name": "stderr",
     "output_type": "stream",
     "text": [
      "RalstonPurinaCereals1904A:\n",
      " downloading Ralston Purina Cereals -1904A.jpg: 100%|██████████| 143k/143k [00:00<00:00, 264kiB/s]\n"
     ]
    },
    {
     "name": "stdout",
     "output_type": "stream",
     "text": [
      "{'id': 693265385918726144, 'id_string': '693265385918726144', 'state': 'published', 'display_text': 'Posted to palegentlementale'}\n",
      "Done with 466 out of 578\n"
     ]
    },
    {
     "name": "stderr",
     "output_type": "stream",
     "text": [
      "RamonaandAthenaSugarWafers1901A:\n",
      " downloading Ramona and Athena Sugar Wafers -1901A.jpg: 100%|██████████| 100k/100k [00:00<00:00, 213kiB/s]\n"
     ]
    },
    {
     "name": "stdout",
     "output_type": "stream",
     "text": [
      "{'id': 693265392190259200, 'id_string': '693265392190259200', 'state': 'published', 'display_text': 'Posted to palegentlementale'}\n",
      "Done with 467 out of 578\n"
     ]
    },
    {
     "name": "stderr",
     "output_type": "stream",
     "text": [
      "RamonaandAthenaSugarWafers1901B:\n",
      " downloading Ramona and Athena Sugar Wafers -1901B.jpg: 100%|██████████| 93.6k/93.6k [00:00<00:00, 379kiB/s]\n"
     ]
    },
    {
     "name": "stdout",
     "output_type": "stream",
     "text": [
      "{'id': 693265398106390528, 'id_string': '693265398106390528', 'state': 'published', 'display_text': 'Posted to palegentlementale'}\n",
      "Done with 468 out of 578\n"
     ]
    },
    {
     "name": "stderr",
     "output_type": "stream",
     "text": [
      "RedWingGrapeJuice1915A:\n",
      " downloading Red Wing Grape Juice -1915A.jpg: 100%|██████████| 65.1k/65.1k [00:00<00:00, 270kiB/s]\n"
     ]
    },
    {
     "name": "stdout",
     "output_type": "stream",
     "text": [
      "{'id': 693265404428189696, 'id_string': '693265404428189696', 'state': 'published', 'display_text': 'Posted to palegentlementale'}\n",
      "Done with 469 out of 578\n"
     ]
    },
    {
     "name": "stderr",
     "output_type": "stream",
     "text": [
      "RedWingGrapeJuice1916A:\n",
      " downloading Red Wing Grape Juice -1916A.jpg: 100%|██████████| 134k/134k [00:00<00:00, 272kiB/s]\n"
     ]
    },
    {
     "name": "stdout",
     "output_type": "stream",
     "text": [
      "{'id': 693265410720677888, 'id_string': '693265410720677888', 'state': 'published', 'display_text': 'Posted to palegentlementale'}\n",
      "Done with 470 out of 578\n"
     ]
    },
    {
     "name": "stderr",
     "output_type": "stream",
     "text": [
      "RedWingGrapeJuice1916B:\n",
      " downloading Red Wing Grape Juice -1916B.jpg: 100%|██████████| 144k/144k [00:00<00:00, 279kiB/s]\n"
     ]
    },
    {
     "name": "stdout",
     "output_type": "stream",
     "text": [
      "{'id': 693265419020222464, 'id_string': '693265419020222464', 'state': 'published', 'display_text': 'Posted to palegentlementale'}\n",
      "Done with 471 out of 578\n"
     ]
    },
    {
     "name": "stderr",
     "output_type": "stream",
     "text": [
      "RexChocolates1913A:\n",
      " downloading Rex Chocolates -1913A.jpg: 100%|██████████| 86.0k/86.0k [00:00<00:00, 308kiB/s]\n"
     ]
    },
    {
     "name": "stdout",
     "output_type": "stream",
     "text": [
      "{'id': 693265425306451968, 'id_string': '693265425306451968', 'state': 'published', 'display_text': 'Posted to palegentlementale'}\n",
      "Done with 472 out of 578\n"
     ]
    },
    {
     "name": "stderr",
     "output_type": "stream",
     "text": [
      "RheingoldBeer1952A:\n",
      " downloading Rheingold Beer -1952A.jpg: 100%|██████████| 90.4k/90.4k [00:00<00:00, 348kiB/s]\n"
     ]
    },
    {
     "name": "stdout",
     "output_type": "stream",
     "text": [
      "{'id': 693265431374561280, 'id_string': '693265431374561280', 'state': 'published', 'display_text': 'Posted to palegentlementale'}\n",
      "Done with 473 out of 578\n"
     ]
    },
    {
     "name": "stderr",
     "output_type": "stream",
     "text": [
      "RitzCrackers1949A:\n",
      " downloading Ritz Crackers -1949A.jpg: 100%|██████████| 145k/145k [00:00<00:00, 292kiB/s]\n"
     ]
    },
    {
     "name": "stdout",
     "output_type": "stream",
     "text": [
      "{'id': 693265438100078592, 'id_string': '693265438100078592', 'state': 'published', 'display_text': 'Posted to palegentlementale'}\n",
      "Done with 474 out of 578\n"
     ]
    },
    {
     "name": "stderr",
     "output_type": "stream",
     "text": [
      "RockwoodChocolateBits1946A:\n",
      " downloading Rockwood Chocolate Bits -1946A.jpg: 100%|██████████| 119k/119k [00:00<00:00, 249kiB/s]\n"
     ]
    },
    {
     "name": "stdout",
     "output_type": "stream",
     "text": [
      "{'id': 693265444939988992, 'id_string': '693265444939988992', 'state': 'published', 'display_text': 'Posted to palegentlementale'}\n",
      "Done with 475 out of 578\n"
     ]
    },
    {
     "name": "stderr",
     "output_type": "stream",
     "text": [
      "RockwoodChocolateBits1947A:\n",
      " downloading Rockwood Chocolate Bits -1947A.jpg: 100%|██████████| 129k/129k [00:00<00:00, 247kiB/s]\n"
     ]
    },
    {
     "name": "stdout",
     "output_type": "stream",
     "text": [
      "{'id': 693265452210831360, 'id_string': '693265452210831360', 'state': 'published', 'display_text': 'Posted to palegentlementale'}\n",
      "Done with 476 out of 578\n"
     ]
    },
    {
     "name": "stderr",
     "output_type": "stream",
     "text": [
      "RockwoodChocolateBits1948A:\n",
      " downloading Rockwood Chocolate Bits -1948A.jpg: 100%|██████████| 131k/131k [00:00<00:00, 265kiB/s]\n"
     ]
    },
    {
     "name": "stdout",
     "output_type": "stream",
     "text": [
      "{'id': 693265460396982272, 'id_string': '693265460396982272', 'state': 'published', 'display_text': 'Posted to palegentlementale'}\n",
      "Done with 477 out of 578\n"
     ]
    },
    {
     "name": "stderr",
     "output_type": "stream",
     "text": [
      "RoyalBakingPowder1920A:\n",
      " downloading Royal Baking Powder -1920A.jpg: 100%|██████████| 165k/165k [00:00<00:00, 294kiB/s]\n"
     ]
    },
    {
     "name": "stdout",
     "output_type": "stream",
     "text": [
      "{'id': 693265467483242496, 'id_string': '693265467483242496', 'state': 'published', 'display_text': 'Posted to palegentlementale'}\n",
      "Done with 478 out of 578\n"
     ]
    },
    {
     "name": "stderr",
     "output_type": "stream",
     "text": [
      "RoyalBakingPowder1922A:\n",
      " downloading Royal Baking Powder -1922A.jpg: 100%|██████████| 134k/134k [00:00<00:00, 277kiB/s]\n"
     ]
    },
    {
     "name": "stdout",
     "output_type": "stream",
     "text": [
      "{'id': 693265473613316096, 'id_string': '693265473613316096', 'state': 'published', 'display_text': 'Posted to palegentlementale'}\n",
      "Done with 479 out of 578\n"
     ]
    },
    {
     "name": "stderr",
     "output_type": "stream",
     "text": [
      "RoyalCrownCola1948A:\n",
      " downloading Royal Crown Cola -1948A.jpg: 100%|██████████| 84.5k/84.5k [00:00<00:00, 329kiB/s]\n"
     ]
    },
    {
     "name": "stdout",
     "output_type": "stream",
     "text": [
      "{'id': 693265480866250752, 'id_string': '693265480866250752', 'state': 'published', 'display_text': 'Posted to palegentlementale'}\n",
      "Done with 480 out of 578\n"
     ]
    },
    {
     "name": "stderr",
     "output_type": "stream",
     "text": [
      "RoyalPurpleGrapeJuice1915A:\n",
      " downloading Royal Purple Grape Juice -1915A.jpg: 100%|██████████| 131k/131k [00:00<00:00, 260kiB/s]\n"
     ]
    },
    {
     "name": "stdout",
     "output_type": "stream",
     "text": [
      "{'id': 693265488788258816, 'id_string': '693265488788258816', 'state': 'published', 'display_text': 'Posted to palegentlementale'}\n",
      "Done with 481 out of 578\n"
     ]
    },
    {
     "name": "stderr",
     "output_type": "stream",
     "text": [
      "RutherfordHypowerTamales1949A:\n",
      " downloading Rutherford Hypower Tamales -1949A.jpg: 100%|██████████| 171k/171k [00:00<00:00, 328kiB/s]\n"
     ]
    },
    {
     "name": "stdout",
     "output_type": "stream",
     "text": [
      "{'id': 693265495608147968, 'id_string': '693265495608147968', 'state': 'published', 'display_text': 'Posted to palegentlementale'}\n",
      "Done with 482 out of 578\n"
     ]
    },
    {
     "name": "stderr",
     "output_type": "stream",
     "text": [
      "SankaCoffee1930A:\n",
      " downloading Sanka Coffee -1930A.jpg: 100%|██████████| 61.7k/61.7k [00:00<00:00, 252kiB/s]\n"
     ]
    },
    {
     "name": "stdout",
     "output_type": "stream",
     "text": [
      "{'id': 693265500988424192, 'id_string': '693265500988424192', 'state': 'published', 'display_text': 'Posted to palegentlementale'}\n",
      "Done with 483 out of 578\n"
     ]
    },
    {
     "name": "stderr",
     "output_type": "stream",
     "text": [
      "SchlitzBeer1911A:\n",
      " downloading Schlitz Beer -1911A.jpg: 100%|██████████| 138k/138k [00:01<00:00, 76.7kiB/s]\n"
     ]
    },
    {
     "name": "stdout",
     "output_type": "stream",
     "text": [
      "{'id': 693265509462032384, 'id_string': '693265509462032384', 'state': 'published', 'display_text': 'Posted to palegentlementale'}\n",
      "Done with 484 out of 578\n"
     ]
    },
    {
     "name": "stderr",
     "output_type": "stream",
     "text": [
      "SchlitzBeer1912A:\n",
      " downloading Schlitz Beer -1912A.jpg: 100%|██████████| 131k/131k [00:00<00:00, 259kiB/s]\n"
     ]
    },
    {
     "name": "stdout",
     "output_type": "stream",
     "text": [
      "{'id': 693265516061720576, 'id_string': '693265516061720576', 'state': 'published', 'display_text': 'Posted to palegentlementale'}\n",
      "Done with 485 out of 578\n"
     ]
    },
    {
     "name": "stderr",
     "output_type": "stream",
     "text": [
      "SchlitzBeer1912B:\n",
      " downloading Schlitz Beer -1912B.jpg: 100%|██████████| 127k/127k [00:00<00:00, 257kiB/s]\n"
     ]
    },
    {
     "name": "stdout",
     "output_type": "stream",
     "text": [
      "{'id': 693265523094568960, 'id_string': '693265523094568960', 'state': 'published', 'display_text': 'Posted to palegentlementale'}\n",
      "Done with 486 out of 578\n"
     ]
    },
    {
     "name": "stderr",
     "output_type": "stream",
     "text": [
      "SchlitzBeer1912C:\n",
      " downloading Schlitz Beer -1912C.jpg: 100%|██████████| 136k/136k [00:00<00:00, 273kiB/s]\n"
     ]
    },
    {
     "name": "stdout",
     "output_type": "stream",
     "text": [
      "{'id': 693265529814859776, 'id_string': '693265529814859776', 'state': 'published', 'display_text': 'Posted to palegentlementale'}\n",
      "Done with 487 out of 578\n"
     ]
    },
    {
     "name": "stderr",
     "output_type": "stream",
     "text": [
      "SchlitzBeer1912D:\n",
      " downloading Schlitz Beer -1912D.jpg: 100%|██████████| 142k/142k [00:00<00:00, 282kiB/s]\n"
     ]
    },
    {
     "name": "stdout",
     "output_type": "stream",
     "text": [
      "{'id': 693265536932560896, 'id_string': '693265536932560896', 'state': 'published', 'display_text': 'Posted to palegentlementale'}\n",
      "Done with 488 out of 578\n"
     ]
    },
    {
     "name": "stderr",
     "output_type": "stream",
     "text": [
      "ShreddedWheat1910A:\n",
      " downloading Shredded Wheat -1910A.jpg: 100%|██████████| 139k/139k [00:00<00:00, 275kiB/s]\n"
     ]
    },
    {
     "name": "stdout",
     "output_type": "stream",
     "text": [
      "{'id': 693265544515813376, 'id_string': '693265544515813376', 'state': 'published', 'display_text': 'Posted to palegentlementale'}\n",
      "Done with 489 out of 578\n"
     ]
    },
    {
     "name": "stderr",
     "output_type": "stream",
     "text": [
      "ShreddedWheat1917A:\n",
      " downloading Shredded Wheat -1917A.jpg: 100%|██████████| 146k/146k [00:00<00:00, 289kiB/s]\n"
     ]
    },
    {
     "name": "stdout",
     "output_type": "stream",
     "text": [
      "{'id': 693265551781445632, 'id_string': '693265551781445632', 'state': 'published', 'display_text': 'Posted to palegentlementale'}\n",
      "Done with 490 out of 578\n"
     ]
    },
    {
     "name": "stderr",
     "output_type": "stream",
     "text": [
      "ShreddedWheatBiscuit1903A:\n",
      " downloading Shredded Wheat Biscuit -1903A.jpg: 100%|██████████| 114k/114k [00:00<00:00, 238kiB/s]\n"
     ]
    },
    {
     "name": "stdout",
     "output_type": "stream",
     "text": [
      "{'id': 693265559534632960, 'id_string': '693265559534632960', 'state': 'published', 'display_text': 'Posted to palegentlementale'}\n",
      "Done with 491 out of 578\n"
     ]
    },
    {
     "name": "stderr",
     "output_type": "stream",
     "text": [
      "SnidersCatsup1911A:\n",
      " downloading Snider's Catsup -1911A.jpg: 100%|██████████| 243k/243k [00:00<00:00, 313kiB/s]\n"
     ]
    },
    {
     "name": "stdout",
     "output_type": "stream",
     "text": [
      "{'id': 693265568465289216, 'id_string': '693265568465289216', 'state': 'published', 'display_text': 'Posted to palegentlementale'}\n",
      "Done with 492 out of 578\n"
     ]
    },
    {
     "name": "stderr",
     "output_type": "stream",
     "text": [
      "SnidersCatsup1912A:\n",
      " downloading Snider's Catsup -1912A.jpg: 100%|██████████| 169k/169k [00:00<00:00, 335kiB/s]\n"
     ]
    },
    {
     "name": "stdout",
     "output_type": "stream",
     "text": [
      "{'id': 693265575829520385, 'id_string': '693265575829520385', 'state': 'published', 'display_text': 'Posted to palegentlementale'}\n",
      "Done with 493 out of 578\n"
     ]
    },
    {
     "name": "stderr",
     "output_type": "stream",
     "text": [
      "SnidersCatsup1913A:\n",
      " downloading Snider's Catsup -1913A.jpg: 100%|██████████| 69.7k/69.7k [00:00<00:00, 264kiB/s]\n"
     ]
    },
    {
     "name": "stdout",
     "output_type": "stream",
     "text": [
      "{'id': 693265581917552640, 'id_string': '693265581917552640', 'state': 'published', 'display_text': 'Posted to palegentlementale'}\n",
      "Done with 494 out of 578\n"
     ]
    },
    {
     "name": "stderr",
     "output_type": "stream",
     "text": [
      "SnowdriftShortening1927A:\n",
      " downloading Snowdrift Shortening -1927A.jpg: 100%|██████████| 90.6k/90.6k [00:00<00:00, 349kiB/s]\n"
     ]
    },
    {
     "name": "stdout",
     "output_type": "stream",
     "text": [
      "{'id': 693265588914700288, 'id_string': '693265588914700288', 'state': 'published', 'display_text': 'Posted to palegentlementale'}\n",
      "Done with 495 out of 578\n"
     ]
    },
    {
     "name": "stderr",
     "output_type": "stream",
     "text": [
      "SomatoseAlbumoses1900A:\n",
      " downloading Somatose Albumoses -1900A.jpg: 100%|██████████| 96.6k/96.6k [00:00<00:00, 354kiB/s]\n"
     ]
    },
    {
     "name": "stdout",
     "output_type": "stream",
     "text": [
      "{'id': 693265597830660096, 'id_string': '693265597830660096', 'state': 'published', 'display_text': 'Posted to palegentlementale'}\n",
      "Done with 496 out of 578\n"
     ]
    },
    {
     "name": "stderr",
     "output_type": "stream",
     "text": [
      "SterlingCinammonGum1914A:\n",
      " downloading Sterling Cinammon Gum -1914A.jpg: 100%|██████████| 132k/132k [00:00<00:00, 262kiB/s]\n"
     ]
    },
    {
     "name": "stdout",
     "output_type": "stream",
     "text": [
      "{'id': 693265609827467264, 'id_string': '693265609827467264', 'state': 'published', 'display_text': 'Posted to palegentlementale'}\n",
      "Done with 497 out of 578\n"
     ]
    },
    {
     "name": "stderr",
     "output_type": "stream",
     "text": [
      "SterlingSpearmintGum1916A:\n",
      " downloading Sterling Spearmint Gum -1916A.jpg: 100%|██████████| 133k/133k [00:00<00:00, 262kiB/s]\n"
     ]
    },
    {
     "name": "stdout",
     "output_type": "stream",
     "text": [
      "{'id': 693265619540492288, 'id_string': '693265619540492288', 'state': 'published', 'display_text': 'Posted to palegentlementale'}\n",
      "Done with 498 out of 578\n"
     ]
    },
    {
     "name": "stderr",
     "output_type": "stream",
     "text": [
      "StrawberryHillPork1890A:\n",
      " downloading Strawberry Hill Pork -1890A.jpg: 100%|██████████| 140k/140k [00:02<00:00, 49.2kiB/s]\n"
     ]
    },
    {
     "name": "stdout",
     "output_type": "stream",
     "text": [
      "{'id': 693265629185294336, 'id_string': '693265629185294336', 'state': 'published', 'display_text': 'Posted to palegentlementale'}\n",
      "Done with 499 out of 578\n"
     ]
    },
    {
     "name": "stderr",
     "output_type": "stream",
     "text": [
      "Sugarine1949A:\n",
      " downloading Sugarine -1949A.jpg: 100%|██████████| 132k/132k [00:02<00:00, 54.2kiB/s]\n"
     ]
    },
    {
     "name": "stdout",
     "output_type": "stream",
     "text": [
      "{'id': 693265639988674560, 'id_string': '693265639988674560', 'state': 'published', 'display_text': 'Posted to palegentlementale'}\n",
      "Done with 500 out of 578\n"
     ]
    },
    {
     "name": "stderr",
     "output_type": "stream",
     "text": [
      "SunkistLemons1920A:\n",
      " downloading Sunkist Lemons -1920A.jpg: 100%|██████████| 144k/144k [00:01<00:00, 98.6kiB/s]\n"
     ]
    },
    {
     "name": "stdout",
     "output_type": "stream",
     "text": [
      "{'id': 693265649566367744, 'id_string': '693265649566367744', 'state': 'published', 'display_text': 'Posted to palegentlementale'}\n",
      "Done with 501 out of 578\n"
     ]
    },
    {
     "name": "stderr",
     "output_type": "stream",
     "text": [
      "SunnyBrookWhiskey1914A:\n",
      " downloading Sunny Brook Whiskey -1914A.jpg: 100%|██████████| 155k/155k [00:00<00:00, 205kiB/s]\n"
     ]
    },
    {
     "name": "stdout",
     "output_type": "stream",
     "text": [
      "{'id': 693265656357978112, 'id_string': '693265656357978112', 'state': 'published', 'display_text': 'Posted to palegentlementale'}\n",
      "Done with 502 out of 578\n"
     ]
    },
    {
     "name": "stderr",
     "output_type": "stream",
     "text": [
      "SunshineBiscuits1915A:\n",
      " downloading Sunshine Biscuits -1915A.jpg: 100%|██████████| 143k/143k [00:01<00:00, 83.1kiB/s]\n"
     ]
    },
    {
     "name": "stdout",
     "output_type": "stream",
     "text": [
      "{'id': 693265664678543360, 'id_string': '693265664678543360', 'state': 'published', 'display_text': 'Posted to palegentlementale'}\n",
      "Done with 503 out of 578\n"
     ]
    },
    {
     "name": "stderr",
     "output_type": "stream",
     "text": [
      "SunshineBiscuits1920A:\n",
      " downloading Sunshine Biscuits -1920A.jpg: 100%|██████████| 132k/132k [00:00<00:00, 261kiB/s]\n"
     ]
    },
    {
     "name": "stdout",
     "output_type": "stream",
     "text": [
      "{'id': 693265671946223616, 'id_string': '693265671946223616', 'state': 'published', 'display_text': 'Posted to palegentlementale'}\n",
      "Done with 504 out of 578\n"
     ]
    },
    {
     "name": "stderr",
     "output_type": "stream",
     "text": [
      "SunshineSpecialtiesCookies1913A:\n",
      " downloading Sunshine Specialties Cookies -1913A.jpg: 100%|██████████| 97.0k/97.0k [00:00<00:00, 396kiB/s]\n"
     ]
    },
    {
     "name": "stdout",
     "output_type": "stream",
     "text": [
      "{'id': 693265678157987840, 'id_string': '693265678157987840', 'state': 'published', 'display_text': 'Posted to palegentlementale'}\n",
      "Done with 505 out of 578\n"
     ]
    },
    {
     "name": "stderr",
     "output_type": "stream",
     "text": [
      "SunshineSpecialtiesCookies1915A:\n",
      " downloading Sunshine Specialties Cookies -1915A.jpg: 100%|██████████| 131k/131k [00:00<00:00, 255kiB/s]\n"
     ]
    },
    {
     "name": "stdout",
     "output_type": "stream",
     "text": [
      "{'id': 693265684560576512, 'id_string': '693265684560576512', 'state': 'published', 'display_text': 'Posted to palegentlementale'}\n",
      "Done with 506 out of 578\n"
     ]
    },
    {
     "name": "stderr",
     "output_type": "stream",
     "text": [
      "SunshineTakhomaBiscuits1913A:\n",
      " downloading Sunshine Takhoma Biscuits -1913A.jpg: 100%|██████████| 90.6k/90.6k [00:00<00:00, 347kiB/s]\n"
     ]
    },
    {
     "name": "stdout",
     "output_type": "stream",
     "text": [
      "{'id': 693265691206451200, 'id_string': '693265691206451200', 'state': 'published', 'display_text': 'Posted to palegentlementale'}\n",
      "Done with 507 out of 578\n"
     ]
    },
    {
     "name": "stderr",
     "output_type": "stream",
     "text": [
      "SwiftsAllsweetMargarine1948A:\n",
      " downloading Swift's Allsweet Margarine -1948A.jpg: 100%|██████████| 213k/213k [00:00<00:00, 292kiB/s]\n"
     ]
    },
    {
     "name": "stdout",
     "output_type": "stream",
     "text": [
      "{'id': 693265700343693312, 'id_string': '693265700343693312', 'state': 'published', 'display_text': 'Posted to palegentlementale'}\n",
      "Done with 508 out of 578\n"
     ]
    },
    {
     "name": "stderr",
     "output_type": "stream",
     "text": [
      "SwiftsBrookfieldButter1925A:\n",
      " downloading Swift's Brookfield Butter -1925A.jpg: 100%|██████████| 135k/135k [00:00<00:00, 270kiB/s]\n"
     ]
    },
    {
     "name": "stdout",
     "output_type": "stream",
     "text": [
      "{'id': 693265707865178112, 'id_string': '693265707865178112', 'state': 'published', 'display_text': 'Posted to palegentlementale'}\n",
      "Done with 509 out of 578\n"
     ]
    },
    {
     "name": "stderr",
     "output_type": "stream",
     "text": [
      "SwiftsPremiumBacon1934A:\n",
      " downloading Swift's Premium Bacon -1934A.jpg: 100%|██████████| 152k/152k [00:00<00:00, 302kiB/s]\n"
     ]
    },
    {
     "name": "stdout",
     "output_type": "stream",
     "text": [
      "{'id': 693265719241146368, 'id_string': '693265719241146368', 'state': 'published', 'display_text': 'Posted to palegentlementale'}\n",
      "Done with 510 out of 578\n"
     ]
    },
    {
     "name": "stderr",
     "output_type": "stream",
     "text": [
      "SwiftsPremiumHam1915A:\n",
      " downloading Swift's Premium Ham -1915A.jpg: 100%|██████████| 140k/140k [00:00<00:00, 266kiB/s]\n"
     ]
    },
    {
     "name": "stdout",
     "output_type": "stream",
     "text": [
      "{'id': 693265726981783552, 'id_string': '693265726981783552', 'state': 'published', 'display_text': 'Posted to palegentlementale'}\n",
      "Done with 511 out of 578\n"
     ]
    },
    {
     "name": "stderr",
     "output_type": "stream",
     "text": [
      "SyrupofFigs1900sA:\n",
      " downloading Syrup of Figs -1900'sA.jpg: 100%|██████████| 95.2k/95.2k [00:00<00:00, 346kiB/s]\n"
     ]
    },
    {
     "name": "stdout",
     "output_type": "stream",
     "text": [
      "{'id': 693265734329155584, 'id_string': '693265734329155584', 'state': 'published', 'display_text': 'Posted to palegentlementale'}\n",
      "Done with 512 out of 578\n"
     ]
    },
    {
     "name": "stderr",
     "output_type": "stream",
     "text": [
      "TenBLowIceCream1948A:\n",
      " downloading Ten-B-Low Ice Cream -1948A.jpg: 100%|██████████| 152k/152k [00:01<00:00, 80.3kiB/s]\n"
     ]
    },
    {
     "name": "stdout",
     "output_type": "stream",
     "text": [
      "{'id': 693265742917976064, 'id_string': '693265742917976064', 'state': 'published', 'display_text': 'Posted to palegentlementale'}\n",
      "Done with 513 out of 578\n"
     ]
    },
    {
     "name": "stderr",
     "output_type": "stream",
     "text": [
      "TenBLowIceCream1949A:\n",
      " downloading Ten-B-Low Ice Cream -1949A.jpg: 100%|██████████| 147k/147k [00:00<00:00, 289kiB/s]\n"
     ]
    },
    {
     "name": "stdout",
     "output_type": "stream",
     "text": [
      "{'id': 693265749478866944, 'id_string': '693265749478866944', 'state': 'published', 'display_text': 'Posted to palegentlementale'}\n",
      "Done with 514 out of 578\n"
     ]
    },
    {
     "name": "stderr",
     "output_type": "stream",
     "text": [
      "TenderLeafInstantTea1949:\n",
      " downloading Tender Leaf Instant Tea -1949.jpg: 100%|██████████| 68.6k/68.6k [00:00<00:00, 138kiB/s]\n"
     ]
    },
    {
     "name": "stdout",
     "output_type": "stream",
     "text": [
      "{'id': 693265757007740928, 'id_string': '693265757007740928', 'state': 'published', 'display_text': 'Posted to palegentlementale'}\n",
      "Done with 515 out of 578\n"
     ]
    },
    {
     "name": "stderr",
     "output_type": "stream",
     "text": [
      "TenderLeafTea1934A:\n",
      " downloading Tender Leaf Tea -1934A.jpg: 100%|██████████| 133k/133k [00:00<00:00, 281kiB/s]\n"
     ]
    },
    {
     "name": "stdout",
     "output_type": "stream",
     "text": [
      "{'id': 693265763660939264, 'id_string': '693265763660939264', 'state': 'published', 'display_text': 'Posted to palegentlementale'}\n",
      "Done with 516 out of 578\n"
     ]
    },
    {
     "name": "stderr",
     "output_type": "stream",
     "text": [
      "TrimbleWhiskey1906A:\n",
      " downloading Trimble Whiskey -1906A.jpg: 100%|██████████| 54.0k/54.0k [00:00<00:00, 212kiB/s]\n"
     ]
    },
    {
     "name": "stdout",
     "output_type": "stream",
     "text": [
      "{'id': 693265769549676544, 'id_string': '693265769549676544', 'state': 'published', 'display_text': 'Posted to palegentlementale'}\n",
      "Done with 517 out of 578\n"
     ]
    },
    {
     "name": "stderr",
     "output_type": "stream",
     "text": [
      "UnderbergBitters1909A:\n",
      " downloading Underberg Bitters -1909A.jpg: 100%|██████████| 206k/206k [00:00<00:00, 369kiB/s]\n"
     ]
    },
    {
     "name": "stdout",
     "output_type": "stream",
     "text": [
      "{'id': 693265777286070272, 'id_string': '693265777286070272', 'state': 'published', 'display_text': 'Posted to palegentlementale'}\n",
      "Done with 518 out of 578\n"
     ]
    },
    {
     "name": "stderr",
     "output_type": "stream",
     "text": [
      "UnderwoodsDeviledHam1900sA:\n",
      " downloading Underwood's Deviled Ham -1900'sA.jpg: 100%|██████████| 142k/142k [00:00<00:00, 274kiB/s]\n"
     ]
    },
    {
     "name": "stdout",
     "output_type": "stream",
     "text": [
      "{'id': 693265784334614528, 'id_string': '693265784334614528', 'state': 'published', 'display_text': 'Posted to palegentlementale'}\n",
      "Done with 519 out of 578\n"
     ]
    },
    {
     "name": "stderr",
     "output_type": "stream",
     "text": [
      "UneedaBakers1931A:\n",
      " downloading Uneeda Bakers -1931A.jpg: 100%|██████████| 144k/144k [00:00<00:00, 275kiB/s]\n"
     ]
    },
    {
     "name": "stdout",
     "output_type": "stream",
     "text": [
      "{'id': 693265791172345856, 'id_string': '693265791172345856', 'state': 'published', 'display_text': 'Posted to palegentlementale'}\n",
      "Done with 520 out of 578\n"
     ]
    },
    {
     "name": "stderr",
     "output_type": "stream",
     "text": [
      "UneedaBiscuits1911A:\n",
      " downloading Uneeda Biscuits -1911A.jpg: 100%|██████████| 138k/138k [00:00<00:00, 271kiB/s]\n"
     ]
    },
    {
     "name": "stdout",
     "output_type": "stream",
     "text": [
      "{'id': 693265798218809344, 'id_string': '693265798218809344', 'state': 'published', 'display_text': 'Posted to palegentlementale'}\n",
      "Done with 521 out of 578\n"
     ]
    },
    {
     "name": "stderr",
     "output_type": "stream",
     "text": [
      "UneedaFigNewtons1930A:\n",
      " downloading Uneeda Fig Newtons -1930A.jpg: 100%|██████████| 127k/127k [00:00<00:00, 263kiB/s]\n"
     ]
    },
    {
     "name": "stdout",
     "output_type": "stream",
     "text": [
      "{'id': 693265805549453312, 'id_string': '693265805549453312', 'state': 'published', 'display_text': 'Posted to palegentlementale'}\n",
      "Done with 522 out of 578\n"
     ]
    },
    {
     "name": "stderr",
     "output_type": "stream",
     "text": [
      "UneedaGrahamCrackers1930A:\n",
      " downloading Uneeda Graham Crackers -1930A.jpg: 100%|██████████| 122k/122k [00:00<00:00, 248kiB/s]\n"
     ]
    },
    {
     "name": "stdout",
     "output_type": "stream",
     "text": [
      "{'id': 693265813027880960, 'id_string': '693265813027880960', 'state': 'published', 'display_text': 'Posted to palegentlementale'}\n",
      "Done with 523 out of 578\n"
     ]
    },
    {
     "name": "stderr",
     "output_type": "stream",
     "text": [
      "UshersWhisky1910:\n",
      " downloading Usher's Whisky -1910.jpg: 100%|██████████| 115k/115k [00:00<00:00, 225kiB/s]\n"
     ]
    },
    {
     "name": "stdout",
     "output_type": "stream",
     "text": [
      "{'id': 693265819537375232, 'id_string': '693265819537375232', 'state': 'published', 'display_text': 'Posted to palegentlementale'}\n",
      "Done with 524 out of 578\n"
     ]
    },
    {
     "name": "stderr",
     "output_type": "stream",
     "text": [
      "V8VegetableJuice1948A:\n",
      " downloading V8 Vegetable Juice -1948A.jpg: 100%|██████████| 182k/182k [00:00<00:00, 352kiB/s]\n"
     ]
    },
    {
     "name": "stdout",
     "output_type": "stream",
     "text": [
      "{'id': 693265826842804224, 'id_string': '693265826842804224', 'state': 'published', 'display_text': 'Posted to palegentlementale'}\n",
      "Done with 525 out of 578\n"
     ]
    },
    {
     "name": "stderr",
     "output_type": "stream",
     "text": [
      "VanCampsPorkandBeans1896A:\n",
      " downloading Van Camp's Pork and Beans -1896A.jpg: 100%|██████████| 146k/146k [00:00<00:00, 270kiB/s]\n"
     ]
    },
    {
     "name": "stdout",
     "output_type": "stream",
     "text": [
      "{'id': 693265835367776256, 'id_string': '693265835367776256', 'state': 'published', 'display_text': 'Posted to palegentlementale'}\n",
      "Done with 526 out of 578\n"
     ]
    },
    {
     "name": "stderr",
     "output_type": "stream",
     "text": [
      "VanCampsPorkandBeans1947A:\n",
      " downloading Van Camp's Pork and Beans -1947A.jpg: 100%|██████████| 172k/172k [00:00<00:00, 332kiB/s]\n"
     ]
    },
    {
     "name": "stdout",
     "output_type": "stream",
     "text": [
      "{'id': 693265841674944512, 'id_string': '693265841674944512', 'state': 'published', 'display_text': 'Posted to palegentlementale'}\n",
      "Done with 527 out of 578\n"
     ]
    },
    {
     "name": "stderr",
     "output_type": "stream",
     "text": [
      "VanNostrandsOwlMustyAle1906A:\n",
      " downloading Van Nostrand's Owl-Musty Ale -1906A.jpg: 100%|██████████| 133k/133k [00:00<00:00, 253kiB/s]\n"
     ]
    },
    {
     "name": "stdout",
     "output_type": "stream",
     "text": [
      "{'id': 693265848231657472, 'id_string': '693265848231657472', 'state': 'published', 'display_text': 'Posted to palegentlementale'}\n",
      "Done with 528 out of 578\n"
     ]
    },
    {
     "name": "stderr",
     "output_type": "stream",
     "text": [
      "VeribestCannedMeats1910sA:\n",
      " downloading Veribest Canned Meats -1910'sA.jpg: 100%|██████████| 104k/104k [00:00<00:00, 211kiB/s]\n"
     ]
    },
    {
     "name": "stdout",
     "output_type": "stream",
     "text": [
      "{'id': 693265854550491136, 'id_string': '693265854550491136', 'state': 'published', 'display_text': 'Posted to palegentlementale'}\n",
      "Done with 529 out of 578\n"
     ]
    },
    {
     "name": "stderr",
     "output_type": "stream",
     "text": [
      "VermontMaidSyrup1949A:\n",
      " downloading Vermont Maid Syrup -1949A.jpg: 100%|██████████| 174k/174k [00:00<00:00, 347kiB/s]\n"
     ]
    },
    {
     "name": "stdout",
     "output_type": "stream",
     "text": [
      "{'id': 693265860412997632, 'id_string': '693265860412997632', 'state': 'published', 'display_text': 'Posted to palegentlementale'}\n",
      "Done with 530 out of 578\n"
     ]
    },
    {
     "name": "stderr",
     "output_type": "stream",
     "text": [
      "WalkersGrapeJuice1910A:\n",
      " downloading Walker's Grape Juice -1910A.jpg: 100%|██████████| 153k/153k [00:00<00:00, 318kiB/s]\n"
     ]
    },
    {
     "name": "stdout",
     "output_type": "stream",
     "text": [
      "{'id': 693265869071073280, 'id_string': '693265869071073280', 'state': 'published', 'display_text': 'Posted to palegentlementale'}\n",
      "Done with 531 out of 578\n"
     ]
    },
    {
     "name": "stderr",
     "output_type": "stream",
     "text": [
      "WalterBakersChocolate1904A:\n",
      " downloading Walter Baker's Chocolate -1904A.jpg: 100%|██████████| 106k/106k [00:00<00:00, 177kiB/s]\n"
     ]
    },
    {
     "name": "stdout",
     "output_type": "stream",
     "text": [
      "{'id': 693265876846247936, 'id_string': '693265876846247936', 'state': 'published', 'display_text': 'Posted to palegentlementale'}\n",
      "Done with 532 out of 578\n"
     ]
    },
    {
     "name": "stderr",
     "output_type": "stream",
     "text": [
      "WashingtonCrispsCornFlakes1915A:\n",
      " downloading Washington Crisps Corn Flakes -1915A.jpg: 100%|██████████| 162k/162k [00:01<00:00, 157kiB/s]\n"
     ]
    },
    {
     "name": "stdout",
     "output_type": "stream",
     "text": [
      "{'id': 693265884205154304, 'id_string': '693265884205154304', 'state': 'published', 'display_text': 'Posted to palegentlementale'}\n",
      "Done with 533 out of 578\n"
     ]
    },
    {
     "name": "stderr",
     "output_type": "stream",
     "text": [
      "WelchsGrapeJuice1898A:\n",
      " downloading Welch's Grape Juice -1898A.jpg: 100%|██████████| 159k/159k [00:00<00:00, 218kiB/s]\n"
     ]
    },
    {
     "name": "stdout",
     "output_type": "stream",
     "text": [
      "{'id': 693265895314931713, 'id_string': '693265895314931713', 'state': 'published', 'display_text': 'Posted to palegentlementale'}\n",
      "Done with 534 out of 578\n"
     ]
    },
    {
     "name": "stderr",
     "output_type": "stream",
     "text": [
      "WelchsGrapeJuice1912A:\n",
      " downloading Welch's Grape Juice -1912A.jpg: 100%|██████████| 246k/246k [00:01<00:00, 250kiB/s]\n"
     ]
    },
    {
     "name": "stdout",
     "output_type": "stream",
     "text": [
      "{'id': 693265904790847488, 'id_string': '693265904790847488', 'state': 'published', 'display_text': 'Posted to palegentlementale'}\n",
      "Done with 535 out of 578\n"
     ]
    },
    {
     "name": "stderr",
     "output_type": "stream",
     "text": [
      "WelchsGrapeJuice1913A:\n",
      " downloading Welch's Grape Juice -1913A.jpg: 100%|██████████| 68.9k/68.9k [00:00<00:00, 258kiB/s]\n"
     ]
    },
    {
     "name": "stdout",
     "output_type": "stream",
     "text": [
      "{'id': 693265910295871488, 'id_string': '693265910295871488', 'state': 'published', 'display_text': 'Posted to palegentlementale'}\n",
      "Done with 536 out of 578\n"
     ]
    },
    {
     "name": "stderr",
     "output_type": "stream",
     "text": [
      "WelchsGrapeJuice1916A:\n",
      " downloading Welch's Grape Juice -1916A.jpg: 100%|██████████| 131k/131k [00:00<00:00, 179kiB/s]\n"
     ]
    },
    {
     "name": "stdout",
     "output_type": "stream",
     "text": [
      "{'id': 693265919142690816, 'id_string': '693265919142690816', 'state': 'published', 'display_text': 'Posted to palegentlementale'}\n",
      "Done with 537 out of 578\n"
     ]
    },
    {
     "name": "stderr",
     "output_type": "stream",
     "text": [
      "WelchsGrapeJuice1917A:\n",
      " downloading Welch's Grape Juice -1917A.jpg: 100%|██████████| 95.3k/95.3k [00:00<00:00, 352kiB/s]\n"
     ]
    },
    {
     "name": "stdout",
     "output_type": "stream",
     "text": [
      "{'id': 693265927041630208, 'id_string': '693265927041630208', 'state': 'published', 'display_text': 'Posted to palegentlementale'}\n",
      "Done with 538 out of 578\n"
     ]
    },
    {
     "name": "stderr",
     "output_type": "stream",
     "text": [
      "WelchsGrapeJuice1919A:\n",
      " downloading Welch's Grape Juice -1919A.jpg: 100%|██████████| 134k/134k [00:00<00:00, 269kiB/s]\n"
     ]
    },
    {
     "name": "stdout",
     "output_type": "stream",
     "text": [
      "{'id': 693265934059732993, 'id_string': '693265934059732993', 'state': 'published', 'display_text': 'Posted to palegentlementale'}\n",
      "Done with 539 out of 578\n"
     ]
    },
    {
     "name": "stderr",
     "output_type": "stream",
     "text": [
      "WessonOil1918A:\n",
      " downloading Wesson Oil -1918A.jpg: 100%|██████████| 129k/129k [00:00<00:00, 244kiB/s]\n"
     ]
    },
    {
     "name": "stdout",
     "output_type": "stream",
     "text": [
      "{'id': 693265940951990272, 'id_string': '693265940951990272', 'state': 'published', 'display_text': 'Posted to palegentlementale'}\n",
      "Done with 540 out of 578\n"
     ]
    },
    {
     "name": "stderr",
     "output_type": "stream",
     "text": [
      "WessonOil1920A:\n",
      " downloading Wesson Oil -1920A.jpg: 100%|██████████| 164k/164k [00:00<00:00, 316kiB/s]\n"
     ]
    },
    {
     "name": "stdout",
     "output_type": "stream",
     "text": [
      "{'id': 693265948259565568, 'id_string': '693265948259565568', 'state': 'published', 'display_text': 'Posted to palegentlementale'}\n",
      "Done with 541 out of 578\n"
     ]
    },
    {
     "name": "stderr",
     "output_type": "stream",
     "text": [
      "WessonOil1925A:\n",
      " downloading Wesson Oil -1925A.jpg: 100%|██████████| 135k/135k [00:00<00:00, 186kiB/s]\n"
     ]
    },
    {
     "name": "stdout",
     "output_type": "stream",
     "text": [
      "{'id': 693265954735554560, 'id_string': '693265954735554560', 'state': 'published', 'display_text': 'Posted to palegentlementale'}\n",
      "Done with 542 out of 578\n"
     ]
    },
    {
     "name": "stderr",
     "output_type": "stream",
     "text": [
      "WessonOil1926A:\n",
      " downloading Wesson Oil -1926A.jpg: 100%|██████████| 154k/154k [00:02<00:00, 71.1kiB/s]\n"
     ]
    },
    {
     "name": "stdout",
     "output_type": "stream",
     "text": [
      "{'id': 693265963600265216, 'id_string': '693265963600265216', 'state': 'published', 'display_text': 'Posted to palegentlementale'}\n",
      "Done with 543 out of 578\n"
     ]
    },
    {
     "name": "stderr",
     "output_type": "stream",
     "text": [
      "WessonOil1927A:\n",
      " downloading Wesson Oil -1927A.jpg: 100%|██████████| 102k/102k [00:00<00:00, 209kiB/s]\n"
     ]
    },
    {
     "name": "stdout",
     "output_type": "stream",
     "text": [
      "{'id': 693265970472615936, 'id_string': '693265970472615936', 'state': 'published', 'display_text': 'Posted to palegentlementale'}\n",
      "Done with 544 out of 578\n"
     ]
    },
    {
     "name": "stderr",
     "output_type": "stream",
     "text": [
      "Wheatena1927A:\n",
      " downloading Wheatena -1927A.jpg: 100%|██████████| 123k/123k [00:01<00:00, 85.2kiB/s]\n"
     ]
    },
    {
     "name": "stdout",
     "output_type": "stream",
     "text": [
      "{'id': 693265978733330432, 'id_string': '693265978733330432', 'state': 'published', 'display_text': 'Posted to palegentlementale'}\n",
      "Done with 545 out of 578\n"
     ]
    },
    {
     "name": "stderr",
     "output_type": "stream",
     "text": [
      "Wheaties1936A:\n",
      " downloading Wheaties -1936A.jpg: 100%|██████████| 150k/150k [00:00<00:00, 292kiB/s]\n"
     ]
    },
    {
     "name": "stdout",
     "output_type": "stream",
     "text": [
      "{'id': 693265989181358080, 'id_string': '693265989181358080', 'state': 'published', 'display_text': 'Posted to palegentlementale'}\n",
      "Done with 546 out of 578\n"
     ]
    },
    {
     "name": "stderr",
     "output_type": "stream",
     "text": [
      "Wheatlet1903A:\n",
      " downloading Wheatlet -1903A.jpg: 100%|██████████| 75.1k/75.1k [00:00<00:00, 292kiB/s]\n"
     ]
    },
    {
     "name": "stdout",
     "output_type": "stream",
     "text": [
      "{'id': 693265995598594048, 'id_string': '693265995598594048', 'state': 'published', 'display_text': 'Posted to palegentlementale'}\n",
      "Done with 547 out of 578\n"
     ]
    },
    {
     "name": "stderr",
     "output_type": "stream",
     "text": [
      "WhiteHouseCoffee1910A:\n",
      " downloading White House Coffee -1910A.jpg: 100%|██████████| 112k/112k [00:01<00:00, 92.8kiB/s]\n"
     ]
    },
    {
     "name": "stdout",
     "output_type": "stream",
     "text": [
      "{'id': 693266002613501952, 'id_string': '693266002613501952', 'state': 'published', 'display_text': 'Posted to palegentlementale'}\n",
      "Done with 548 out of 578\n"
     ]
    },
    {
     "name": "stderr",
     "output_type": "stream",
     "text": [
      "WhiteHouseCoffee1913A:\n",
      " downloading White House Coffee -1913A.jpg: 100%|██████████| 116k/116k [00:00<00:00, 228kiB/s]\n"
     ]
    },
    {
     "name": "stdout",
     "output_type": "stream",
     "text": [
      "{'id': 693266011047297024, 'id_string': '693266011047297024', 'state': 'published', 'display_text': 'Posted to palegentlementale'}\n",
      "Done with 549 out of 578\n"
     ]
    },
    {
     "name": "stderr",
     "output_type": "stream",
     "text": [
      "WhiteHouseCoffeeandTea1911A:\n",
      " downloading White House Coffee and Tea -1911A.jpg: 100%|██████████| 118k/118k [00:00<00:00, 243kiB/s]\n"
     ]
    },
    {
     "name": "stdout",
     "output_type": "stream",
     "text": [
      "{'id': 693266018960850945, 'id_string': '693266018960850945', 'state': 'published', 'display_text': 'Posted to palegentlementale'}\n",
      "Done with 550 out of 578\n"
     ]
    },
    {
     "name": "stderr",
     "output_type": "stream",
     "text": [
      "WhiteHouseEvaporatedMilk1946A:\n",
      " downloading White House Evaporated Milk -1946A.jpg: 100%|██████████| 125k/125k [00:00<00:00, 168kiB/s]\n"
     ]
    },
    {
     "name": "stdout",
     "output_type": "stream",
     "text": [
      "{'id': 693266025613066240, 'id_string': '693266025613066240', 'state': 'published', 'display_text': 'Posted to palegentlementale'}\n",
      "Done with 551 out of 578\n"
     ]
    },
    {
     "name": "stderr",
     "output_type": "stream",
     "text": [
      "WhiteHouseEvaporatedMilk1947A:\n",
      " downloading White House Evaporated Milk -1947A.jpg: 100%|██████████| 120k/120k [00:01<00:00, 100kiB/s]\n"
     ]
    },
    {
     "name": "stdout",
     "output_type": "stream",
     "text": [
      "{'id': 693266035169705984, 'id_string': '693266035169705984', 'state': 'published', 'display_text': 'Posted to palegentlementale'}\n",
      "Done with 552 out of 578\n"
     ]
    },
    {
     "name": "stderr",
     "output_type": "stream",
     "text": [
      "WhiteHouseEvaporatedMilk1948A:\n",
      " downloading White House Evaporated Milk -1948A.jpg: 100%|██████████| 162k/162k [00:00<00:00, 309kiB/s]\n"
     ]
    },
    {
     "name": "stdout",
     "output_type": "stream",
     "text": [
      "{'id': 693266043145240576, 'id_string': '693266043145240576', 'state': 'published', 'display_text': 'Posted to palegentlementale'}\n",
      "Done with 553 out of 578\n"
     ]
    },
    {
     "name": "stderr",
     "output_type": "stream",
     "text": [
      "WhiteRockTableWater1917A:\n",
      " downloading White Rock Table Water -1917A.jpg: 100%|██████████| 56.9k/56.9k [00:00<00:00, 235kiB/s]\n"
     ]
    },
    {
     "name": "stdout",
     "output_type": "stream",
     "text": [
      "{'id': 693266049455603712, 'id_string': '693266049455603712', 'state': 'published', 'display_text': 'Posted to palegentlementale'}\n",
      "Done with 554 out of 578\n"
     ]
    },
    {
     "name": "stderr",
     "output_type": "stream",
     "text": [
      "WhiteRockWater1907A:\n",
      " downloading White Rock Water -1907A.jpg: 100%|██████████| 145k/145k [00:00<00:00, 199kiB/s]\n"
     ]
    },
    {
     "name": "stdout",
     "output_type": "stream",
     "text": [
      "{'id': 693266055915864064, 'id_string': '693266055915864064', 'state': 'published', 'display_text': 'Posted to palegentlementale'}\n",
      "Done with 555 out of 578\n"
     ]
    },
    {
     "name": "stderr",
     "output_type": "stream",
     "text": [
      "WhiteRockWater1908A:\n",
      " downloading White Rock Water -1908A.jpg: 100%|██████████| 175k/175k [00:00<00:00, 338kiB/s]\n"
     ]
    },
    {
     "name": "stdout",
     "output_type": "stream",
     "text": [
      "{'id': 693266062139113472, 'id_string': '693266062139113472', 'state': 'published', 'display_text': 'Posted to palegentlementale'}\n",
      "Done with 556 out of 578\n"
     ]
    },
    {
     "name": "stderr",
     "output_type": "stream",
     "text": [
      "WhiteStarCoffee1900sA1:\n",
      " downloading White Star Coffee -1900'sA-1.jpg: 100%|██████████| 146k/146k [00:00<00:00, 291kiB/s]\n"
     ]
    },
    {
     "name": "stdout",
     "output_type": "stream",
     "text": [
      "{'id': 693266069882912768, 'id_string': '693266069882912768', 'state': 'published', 'display_text': 'Posted to palegentlementale'}\n",
      "Done with 557 out of 578\n"
     ]
    },
    {
     "name": "stderr",
     "output_type": "stream",
     "text": [
      "WhiteStarCoffee1900sA2:\n",
      " downloading White Star Coffee -1900'sA-2.jpg: 100%|██████████| 101k/101k [00:00<00:00, 207kiB/s]\n"
     ]
    },
    {
     "name": "stdout",
     "output_type": "stream",
     "text": [
      "{'id': 693266076791963648, 'id_string': '693266076791963648', 'state': 'published', 'display_text': 'Posted to palegentlementale'}\n",
      "Done with 558 out of 578\n"
     ]
    },
    {
     "name": "stderr",
     "output_type": "stream",
     "text": [
      "WhiteStarCoffee1902A:\n",
      " downloading White Star Coffee -1902A.jpg: 100%|██████████| 98.6k/98.6k [00:00<00:00, 101kiB/s]\n"
     ]
    },
    {
     "name": "stdout",
     "output_type": "stream",
     "text": [
      "{'id': 693266083706241024, 'id_string': '693266083706241024', 'state': 'published', 'display_text': 'Posted to palegentlementale'}\n",
      "Done with 559 out of 578\n"
     ]
    },
    {
     "name": "stderr",
     "output_type": "stream",
     "text": [
      "WhitmansChocolates1900sA:\n",
      " downloading Whitman's Chocolates -1900'sA.jpg: 100%|██████████| 139k/139k [00:00<00:00, 285kiB/s]\n"
     ]
    },
    {
     "name": "stdout",
     "output_type": "stream",
     "text": [
      "{'id': 693266091474075648, 'id_string': '693266091474075648', 'state': 'published', 'display_text': 'Posted to palegentlementale'}\n",
      "Done with 560 out of 578\n"
     ]
    },
    {
     "name": "stderr",
     "output_type": "stream",
     "text": [
      "WhitmansChocolates1901A:\n",
      " downloading Whitman's Chocolates -1901A.jpg: 100%|██████████| 148k/148k [00:00<00:00, 284kiB/s]\n"
     ]
    },
    {
     "name": "stdout",
     "output_type": "stream",
     "text": [
      "{'id': 693266099012272128, 'id_string': '693266099012272128', 'state': 'published', 'display_text': 'Posted to palegentlementale'}\n",
      "Done with 561 out of 578\n"
     ]
    },
    {
     "name": "stderr",
     "output_type": "stream",
     "text": [
      "WhitmansChocolates1925A:\n",
      " downloading Whitman's Chocolates -1925A.jpg: 100%|██████████| 177k/177k [00:00<00:00, 335kiB/s]\n"
     ]
    },
    {
     "name": "stdout",
     "output_type": "stream",
     "text": [
      "{'id': 693266105862602752, 'id_string': '693266105862602752', 'state': 'published', 'display_text': 'Posted to palegentlementale'}\n",
      "Done with 562 out of 578\n"
     ]
    },
    {
     "name": "stderr",
     "output_type": "stream",
     "text": [
      "WhitmansChocolates1929A:\n",
      " downloading Whitman's Chocolates -1929A.jpg: 100%|██████████| 119k/119k [00:00<00:00, 237kiB/s]\n"
     ]
    },
    {
     "name": "stdout",
     "output_type": "stream",
     "text": [
      "{'id': 693266113329512448, 'id_string': '693266113329512448', 'state': 'published', 'display_text': 'Posted to palegentlementale'}\n",
      "Done with 563 out of 578\n"
     ]
    },
    {
     "name": "stderr",
     "output_type": "stream",
     "text": [
      "WhitmansChocolates1930A:\n",
      " downloading Whitman's Chocolates -1930A.jpg: 100%|██████████| 163k/163k [00:00<00:00, 213kiB/s]\n"
     ]
    },
    {
     "name": "stdout",
     "output_type": "stream",
     "text": [
      "{'id': 693266120161083392, 'id_string': '693266120161083392', 'state': 'published', 'display_text': 'Posted to palegentlementale'}\n",
      "Done with 564 out of 578\n"
     ]
    },
    {
     "name": "stderr",
     "output_type": "stream",
     "text": [
      "WilsonsCannedMeats1949A:\n",
      " downloading Wilson's Canned Meats -1949A.jpg: 100%|██████████| 147k/147k [00:00<00:00, 274kiB/s]\n"
     ]
    },
    {
     "name": "stdout",
     "output_type": "stream",
     "text": [
      "{'id': 693266126354939904, 'id_string': '693266126354939904', 'state': 'published', 'display_text': 'Posted to palegentlementale'}\n",
      "Done with 565 out of 578\n"
     ]
    },
    {
     "name": "stderr",
     "output_type": "stream",
     "text": [
      "WrigleysDoubleMintGum1927A:\n",
      " downloading Wrigley's Double Mint Gum -1927A.jpg: 100%|██████████| 166k/166k [00:00<00:00, 318kiB/s]\n"
     ]
    },
    {
     "name": "stdout",
     "output_type": "stream",
     "text": [
      "{'id': 693266133672935424, 'id_string': '693266133672935424', 'state': 'published', 'display_text': 'Posted to palegentlementale'}\n",
      "Done with 566 out of 578\n"
     ]
    },
    {
     "name": "stderr",
     "output_type": "stream",
     "text": [
      "WrigleysDoubleMintGum1931A:\n",
      " downloading Wrigley's Double Mint Gum -1931A.jpg: 100%|██████████| 103k/103k [00:00<00:00, 218kiB/s]\n"
     ]
    },
    {
     "name": "stdout",
     "output_type": "stream",
     "text": [
      "{'id': 693266141076930560, 'id_string': '693266141076930560', 'state': 'published', 'display_text': 'Posted to palegentlementale'}\n",
      "Done with 567 out of 578\n"
     ]
    },
    {
     "name": "stderr",
     "output_type": "stream",
     "text": [
      "WrigleysDoubleMintGum1931B:\n",
      " downloading Wrigley's Double Mint Gum -1931B.jpg: 100%|██████████| 105k/105k [00:01<00:00, 85.5kiB/s]\n"
     ]
    },
    {
     "name": "stdout",
     "output_type": "stream",
     "text": [
      "{'id': 693266148409655296, 'id_string': '693266148409655296', 'state': 'published', 'display_text': 'Posted to palegentlementale'}\n",
      "Done with 568 out of 578\n"
     ]
    },
    {
     "name": "stderr",
     "output_type": "stream",
     "text": [
      "WrigleysDoubleMintGum1934A:\n",
      " downloading Wrigley's Double Mint Gum -1934A.jpg: 100%|██████████| 130k/130k [00:00<00:00, 256kiB/s]\n"
     ]
    },
    {
     "name": "stdout",
     "output_type": "stream",
     "text": [
      "{'id': 693266154289086464, 'id_string': '693266154289086464', 'state': 'published', 'display_text': 'Posted to palegentlementale'}\n",
      "Done with 569 out of 578\n"
     ]
    },
    {
     "name": "stderr",
     "output_type": "stream",
     "text": [
      "WrigleysDoubleMintGum1935A:\n",
      " downloading Wrigley's Double Mint Gum -1935A.jpg: 100%|██████████| 144k/144k [00:00<00:00, 287kiB/s]\n"
     ]
    },
    {
     "name": "stdout",
     "output_type": "stream",
     "text": [
      "{'id': 693266160120184832, 'id_string': '693266160120184832', 'state': 'published', 'display_text': 'Posted to palegentlementale'}\n",
      "Done with 570 out of 578\n"
     ]
    },
    {
     "name": "stderr",
     "output_type": "stream",
     "text": [
      "WrigleysDoublemintGum1940A:\n",
      " downloading Wrigley's Doublemint Gum -1940A.jpg: 100%|██████████| 104k/104k [00:00<00:00, 218kiB/s]\n"
     ]
    },
    {
     "name": "stdout",
     "output_type": "stream",
     "text": [
      "{'id': 693266166085500928, 'id_string': '693266166085500928', 'state': 'published', 'display_text': 'Posted to palegentlementale'}\n",
      "Done with 571 out of 578\n"
     ]
    },
    {
     "name": "stderr",
     "output_type": "stream",
     "text": [
      "WrigleysSpearmintGum1911A:\n",
      " downloading Wrigley's Spearmint Gum-1911A.jpg: 100%|██████████| 95.4k/95.4k [00:00<00:00, 359kiB/s]\n"
     ]
    },
    {
     "name": "stdout",
     "output_type": "stream",
     "text": [
      "{'id': 693266171363983360, 'id_string': '693266171363983360', 'state': 'published', 'display_text': 'Posted to palegentlementale'}\n",
      "Done with 572 out of 578\n"
     ]
    },
    {
     "name": "stderr",
     "output_type": "stream",
     "text": [
      "WrigleysSpearmintGum1913A:\n",
      " downloading Wrigley's Spearmint Gum -1913A.jpg: 100%|██████████| 113k/113k [00:00<00:00, 228kiB/s]\n"
     ]
    },
    {
     "name": "stdout",
     "output_type": "stream",
     "text": [
      "{'id': 693266177066188801, 'id_string': '693266177066188801', 'state': 'published', 'display_text': 'Posted to palegentlementale'}\n",
      "Done with 573 out of 578\n"
     ]
    },
    {
     "name": "stderr",
     "output_type": "stream",
     "text": [
      "WrigleysSpearmintGum1914A:\n",
      " downloading Wrigley's Spearmint Gum -1914A.jpg: 100%|██████████| 151k/151k [00:00<00:00, 292kiB/s]\n"
     ]
    },
    {
     "name": "stdout",
     "output_type": "stream",
     "text": [
      "{'id': 693266184891744256, 'id_string': '693266184891744256', 'state': 'published', 'display_text': 'Posted to palegentlementale'}\n",
      "Done with 574 out of 578\n"
     ]
    },
    {
     "name": "stderr",
     "output_type": "stream",
     "text": [
      "WrigleysSpearmintGum1929A:\n",
      " downloading Wrigley's Spearmint Gum -1929A.jpg: 100%|██████████| 62.1k/62.1k [00:00<00:00, 261kiB/s]\n"
     ]
    },
    {
     "name": "stdout",
     "output_type": "stream",
     "text": [
      "{'id': 693266191137079296, 'id_string': '693266191137079296', 'state': 'published', 'display_text': 'Posted to palegentlementale'}\n",
      "Done with 575 out of 578\n"
     ]
    },
    {
     "name": "stderr",
     "output_type": "stream",
     "text": [
      "YeastFoamandMagicYeast1923A:\n",
      " downloading Yeast Foam and Magic Yeast -1923A.jpg: 100%|██████████| 182k/182k [00:00<00:00, 334kiB/s]\n"
     ]
    },
    {
     "name": "stdout",
     "output_type": "stream",
     "text": [
      "{'id': 693266197842706432, 'id_string': '693266197842706432', 'state': 'published', 'display_text': 'Posted to palegentlementale'}\n",
      "Done with 576 out of 578\n"
     ]
    },
    {
     "name": "stderr",
     "output_type": "stream",
     "text": [
      "ZuZuGingerSnaps1910A:\n",
      " downloading Zu Zu Ginger Snaps -1910A.jpg: 100%|██████████| 120k/120k [00:00<00:00, 238kiB/s]\n"
     ]
    },
    {
     "name": "stdout",
     "output_type": "stream",
     "text": [
      "{'id': 693266204036661248, 'id_string': '693266204036661248', 'state': 'published', 'display_text': 'Posted to palegentlementale'}\n",
      "Done with 577 out of 578\n"
     ]
    }
   ],
   "source": [
    "for i in range(450, len(data)):\n",
    "    illustration = data.iloc[i]\n",
    "\n",
    "    download(illustration['identifier'], destdir = '../Dump/', verbose=True, glob_pattern=illustration['name'])\n",
    "\n",
    "    address = '../Dump/' + illustration['identifier'] + '/' + illustration['name']\n",
    "\n",
    "    outString = pt.image_to_string(Image.open(address))\n",
    "    outString = outString.replace('\\n', ' ')\n",
    "\n",
    "    words = nltk.word_tokenize(outString)\n",
    "\n",
    "    words = [spell(word) for word in words if word.isalnum()]    \n",
    "\n",
    "    print(client.create_photo('palegentlementale', state=\"published\", tags= words, tweet=illustration['name'][:-4], data=address))\n",
    "\n",
    "    shutil.rmtree('../Dump/' + illustration['identifier'])\n",
    "\n",
    "    print('Done with ' + str(i) + ' out of ' + str(len(data)))\n",
    "    "
   ]
  },
  {
   "cell_type": "code",
   "execution_count": null,
   "metadata": {},
   "outputs": [],
   "source": []
  }
 ],
 "metadata": {
  "kernelspec": {
   "display_name": "Python 3.10.4 ('tumblr')",
   "language": "python",
   "name": "python3"
  },
  "language_info": {
   "codemirror_mode": {
    "name": "ipython",
    "version": 3
   },
   "file_extension": ".py",
   "mimetype": "text/x-python",
   "name": "python",
   "nbconvert_exporter": "python",
   "pygments_lexer": "ipython3",
   "version": "3.10.4"
  },
  "orig_nbformat": 4,
  "vscode": {
   "interpreter": {
    "hash": "5537f978e9935e9e101cfb4c1eb5c80a886277ac530229be6f1dff443d6806cc"
   }
  }
 },
 "nbformat": 4,
 "nbformat_minor": 2
}
