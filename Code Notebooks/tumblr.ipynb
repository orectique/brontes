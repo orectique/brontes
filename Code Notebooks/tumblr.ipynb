{
 "cells": [
  {
   "cell_type": "code",
   "execution_count": 35,
   "metadata": {},
   "outputs": [
    {
     "data": {
      "text/plain": [
       "True"
      ]
     },
     "execution_count": 35,
     "metadata": {},
     "output_type": "execute_result"
    }
   ],
   "source": [
    "import pytumblr\n",
    "from dotenv import load_dotenv\n",
    "import os\n",
    "\n",
    "load_dotenv()"
   ]
  },
  {
   "cell_type": "code",
   "execution_count": 38,
   "metadata": {},
   "outputs": [],
   "source": [
    "client = pytumblr.TumblrRestClient(\n",
    "  os.getenv('TUMBLR_CONSUMER_KEY'),\n",
    "  os.getenv('TUMBLR_SECRET_KEY'),\n",
    "  os.getenv('TUMBLR_OAUTH_TOKEN'),\n",
    "  os.getenv('TUMBLR_OAUTH_SECRET')\n",
    ")"
   ]
  },
  {
   "cell_type": "code",
   "execution_count": 39,
   "metadata": {},
   "outputs": [
    {
     "data": {
      "text/plain": [
       "{'user': {'name': 'palegentlementale',\n",
       "  'likes': 0,\n",
       "  'following': 1,\n",
       "  'default_post_format': 'html',\n",
       "  'blogs': [{'admin': True,\n",
       "    'ask': False,\n",
       "    'ask_anon': False,\n",
       "    'ask_page_title': 'Ask me anything',\n",
       "    'asks_allow_media': True,\n",
       "    'avatar': [{'width': 512,\n",
       "      'height': 512,\n",
       "      'url': 'https://64.media.tumblr.com/37b23e6ae38f98b69bb57e77dd7ac3fb/22895acaf1395642-51/s512x512u_c1/f62424b506ecda324bd2bf7115065473e7f56f6f.png'},\n",
       "     {'width': 128,\n",
       "      'height': 128,\n",
       "      'url': 'https://64.media.tumblr.com/37b23e6ae38f98b69bb57e77dd7ac3fb/22895acaf1395642-51/s128x128u_c1/4af8764b7af52575cef4bf7eb8bb9b5e154ea812.png'},\n",
       "     {'width': 96,\n",
       "      'height': 96,\n",
       "      'url': 'https://64.media.tumblr.com/37b23e6ae38f98b69bb57e77dd7ac3fb/22895acaf1395642-51/s96x96u_c1/b71af30e72ced8aee00a76c55bea9a2eb432600b.png'},\n",
       "     {'width': 64,\n",
       "      'height': 64,\n",
       "      'url': 'https://64.media.tumblr.com/37b23e6ae38f98b69bb57e77dd7ac3fb/22895acaf1395642-51/s64x64u_c1/c0661b49694a547fcbb0b325475b06910d34613d.png'}],\n",
       "    'can_chat': False,\n",
       "    'can_send_fan_mail': True,\n",
       "    'can_subscribe': False,\n",
       "    'description': '',\n",
       "    'drafts': 0,\n",
       "    'facebook': 'N',\n",
       "    'facebook_opengraph_enabled': 'N',\n",
       "    'followed': False,\n",
       "    'followers': 0,\n",
       "    'is_blocked_from_primary': False,\n",
       "    'is_nsfw': False,\n",
       "    'likes': 0,\n",
       "    'messages': 0,\n",
       "    'name': 'palegentlementale',\n",
       "    'posts': 150,\n",
       "    'primary': True,\n",
       "    'queue': 0,\n",
       "    'share_likes': True,\n",
       "    'subscribed': False,\n",
       "    'theme': {'header_full_width': 1920,\n",
       "     'header_full_height': 817,\n",
       "     'avatar_shape': 'circle',\n",
       "     'background_color': '#FFFFFF',\n",
       "     'body_font': 'Helvetica Neue',\n",
       "     'header_bounds': '',\n",
       "     'header_image': 'https://64.media.tumblr.com/56dc2be3d54d845f9cd4ce785ef64de7/22895acaf1395642-fd/s1920x817/4d6793e397df2a4f173a1dd08a65f541e2b79c0a.jpg',\n",
       "     'header_image_focused': 'https://64.media.tumblr.com/56dc2be3d54d845f9cd4ce785ef64de7/22895acaf1395642-fd/s2048x3072/02ba8fb1719a791bfece81c7efb7d3c07977303f.jpg',\n",
       "     'header_image_poster': '',\n",
       "     'header_image_scaled': 'https://64.media.tumblr.com/56dc2be3d54d845f9cd4ce785ef64de7/22895acaf1395642-fd/s2048x3072/02ba8fb1719a791bfece81c7efb7d3c07977303f.jpg',\n",
       "     'header_stretch': True,\n",
       "     'link_color': '#00B8FF',\n",
       "     'show_avatar': True,\n",
       "     'show_description': True,\n",
       "     'show_header_image': True,\n",
       "     'show_title': True,\n",
       "     'title_color': '#000000',\n",
       "     'title_font': 'Gibson',\n",
       "     'title_font_weight': 'bold'},\n",
       "    'title': 'Orectique',\n",
       "    'total_posts': 150,\n",
       "    'tweet': 'N',\n",
       "    'twitter_enabled': False,\n",
       "    'twitter_send': False,\n",
       "    'type': 'public',\n",
       "    'updated': 1659966762,\n",
       "    'url': 'https://palegentlementale.tumblr.com/',\n",
       "    'uuid': 't:FMgAw8nouPKM7ZNVBsCpxQ'}]}}"
      ]
     },
     "execution_count": 39,
     "metadata": {},
     "output_type": "execute_result"
    }
   ],
   "source": [
    "client.info()"
   ]
  },
  {
   "cell_type": "code",
   "execution_count": 26,
   "metadata": {},
   "outputs": [],
   "source": [
    "import pandas as pd"
   ]
  },
  {
   "cell_type": "code",
   "execution_count": 27,
   "metadata": {},
   "outputs": [],
   "source": [
    "import json\n",
    "\n",
    "with open('../Data/listFiles.json') as f:\n",
    "    data = json.load(f)"
   ]
  },
  {
   "cell_type": "code",
   "execution_count": 28,
   "metadata": {},
   "outputs": [],
   "source": [
    "data = pd.DataFrame(data)"
   ]
  },
  {
   "cell_type": "code",
   "execution_count": 29,
   "metadata": {},
   "outputs": [
    {
     "data": {
      "text/html": [
       "<div>\n",
       "<style scoped>\n",
       "    .dataframe tbody tr th:only-of-type {\n",
       "        vertical-align: middle;\n",
       "    }\n",
       "\n",
       "    .dataframe tbody tr th {\n",
       "        vertical-align: top;\n",
       "    }\n",
       "\n",
       "    .dataframe thead th {\n",
       "        text-align: right;\n",
       "    }\n",
       "</style>\n",
       "<table border=\"1\" class=\"dataframe\">\n",
       "  <thead>\n",
       "    <tr style=\"text-align: right;\">\n",
       "      <th></th>\n",
       "      <th>identifier</th>\n",
       "      <th>name</th>\n",
       "      <th>status</th>\n",
       "    </tr>\n",
       "  </thead>\n",
       "  <tbody>\n",
       "    <tr>\n",
       "      <th>0</th>\n",
       "      <td>AandPAngelFoodCake1949A</td>\n",
       "      <td>A and P Angel Food Cake -1949A.jpg</td>\n",
       "      <td>unused</td>\n",
       "    </tr>\n",
       "    <tr>\n",
       "      <th>1</th>\n",
       "      <td>AandPCannedBeans1947A</td>\n",
       "      <td>A and P Canned Beans -1947A.jpg</td>\n",
       "      <td>unused</td>\n",
       "    </tr>\n",
       "    <tr>\n",
       "      <th>2</th>\n",
       "      <td>AandPCannedBeans1949A</td>\n",
       "      <td>A and P Canned Beans -1949A.jpg</td>\n",
       "      <td>unused</td>\n",
       "    </tr>\n",
       "    <tr>\n",
       "      <th>3</th>\n",
       "      <td>AandPCoffee1946A</td>\n",
       "      <td>A and P Coffee -1946A.jpg</td>\n",
       "      <td>unused</td>\n",
       "    </tr>\n",
       "    <tr>\n",
       "      <th>4</th>\n",
       "      <td>AandPCoffee1947A</td>\n",
       "      <td>A and P Coffee -1947A.jpg</td>\n",
       "      <td>unused</td>\n",
       "    </tr>\n",
       "    <tr>\n",
       "      <th>...</th>\n",
       "      <td>...</td>\n",
       "      <td>...</td>\n",
       "      <td>...</td>\n",
       "    </tr>\n",
       "    <tr>\n",
       "      <th>573</th>\n",
       "      <td>WrigleysSpearmintGum1913A</td>\n",
       "      <td>Wrigley's Spearmint Gum -1913A.jpg</td>\n",
       "      <td>unused</td>\n",
       "    </tr>\n",
       "    <tr>\n",
       "      <th>574</th>\n",
       "      <td>WrigleysSpearmintGum1914A</td>\n",
       "      <td>Wrigley's Spearmint Gum -1914A.jpg</td>\n",
       "      <td>unused</td>\n",
       "    </tr>\n",
       "    <tr>\n",
       "      <th>575</th>\n",
       "      <td>WrigleysSpearmintGum1929A</td>\n",
       "      <td>Wrigley's Spearmint Gum -1929A.jpg</td>\n",
       "      <td>unused</td>\n",
       "    </tr>\n",
       "    <tr>\n",
       "      <th>576</th>\n",
       "      <td>YeastFoamandMagicYeast1923A</td>\n",
       "      <td>Yeast Foam and Magic Yeast -1923A.jpg</td>\n",
       "      <td>unused</td>\n",
       "    </tr>\n",
       "    <tr>\n",
       "      <th>577</th>\n",
       "      <td>ZuZuGingerSnaps1910A</td>\n",
       "      <td>Zu Zu Ginger Snaps -1910A.jpg</td>\n",
       "      <td>unused</td>\n",
       "    </tr>\n",
       "  </tbody>\n",
       "</table>\n",
       "<p>578 rows × 3 columns</p>\n",
       "</div>"
      ],
      "text/plain": [
       "                      identifier                                   name  \\\n",
       "0        AandPAngelFoodCake1949A     A and P Angel Food Cake -1949A.jpg   \n",
       "1          AandPCannedBeans1947A        A and P Canned Beans -1947A.jpg   \n",
       "2          AandPCannedBeans1949A        A and P Canned Beans -1949A.jpg   \n",
       "3               AandPCoffee1946A              A and P Coffee -1946A.jpg   \n",
       "4               AandPCoffee1947A              A and P Coffee -1947A.jpg   \n",
       "..                           ...                                    ...   \n",
       "573    WrigleysSpearmintGum1913A     Wrigley's Spearmint Gum -1913A.jpg   \n",
       "574    WrigleysSpearmintGum1914A     Wrigley's Spearmint Gum -1914A.jpg   \n",
       "575    WrigleysSpearmintGum1929A     Wrigley's Spearmint Gum -1929A.jpg   \n",
       "576  YeastFoamandMagicYeast1923A  Yeast Foam and Magic Yeast -1923A.jpg   \n",
       "577         ZuZuGingerSnaps1910A          Zu Zu Ginger Snaps -1910A.jpg   \n",
       "\n",
       "     status  \n",
       "0    unused  \n",
       "1    unused  \n",
       "2    unused  \n",
       "3    unused  \n",
       "4    unused  \n",
       "..      ...  \n",
       "573  unused  \n",
       "574  unused  \n",
       "575  unused  \n",
       "576  unused  \n",
       "577  unused  \n",
       "\n",
       "[578 rows x 3 columns]"
      ]
     },
     "execution_count": 29,
     "metadata": {},
     "output_type": "execute_result"
    }
   ],
   "source": [
    "data"
   ]
  },
  {
   "cell_type": "code",
   "execution_count": 31,
   "metadata": {},
   "outputs": [],
   "source": [
    "from internetarchive import download\n",
    "import pytesseract as pt\n",
    "from PIL import Image\n",
    "\n",
    "import nltk\n",
    "\n",
    "from autocorrect import Speller\n",
    "\n",
    "spell = Speller(lang='en')\n",
    "\n",
    "import shutil"
   ]
  },
  {
   "cell_type": "code",
   "execution_count": 32,
   "metadata": {},
   "outputs": [
    {
     "name": "stderr",
     "output_type": "stream",
     "text": [
      "AandPAngelFoodCake1949A:\n",
      " downloading A and P Angel Food Cake -1949A.jpg: 100%|██████████| 176k/176k [00:01<00:00, 126kiB/s]\n"
     ]
    },
    {
     "name": "stdout",
     "output_type": "stream",
     "text": [
      "{'id': 692023875624632320, 'id_string': '692023875624632320', 'state': 'published', 'display_text': 'Posted to palegentlementale'}\n",
      "Done with 0 out of 578\n"
     ]
    },
    {
     "name": "stderr",
     "output_type": "stream",
     "text": [
      "AandPCannedBeans1947A:\n",
      " downloading A and P Canned Beans -1947A.jpg: 100%|██████████| 195k/195k [00:01<00:00, 164kiB/s]\n"
     ]
    },
    {
     "name": "stdout",
     "output_type": "stream",
     "text": [
      "{'id': 692023885464584192, 'id_string': '692023885464584192', 'state': 'published', 'display_text': 'Posted to palegentlementale'}\n",
      "Done with 1 out of 578\n"
     ]
    },
    {
     "name": "stderr",
     "output_type": "stream",
     "text": [
      "AandPCannedBeans1949A:\n",
      " downloading A and P Canned Beans -1949A.jpg: 100%|██████████| 167k/167k [00:01<00:00, 96.0kiB/s]\n"
     ]
    },
    {
     "name": "stdout",
     "output_type": "stream",
     "text": [
      "{'id': 692023898088357888, 'id_string': '692023898088357888', 'state': 'published', 'display_text': 'Posted to palegentlementale'}\n",
      "Done with 2 out of 578\n"
     ]
    },
    {
     "name": "stderr",
     "output_type": "stream",
     "text": [
      "AandPCoffee1946A:\n",
      " downloading A and P Coffee -1946A.jpg: 100%|██████████| 209k/209k [00:01<00:00, 124kiB/s]\n"
     ]
    },
    {
     "name": "stdout",
     "output_type": "stream",
     "text": [
      "{'id': 692023907402891264, 'id_string': '692023907402891264', 'state': 'published', 'display_text': 'Posted to palegentlementale'}\n",
      "Done with 3 out of 578\n"
     ]
    },
    {
     "name": "stderr",
     "output_type": "stream",
     "text": [
      "AandPCoffee1947A:\n",
      " downloading A and P Coffee -1947A.jpg: 100%|██████████| 187k/187k [00:03<00:00, 63.3kiB/s]\n"
     ]
    },
    {
     "name": "stdout",
     "output_type": "stream",
     "text": [
      "{'id': 692023919496036352, 'id_string': '692023919496036352', 'state': 'published', 'display_text': 'Posted to palegentlementale'}\n",
      "Done with 4 out of 578\n"
     ]
    },
    {
     "name": "stderr",
     "output_type": "stream",
     "text": [
      "AandPCoffee1947B:\n",
      " downloading A and P Coffee -1947B.jpg: 100%|██████████| 199k/199k [00:01<00:00, 135kiB/s]\n"
     ]
    },
    {
     "name": "stdout",
     "output_type": "stream",
     "text": [
      "{'id': 692023930550108160, 'id_string': '692023930550108160', 'state': 'published', 'display_text': 'Posted to palegentlementale'}\n",
      "Done with 5 out of 578\n"
     ]
    },
    {
     "name": "stderr",
     "output_type": "stream",
     "text": [
      "AandPCoffee1948A:\n",
      " downloading A and P Coffee -1948A.jpg: 100%|██████████| 176k/176k [00:02<00:00, 61.0kiB/s]\n"
     ]
    },
    {
     "name": "stdout",
     "output_type": "stream",
     "text": [
      "{'id': 692023941954453504, 'id_string': '692023941954453504', 'state': 'published', 'display_text': 'Posted to palegentlementale'}\n",
      "Done with 6 out of 578\n"
     ]
    },
    {
     "name": "stderr",
     "output_type": "stream",
     "text": [
      "AandPCoffee1949A:\n",
      " downloading A and P Coffee -1949A.jpg: 100%|██████████| 181k/181k [00:01<00:00, 150kiB/s]\n"
     ]
    },
    {
     "name": "stdout",
     "output_type": "stream",
     "text": [
      "{'id': 692023950067318784, 'id_string': '692023950067318784', 'state': 'published', 'display_text': 'Posted to palegentlementale'}\n",
      "Done with 7 out of 578\n"
     ]
    },
    {
     "name": "stderr",
     "output_type": "stream",
     "text": [
      "AandPTeas1946A:\n",
      " downloading A and P Teas -1946A.jpg: 100%|██████████| 157k/157k [00:01<00:00, 105kiB/s]\n"
     ]
    },
    {
     "name": "stdout",
     "output_type": "stream",
     "text": [
      "{'id': 692023960499552256, 'id_string': '692023960499552256', 'state': 'published', 'display_text': 'Posted to palegentlementale'}\n",
      "Done with 8 out of 578\n"
     ]
    },
    {
     "name": "stderr",
     "output_type": "stream",
     "text": [
      "AandPTeas1948A:\n",
      " downloading A and P Teas -1948A.jpg: 100%|██████████| 180k/180k [00:01<00:00, 159kiB/s]\n"
     ]
    },
    {
     "name": "stdout",
     "output_type": "stream",
     "text": [
      "{'id': 692023971552575488, 'id_string': '692023971552575488', 'state': 'published', 'display_text': 'Posted to palegentlementale'}\n",
      "Done with 9 out of 578\n"
     ]
    },
    {
     "name": "stderr",
     "output_type": "stream",
     "text": [
      "AandPTeas1948B:\n",
      " downloading A and P Teas -1948B.jpg: 100%|██████████| 166k/166k [00:01<00:00, 128kiB/s]\n"
     ]
    },
    {
     "name": "stdout",
     "output_type": "stream",
     "text": [
      "{'id': 692023984269754368, 'id_string': '692023984269754368', 'state': 'published', 'display_text': 'Posted to palegentlementale'}\n",
      "Done with 10 out of 578\n"
     ]
    },
    {
     "name": "stderr",
     "output_type": "stream",
     "text": [
      "AandPTeas1949A:\n",
      " downloading A and P Teas -1949A.jpg: 100%|██████████| 135k/135k [00:02<00:00, 52.3kiB/s]\n"
     ]
    },
    {
     "name": "stdout",
     "output_type": "stream",
     "text": [
      "{'id': 692023995919450112, 'id_string': '692023995919450112', 'state': 'published', 'display_text': 'Posted to palegentlementale'}\n",
      "Done with 11 out of 578\n"
     ]
    },
    {
     "name": "stderr",
     "output_type": "stream",
     "text": [
      "AandPTeas1949B:\n",
      " downloading A and P Teas -1949B.jpg: 100%|██████████| 120k/120k [00:01<00:00, 66.8kiB/s]\n"
     ]
    },
    {
     "name": "stdout",
     "output_type": "stream",
     "text": [
      "{'id': 692024004939218944, 'id_string': '692024004939218944', 'state': 'published', 'display_text': 'Posted to palegentlementale'}\n",
      "Done with 12 out of 578\n"
     ]
    },
    {
     "name": "stderr",
     "output_type": "stream",
     "text": [
      "AandPTeas1949C:\n",
      " downloading A and P Teas -1949C.jpg: 100%|██████████| 168k/168k [00:01<00:00, 148kiB/s]\n"
     ]
    },
    {
     "name": "stdout",
     "output_type": "stream",
     "text": [
      "{'id': 692024016484057088, 'id_string': '692024016484057088', 'state': 'published', 'display_text': 'Posted to palegentlementale'}\n",
      "Done with 13 out of 578\n"
     ]
    },
    {
     "name": "stderr",
     "output_type": "stream",
     "text": [
      "AandPTeas1949D:\n",
      " downloading A and P Teas -1949D.jpg: 100%|██████████| 175k/175k [00:01<00:00, 136kiB/s]\n"
     ]
    },
    {
     "name": "stdout",
     "output_type": "stream",
     "text": [
      "{'id': 692024026222280704, 'id_string': '692024026222280704', 'state': 'published', 'display_text': 'Posted to palegentlementale'}\n",
      "Done with 14 out of 578\n"
     ]
    },
    {
     "name": "stderr",
     "output_type": "stream",
     "text": [
      "AdamsBlackJackGum1925A:\n",
      " downloading Adams Black Jack Gum -1925A.jpg: 100%|██████████| 95.4k/95.4k [00:01<00:00, 79.7kiB/s]\n"
     ]
    },
    {
     "name": "stdout",
     "output_type": "stream",
     "text": [
      "{'id': 692024034608742400, 'id_string': '692024034608742400', 'state': 'published', 'display_text': 'Posted to palegentlementale'}\n",
      "Done with 15 out of 578\n"
     ]
    },
    {
     "name": "stderr",
     "output_type": "stream",
     "text": [
      "AdamsBlackJackGum1926A:\n",
      " downloading Adams Black Jack Gum -1926A.jpg: 100%|██████████| 122k/122k [00:01<00:00, 93.6kiB/s]\n"
     ]
    },
    {
     "name": "stdout",
     "output_type": "stream",
     "text": [
      "{'id': 692024043305664512, 'id_string': '692024043305664512', 'state': 'published', 'display_text': 'Posted to palegentlementale'}\n",
      "Done with 16 out of 578\n"
     ]
    },
    {
     "name": "stderr",
     "output_type": "stream",
     "text": [
      "AdamsCaliforniaFruitGum1918A:\n",
      " downloading Adams California Fruit Gum -1918A.jpg: 100%|██████████| 130k/130k [00:00<00:00, 139kiB/s]\n"
     ]
    },
    {
     "name": "stdout",
     "output_type": "stream",
     "text": [
      "{'id': 692024053061599232, 'id_string': '692024053061599232', 'state': 'published', 'display_text': 'Posted to palegentlementale'}\n",
      "Done with 17 out of 578\n"
     ]
    },
    {
     "name": "stderr",
     "output_type": "stream",
     "text": [
      "AdamsCaliforniaFruitGum1919A:\n",
      " downloading Adams California Fruit Gum -1919A.jpg: 100%|██████████| 107k/107k [00:00<00:00, 150kiB/s]\n"
     ]
    },
    {
     "name": "stdout",
     "output_type": "stream",
     "text": [
      "{'id': 692024061776232448, 'id_string': '692024061776232448', 'state': 'published', 'display_text': 'Posted to palegentlementale'}\n",
      "Done with 18 out of 578\n"
     ]
    },
    {
     "name": "stderr",
     "output_type": "stream",
     "text": [
      "AdamsCaliforniaFruitGum1919B:\n",
      " downloading Adams California Fruit Gum -1919B.jpg: 100%|██████████| 132k/132k [00:00<00:00, 148kiB/s]\n"
     ]
    },
    {
     "name": "stdout",
     "output_type": "stream",
     "text": [
      "{'id': 692024071018414080, 'id_string': '692024071018414080', 'state': 'published', 'display_text': 'Posted to palegentlementale'}\n",
      "Done with 19 out of 578\n"
     ]
    },
    {
     "name": "stderr",
     "output_type": "stream",
     "text": [
      "AdamsCaliforniaFruitGum1919C:\n",
      " downloading Adams California Fruit Gum -1919C.jpg: 100%|██████████| 113k/113k [00:00<00:00, 151kiB/s]\n"
     ]
    },
    {
     "name": "stdout",
     "output_type": "stream",
     "text": [
      "{'id': 692024080127393792, 'id_string': '692024080127393792', 'state': 'published', 'display_text': 'Posted to palegentlementale'}\n",
      "Done with 20 out of 578\n"
     ]
    },
    {
     "name": "stderr",
     "output_type": "stream",
     "text": [
      "AdamsCaliforniaFruitGum1919D:\n",
      " downloading Adams California Fruit Gum -1919D.jpg: 100%|██████████| 123k/123k [00:00<00:00, 135kiB/s]\n"
     ]
    },
    {
     "name": "stdout",
     "output_type": "stream",
     "text": [
      "{'id': 692024087950884864, 'id_string': '692024087950884864', 'state': 'published', 'display_text': 'Posted to palegentlementale'}\n",
      "Done with 21 out of 578\n"
     ]
    },
    {
     "name": "stderr",
     "output_type": "stream",
     "text": [
      "AdamsCaliforniaFruitGum1919E:\n",
      " downloading Adams California Fruit Gum -1919E.jpg: 100%|██████████| 129k/129k [00:00<00:00, 134kiB/s]\n"
     ]
    },
    {
     "name": "stdout",
     "output_type": "stream",
     "text": [
      "{'id': 692024096387743744, 'id_string': '692024096387743744', 'state': 'published', 'display_text': 'Posted to palegentlementale'}\n",
      "Done with 22 out of 578\n"
     ]
    },
    {
     "name": "stderr",
     "output_type": "stream",
     "text": [
      "AdamsCaliforniaFruitGum1920A:\n",
      " downloading Adams California Fruit Gum -1920A.jpg: 100%|██████████| 44.5k/44.5k [00:00<00:00, 170kiB/s]\n"
     ]
    },
    {
     "name": "stdout",
     "output_type": "stream",
     "text": [
      "{'id': 692024103187759104, 'id_string': '692024103187759104', 'state': 'published', 'display_text': 'Posted to palegentlementale'}\n",
      "Done with 23 out of 578\n"
     ]
    },
    {
     "name": "stderr",
     "output_type": "stream",
     "text": [
      "AdamsCaliforniaFruitGum1920B:\n",
      " downloading Adams California Fruit Gum -1920B.jpg: 100%|██████████| 132k/132k [00:00<00:00, 144kiB/s]\n"
     ]
    },
    {
     "name": "stdout",
     "output_type": "stream",
     "text": [
      "{'id': 692024111587852288, 'id_string': '692024111587852288', 'state': 'published', 'display_text': 'Posted to palegentlementale'}\n",
      "Done with 24 out of 578\n"
     ]
    },
    {
     "name": "stderr",
     "output_type": "stream",
     "text": [
      "AdamsCaliforniaFruitGum1921A:\n",
      " downloading Adams California Fruit Gum -1921A.jpg: 100%|██████████| 94.9k/94.9k [00:00<00:00, 159kiB/s]\n"
     ]
    },
    {
     "name": "stdout",
     "output_type": "stream",
     "text": [
      "{'id': 692024119406002176, 'id_string': '692024119406002176', 'state': 'published', 'display_text': 'Posted to palegentlementale'}\n",
      "Done with 25 out of 578\n"
     ]
    },
    {
     "name": "stderr",
     "output_type": "stream",
     "text": [
      "AdamsChewingGum1920A:\n",
      " downloading Adams Chewing Gum -1920A.jpg: 100%|██████████| 103k/103k [00:01<00:00, 73.5kiB/s]\n"
     ]
    },
    {
     "name": "stdout",
     "output_type": "stream",
     "text": [
      "{'id': 692024128436305920, 'id_string': '692024128436305920', 'state': 'published', 'display_text': 'Posted to palegentlementale'}\n",
      "Done with 26 out of 578\n"
     ]
    },
    {
     "name": "stderr",
     "output_type": "stream",
     "text": [
      "AnchorGin1935A:\n",
      " downloading Anchor Gin -1935A.jpg: 100%|██████████| 94.8k/94.8k [00:02<00:00, 35.2kiB/s]\n"
     ]
    },
    {
     "name": "stdout",
     "output_type": "stream",
     "text": [
      "{'id': 692024139677122560, 'id_string': '692024139677122560', 'state': 'published', 'display_text': 'Posted to palegentlementale'}\n",
      "Done with 27 out of 578\n"
     ]
    },
    {
     "name": "stderr",
     "output_type": "stream",
     "text": [
      "AngosturaBitters1902A:\n",
      " downloading Angostura Bitters -1902A.jpg: 100%|██████████| 149k/149k [00:00<00:00, 158kiB/s]\n"
     ]
    },
    {
     "name": "stdout",
     "output_type": "stream",
     "text": [
      "{'id': 692024151137042432, 'id_string': '692024151137042432', 'state': 'published', 'display_text': 'Posted to palegentlementale'}\n",
      "Done with 28 out of 578\n"
     ]
    },
    {
     "name": "stderr",
     "output_type": "stream",
     "text": [
      "AnnPageMacaroni1949A:\n",
      " downloading Ann Page Macaroni -1949A.jpg: 100%|██████████| 97.5k/97.5k [00:00<00:00, 109kiB/s]\n"
     ]
    },
    {
     "name": "stdout",
     "output_type": "stream",
     "text": [
      "{'id': 692024160270057472, 'id_string': '692024160270057472', 'state': 'published', 'display_text': 'Posted to palegentlementale'}\n",
      "Done with 29 out of 578\n"
     ]
    },
    {
     "name": "stderr",
     "output_type": "stream",
     "text": [
      "AnolaWafers1916A:\n",
      " downloading Anola Wafers -1916A.jpg: 100%|██████████| 136k/136k [00:00<00:00, 193kiB/s]\n"
     ]
    },
    {
     "name": "stdout",
     "output_type": "stream",
     "text": [
      "{'id': 692024168727855104, 'id_string': '692024168727855104', 'state': 'published', 'display_text': 'Posted to palegentlementale'}\n",
      "Done with 30 out of 578\n"
     ]
    },
    {
     "name": "stderr",
     "output_type": "stream",
     "text": [
      "ArgoCornStarch1919A:\n",
      " downloading Argo Corn Starch -1919A.jpg: 100%|██████████| 146k/146k [00:01<00:00, 77.3kiB/s]\n"
     ]
    },
    {
     "name": "stdout",
     "output_type": "stream",
     "text": [
      "{'id': 692024178662080512, 'id_string': '692024178662080512', 'state': 'published', 'display_text': 'Posted to palegentlementale'}\n",
      "Done with 31 out of 578\n"
     ]
    },
    {
     "name": "stderr",
     "output_type": "stream",
     "text": [
      "ArmourGrapeJuice1916A:\n",
      " downloading Armour Grape Juice -1916A.jpg: 100%|██████████| 102k/102k [00:01<00:00, 68.4kiB/s]\n"
     ]
    },
    {
     "name": "stdout",
     "output_type": "stream",
     "text": [
      "{'id': 692024187304476672, 'id_string': '692024187304476672', 'state': 'published', 'display_text': 'Posted to palegentlementale'}\n",
      "Done with 32 out of 578\n"
     ]
    },
    {
     "name": "stderr",
     "output_type": "stream",
     "text": [
      "ArmourPureLeafLard1919A:\n",
      " downloading Armour Pure Leaf Lard -1919A.jpg: 100%|██████████| 127k/127k [00:08<00:00, 15.2kiB/s]\n"
     ]
    },
    {
     "name": "stdout",
     "output_type": "stream",
     "text": [
      "{'id': 692024205014892544, 'id_string': '692024205014892544', 'state': 'published', 'display_text': 'Posted to palegentlementale'}\n",
      "Done with 33 out of 578\n"
     ]
    },
    {
     "name": "stderr",
     "output_type": "stream",
     "text": [
      "ArmourStarBacon1920s:\n",
      " downloading Armour Star Bacon -1920's.jpg: 100%|██████████| 135k/135k [00:02<00:00, 49.1kiB/s]\n"
     ]
    },
    {
     "name": "stdout",
     "output_type": "stream",
     "text": [
      "{'id': 692024217305333760, 'id_string': '692024217305333760', 'state': 'published', 'display_text': 'Posted to palegentlementale'}\n",
      "Done with 34 out of 578\n"
     ]
    },
    {
     "name": "stderr",
     "output_type": "stream",
     "text": [
      "ArmourSummerSpecialties1919A:\n",
      " downloading Armour Summer Specialties -1919A.jpg: 100%|██████████| 138k/138k [00:01<00:00, 74.4kiB/s]\n"
     ]
    },
    {
     "name": "stdout",
     "output_type": "stream",
     "text": [
      "{'id': 692024228350935040, 'id_string': '692024228350935040', 'state': 'published', 'display_text': 'Posted to palegentlementale'}\n",
      "Done with 35 out of 578\n"
     ]
    },
    {
     "name": "stderr",
     "output_type": "stream",
     "text": [
      "ArrowrootBiscuits1925A:\n",
      " downloading Arrowroot Biscuits -1925A.jpg: 100%|██████████| 128k/128k [00:00<00:00, 142kiB/s]\n"
     ]
    },
    {
     "name": "stdout",
     "output_type": "stream",
     "text": [
      "{'id': 692024238127874048, 'id_string': '692024238127874048', 'state': 'published', 'display_text': 'Posted to palegentlementale'}\n",
      "Done with 36 out of 578\n"
     ]
    },
    {
     "name": "stderr",
     "output_type": "stream",
     "text": [
      "AuntJemimaPancakeFlour1920A:\n",
      " downloading Aunt Jemima Pancake Flour -1920A.jpg: 100%|██████████| 145k/145k [00:00<00:00, 167kiB/s]\n"
     ]
    },
    {
     "name": "stdout",
     "output_type": "stream",
     "text": [
      "{'id': 692024246724165632, 'id_string': '692024246724165632', 'state': 'published', 'display_text': 'Posted to palegentlementale'}\n",
      "Done with 37 out of 578\n"
     ]
    },
    {
     "name": "stderr",
     "output_type": "stream",
     "text": [
      "AuntJemimaPancakeMixes1947A:\n",
      " downloading Aunt Jemima Pancake Mixes -1947A.jpg: 100%|██████████| 103k/103k [00:00<00:00, 171kiB/s]\n"
     ]
    },
    {
     "name": "stdout",
     "output_type": "stream",
     "text": [
      "{'id': 692024253768515584, 'id_string': '692024253768515584', 'state': 'published', 'display_text': 'Posted to palegentlementale'}\n",
      "Done with 38 out of 578\n"
     ]
    },
    {
     "name": "stderr",
     "output_type": "stream",
     "text": [
      "BabyRuth1926A:\n",
      " downloading Baby Ruth -1926A.jpg: 100%|██████████| 62.5k/62.5k [00:00<00:00, 104kiB/s]\n"
     ]
    },
    {
     "name": "stdout",
     "output_type": "stream",
     "text": [
      "{'id': 692024260577968128, 'id_string': '692024260577968128', 'state': 'published', 'display_text': 'Posted to palegentlementale'}\n",
      "Done with 39 out of 578\n"
     ]
    },
    {
     "name": "stderr",
     "output_type": "stream",
     "text": [
      "BabyRuth1926B:\n",
      " downloading Baby Ruth -1926B.jpg: 100%|██████████| 242k/242k [00:01<00:00, 135kiB/s]\n"
     ]
    },
    {
     "name": "stdout",
     "output_type": "stream",
     "text": [
      "{'id': 692024271191621632, 'id_string': '692024271191621632', 'state': 'published', 'display_text': 'Posted to palegentlementale'}\n",
      "Done with 40 out of 578\n"
     ]
    },
    {
     "name": "stderr",
     "output_type": "stream",
     "text": [
      "BabyRuth1926C:\n",
      " downloading Baby Ruth -1926C.jpg: 100%|██████████| 205k/205k [00:02<00:00, 75.0kiB/s]\n"
     ]
    },
    {
     "name": "stdout",
     "output_type": "stream",
     "text": [
      "{'id': 692024282350600192, 'id_string': '692024282350600192', 'state': 'published', 'display_text': 'Posted to palegentlementale'}\n",
      "Done with 41 out of 578\n"
     ]
    },
    {
     "name": "stderr",
     "output_type": "stream",
     "text": [
      "BabyRuth1930sA:\n",
      " downloading Baby Ruth -1930'sA.jpg: 100%|██████████| 54.3k/54.3k [00:00<00:00, 183kiB/s]\n"
     ]
    },
    {
     "name": "stdout",
     "output_type": "stream",
     "text": [
      "{'id': 692024289599356928, 'id_string': '692024289599356928', 'state': 'published', 'display_text': 'Posted to palegentlementale'}\n",
      "Done with 42 out of 578\n"
     ]
    },
    {
     "name": "stderr",
     "output_type": "stream",
     "text": [
      "BabyRuth1940A:\n",
      " downloading Baby Ruth -1940A.jpg: 100%|██████████| 77.8k/77.8k [00:01<00:00, 77.8kiB/s]\n"
     ]
    },
    {
     "name": "stdout",
     "output_type": "stream",
     "text": [
      "{'id': 692024299138285568, 'id_string': '692024299138285568', 'state': 'published', 'display_text': 'Posted to palegentlementale'}\n",
      "Done with 43 out of 578\n"
     ]
    },
    {
     "name": "stderr",
     "output_type": "stream",
     "text": [
      "BakersChocolate1922A:\n",
      " downloading Baker's Chocolate -1922A.jpg: 100%|██████████| 148k/148k [00:00<00:00, 165kiB/s]\n"
     ]
    },
    {
     "name": "stdout",
     "output_type": "stream",
     "text": [
      "{'id': 692024309261254656, 'id_string': '692024309261254656', 'state': 'published', 'display_text': 'Posted to palegentlementale'}\n",
      "Done with 44 out of 578\n"
     ]
    },
    {
     "name": "stderr",
     "output_type": "stream",
     "text": [
      "BakersCocoa1913A:\n",
      " downloading Baker's Cocoa -1913A.jpg: 100%|██████████| 150k/150k [00:01<00:00, 151kiB/s]\n"
     ]
    },
    {
     "name": "stdout",
     "output_type": "stream",
     "text": [
      "{'id': 692024322516189184, 'id_string': '692024322516189184', 'state': 'published', 'display_text': 'Posted to palegentlementale'}\n",
      "Done with 45 out of 578\n"
     ]
    },
    {
     "name": "stderr",
     "output_type": "stream",
     "text": [
      "BakersCocoa1947A:\n",
      " downloading Baker's Cocoa -1947A.jpg: 100%|██████████| 143k/143k [00:00<00:00, 158kiB/s]\n"
     ]
    },
    {
     "name": "stdout",
     "output_type": "stream",
     "text": [
      "{'id': 692024335716761600, 'id_string': '692024335716761600', 'state': 'published', 'display_text': 'Posted to palegentlementale'}\n",
      "Done with 46 out of 578\n"
     ]
    },
    {
     "name": "stderr",
     "output_type": "stream",
     "text": [
      "BakersCoconut1919A:\n",
      " downloading Baker's Coconut -1919A.jpg: 100%|██████████| 142k/142k [00:01<00:00, 126kiB/s]\n"
     ]
    },
    {
     "name": "stdout",
     "output_type": "stream",
     "text": [
      "{'id': 692024344866586625, 'id_string': '692024344866586625', 'state': 'published', 'display_text': 'Posted to palegentlementale'}\n",
      "Done with 47 out of 578\n"
     ]
    },
    {
     "name": "stderr",
     "output_type": "stream",
     "text": [
      "BakersCoconut1920A:\n",
      " downloading Baker's Coconut -1920A.jpg: 100%|██████████| 143k/143k [00:00<00:00, 159kiB/s]\n"
     ]
    },
    {
     "name": "stdout",
     "output_type": "stream",
     "text": [
      "{'id': 692024353363197952, 'id_string': '692024353363197952', 'state': 'published', 'display_text': 'Posted to palegentlementale'}\n",
      "Done with 48 out of 578\n"
     ]
    },
    {
     "name": "stderr",
     "output_type": "stream",
     "text": [
      "BallantinesAle1940A:\n",
      " downloading Ballantine's Ale -1940A.jpg: 100%|██████████| 103k/103k [00:00<00:00, 177kiB/s]\n"
     ]
    },
    {
     "name": "stdout",
     "output_type": "stream",
     "text": [
      "{'id': 692024362071703552, 'id_string': '692024362071703552', 'state': 'published', 'display_text': 'Posted to palegentlementale'}\n",
      "Done with 49 out of 578\n"
     ]
    },
    {
     "name": "stderr",
     "output_type": "stream",
     "text": [
      "BarringtonHallCoffee1911A:\n",
      " downloading Barrington Hall Coffee -1911A.jpg: 100%|██████████| 112k/112k [00:00<00:00, 188kiB/s]\n"
     ]
    },
    {
     "name": "stdout",
     "output_type": "stream",
     "text": [
      "{'id': 692024374453321728, 'id_string': '692024374453321728', 'state': 'published', 'display_text': 'Posted to palegentlementale'}\n",
      "Done with 50 out of 578\n"
     ]
    },
    {
     "name": "stderr",
     "output_type": "stream",
     "text": [
      "BarringtonHallCoffee1913A:\n",
      " downloading Barrington Hall Coffee -1913A.jpg: 100%|██████████| 132k/132k [00:00<00:00, 157kiB/s]\n"
     ]
    },
    {
     "name": "stdout",
     "output_type": "stream",
     "text": [
      "{'id': 692024385777893376, 'id_string': '692024385777893376', 'state': 'published', 'display_text': 'Posted to palegentlementale'}\n",
      "Done with 51 out of 578\n"
     ]
    },
    {
     "name": "stderr",
     "output_type": "stream",
     "text": [
      "BarringtonHallCoffee1917A:\n",
      " downloading Barrington Hall Coffee -1917A.jpg: 100%|██████████| 95.2k/95.2k [00:00<00:00, 362kiB/s]\n"
     ]
    },
    {
     "name": "stdout",
     "output_type": "stream",
     "text": [
      "{'id': 692024398112243712, 'id_string': '692024398112243712', 'state': 'published', 'display_text': 'Posted to palegentlementale'}\n",
      "Done with 52 out of 578\n"
     ]
    },
    {
     "name": "stderr",
     "output_type": "stream",
     "text": [
      "BeechNutGingerAle1919A:\n",
      " downloading Beech-Nut Ginger Ale -1919A.jpg: 100%|██████████| 41.6k/41.6k [00:00<?, ?iB/s]\n"
     ]
    },
    {
     "name": "stdout",
     "output_type": "stream",
     "text": [
      "{'id': 692024405054849024, 'id_string': '692024405054849024', 'state': 'published', 'display_text': 'Posted to palegentlementale'}\n",
      "Done with 53 out of 578\n"
     ]
    },
    {
     "name": "stderr",
     "output_type": "stream",
     "text": [
      "BeechNutGingerAle1920sA:\n",
      " downloading Beech-Nut Ginger Ale -1920'sA.jpg: 100%|██████████| 58.4k/58.4k [00:00<00:00, 200kiB/s]\n"
     ]
    },
    {
     "name": "stdout",
     "output_type": "stream",
     "text": [
      "{'id': 692024411686158336, 'id_string': '692024411686158336', 'state': 'published', 'display_text': 'Posted to palegentlementale'}\n",
      "Done with 54 out of 578\n"
     ]
    },
    {
     "name": "stderr",
     "output_type": "stream",
     "text": [
      "BeechNutGum1934A:\n",
      " downloading Beech-Nut Gum -1934A.jpg: 100%|██████████| 185k/185k [00:01<00:00, 133kiB/s]\n"
     ]
    },
    {
     "name": "stdout",
     "output_type": "stream",
     "text": [
      "{'id': 692024421450481665, 'id_string': '692024421450481665', 'state': 'published', 'display_text': 'Posted to palegentlementale'}\n",
      "Done with 55 out of 578\n"
     ]
    },
    {
     "name": "stderr",
     "output_type": "stream",
     "text": [
      "BeechNutGum1940A:\n",
      " downloading Beech-Nut Gum -1940A.jpg: 100%|██████████| 261k/261k [00:02<00:00, 93.3kiB/s]\n"
     ]
    },
    {
     "name": "stdout",
     "output_type": "stream",
     "text": [
      "{'id': 692024433669537792, 'id_string': '692024433669537792', 'state': 'published', 'display_text': 'Posted to palegentlementale'}\n",
      "Done with 56 out of 578\n"
     ]
    },
    {
     "name": "stderr",
     "output_type": "stream",
     "text": [
      "BeechNutGum1946A:\n",
      " downloading Beech-Nut Gum -1946A.jpg: 100%|██████████| 163k/163k [00:01<00:00, 126kiB/s]\n"
     ]
    },
    {
     "name": "stdout",
     "output_type": "stream",
     "text": [
      "{'id': 692024443095171072, 'id_string': '692024443095171072', 'state': 'published', 'display_text': 'Posted to palegentlementale'}\n",
      "Done with 57 out of 578\n"
     ]
    },
    {
     "name": "stderr",
     "output_type": "stream",
     "text": [
      "BeechNutGum1947A:\n",
      " downloading Beech-Nut Gum -1947A.jpg: 100%|██████████| 75.1k/75.1k [00:00<00:00, 109kiB/s]\n"
     ]
    },
    {
     "name": "stdout",
     "output_type": "stream",
     "text": [
      "{'id': 692024450377515008, 'id_string': '692024450377515008', 'state': 'published', 'display_text': 'Posted to palegentlementale'}\n",
      "Done with 58 out of 578\n"
     ]
    },
    {
     "name": "stderr",
     "output_type": "stream",
     "text": [
      "BeechNutGum1948A:\n",
      " downloading Beech-Nut Gum -1948A.jpg: 100%|██████████| 202k/202k [00:03<00:00, 53.0kiB/s]\n"
     ]
    },
    {
     "name": "stdout",
     "output_type": "stream",
     "text": [
      "{'id': 692024465545134080, 'id_string': '692024465545134080', 'state': 'published', 'display_text': 'Posted to palegentlementale'}\n",
      "Done with 59 out of 578\n"
     ]
    },
    {
     "name": "stderr",
     "output_type": "stream",
     "text": [
      "BeechNutGum1949A:\n",
      " downloading Beech-Nut Gum -1949A.jpg: 100%|██████████| 113k/113k [00:00<00:00, 174kiB/s]\n"
     ]
    },
    {
     "name": "stdout",
     "output_type": "stream",
     "text": [
      "{'id': 692024473778601984, 'id_string': '692024473778601984', 'state': 'published', 'display_text': 'Posted to palegentlementale'}\n",
      "Done with 60 out of 578\n"
     ]
    },
    {
     "name": "stderr",
     "output_type": "stream",
     "text": [
      "BeechNutPeanutButter1912A:\n",
      " downloading Beech-Nut Peanut Butter -1912A.jpg: 100%|██████████| 111k/111k [00:01<00:00, 59.5kiB/s]\n"
     ]
    },
    {
     "name": "stdout",
     "output_type": "stream",
     "text": [
      "{'id': 692024484046192640, 'id_string': '692024484046192640', 'state': 'published', 'display_text': 'Posted to palegentlementale'}\n",
      "Done with 61 out of 578\n"
     ]
    },
    {
     "name": "stderr",
     "output_type": "stream",
     "text": [
      "BeechNutPeanutButter1912B:\n",
      " downloading Beech-Nut Peanut Butter -1912B.jpg: 100%|██████████| 133k/133k [00:00<00:00, 149kiB/s]\n"
     ]
    },
    {
     "name": "stdout",
     "output_type": "stream",
     "text": [
      "{'id': 692024493420511232, 'id_string': '692024493420511232', 'state': 'published', 'display_text': 'Posted to palegentlementale'}\n",
      "Done with 62 out of 578\n"
     ]
    },
    {
     "name": "stderr",
     "output_type": "stream",
     "text": [
      "BeechNutPeanutButter1918A:\n",
      " downloading Beech-Nut Peanut Butter -1918A.jpg: 100%|██████████| 135k/135k [00:00<00:00, 210kiB/s]\n"
     ]
    },
    {
     "name": "stdout",
     "output_type": "stream",
     "text": [
      "{'id': 692024501581561856, 'id_string': '692024501581561856', 'state': 'published', 'display_text': 'Posted to palegentlementale'}\n",
      "Done with 63 out of 578\n"
     ]
    },
    {
     "name": "stderr",
     "output_type": "stream",
     "text": [
      "BeemansPepsinGum1915A:\n",
      " downloading Beeman's Pepsin Gum -1915A.jpg: 100%|██████████| 115k/115k [00:00<00:00, 200kiB/s]\n"
     ]
    },
    {
     "name": "stdout",
     "output_type": "stream",
     "text": [
      "{'id': 692024510009032704, 'id_string': '692024510009032704', 'state': 'published', 'display_text': 'Posted to palegentlementale'}\n",
      "Done with 64 out of 578\n"
     ]
    },
    {
     "name": "stderr",
     "output_type": "stream",
     "text": [
      "BellsSeasoning1946A:\n",
      " downloading Bell's Seasoning -1946A.jpg: 100%|██████████| 143k/143k [00:01<00:00, 144kiB/s]\n"
     ]
    },
    {
     "name": "stdout",
     "output_type": "stream",
     "text": [
      "{'id': 692024519287816192, 'id_string': '692024519287816192', 'state': 'published', 'display_text': 'Posted to palegentlementale'}\n",
      "Done with 65 out of 578\n"
     ]
    },
    {
     "name": "stderr",
     "output_type": "stream",
     "text": [
      "BestFoodsMustard1947A:\n",
      " downloading Best Foods Mustard -1947A.jpg: 100%|██████████| 133k/133k [00:02<00:00, 66.4kiB/s]\n"
     ]
    },
    {
     "name": "stdout",
     "output_type": "stream",
     "text": [
      "{'id': 692024530345115648, 'id_string': '692024530345115648', 'state': 'published', 'display_text': 'Posted to palegentlementale'}\n",
      "Done with 66 out of 578\n"
     ]
    },
    {
     "name": "stderr",
     "output_type": "stream",
     "text": [
      "BestTonicMaltExtract1888A:\n",
      " downloading Best Tonic Malt Extract -1888A.jpg: 100%|██████████| 108k/108k [00:01<00:00, 73.8kiB/s]\n"
     ]
    },
    {
     "name": "stdout",
     "output_type": "stream",
     "text": [
      "{'id': 692024541613015040, 'id_string': '692024541613015040', 'state': 'published', 'display_text': 'Posted to palegentlementale'}\n",
      "Done with 67 out of 578\n"
     ]
    },
    {
     "name": "stderr",
     "output_type": "stream",
     "text": [
      "Bevo1918A:\n",
      " downloading Bevo -1918A.jpg: 100%|██████████| 169k/169k [00:01<00:00, 107kiB/s]\n"
     ]
    },
    {
     "name": "stdout",
     "output_type": "stream",
     "text": [
      "{'id': 692024550713589760, 'id_string': '692024550713589760', 'state': 'published', 'display_text': 'Posted to palegentlementale'}\n",
      "Done with 68 out of 578\n"
     ]
    },
    {
     "name": "stderr",
     "output_type": "stream",
     "text": [
      "BlackJackChewingGum1923A:\n",
      " downloading Black Jack Chewing Gum -1923A.jpg: 100%|██████████| 112k/112k [00:01<00:00, 59.0kiB/s]\n"
     ]
    },
    {
     "name": "stdout",
     "output_type": "stream",
     "text": [
      "{'id': 692024560224272384, 'id_string': '692024560224272384', 'state': 'published', 'display_text': 'Posted to palegentlementale'}\n",
      "Done with 69 out of 578\n"
     ]
    },
    {
     "name": "stderr",
     "output_type": "stream",
     "text": [
      "BlankesFaustCoffee1911A:\n",
      " downloading Blanke's Faust Coffee -1911A.jpg: 100%|██████████| 104k/104k [00:01<00:00, 68.7kiB/s]\n"
     ]
    },
    {
     "name": "stdout",
     "output_type": "stream",
     "text": [
      "{'id': 692024569512542208, 'id_string': '692024569512542208', 'state': 'published', 'display_text': 'Posted to palegentlementale'}\n",
      "Done with 70 out of 578\n"
     ]
    },
    {
     "name": "stderr",
     "output_type": "stream",
     "text": [
      "BlatzBeer1909A:\n",
      " downloading Blatz Beer -1909A.jpg: 100%|██████████| 125k/125k [00:00<00:00, 141kiB/s]\n"
     ]
    },
    {
     "name": "stdout",
     "output_type": "stream",
     "text": [
      "{'id': 692024578921349120, 'id_string': '692024578921349120', 'state': 'published', 'display_text': 'Posted to palegentlementale'}\n",
      "Done with 71 out of 578\n"
     ]
    },
    {
     "name": "stderr",
     "output_type": "stream",
     "text": [
      "BlatzBeer1911A:\n",
      " downloading Blatz Beer -1911A.jpg: 100%|██████████| 131k/131k [00:00<00:00, 145kiB/s]\n"
     ]
    },
    {
     "name": "stdout",
     "output_type": "stream",
     "text": [
      "{'id': 692024586733305856, 'id_string': '692024586733305856', 'state': 'published', 'display_text': 'Posted to palegentlementale'}\n",
      "Done with 72 out of 578\n"
     ]
    },
    {
     "name": "stderr",
     "output_type": "stream",
     "text": [
      "BlueMoonCheeseSpreads1946A:\n",
      " downloading Blue Moon Cheese Spreads -1946A.jpg: 100%|██████████| 162k/162k [00:02<00:00, 64.5kiB/s]\n"
     ]
    },
    {
     "name": "stdout",
     "output_type": "stream",
     "text": [
      "{'id': 692024597527363584, 'id_string': '692024597527363584', 'state': 'published', 'display_text': 'Posted to palegentlementale'}\n",
      "Done with 73 out of 578\n"
     ]
    },
    {
     "name": "stderr",
     "output_type": "stream",
     "text": [
      "BondBread1930A:\n",
      " downloading Bond Bread -1930A.jpg: 100%|██████████| 111k/111k [00:00<00:00, 194kiB/s]\n"
     ]
    },
    {
     "name": "stdout",
     "output_type": "stream",
     "text": [
      "{'id': 692024607313707008, 'id_string': '692024607313707008', 'state': 'published', 'display_text': 'Posted to palegentlementale'}\n",
      "Done with 74 out of 578\n"
     ]
    },
    {
     "name": "stderr",
     "output_type": "stream",
     "text": [
      "BondBread1930B:\n",
      " downloading Bond Bread -1930B.jpg: 100%|██████████| 127k/127k [00:00<00:00, 137kiB/s]\n"
     ]
    },
    {
     "name": "stdout",
     "output_type": "stream",
     "text": [
      "{'id': 692024617198583808, 'id_string': '692024617198583808', 'state': 'published', 'display_text': 'Posted to palegentlementale'}\n",
      "Done with 75 out of 578\n"
     ]
    },
    {
     "name": "stderr",
     "output_type": "stream",
     "text": [
      "BondBread1931A:\n",
      " downloading Bond Bread -1931A.jpg: 100%|██████████| 135k/135k [00:01<00:00, 75.2kiB/s]\n"
     ]
    },
    {
     "name": "stdout",
     "output_type": "stream",
     "text": [
      "{'id': 692024630134947840, 'id_string': '692024630134947840', 'state': 'published', 'display_text': 'Posted to palegentlementale'}\n",
      "Done with 76 out of 578\n"
     ]
    },
    {
     "name": "stderr",
     "output_type": "stream",
     "text": [
      "BordensCondensedMilk1911A:\n",
      " downloading Borden's Condensed Milk -1911A.jpg: 100%|██████████| 114k/114k [00:00<00:00, 179kiB/s]\n"
     ]
    },
    {
     "name": "stdout",
     "output_type": "stream",
     "text": [
      "{'id': 692024637352247296, 'id_string': '692024637352247296', 'state': 'published', 'display_text': 'Posted to palegentlementale'}\n",
      "Done with 77 out of 578\n"
     ]
    },
    {
     "name": "stderr",
     "output_type": "stream",
     "text": [
      "BordensCondensedMilk1923A:\n",
      " downloading Borden's Condensed Milk -1923A.jpg: 100%|██████████| 230k/230k [00:01<00:00, 159kiB/s]\n"
     ]
    },
    {
     "name": "stdout",
     "output_type": "stream",
     "text": [
      "{'id': 692024648374829057, 'id_string': '692024648374829057', 'state': 'published', 'display_text': 'Posted to palegentlementale'}\n",
      "Done with 78 out of 578\n"
     ]
    },
    {
     "name": "stderr",
     "output_type": "stream",
     "text": [
      "BudweiserBeer1911A:\n",
      " downloading Budweiser Beer - 1911A.jpg: 100%|██████████| 100k/100k [00:01<00:00, 93.2kiB/s]\n"
     ]
    },
    {
     "name": "stdout",
     "output_type": "stream",
     "text": [
      "{'id': 692024657511137280, 'id_string': '692024657511137280', 'state': 'published', 'display_text': 'Posted to palegentlementale'}\n",
      "Done with 79 out of 578\n"
     ]
    },
    {
     "name": "stderr",
     "output_type": "stream",
     "text": [
      "BudweiserBeer1912A:\n",
      " downloading Budweiser Beer -1912A.jpg: 100%|██████████| 122k/122k [00:01<00:00, 122kiB/s]\n"
     ]
    },
    {
     "name": "stdout",
     "output_type": "stream",
     "text": [
      "{'id': 692024665943703552, 'id_string': '692024665943703552', 'state': 'published', 'display_text': 'Posted to palegentlementale'}\n",
      "Done with 80 out of 578\n"
     ]
    },
    {
     "name": "stderr",
     "output_type": "stream",
     "text": [
      "BudweiserBeer1914A:\n",
      " downloading Budweiser Beer -1914A.jpg: 100%|██████████| 185k/185k [00:01<00:00, 154kiB/s]\n"
     ]
    },
    {
     "name": "stdout",
     "output_type": "stream",
     "text": [
      "{'id': 692024676209311744, 'id_string': '692024676209311744', 'state': 'published', 'display_text': 'Posted to palegentlementale'}\n",
      "Done with 81 out of 578\n"
     ]
    },
    {
     "name": "stderr",
     "output_type": "stream",
     "text": [
      "BudweiserBeer1935A:\n",
      " downloading Budweiser Beer -1935A.jpg: 100%|██████████| 112k/112k [00:01<00:00, 68.4kiB/s]\n"
     ]
    },
    {
     "name": "stdout",
     "output_type": "stream",
     "text": [
      "{'id': 692024687039070208, 'id_string': '692024687039070208', 'state': 'published', 'display_text': 'Posted to palegentlementale'}\n",
      "Done with 82 out of 578\n"
     ]
    },
    {
     "name": "stderr",
     "output_type": "stream",
     "text": [
      "BudweiserBeer1940A:\n",
      " downloading Budweiser Beer -1940A.jpg: 100%|██████████| 138k/138k [00:01<00:00, 73.1kiB/s]\n"
     ]
    },
    {
     "name": "stdout",
     "output_type": "stream",
     "text": [
      "{'id': 692024699454111744, 'id_string': '692024699454111744', 'state': 'published', 'display_text': 'Posted to palegentlementale'}\n",
      "Done with 83 out of 578\n"
     ]
    },
    {
     "name": "stderr",
     "output_type": "stream",
     "text": [
      "BudweiserBeer1948A:\n",
      " downloading Budweiser Beer -1948A.jpg: 100%|██████████| 73.3k/73.3k [00:00<00:00, 122kiB/s]\n"
     ]
    },
    {
     "name": "stdout",
     "output_type": "stream",
     "text": [
      "{'id': 692024707855368193, 'id_string': '692024707855368193', 'state': 'published', 'display_text': 'Posted to palegentlementale'}\n",
      "Done with 84 out of 578\n"
     ]
    },
    {
     "name": "stderr",
     "output_type": "stream",
     "text": [
      "BunteChocolates1929A:\n",
      " downloading Bunte Chocolates -1929A.jpg: 100%|██████████| 97.4k/97.4k [00:00<00:00, 180kiB/s]\n"
     ]
    },
    {
     "name": "stdout",
     "output_type": "stream",
     "text": [
      "{'id': 692024718025474048, 'id_string': '692024718025474048', 'state': 'published', 'display_text': 'Posted to palegentlementale'}\n",
      "Done with 85 out of 578\n"
     ]
    },
    {
     "name": "stderr",
     "output_type": "stream",
     "text": [
      "CalvertWhiskey1942A:\n",
      " downloading Calvert Whiskey -1942A.jpg: 100%|██████████| 134k/134k [00:00<00:00, 148kiB/s]\n"
     ]
    },
    {
     "name": "stdout",
     "output_type": "stream",
     "text": [
      "{'id': 692024729283051520, 'id_string': '692024729283051520', 'state': 'published', 'display_text': 'Posted to palegentlementale'}\n",
      "Done with 86 out of 578\n"
     ]
    },
    {
     "name": "stderr",
     "output_type": "stream",
     "text": [
      "CalvertWhiskey1943A:\n",
      " downloading Calvert Whiskey -1943A.jpg: 100%|██████████| 152k/152k [00:02<00:00, 69.6kiB/s]\n"
     ]
    },
    {
     "name": "stdout",
     "output_type": "stream",
     "text": [
      "{'id': 692024740569874432, 'id_string': '692024740569874432', 'state': 'published', 'display_text': 'Posted to palegentlementale'}\n",
      "Done with 87 out of 578\n"
     ]
    },
    {
     "name": "stderr",
     "output_type": "stream",
     "text": [
      "CalvertWhiskey1944A:\n",
      " downloading Calvert Whiskey -1944A.jpg: 100%|██████████| 105k/105k [00:00<00:00, 176kiB/s]\n"
     ]
    },
    {
     "name": "stdout",
     "output_type": "stream",
     "text": [
      "{'id': 692024749324386304, 'id_string': '692024749324386304', 'state': 'published', 'display_text': 'Posted to palegentlementale'}\n",
      "Done with 88 out of 578\n"
     ]
    },
    {
     "name": "stderr",
     "output_type": "stream",
     "text": [
      "CalvertWhiskey1944B:\n",
      " downloading Calvert Whiskey -1944B.jpg: 100%|██████████| 136k/136k [00:01<00:00, 117kiB/s]\n"
     ]
    },
    {
     "name": "stdout",
     "output_type": "stream",
     "text": [
      "{'id': 692024758673522688, 'id_string': '692024758673522688', 'state': 'published', 'display_text': 'Posted to palegentlementale'}\n",
      "Done with 89 out of 578\n"
     ]
    },
    {
     "name": "stderr",
     "output_type": "stream",
     "text": [
      "CalvertWhiskey1944C:\n",
      " downloading Calvert Whiskey -1944C.jpg: 100%|██████████| 108k/108k [00:00<00:00, 198kiB/s]\n"
     ]
    },
    {
     "name": "stdout",
     "output_type": "stream",
     "text": [
      "{'id': 692024766430871552, 'id_string': '692024766430871552', 'state': 'published', 'display_text': 'Posted to palegentlementale'}\n",
      "Done with 90 out of 578\n"
     ]
    },
    {
     "name": "stderr",
     "output_type": "stream",
     "text": [
      "CampbellsPeaSoup1923A:\n",
      " downloading Campbell's Pea Soup -1923A.jpg: 100%|██████████| 189k/189k [00:01<00:00, 158kiB/s]\n"
     ]
    },
    {
     "name": "stdout",
     "output_type": "stream",
     "text": [
      "{'id': 692024775719124992, 'id_string': '692024775719124992', 'state': 'published', 'display_text': 'Posted to palegentlementale'}\n",
      "Done with 91 out of 578\n"
     ]
    },
    {
     "name": "stderr",
     "output_type": "stream",
     "text": [
      "CampbellsSoups1915A:\n",
      " downloading Campbell's Soups -1915A.jpg: 100%|██████████| 132k/132k [00:00<00:00, 148kiB/s]\n"
     ]
    },
    {
     "name": "stdout",
     "output_type": "stream",
     "text": [
      "{'id': 692024785847320576, 'id_string': '692024785847320576', 'state': 'published', 'display_text': 'Posted to palegentlementale'}\n",
      "Done with 92 out of 578\n"
     ]
    },
    {
     "name": "stderr",
     "output_type": "stream",
     "text": [
      "CampbellsSoups1915B:\n",
      " downloading Campbell's Soups -1915B.jpg: 100%|██████████| 135k/135k [00:01<00:00, 131kiB/s]\n"
     ]
    },
    {
     "name": "stdout",
     "output_type": "stream",
     "text": [
      "{'id': 692024795595980800, 'id_string': '692024795595980800', 'state': 'published', 'display_text': 'Posted to palegentlementale'}\n",
      "Done with 93 out of 578\n"
     ]
    },
    {
     "name": "stderr",
     "output_type": "stream",
     "text": [
      "CampbellsSoups1915C:\n",
      " downloading Campbell's Soups -1915C.jpg: 100%|██████████| 210k/210k [00:01<00:00, 128kiB/s]\n"
     ]
    },
    {
     "name": "stdout",
     "output_type": "stream",
     "text": [
      "{'id': 692024806457098240, 'id_string': '692024806457098240', 'state': 'published', 'display_text': 'Posted to palegentlementale'}\n",
      "Done with 94 out of 578\n"
     ]
    },
    {
     "name": "stderr",
     "output_type": "stream",
     "text": [
      "CampbellsSoups1924A:\n",
      " downloading Campbell's Soups -1924A.jpg: 100%|██████████| 129k/129k [00:01<00:00, 68.1kiB/s]\n"
     ]
    },
    {
     "name": "stdout",
     "output_type": "stream",
     "text": [
      "{'id': 692024815836692480, 'id_string': '692024815836692480', 'state': 'published', 'display_text': 'Posted to palegentlementale'}\n",
      "Done with 95 out of 578\n"
     ]
    },
    {
     "name": "stderr",
     "output_type": "stream",
     "text": [
      "CampbellsSoups1930A:\n",
      " downloading Campbell's Soups -1930A.jpg: 100%|██████████| 131k/131k [00:01<00:00, 131kiB/s]\n"
     ]
    },
    {
     "name": "stdout",
     "output_type": "stream",
     "text": [
      "{'id': 692024826004733952, 'id_string': '692024826004733952', 'state': 'published', 'display_text': 'Posted to palegentlementale'}\n",
      "Done with 96 out of 578\n"
     ]
    },
    {
     "name": "stderr",
     "output_type": "stream",
     "text": [
      "CampbellsSoups1936A:\n",
      " downloading Campbell's Soups -1936A.jpg: 100%|██████████| 140k/140k [00:00<00:00, 156kiB/s]\n"
     ]
    },
    {
     "name": "stdout",
     "output_type": "stream",
     "text": [
      "{'id': 692024838752288768, 'id_string': '692024838752288768', 'state': 'published', 'display_text': 'Posted to palegentlementale'}\n",
      "Done with 97 out of 578\n"
     ]
    },
    {
     "name": "stderr",
     "output_type": "stream",
     "text": [
      "CampbellsTomatoSoup1915A:\n",
      " downloading Campbell's Tomato Soup -1915A.jpg: 100%|██████████| 191k/191k [00:01<00:00, 158kiB/s]\n"
     ]
    },
    {
     "name": "stdout",
     "output_type": "stream",
     "text": [
      "{'id': 692024848411754496, 'id_string': '692024848411754496', 'state': 'published', 'display_text': 'Posted to palegentlementale'}\n",
      "Done with 98 out of 578\n"
     ]
    },
    {
     "name": "stderr",
     "output_type": "stream",
     "text": [
      "CampbellsTomatoSoup1915B:\n",
      " downloading Campbell's Tomato Soup -1915B.jpg: 100%|██████████| 196k/196k [00:01<00:00, 103kiB/s]\n"
     ]
    },
    {
     "name": "stdout",
     "output_type": "stream",
     "text": [
      "{'id': 692024861462265856, 'id_string': '692024861462265856', 'state': 'published', 'display_text': 'Posted to palegentlementale'}\n",
      "Done with 99 out of 578\n"
     ]
    },
    {
     "name": "stderr",
     "output_type": "stream",
     "text": [
      "CampbellsTomatoSoup1919A:\n",
      " downloading Campbell's Tomato Soup -1919A.jpg: 100%|██████████| 214k/214k [00:01<00:00, 119kiB/s]\n"
     ]
    },
    {
     "name": "stdout",
     "output_type": "stream",
     "text": [
      "{'id': 692024873336324096, 'id_string': '692024873336324096', 'state': 'published', 'display_text': 'Posted to palegentlementale'}\n",
      "Done with 100 out of 578\n"
     ]
    },
    {
     "name": "stderr",
     "output_type": "stream",
     "text": [
      "CampbellsTomatoSoup1919B:\n",
      " downloading Campbell's Tomato Soup -1919B.jpg: 100%|██████████| 195k/195k [00:01<00:00, 164kiB/s]\n"
     ]
    },
    {
     "name": "stdout",
     "output_type": "stream",
     "text": [
      "{'id': 692024883800113152, 'id_string': '692024883800113152', 'state': 'published', 'display_text': 'Posted to palegentlementale'}\n",
      "Done with 101 out of 578\n"
     ]
    },
    {
     "name": "stderr",
     "output_type": "stream",
     "text": [
      "CampbellsTomatoSoup1919C:\n",
      " downloading Campbell's Tomato Soup -1919C.jpg: 100%|██████████| 213k/213k [00:01<00:00, 164kiB/s]\n"
     ]
    },
    {
     "name": "stdout",
     "output_type": "stream",
     "text": [
      "{'id': 692024893612670976, 'id_string': '692024893612670976', 'state': 'published', 'display_text': 'Posted to palegentlementale'}\n",
      "Done with 102 out of 578\n"
     ]
    },
    {
     "name": "stderr",
     "output_type": "stream",
     "text": [
      "CampbellsTomatoSoup1920A:\n",
      " downloading Campbell's Tomato Soup -1920A.jpg: 100%|██████████| 138k/138k [00:01<00:00, 106kiB/s]\n"
     ]
    },
    {
     "name": "stdout",
     "output_type": "stream",
     "text": [
      "{'id': 692024902650347520, 'id_string': '692024902650347520', 'state': 'published', 'display_text': 'Posted to palegentlementale'}\n",
      "Done with 103 out of 578\n"
     ]
    },
    {
     "name": "stderr",
     "output_type": "stream",
     "text": [
      "CampbellsTomatoSoup1920B:\n",
      " downloading Campbell's Tomato Soup -1920B.jpg: 100%|██████████| 207k/207k [00:02<00:00, 98.7kiB/s]\n"
     ]
    },
    {
     "name": "stdout",
     "output_type": "stream",
     "text": [
      "{'id': 692024913846026240, 'id_string': '692024913846026240', 'state': 'published', 'display_text': 'Posted to palegentlementale'}\n",
      "Done with 104 out of 578\n"
     ]
    },
    {
     "name": "stderr",
     "output_type": "stream",
     "text": [
      "CampbellsTomatoSoup1920C:\n",
      " downloading Campbell's Tomato Soup -1920C.jpg: 100%|██████████| 149k/149k [00:01<00:00, 93.2kiB/s]\n"
     ]
    },
    {
     "name": "stdout",
     "output_type": "stream",
     "text": [
      "{'id': 692024924497428480, 'id_string': '692024924497428480', 'state': 'published', 'display_text': 'Posted to palegentlementale'}\n",
      "Done with 105 out of 578\n"
     ]
    },
    {
     "name": "stderr",
     "output_type": "stream",
     "text": [
      "CampbellsTomatoSoup1921A:\n",
      " downloading Campbell's Tomato Soup -1921A.jpg: 100%|██████████| 143k/143k [00:02<00:00, 57.4kiB/s]\n"
     ]
    },
    {
     "name": "stdout",
     "output_type": "stream",
     "text": [
      "{'id': 692024936603238400, 'id_string': '692024936603238400', 'state': 'published', 'display_text': 'Posted to palegentlementale'}\n",
      "Done with 106 out of 578\n"
     ]
    },
    {
     "name": "stderr",
     "output_type": "stream",
     "text": [
      "CampbellsTomatoSoup1922A:\n",
      " downloading Campbell's Tomato Soup -1922A.jpg: 100%|██████████| 191k/191k [00:02<00:00, 70.7kiB/s]\n"
     ]
    },
    {
     "name": "stdout",
     "output_type": "stream",
     "text": [
      "{'id': 692024949891891200, 'id_string': '692024949891891200', 'state': 'published', 'display_text': 'Posted to palegentlementale'}\n",
      "Done with 107 out of 578\n"
     ]
    },
    {
     "name": "stderr",
     "output_type": "stream",
     "text": [
      "CampbellsTomatoSoup1922B:\n",
      " downloading Campbell's Tomato Soup -1922B.jpg: 100%|██████████| 196k/196k [00:03<00:00, 65.4kiB/s]\n"
     ]
    },
    {
     "name": "stdout",
     "output_type": "stream",
     "text": [
      "{'id': 692024961933737984, 'id_string': '692024961933737984', 'state': 'published', 'display_text': 'Posted to palegentlementale'}\n",
      "Done with 108 out of 578\n"
     ]
    },
    {
     "name": "stderr",
     "output_type": "stream",
     "text": [
      "CampbellsTomatoSoup1922C:\n",
      " downloading Campbell's Tomato Soup -1922C.jpg: 100%|██████████| 191k/191k [00:02<00:00, 82.8kiB/s]\n"
     ]
    },
    {
     "name": "stdout",
     "output_type": "stream",
     "text": [
      "{'id': 692024974311063552, 'id_string': '692024974311063552', 'state': 'published', 'display_text': 'Posted to palegentlementale'}\n",
      "Done with 109 out of 578\n"
     ]
    },
    {
     "name": "stderr",
     "output_type": "stream",
     "text": [
      "CampbellsTomatoSoup1927A:\n",
      " downloading Campbell's Tomato Soup -1927A.jpg: 100%|██████████| 113k/113k [00:00<00:00, 153kiB/s]\n"
     ]
    },
    {
     "name": "stdout",
     "output_type": "stream",
     "text": [
      "{'id': 692024984937299968, 'id_string': '692024984937299968', 'state': 'published', 'display_text': 'Posted to palegentlementale'}\n",
      "Done with 110 out of 578\n"
     ]
    },
    {
     "name": "stderr",
     "output_type": "stream",
     "text": [
      "CampbellsTomatoSoup1934A:\n",
      " downloading Campbell's Tomato Soup -1934A.jpg: 100%|██████████| 128k/128k [00:02<00:00, 47.1kiB/s]\n"
     ]
    },
    {
     "name": "stdout",
     "output_type": "stream",
     "text": [
      "{'id': 692024997538119680, 'id_string': '692024997538119680', 'state': 'published', 'display_text': 'Posted to palegentlementale'}\n",
      "Done with 111 out of 578\n"
     ]
    },
    {
     "name": "stderr",
     "output_type": "stream",
     "text": [
      "CampbellsVegetableSoup1918A:\n",
      " downloading Campbell's Vegetable Soup -1918A.jpg: 100%|██████████| 180k/180k [00:09<00:00, 19.3kiB/s]\n"
     ]
    },
    {
     "name": "stdout",
     "output_type": "stream",
     "text": [
      "{'id': 692025016270929920, 'id_string': '692025016270929920', 'state': 'published', 'display_text': 'Posted to palegentlementale'}\n",
      "Done with 112 out of 578\n"
     ]
    },
    {
     "name": "stderr",
     "output_type": "stream",
     "text": [
      "CampbellsVegetableSoup1919A:\n",
      " downloading Campbell's Vegetable Soup -1919A.jpg: 100%|██████████| 230k/230k [00:02<00:00, 103kiB/s]\n"
     ]
    },
    {
     "name": "stdout",
     "output_type": "stream",
     "text": [
      "{'id': 692025026168438784, 'id_string': '692025026168438784', 'state': 'published', 'display_text': 'Posted to palegentlementale'}\n",
      "Done with 113 out of 578\n"
     ]
    },
    {
     "name": "stderr",
     "output_type": "stream",
     "text": [
      "CampbellsVegetableSoup1920A:\n",
      " downloading Campbell's Vegetable Soup -1920A.jpg: 100%|██████████| 190k/190k [00:01<00:00, 148kiB/s]\n"
     ]
    },
    {
     "name": "stdout",
     "output_type": "stream",
     "text": [
      "{'id': 692025034939809792, 'id_string': '692025034939809792', 'state': 'published', 'display_text': 'Posted to palegentlementale'}\n",
      "Done with 114 out of 578\n"
     ]
    },
    {
     "name": "stderr",
     "output_type": "stream",
     "text": [
      "CampbellsVegetableSoup1920B:\n",
      " downloading Campbell's Vegetable Soup -1920B.jpg: 100%|██████████| 215k/215k [00:01<00:00, 126kiB/s]\n"
     ]
    },
    {
     "name": "stdout",
     "output_type": "stream",
     "text": [
      "{'id': 692025044546781184, 'id_string': '692025044546781184', 'state': 'published', 'display_text': 'Posted to palegentlementale'}\n",
      "Done with 115 out of 578\n"
     ]
    },
    {
     "name": "stderr",
     "output_type": "stream",
     "text": [
      "CampbellsVegetableSoup1920C:\n",
      " downloading Campbell's Vegetable Soup -1920C.jpg: 100%|██████████| 196k/196k [00:01<00:00, 105kiB/s]\n"
     ]
    },
    {
     "name": "stdout",
     "output_type": "stream",
     "text": [
      "{'id': 692025054240948224, 'id_string': '692025054240948224', 'state': 'published', 'display_text': 'Posted to palegentlementale'}\n",
      "Done with 116 out of 578\n"
     ]
    },
    {
     "name": "stderr",
     "output_type": "stream",
     "text": [
      "CampbellsVegetableSoup1925A:\n",
      " downloading Campbell's Vegetable Soup -1925A.jpg: 100%|██████████| 245k/245k [00:01<00:00, 186kiB/s]\n"
     ]
    },
    {
     "name": "stdout",
     "output_type": "stream",
     "text": [
      "{'id': 692025063168458752, 'id_string': '692025063168458752', 'state': 'published', 'display_text': 'Posted to palegentlementale'}\n",
      "Done with 117 out of 578\n"
     ]
    },
    {
     "name": "stderr",
     "output_type": "stream",
     "text": [
      "CanadaDryGingerAle1928A:\n",
      " downloading Canada Dry Ginger Ale -1928A.jpg: 100%|██████████| 85.4k/85.4k [00:00<00:00, 138kiB/s]\n"
     ]
    },
    {
     "name": "stdout",
     "output_type": "stream",
     "text": [
      "{'id': 692025071972352000, 'id_string': '692025071972352000', 'state': 'published', 'display_text': 'Posted to palegentlementale'}\n",
      "Done with 118 out of 578\n"
     ]
    },
    {
     "name": "stderr",
     "output_type": "stream",
     "text": [
      "CanadaDryGingerAle1931A:\n",
      " downloading Canada Dry Ginger Ale -1931A.jpg: 100%|██████████| 132k/132k [00:01<00:00, 129kiB/s]\n"
     ]
    },
    {
     "name": "stdout",
     "output_type": "stream",
     "text": [
      "{'id': 692025081664258048, 'id_string': '692025081664258048', 'state': 'published', 'display_text': 'Posted to palegentlementale'}\n",
      "Done with 119 out of 578\n"
     ]
    },
    {
     "name": "stderr",
     "output_type": "stream",
     "text": [
      "CarnationMaltedMilk1949A:\n",
      " downloading Carnation Malted Milk -1949A.jpg: 100%|██████████| 150k/150k [00:00<00:00, 189kiB/s]\n"
     ]
    },
    {
     "name": "stdout",
     "output_type": "stream",
     "text": [
      "{'id': 692025090525806592, 'id_string': '692025090525806592', 'state': 'published', 'display_text': 'Posted to palegentlementale'}\n",
      "Done with 120 out of 578\n"
     ]
    },
    {
     "name": "stderr",
     "output_type": "stream",
     "text": [
      "CascadeWhisky1912A:\n",
      " downloading Cascade Whisky -1912A.jpg: 100%|██████████| 148k/148k [00:00<00:00, 182kiB/s]\n"
     ]
    },
    {
     "name": "stdout",
     "output_type": "stream",
     "text": [
      "{'id': 692025098100703232, 'id_string': '692025098100703232', 'state': 'published', 'display_text': 'Posted to palegentlementale'}\n",
      "Done with 121 out of 578\n"
     ]
    },
    {
     "name": "stderr",
     "output_type": "stream",
     "text": [
      "CascadeWhisky1916A:\n",
      " downloading Cascade Whisky -1916A.jpg: 100%|██████████| 114k/114k [00:00<00:00, 211kiB/s]\n"
     ]
    },
    {
     "name": "stdout",
     "output_type": "stream",
     "text": [
      "{'id': 692025104653221888, 'id_string': '692025104653221888', 'state': 'published', 'display_text': 'Posted to palegentlementale'}\n",
      "Done with 122 out of 578\n"
     ]
    },
    {
     "name": "stderr",
     "output_type": "stream",
     "text": [
      "CertoPectin1927A:\n",
      " downloading Certo Pectin -1927A.jpg: 100%|██████████| 135k/135k [00:01<00:00, 72.4kiB/s]\n"
     ]
    },
    {
     "name": "stdout",
     "output_type": "stream",
     "text": [
      "{'id': 692025114852753408, 'id_string': '692025114852753408', 'state': 'published', 'display_text': 'Posted to palegentlementale'}\n",
      "Done with 123 out of 578\n"
     ]
    },
    {
     "name": "stderr",
     "output_type": "stream",
     "text": [
      "ChaseSanbornCoffee1933A:\n",
      " downloading Chase & Sanborn Coffee -1933A.jpg: 100%|██████████| 137k/137k [00:00<00:00, 168kiB/s]\n"
     ]
    },
    {
     "name": "stdout",
     "output_type": "stream",
     "text": [
      "{'id': 692025123555999744, 'id_string': '692025123555999744', 'state': 'published', 'display_text': 'Posted to palegentlementale'}\n",
      "Done with 124 out of 578\n"
     ]
    },
    {
     "name": "stderr",
     "output_type": "stream",
     "text": [
      "ChicletsGum1911A:\n",
      " downloading Chiclets Gum -1911A.jpg: 100%|██████████| 111k/111k [00:00<00:00, 210kiB/s]\n"
     ]
    },
    {
     "name": "stdout",
     "output_type": "stream",
     "text": [
      "{'id': 692025131243012096, 'id_string': '692025131243012096', 'state': 'published', 'display_text': 'Posted to palegentlementale'}\n",
      "Done with 125 out of 578\n"
     ]
    },
    {
     "name": "stderr",
     "output_type": "stream",
     "text": [
      "ChicletsGum1911B:\n",
      " downloading Chiclets Gum -1911B.jpg: 100%|██████████| 85.0k/85.0k [00:00<00:00, 161kiB/s]\n"
     ]
    },
    {
     "name": "stdout",
     "output_type": "stream",
     "text": [
      "{'id': 692025140309114880, 'id_string': '692025140309114880', 'state': 'published', 'display_text': 'Posted to palegentlementale'}\n",
      "Done with 126 out of 578\n"
     ]
    },
    {
     "name": "stderr",
     "output_type": "stream",
     "text": [
      "ChicletsGum1912A:\n",
      " downloading Chiclets Gum -1912A.jpg: 100%|██████████| 94.3k/94.3k [00:00<00:00, 120kiB/s]\n"
     ]
    },
    {
     "name": "stdout",
     "output_type": "stream",
     "text": [
      "{'id': 692025147209695232, 'id_string': '692025147209695232', 'state': 'published', 'display_text': 'Posted to palegentlementale'}\n",
      "Done with 127 out of 578\n"
     ]
    },
    {
     "name": "stderr",
     "output_type": "stream",
     "text": [
      "ChiquitaBananas1948A:\n",
      " downloading Chiquita Bananas -1948A.jpg: 100%|██████████| 183k/183k [00:01<00:00, 174kiB/s]\n"
     ]
    },
    {
     "name": "stdout",
     "output_type": "stream",
     "text": [
      "{'id': 692025155061432320, 'id_string': '692025155061432320', 'state': 'published', 'display_text': 'Posted to palegentlementale'}\n",
      "Done with 128 out of 578\n"
     ]
    },
    {
     "name": "stderr",
     "output_type": "stream",
     "text": [
      "ClarksChewingGum1939A:\n",
      " downloading Clark's Chewing Gum -1939A.jpg: 100%|██████████| 84.7k/84.7k [00:00<00:00, 153kiB/s]\n"
     ]
    },
    {
     "name": "stdout",
     "output_type": "stream",
     "text": [
      "{'id': 692025161579462656, 'id_string': '692025161579462656', 'state': 'published', 'display_text': 'Posted to palegentlementale'}\n",
      "Done with 129 out of 578\n"
     ]
    },
    {
     "name": "stderr",
     "output_type": "stream",
     "text": [
      "ClicquotClub1919A:\n",
      " downloading Clicquot Club -1919A.jpg: 100%|██████████| 55.6k/55.6k [00:00<00:00, 208kiB/s]\n"
     ]
    },
    {
     "name": "stdout",
     "output_type": "stream",
     "text": [
      "{'id': 692025167326658560, 'id_string': '692025167326658560', 'state': 'published', 'display_text': 'Posted to palegentlementale'}\n",
      "Done with 130 out of 578\n"
     ]
    },
    {
     "name": "stderr",
     "output_type": "stream",
     "text": [
      "ClicquotClub1925A:\n",
      " downloading Clicquot Club -1925A.jpg: 100%|██████████| 130k/130k [00:00<00:00, 159kiB/s]\n"
     ]
    },
    {
     "name": "stdout",
     "output_type": "stream",
     "text": [
      "{'id': 692025175624007680, 'id_string': '692025175624007680', 'state': 'published', 'display_text': 'Posted to palegentlementale'}\n",
      "Done with 131 out of 578\n"
     ]
    },
    {
     "name": "stderr",
     "output_type": "stream",
     "text": [
      "ClicquotClub1940sA:\n",
      " downloading Clicquot Club -1940'sA.jpg: 100%|██████████| 56.3k/56.3k [00:00<00:00, 212kiB/s]\n"
     ]
    },
    {
     "name": "stdout",
     "output_type": "stream",
     "text": [
      "{'id': 692025181317840896, 'id_string': '692025181317840896', 'state': 'published', 'display_text': 'Posted to palegentlementale'}\n",
      "Done with 132 out of 578\n"
     ]
    },
    {
     "name": "stderr",
     "output_type": "stream",
     "text": [
      "ClicquotClub1940sB:\n",
      " downloading Clicquot Club -1940'sB.jpg: 100%|██████████| 73.8k/73.8k [00:00<00:00, 275kiB/s]\n"
     ]
    },
    {
     "name": "stdout",
     "output_type": "stream",
     "text": [
      "{'id': 692025187056680961, 'id_string': '692025187056680961', 'state': 'published', 'display_text': 'Posted to palegentlementale'}\n",
      "Done with 133 out of 578\n"
     ]
    },
    {
     "name": "stderr",
     "output_type": "stream",
     "text": [
      "ClicquotClubGingerAle1909A:\n",
      " downloading Clicquot Club Ginger Ale -1909A.jpg: 100%|██████████| 115k/115k [00:00<00:00, 214kiB/s]\n"
     ]
    },
    {
     "name": "stdout",
     "output_type": "stream",
     "text": [
      "{'id': 692025194517315584, 'id_string': '692025194517315584', 'state': 'published', 'display_text': 'Posted to palegentlementale'}\n",
      "Done with 134 out of 578\n"
     ]
    },
    {
     "name": "stderr",
     "output_type": "stream",
     "text": [
      "ClicquotClubGingerAle1917A:\n",
      " downloading Clicquot Club Ginger Ale -1917A.jpg: 100%|██████████| 51.5k/51.5k [00:00<00:00, 199kiB/s]\n"
     ]
    },
    {
     "name": "stdout",
     "output_type": "stream",
     "text": [
      "{'id': 692025199991930880, 'id_string': '692025199991930880', 'state': 'published', 'display_text': 'Posted to palegentlementale'}\n",
      "Done with 135 out of 578\n"
     ]
    },
    {
     "name": "stderr",
     "output_type": "stream",
     "text": [
      "ClicquotClubGingerAle1918A:\n",
      " downloading Clicquot Club Ginger Ale -1918A.jpg: 100%|██████████| 124k/124k [00:01<00:00, 114kiB/s]\n"
     ]
    },
    {
     "name": "stdout",
     "output_type": "stream",
     "text": [
      "{'id': 692025207508058112, 'id_string': '692025207508058112', 'state': 'published', 'display_text': 'Posted to palegentlementale'}\n",
      "Done with 136 out of 578\n"
     ]
    },
    {
     "name": "stderr",
     "output_type": "stream",
     "text": [
      "ClicquotClubGingerAle1919A:\n",
      " downloading Clicquot Club Ginger Ale -1919A.jpg: 100%|██████████| 114k/114k [00:00<00:00, 166kiB/s]\n"
     ]
    },
    {
     "name": "stdout",
     "output_type": "stream",
     "text": [
      "{'id': 692025215910363136, 'id_string': '692025215910363136', 'state': 'published', 'display_text': 'Posted to palegentlementale'}\n",
      "Done with 137 out of 578\n"
     ]
    },
    {
     "name": "stderr",
     "output_type": "stream",
     "text": [
      "ClicquotClubGingerAle1925A:\n",
      " downloading Clicquot Club Ginger Ale -1925A.jpg: 100%|██████████| 115k/115k [00:00<00:00, 186kiB/s]\n"
     ]
    },
    {
     "name": "stdout",
     "output_type": "stream",
     "text": [
      "{'id': 692025225331834880, 'id_string': '692025225331834880', 'state': 'published', 'display_text': 'Posted to palegentlementale'}\n",
      "Done with 138 out of 578\n"
     ]
    },
    {
     "name": "stderr",
     "output_type": "stream",
     "text": [
      "ClicquotClubGingerAle1930A:\n",
      " downloading Clicquot Club Ginger Ale -1930A.jpg: 100%|██████████| 76.0k/76.0k [00:00<00:00, 78.9kiB/s]\n"
     ]
    },
    {
     "name": "stdout",
     "output_type": "stream",
     "text": [
      "{'id': 692025233743446016, 'id_string': '692025233743446016', 'state': 'published', 'display_text': 'Posted to palegentlementale'}\n",
      "Done with 139 out of 578\n"
     ]
    },
    {
     "name": "stderr",
     "output_type": "stream",
     "text": [
      "ClicquotClubGingerAle1934A:\n",
      " downloading Clicquot Club Ginger Ale -1934A.jpg: 100%|██████████| 146k/146k [00:00<00:00, 154kiB/s]\n"
     ]
    },
    {
     "name": "stdout",
     "output_type": "stream",
     "text": [
      "{'id': 692025244481945600, 'id_string': '692025244481945600', 'state': 'published', 'display_text': 'Posted to palegentlementale'}\n",
      "Done with 140 out of 578\n"
     ]
    },
    {
     "name": "stderr",
     "output_type": "stream",
     "text": [
      "CocaCola1907A:\n",
      " downloading Coca-Cola -1907A.jpg: 100%|██████████| 75.7k/75.7k [00:00<00:00, 220kiB/s]\n"
     ]
    },
    {
     "name": "stdout",
     "output_type": "stream",
     "text": [
      "{'id': 692025251895427072, 'id_string': '692025251895427072', 'state': 'published', 'display_text': 'Posted to palegentlementale'}\n",
      "Done with 141 out of 578\n"
     ]
    },
    {
     "name": "stderr",
     "output_type": "stream",
     "text": [
      "CocaCola1909A:\n",
      " downloading Coca-Cola -1909A.jpg: 100%|██████████| 103k/103k [00:01<00:00, 58.4kiB/s]\n"
     ]
    },
    {
     "name": "stdout",
     "output_type": "stream",
     "text": [
      "{'id': 692025261453099008, 'id_string': '692025261453099008', 'state': 'published', 'display_text': 'Posted to palegentlementale'}\n",
      "Done with 142 out of 578\n"
     ]
    },
    {
     "name": "stderr",
     "output_type": "stream",
     "text": [
      "CocaCola1910A:\n",
      " downloading Coca-Cola -1910A.jpg: 100%|██████████| 41.2k/41.2k [00:00<00:00, 28.6MiB/s]\n"
     ]
    },
    {
     "name": "stdout",
     "output_type": "stream",
     "text": [
      "{'id': 692025267519143936, 'id_string': '692025267519143936', 'state': 'published', 'display_text': 'Posted to palegentlementale'}\n",
      "Done with 143 out of 578\n"
     ]
    },
    {
     "name": "stderr",
     "output_type": "stream",
     "text": [
      "CocaCola1910B:\n",
      " downloading Coca-Cola -1910B.jpg: 100%|██████████| 95.6k/95.6k [00:00<00:00, 170kiB/s]\n"
     ]
    },
    {
     "name": "stdout",
     "output_type": "stream",
     "text": [
      "{'id': 692025274069565440, 'id_string': '692025274069565440', 'state': 'published', 'display_text': 'Posted to palegentlementale'}\n",
      "Done with 144 out of 578\n"
     ]
    },
    {
     "name": "stderr",
     "output_type": "stream",
     "text": [
      "CocaCola1910C:\n",
      " downloading Coca-Cola -1910C.jpg: 100%|██████████| 122k/122k [00:01<00:00, 79.0kiB/s]\n"
     ]
    },
    {
     "name": "stdout",
     "output_type": "stream",
     "text": [
      "{'id': 692025281085587456, 'id_string': '692025281085587456', 'state': 'published', 'display_text': 'Posted to palegentlementale'}\n",
      "Done with 145 out of 578\n"
     ]
    },
    {
     "name": "stderr",
     "output_type": "stream",
     "text": [
      "CocaCola1910D:\n",
      " downloading Coca-Cola -1910D.jpg: 100%|██████████| 121k/121k [00:00<00:00, 149kiB/s]\n"
     ]
    },
    {
     "name": "stdout",
     "output_type": "stream",
     "text": [
      "{'id': 692025288423604224, 'id_string': '692025288423604224', 'state': 'published', 'display_text': 'Posted to palegentlementale'}\n",
      "Done with 146 out of 578\n"
     ]
    },
    {
     "name": "stderr",
     "output_type": "stream",
     "text": [
      "CocaCola1911A:\n",
      " downloading Coca-Cola -1911A.jpg: 100%|██████████| 45.0k/45.0k [00:00<00:00, 165kiB/s]\n"
     ]
    },
    {
     "name": "stdout",
     "output_type": "stream",
     "text": [
      "{'id': 692025295195291648, 'id_string': '692025295195291648', 'state': 'published', 'display_text': 'Posted to palegentlementale'}\n",
      "Done with 147 out of 578\n"
     ]
    },
    {
     "name": "stderr",
     "output_type": "stream",
     "text": [
      "CocaCola1912A:\n",
      " downloading Coca-Cola -1912A.jpg: 100%|██████████| 119k/119k [00:00<00:00, 152kiB/s]\n"
     ]
    },
    {
     "name": "stdout",
     "output_type": "stream",
     "text": [
      "{'id': 692025301569552384, 'id_string': '692025301569552384', 'state': 'published', 'display_text': 'Posted to palegentlementale'}\n",
      "Done with 148 out of 578\n"
     ]
    },
    {
     "name": "stderr",
     "output_type": "stream",
     "text": [
      "CocaCola1912B:\n",
      " downloading Coca-Cola -1912B.jpg: 100%|██████████| 70.5k/70.5k [00:00<00:00, 242kiB/s]\n"
     ]
    },
    {
     "name": "stdout",
     "output_type": "stream",
     "text": [
      "{'id': 692025307434188800, 'id_string': '692025307434188800', 'state': 'published', 'display_text': 'Posted to palegentlementale'}\n",
      "Done with 149 out of 578\n"
     ]
    },
    {
     "name": "stderr",
     "output_type": "stream",
     "text": [
      "CocaCola1912C:\n",
      " downloading Coca-Cola -1912C.jpg: 100%|██████████| 126k/126k [00:01<00:00, 99.5kiB/s]\n"
     ]
    },
    {
     "name": "stdout",
     "output_type": "stream",
     "text": [
      "{'meta': {'status': 400, 'msg': 'Bad Request'}, 'response': {'errors': [\"Oh no! You've reached your photo upload limit for today. Please come again tomorrow!\"]}}\n",
      "Done with 150 out of 578\n"
     ]
    },
    {
     "name": "stderr",
     "output_type": "stream",
     "text": [
      "CocaCola1912D:\n",
      " downloading Coca-Cola -1912D.jpg: 100%|██████████| 75.7k/75.7k [00:00<00:00, 85.0kiB/s]\n"
     ]
    },
    {
     "name": "stdout",
     "output_type": "stream",
     "text": [
      "{'meta': {'status': 400, 'msg': 'Bad Request'}, 'response': {'errors': [\"Oh no! You've reached your photo upload limit for today. Please come again tomorrow!\"]}}\n",
      "Done with 151 out of 578\n"
     ]
    },
    {
     "name": "stderr",
     "output_type": "stream",
     "text": [
      "CocaCola1912E:\n",
      " downloading Coca-Cola -1912E.jpg: 100%|██████████| 90.8k/90.8k [00:00<00:00, 169kiB/s]\n"
     ]
    },
    {
     "name": "stdout",
     "output_type": "stream",
     "text": [
      "{'meta': {'status': 400, 'msg': 'Bad Request'}, 'response': {'errors': [\"Oh no! You've reached your photo upload limit for today. Please come again tomorrow!\"]}}\n",
      "Done with 152 out of 578\n"
     ]
    },
    {
     "name": "stderr",
     "output_type": "stream",
     "text": [
      "CocaCola1913A:\n",
      " downloading Coca-Cola -1913A.jpg: 100%|██████████| 121k/121k [00:00<00:00, 149kiB/s]\n"
     ]
    },
    {
     "name": "stdout",
     "output_type": "stream",
     "text": [
      "{'meta': {'status': 400, 'msg': 'Bad Request'}, 'response': {'errors': [\"Oh no! You've reached your photo upload limit for today. Please come again tomorrow!\"]}}\n",
      "Done with 153 out of 578\n"
     ]
    },
    {
     "name": "stderr",
     "output_type": "stream",
     "text": [
      "CocaCola1913B:\n",
      " downloading Coca-Cola -1913B.jpg: 100%|██████████| 102k/102k [00:01<00:00, 64.0kiB/s]\n"
     ]
    },
    {
     "name": "stdout",
     "output_type": "stream",
     "text": [
      "{'meta': {'status': 400, 'msg': 'Bad Request'}, 'response': {'errors': [\"Oh no! You've reached your photo upload limit for today. Please come again tomorrow!\"]}}\n",
      "Done with 154 out of 578\n"
     ]
    },
    {
     "name": "stderr",
     "output_type": "stream",
     "text": [
      "CocaCola1914A:\n",
      " downloading Coca-Cola -1914A.jpg: 100%|██████████| 94.9k/94.9k [00:01<00:00, 90.1kiB/s]\n"
     ]
    },
    {
     "name": "stdout",
     "output_type": "stream",
     "text": [
      "{'meta': {'status': 400, 'msg': 'Bad Request'}, 'response': {'errors': [\"Oh no! You've reached your photo upload limit for today. Please come again tomorrow!\"]}}\n",
      "Done with 155 out of 578\n"
     ]
    },
    {
     "name": "stderr",
     "output_type": "stream",
     "text": [
      "CocaCola1915A:\n",
      " downloading Coca-Cola -1915A.jpg: 100%|██████████| 108k/108k [00:00<00:00, 197kiB/s]\n"
     ]
    },
    {
     "name": "stdout",
     "output_type": "stream",
     "text": [
      "{'meta': {'status': 400, 'msg': 'Bad Request'}, 'response': {'errors': [\"Oh no! You've reached your photo upload limit for today. Please come again tomorrow!\"]}}\n",
      "Done with 156 out of 578\n"
     ]
    },
    {
     "name": "stderr",
     "output_type": "stream",
     "text": [
      "CocaCola1915B:\n",
      " downloading Coca-Cola -1915B.jpg: 100%|██████████| 92.9k/92.9k [00:01<00:00, 88.6kiB/s]\n"
     ]
    },
    {
     "name": "stdout",
     "output_type": "stream",
     "text": [
      "{'meta': {'status': 400, 'msg': 'Bad Request'}, 'response': {'errors': [\"Oh no! You've reached your photo upload limit for today. Please come again tomorrow!\"]}}\n",
      "Done with 157 out of 578\n"
     ]
    },
    {
     "name": "stderr",
     "output_type": "stream",
     "text": [
      "CocaCola1915C:\n",
      " downloading Coca-Cola -1915C.jpg: 100%|██████████| 120k/120k [00:00<00:00, 150kiB/s]\n"
     ]
    },
    {
     "name": "stdout",
     "output_type": "stream",
     "text": [
      "{'meta': {'status': 400, 'msg': 'Bad Request'}, 'response': {'errors': [\"Oh no! You've reached your photo upload limit for today. Please come again tomorrow!\"]}}\n",
      "Done with 158 out of 578\n"
     ]
    },
    {
     "name": "stderr",
     "output_type": "stream",
     "text": [
      "CocaCola1915D:\n",
      " downloading Coca-Cola -1915D.jpg: 100%|██████████| 138k/138k [00:01<00:00, 73.8kiB/s]\n"
     ]
    },
    {
     "name": "stdout",
     "output_type": "stream",
     "text": [
      "{'meta': {'status': 400, 'msg': 'Bad Request'}, 'response': {'errors': [\"Oh no! You've reached your photo upload limit for today. Please come again tomorrow!\"]}}\n",
      "Done with 159 out of 578\n"
     ]
    },
    {
     "name": "stderr",
     "output_type": "stream",
     "text": [
      "CocaCola1916A:\n",
      " downloading Coca-Cola -1916A.jpg: 100%|██████████| 56.0k/56.0k [00:00<00:00, 212kiB/s]\n"
     ]
    },
    {
     "name": "stdout",
     "output_type": "stream",
     "text": [
      "{'meta': {'status': 400, 'msg': 'Bad Request'}, 'response': {'errors': [\"Oh no! You've reached your photo upload limit for today. Please come again tomorrow!\"]}}\n",
      "Done with 160 out of 578\n"
     ]
    },
    {
     "name": "stderr",
     "output_type": "stream",
     "text": [
      "CocaCola1916B:\n",
      " downloading Coca-Cola -1916B.jpg: 100%|██████████| 85.0k/85.0k [00:00<00:00, 159kiB/s]\n"
     ]
    },
    {
     "name": "stdout",
     "output_type": "stream",
     "text": [
      "{'meta': {'status': 400, 'msg': 'Bad Request'}, 'response': {'errors': [\"Oh no! You've reached your photo upload limit for today. Please come again tomorrow!\"]}}\n",
      "Done with 161 out of 578\n"
     ]
    },
    {
     "name": "stderr",
     "output_type": "stream",
     "text": [
      "CocaCola1917A:\n",
      " downloading Coca-Cola -1917A.jpg: 100%|██████████| 137k/137k [00:00<00:00, 173kiB/s]\n"
     ]
    },
    {
     "name": "stdout",
     "output_type": "stream",
     "text": [
      "{'meta': {'status': 400, 'msg': 'Bad Request'}, 'response': {'errors': [\"Oh no! You've reached your photo upload limit for today. Please come again tomorrow!\"]}}\n",
      "Done with 162 out of 578\n"
     ]
    },
    {
     "name": "stderr",
     "output_type": "stream",
     "text": [
      "CocaCola1917B:\n",
      " downloading Coca-Cola -1917B.jpg: 100%|██████████| 54.1k/54.1k [00:00<00:00, 205kiB/s]\n"
     ]
    },
    {
     "name": "stdout",
     "output_type": "stream",
     "text": [
      "{'meta': {'status': 400, 'msg': 'Bad Request'}, 'response': {'errors': [\"Oh no! You've reached your photo upload limit for today. Please come again tomorrow!\"]}}\n",
      "Done with 163 out of 578\n"
     ]
    },
    {
     "name": "stderr",
     "output_type": "stream",
     "text": [
      "CocaCola1919A:\n",
      " downloading Coca-Cola -1919A.jpg: 100%|██████████| 139k/139k [00:02<00:00, 64.2kiB/s]\n"
     ]
    },
    {
     "name": "stdout",
     "output_type": "stream",
     "text": [
      "{'meta': {'status': 400, 'msg': 'Bad Request'}, 'response': {'errors': [\"Oh no! You've reached your photo upload limit for today. Please come again tomorrow!\"]}}\n",
      "Done with 164 out of 578\n"
     ]
    },
    {
     "name": "stderr",
     "output_type": "stream",
     "text": [
      "CocaCola1920A:\n",
      " downloading Coca-Cola -1920A.jpg: 100%|██████████| 130k/130k [00:01<00:00, 81.1kiB/s]\n"
     ]
    },
    {
     "name": "stdout",
     "output_type": "stream",
     "text": [
      "{'meta': {'status': 400, 'msg': 'Bad Request'}, 'response': {'errors': [\"Oh no! You've reached your photo upload limit for today. Please come again tomorrow!\"]}}\n",
      "Done with 165 out of 578\n"
     ]
    },
    {
     "name": "stderr",
     "output_type": "stream",
     "text": [
      "CocaCola1920B:\n",
      " downloading Coca-Cola -1920B.jpg: 100%|██████████| 42.1k/42.1k [00:00<00:00, 5.66MiB/s]\n"
     ]
    },
    {
     "name": "stdout",
     "output_type": "stream",
     "text": [
      "{'meta': {'status': 400, 'msg': 'Bad Request'}, 'response': {'errors': [\"Oh no! You've reached your photo upload limit for today. Please come again tomorrow!\"]}}\n",
      "Done with 166 out of 578\n"
     ]
    },
    {
     "name": "stderr",
     "output_type": "stream",
     "text": [
      "CocaCola1922A:\n",
      " downloading Coca-Cola -1922A.jpg: 100%|██████████| 93.7k/93.7k [00:01<00:00, 88.0kiB/s]\n"
     ]
    },
    {
     "name": "stdout",
     "output_type": "stream",
     "text": [
      "{'meta': {'status': 400, 'msg': 'Bad Request'}, 'response': {'errors': [\"Oh no! You've reached your photo upload limit for today. Please come again tomorrow!\"]}}\n",
      "Done with 167 out of 578\n"
     ]
    },
    {
     "name": "stderr",
     "output_type": "stream",
     "text": [
      "CocaCola1924A:\n",
      " downloading Coca-Cola -1924A.jpg: 100%|██████████| 178k/178k [00:01<00:00, 165kiB/s]\n"
     ]
    },
    {
     "name": "stdout",
     "output_type": "stream",
     "text": [
      "{'meta': {'status': 400, 'msg': 'Bad Request'}, 'response': {'errors': [\"Oh no! You've reached your photo upload limit for today. Please come again tomorrow!\"]}}\n",
      "Done with 168 out of 578\n"
     ]
    },
    {
     "name": "stderr",
     "output_type": "stream",
     "text": [
      "CocaCola1925A:\n",
      " downloading Coca-Cola -1925A.jpg: 100%|██████████| 158k/158k [00:01<00:00, 114kiB/s]\n"
     ]
    },
    {
     "name": "stdout",
     "output_type": "stream",
     "text": [
      "{'meta': {'status': 400, 'msg': 'Bad Request'}, 'response': {'errors': [\"Oh no! You've reached your photo upload limit for today. Please come again tomorrow!\"]}}\n",
      "Done with 169 out of 578\n"
     ]
    },
    {
     "name": "stderr",
     "output_type": "stream",
     "text": [
      "CocaCola1925B:\n",
      " downloading Coca-Cola -1925B.jpg: 100%|██████████| 157k/157k [00:02<00:00, 66.2kiB/s]\n"
     ]
    },
    {
     "name": "stdout",
     "output_type": "stream",
     "text": [
      "{'meta': {'status': 400, 'msg': 'Bad Request'}, 'response': {'errors': [\"Oh no! You've reached your photo upload limit for today. Please come again tomorrow!\"]}}\n",
      "Done with 170 out of 578\n"
     ]
    },
    {
     "name": "stderr",
     "output_type": "stream",
     "text": [
      "CocaCola1932A:\n",
      " downloading Coca-Cola -1932A.jpg: 100%|██████████| 126k/126k [00:00<00:00, 158kiB/s]\n"
     ]
    },
    {
     "name": "stdout",
     "output_type": "stream",
     "text": [
      "{'meta': {'status': 400, 'msg': 'Bad Request'}, 'response': {'errors': [\"Oh no! You've reached your photo upload limit for today. Please come again tomorrow!\"]}}\n",
      "Done with 171 out of 578\n"
     ]
    },
    {
     "name": "stderr",
     "output_type": "stream",
     "text": [
      "CocaCola1932B:\n",
      " downloading Coca-Cola -1932B.jpg: 100%|██████████| 136k/136k [00:01<00:00, 72.2kiB/s]\n"
     ]
    },
    {
     "name": "stdout",
     "output_type": "stream",
     "text": [
      "{'meta': {'status': 400, 'msg': 'Bad Request'}, 'response': {'errors': [\"Oh no! You've reached your photo upload limit for today. Please come again tomorrow!\"]}}\n",
      "Done with 172 out of 578\n"
     ]
    },
    {
     "name": "stderr",
     "output_type": "stream",
     "text": [
      "CocaCola1934A:\n",
      " downloading Coca-Cola -1934A.jpg: 100%|██████████| 150k/150k [00:01<00:00, 111kiB/s]\n"
     ]
    },
    {
     "name": "stdout",
     "output_type": "stream",
     "text": [
      "{'meta': {'status': 400, 'msg': 'Bad Request'}, 'response': {'errors': [\"Oh no! You've reached your photo upload limit for today. Please come again tomorrow!\"]}}\n",
      "Done with 173 out of 578\n"
     ]
    },
    {
     "name": "stderr",
     "output_type": "stream",
     "text": [
      "CocaCola1936A:\n",
      " downloading Coca-Cola -1936A.jpg: 100%|██████████| 136k/136k [00:01<00:00, 72.6kiB/s]\n"
     ]
    },
    {
     "name": "stdout",
     "output_type": "stream",
     "text": [
      "{'meta': {'status': 400, 'msg': 'Bad Request'}, 'response': {'errors': [\"Oh no! You've reached your photo upload limit for today. Please come again tomorrow!\"]}}\n",
      "Done with 174 out of 578\n"
     ]
    },
    {
     "name": "stderr",
     "output_type": "stream",
     "text": [
      "ContinentalCanCompany1934A:\n",
      " downloading Continental Can Company -1934A.jpg: 100%|██████████| 130k/130k [00:00<00:00, 162kiB/s]\n"
     ]
    },
    {
     "name": "stdout",
     "output_type": "stream",
     "text": [
      "{'meta': {'status': 400, 'msg': 'Bad Request'}, 'response': {'errors': [\"Oh no! You've reached your photo upload limit for today. Please come again tomorrow!\"]}}\n",
      "Done with 175 out of 578\n"
     ]
    },
    {
     "name": "stderr",
     "output_type": "stream",
     "text": [
      "CooksChampagne1913A:\n",
      " downloading Cook's Champagne -1913A.jpg: 100%|██████████| 68.0k/68.0k [00:00<00:00, 85.0kiB/s]\n"
     ]
    },
    {
     "name": "stdout",
     "output_type": "stream",
     "text": [
      "{'meta': {'status': 400, 'msg': 'Bad Request'}, 'response': {'errors': [\"Oh no! You've reached your photo upload limit for today. Please come again tomorrow!\"]}}\n",
      "Done with 176 out of 578\n"
     ]
    },
    {
     "name": "stderr",
     "output_type": "stream",
     "text": [
      "CrabOrchardBourbonWhiskey1935A:\n",
      " downloading Crab Orchard Bourbon Whiskey -1935A.jpg: 100%|██████████| 179k/179k [00:02<00:00, 73.4kiB/s]\n"
     ]
    },
    {
     "name": "stdout",
     "output_type": "stream",
     "text": [
      "{'meta': {'status': 400, 'msg': 'Bad Request'}, 'response': {'errors': [\"Oh no! You've reached your photo upload limit for today. Please come again tomorrow!\"]}}\n",
      "Done with 177 out of 578\n"
     ]
    },
    {
     "name": "stderr",
     "output_type": "stream",
     "text": [
      "CreamofWheat1904A:\n",
      " downloading Cream of Wheat -1904A.jpg: 100%|██████████| 147k/147k [00:02<00:00, 71.6kiB/s]\n"
     ]
    },
    {
     "name": "stdout",
     "output_type": "stream",
     "text": [
      "{'meta': {'status': 400, 'msg': 'Bad Request'}, 'response': {'errors': [\"Oh no! You've reached your photo upload limit for today. Please come again tomorrow!\"]}}\n",
      "Done with 178 out of 578\n"
     ]
    },
    {
     "name": "stderr",
     "output_type": "stream",
     "text": [
      "CreamofWheat1906A:\n",
      " downloading Cream of Wheat -1906A.jpg: 100%|██████████| 114k/114k [00:00<00:00, 205kiB/s]\n"
     ]
    },
    {
     "name": "stdout",
     "output_type": "stream",
     "text": [
      "{'meta': {'status': 400, 'msg': 'Bad Request'}, 'response': {'errors': [\"Oh no! You've reached your photo upload limit for today. Please come again tomorrow!\"]}}\n",
      "Done with 179 out of 578\n"
     ]
    },
    {
     "name": "stderr",
     "output_type": "stream",
     "text": [
      "CreamofWheat1907A:\n",
      " downloading Cream of Wheat -1907A.jpg: 100%|██████████| 134k/134k [00:01<00:00, 74.9kiB/s]\n"
     ]
    },
    {
     "name": "stdout",
     "output_type": "stream",
     "text": [
      "{'meta': {'status': 400, 'msg': 'Bad Request'}, 'response': {'errors': [\"Oh no! You've reached your photo upload limit for today. Please come again tomorrow!\"]}}\n",
      "Done with 180 out of 578\n"
     ]
    },
    {
     "name": "stderr",
     "output_type": "stream",
     "text": [
      "CreamofWheat1908A:\n",
      " downloading Cream of Wheat -1908A.jpg: 100%|██████████| 214k/214k [00:03<00:00, 60.8kiB/s]\n"
     ]
    },
    {
     "name": "stdout",
     "output_type": "stream",
     "text": [
      "{'meta': {'status': 400, 'msg': 'Bad Request'}, 'response': {'errors': [\"Oh no! You've reached your photo upload limit for today. Please come again tomorrow!\"]}}\n",
      "Done with 181 out of 578\n"
     ]
    },
    {
     "name": "stderr",
     "output_type": "stream",
     "text": [
      "CreamofWheat1909A:\n",
      " downloading Cream of Wheat -1909A.jpg: 100%|██████████| 128k/128k [00:01<00:00, 116kiB/s]\n"
     ]
    },
    {
     "name": "stdout",
     "output_type": "stream",
     "text": [
      "{'meta': {'status': 400, 'msg': 'Bad Request'}, 'response': {'errors': [\"Oh no! You've reached your photo upload limit for today. Please come again tomorrow!\"]}}\n",
      "Done with 182 out of 578\n"
     ]
    },
    {
     "name": "stderr",
     "output_type": "stream",
     "text": [
      "CreamofWheat1909B:\n",
      " downloading Cream of Wheat -1909B.jpg: 100%|██████████| 77.2k/77.2k [00:00<00:00, 101kiB/s]\n"
     ]
    },
    {
     "name": "stdout",
     "output_type": "stream",
     "text": [
      "{'meta': {'status': 400, 'msg': 'Bad Request'}, 'response': {'errors': [\"Oh no! You've reached your photo upload limit for today. Please come again tomorrow!\"]}}\n",
      "Done with 183 out of 578\n"
     ]
    },
    {
     "name": "stderr",
     "output_type": "stream",
     "text": [
      "CreamofWheat1910A:\n",
      " downloading Cream of Wheat -1910A.jpg: 100%|██████████| 142k/142k [00:01<00:00, 76.2kiB/s]\n"
     ]
    },
    {
     "name": "stdout",
     "output_type": "stream",
     "text": [
      "{'meta': {'status': 400, 'msg': 'Bad Request'}, 'response': {'errors': [\"Oh no! You've reached your photo upload limit for today. Please come again tomorrow!\"]}}\n",
      "Done with 184 out of 578\n"
     ]
    },
    {
     "name": "stderr",
     "output_type": "stream",
     "text": [
      "CreamofWheat1910B:\n",
      " downloading Cream of Wheat -1910B.jpg: 100%|██████████| 104k/104k [00:01<00:00, 78.0kiB/s]\n"
     ]
    },
    {
     "name": "stdout",
     "output_type": "stream",
     "text": [
      "{'meta': {'status': 400, 'msg': 'Bad Request'}, 'response': {'errors': [\"Oh no! You've reached your photo upload limit for today. Please come again tomorrow!\"]}}\n",
      "Done with 185 out of 578\n"
     ]
    },
    {
     "name": "stderr",
     "output_type": "stream",
     "text": [
      "CreamofWheat1910C:\n",
      " downloading Cream of Wheat -1910C.jpg: 100%|██████████| 255k/255k [00:01<00:00, 157kiB/s]\n"
     ]
    },
    {
     "name": "stdout",
     "output_type": "stream",
     "text": [
      "{'meta': {'status': 400, 'msg': 'Bad Request'}, 'response': {'errors': [\"Oh no! You've reached your photo upload limit for today. Please come again tomorrow!\"]}}\n",
      "Done with 186 out of 578\n"
     ]
    },
    {
     "name": "stderr",
     "output_type": "stream",
     "text": [
      "CreamofWheat1911A:\n",
      " downloading Cream of Wheat -1911A.jpg: 100%|██████████| 100k/100k [00:00<00:00, 187kiB/s]\n"
     ]
    },
    {
     "name": "stdout",
     "output_type": "stream",
     "text": [
      "{'meta': {'status': 400, 'msg': 'Bad Request'}, 'response': {'errors': [\"Oh no! You've reached your photo upload limit for today. Please come again tomorrow!\"]}}\n",
      "Done with 187 out of 578\n"
     ]
    },
    {
     "name": "stderr",
     "output_type": "stream",
     "text": [
      "CreamofWheat1912A:\n",
      " downloading Cream of Wheat -1912A.jpg: 100%|██████████| 118k/118k [00:00<00:00, 147kiB/s]\n"
     ]
    },
    {
     "name": "stdout",
     "output_type": "stream",
     "text": [
      "{'meta': {'status': 400, 'msg': 'Bad Request'}, 'response': {'errors': [\"Oh no! You've reached your photo upload limit for today. Please come again tomorrow!\"]}}\n",
      "Done with 188 out of 578\n"
     ]
    },
    {
     "name": "stderr",
     "output_type": "stream",
     "text": [
      "CreamofWheat1913A:\n",
      " downloading Cream of Wheat -1913A.jpg: 100%|██████████| 65.1k/65.1k [00:00<00:00, 81.9kiB/s]\n"
     ]
    },
    {
     "name": "stdout",
     "output_type": "stream",
     "text": [
      "{'meta': {'status': 400, 'msg': 'Bad Request'}, 'response': {'errors': [\"Oh no! You've reached your photo upload limit for today. Please come again tomorrow!\"]}}\n",
      "Done with 189 out of 578\n"
     ]
    },
    {
     "name": "stderr",
     "output_type": "stream",
     "text": [
      "CreamofWheat1914A:\n",
      " downloading Cream of Wheat -1914A.jpg: 100%|██████████| 24.1k/24.1k [00:00<00:00, 12.0MiB/s]\n"
     ]
    },
    {
     "name": "stdout",
     "output_type": "stream",
     "text": [
      "{'meta': {'status': 400, 'msg': 'Bad Request'}, 'response': {'errors': [\"Oh no! You've reached your photo upload limit for today. Please come again tomorrow!\"]}}\n",
      "Done with 190 out of 578\n"
     ]
    },
    {
     "name": "stderr",
     "output_type": "stream",
     "text": [
      "CreamofWheat1914B:\n",
      " downloading Cream of Wheat -1914B.jpg: 100%|██████████| 93.1k/93.1k [00:01<00:00, 85.5kiB/s]\n"
     ]
    },
    {
     "name": "stdout",
     "output_type": "stream",
     "text": [
      "{'meta': {'status': 400, 'msg': 'Bad Request'}, 'response': {'errors': [\"Oh no! You've reached your photo upload limit for today. Please come again tomorrow!\"]}}\n",
      "Done with 191 out of 578\n"
     ]
    },
    {
     "name": "stderr",
     "output_type": "stream",
     "text": [
      "CreamofWheat1915A:\n",
      " downloading Cream of Wheat -1915A.jpg: 100%|██████████| 89.0k/89.0k [00:00<00:00, 164kiB/s]\n"
     ]
    },
    {
     "name": "stdout",
     "output_type": "stream",
     "text": [
      "{'meta': {'status': 400, 'msg': 'Bad Request'}, 'response': {'errors': [\"Oh no! You've reached your photo upload limit for today. Please come again tomorrow!\"]}}\n",
      "Done with 192 out of 578\n"
     ]
    },
    {
     "name": "stderr",
     "output_type": "stream",
     "text": [
      "CreamofWheat1915B:\n",
      " downloading Cream of Wheat -1915B.jpg: 100%|██████████| 85.7k/85.7k [00:00<00:00, 161kiB/s]\n"
     ]
    },
    {
     "name": "stdout",
     "output_type": "stream",
     "text": [
      "{'meta': {'status': 400, 'msg': 'Bad Request'}, 'response': {'errors': [\"Oh no! You've reached your photo upload limit for today. Please come again tomorrow!\"]}}\n",
      "Done with 193 out of 578\n"
     ]
    },
    {
     "name": "stderr",
     "output_type": "stream",
     "text": [
      "CreamofWheat1916A:\n",
      " downloading Cream of Wheat -1916A.jpg: 100%|██████████| 33.5k/33.5k [00:00<00:00, 11.5MiB/s]\n"
     ]
    },
    {
     "name": "stdout",
     "output_type": "stream",
     "text": [
      "{'meta': {'status': 400, 'msg': 'Bad Request'}, 'response': {'errors': [\"Oh no! You've reached your photo upload limit for today. Please come again tomorrow!\"]}}\n",
      "Done with 194 out of 578\n"
     ]
    },
    {
     "name": "stderr",
     "output_type": "stream",
     "text": [
      "CreamofWheat1916B:\n",
      " downloading Cream of Wheat -1916B.jpg: 100%|██████████| 58.1k/58.1k [00:00<00:00, 109kiB/s]\n"
     ]
    },
    {
     "name": "stdout",
     "output_type": "stream",
     "text": [
      "{'meta': {'status': 400, 'msg': 'Bad Request'}, 'response': {'errors': [\"Oh no! You've reached your photo upload limit for today. Please come again tomorrow!\"]}}\n",
      "Done with 195 out of 578\n"
     ]
    },
    {
     "name": "stderr",
     "output_type": "stream",
     "text": [
      "CreamofWheat1917A:\n",
      " downloading Cream of Wheat -1917A.jpg: 100%|██████████| 81.3k/81.3k [00:00<00:00, 102kiB/s]\n"
     ]
    },
    {
     "name": "stdout",
     "output_type": "stream",
     "text": [
      "{'meta': {'status': 400, 'msg': 'Bad Request'}, 'response': {'errors': [\"Oh no! You've reached your photo upload limit for today. Please come again tomorrow!\"]}}\n",
      "Done with 196 out of 578\n"
     ]
    },
    {
     "name": "stderr",
     "output_type": "stream",
     "text": [
      "CreamofWheat1917B:\n",
      " downloading Cream of Wheat -1917B.jpg: 100%|██████████| 66.3k/66.3k [00:00<00:00, 252kiB/s]\n"
     ]
    },
    {
     "name": "stdout",
     "output_type": "stream",
     "text": [
      "{'meta': {'status': 400, 'msg': 'Bad Request'}, 'response': {'errors': [\"Oh no! You've reached your photo upload limit for today. Please come again tomorrow!\"]}}\n",
      "Done with 197 out of 578\n"
     ]
    },
    {
     "name": "stderr",
     "output_type": "stream",
     "text": [
      "CreamofWheat1918A:\n",
      " downloading Cream of Wheat -1918A.jpg: 100%|██████████| 110k/110k [00:01<00:00, 84.5kiB/s]\n"
     ]
    },
    {
     "name": "stdout",
     "output_type": "stream",
     "text": [
      "{'meta': {'status': 400, 'msg': 'Bad Request'}, 'response': {'errors': [\"Oh no! You've reached your photo upload limit for today. Please come again tomorrow!\"]}}\n",
      "Done with 198 out of 578\n"
     ]
    },
    {
     "name": "stderr",
     "output_type": "stream",
     "text": [
      "CreamofWheat1918B:\n",
      " downloading Cream of Wheat -1918B.jpg: 100%|██████████| 129k/129k [00:01<00:00, 80.5kiB/s]\n"
     ]
    },
    {
     "name": "stdout",
     "output_type": "stream",
     "text": [
      "{'meta': {'status': 400, 'msg': 'Bad Request'}, 'response': {'errors': [\"Oh no! You've reached your photo upload limit for today. Please come again tomorrow!\"]}}\n",
      "Done with 199 out of 578\n"
     ]
    },
    {
     "name": "stderr",
     "output_type": "stream",
     "text": [
      "CreamofWheat1919A:\n",
      " downloading Cream of Wheat -1919A.jpg: 100%|██████████| 56.6k/56.6k [00:00<00:00, 108kiB/s]\n"
     ]
    },
    {
     "name": "stdout",
     "output_type": "stream",
     "text": [
      "{'meta': {'status': 400, 'msg': 'Bad Request'}, 'response': {'errors': [\"Oh no! You've reached your photo upload limit for today. Please come again tomorrow!\"]}}\n",
      "Done with 200 out of 578\n"
     ]
    },
    {
     "name": "stderr",
     "output_type": "stream",
     "text": [
      "CreamofWheat1919B:\n",
      " downloading Cream of Wheat -1919B.jpg: 100%|██████████| 90.3k/90.3k [00:00<00:00, 165kiB/s]\n"
     ]
    },
    {
     "name": "stdout",
     "output_type": "stream",
     "text": [
      "{'meta': {'status': 400, 'msg': 'Bad Request'}, 'response': {'errors': [\"Oh no! You've reached your photo upload limit for today. Please come again tomorrow!\"]}}\n",
      "Done with 201 out of 578\n"
     ]
    },
    {
     "name": "stderr",
     "output_type": "stream",
     "text": [
      "CreamofWheat1920A:\n",
      " downloading Cream of Wheat -1920A.jpg: 100%|██████████| 130k/130k [00:01<00:00, 82.9kiB/s]\n"
     ]
    },
    {
     "name": "stdout",
     "output_type": "stream",
     "text": [
      "{'meta': {'status': 400, 'msg': 'Bad Request'}, 'response': {'errors': [\"Oh no! You've reached your photo upload limit for today. Please come again tomorrow!\"]}}\n",
      "Done with 202 out of 578\n"
     ]
    },
    {
     "name": "stderr",
     "output_type": "stream",
     "text": [
      "CreamofWheat1920B:\n",
      " downloading Cream of Wheat -1920B.jpg: 100%|██████████| 86.1k/86.1k [00:00<00:00, 167kiB/s]\n"
     ]
    },
    {
     "name": "stdout",
     "output_type": "stream",
     "text": [
      "{'meta': {'status': 400, 'msg': 'Bad Request'}, 'response': {'errors': [\"Oh no! You've reached your photo upload limit for today. Please come again tomorrow!\"]}}\n",
      "Done with 203 out of 578\n"
     ]
    },
    {
     "name": "stderr",
     "output_type": "stream",
     "text": [
      "CreamofWheat1921A:\n",
      " downloading Cream of Wheat -1921A.jpg: 100%|██████████| 27.5k/27.5k [00:00<?, ?iB/s]\n"
     ]
    },
    {
     "name": "stdout",
     "output_type": "stream",
     "text": [
      "{'meta': {'status': 400, 'msg': 'Bad Request'}, 'response': {'errors': [\"Oh no! You've reached your photo upload limit for today. Please come again tomorrow!\"]}}\n",
      "Done with 204 out of 578\n"
     ]
    },
    {
     "name": "stderr",
     "output_type": "stream",
     "text": [
      "CreamofWheat1921B:\n",
      " downloading Cream of Wheat -1921B.jpg: 100%|██████████| 35.1k/35.1k [00:00<00:00, 140kiB/s]\n"
     ]
    },
    {
     "name": "stdout",
     "output_type": "stream",
     "text": [
      "{'meta': {'status': 400, 'msg': 'Bad Request'}, 'response': {'errors': [\"Oh no! You've reached your photo upload limit for today. Please come again tomorrow!\"]}}\n",
      "Done with 205 out of 578\n"
     ]
    },
    {
     "name": "stderr",
     "output_type": "stream",
     "text": [
      "CreamofWheat1921C:\n",
      " downloading Cream of Wheat -1921C.jpg: 100%|██████████| 27.3k/27.3k [00:00<00:00, 14.0MiB/s]\n"
     ]
    },
    {
     "name": "stdout",
     "output_type": "stream",
     "text": [
      "{'meta': {'status': 400, 'msg': 'Bad Request'}, 'response': {'errors': [\"Oh no! You've reached your photo upload limit for today. Please come again tomorrow!\"]}}\n",
      "Done with 206 out of 578\n"
     ]
    },
    {
     "name": "stderr",
     "output_type": "stream",
     "text": [
      "CreamofWheat1922A:\n",
      " downloading Cream of Wheat -1922A.jpg: 100%|██████████| 84.1k/84.1k [00:01<00:00, 62.4kiB/s]\n"
     ]
    },
    {
     "name": "stdout",
     "output_type": "stream",
     "text": [
      "{'meta': {'status': 400, 'msg': 'Bad Request'}, 'response': {'errors': [\"Oh no! You've reached your photo upload limit for today. Please come again tomorrow!\"]}}\n",
      "Done with 207 out of 578\n"
     ]
    },
    {
     "name": "stderr",
     "output_type": "stream",
     "text": [
      "CreamofWheat1922B:\n",
      " downloading Cream of Wheat -1922B.jpg: 100%|██████████| 88.0k/88.0k [00:01<00:00, 84.5kiB/s]\n"
     ]
    },
    {
     "name": "stdout",
     "output_type": "stream",
     "text": [
      "{'meta': {'status': 400, 'msg': 'Bad Request'}, 'response': {'errors': [\"Oh no! You've reached your photo upload limit for today. Please come again tomorrow!\"]}}\n",
      "Done with 208 out of 578\n"
     ]
    },
    {
     "name": "stderr",
     "output_type": "stream",
     "text": [
      "CreamofWheat1922C:\n",
      " downloading Cream of Wheat -1922C.jpg: 100%|██████████| 81.6k/81.6k [00:00<00:00, 155kiB/s]\n"
     ]
    },
    {
     "name": "stdout",
     "output_type": "stream",
     "text": [
      "{'meta': {'status': 400, 'msg': 'Bad Request'}, 'response': {'errors': [\"Oh no! You've reached your photo upload limit for today. Please come again tomorrow!\"]}}\n",
      "Done with 209 out of 578\n"
     ]
    },
    {
     "name": "stderr",
     "output_type": "stream",
     "text": [
      "CreamofWheat1922D:\n",
      " downloading Cream of Wheat -1922D.jpg: 100%|██████████| 142k/142k [00:00<00:00, 178kiB/s]\n"
     ]
    },
    {
     "name": "stdout",
     "output_type": "stream",
     "text": [
      "{'meta': {'status': 400, 'msg': 'Bad Request'}, 'response': {'errors': [\"Oh no! You've reached your photo upload limit for today. Please come again tomorrow!\"]}}\n",
      "Done with 210 out of 578\n"
     ]
    },
    {
     "name": "stderr",
     "output_type": "stream",
     "text": [
      "CreamofWheat1923A:\n",
      " downloading Cream of Wheat -1923A.jpg: 100%|██████████| 97.3k/97.3k [00:00<00:00, 183kiB/s]\n"
     ]
    },
    {
     "name": "stdout",
     "output_type": "stream",
     "text": [
      "{'meta': {'status': 400, 'msg': 'Bad Request'}, 'response': {'errors': [\"Oh no! You've reached your photo upload limit for today. Please come again tomorrow!\"]}}\n",
      "Done with 211 out of 578\n"
     ]
    },
    {
     "name": "stderr",
     "output_type": "stream",
     "text": [
      "CreamofWheat1924A:\n",
      " downloading Cream of Wheat -1924A.jpg: 100%|██████████| 99.1k/99.1k [00:00<00:00, 185kiB/s]\n"
     ]
    },
    {
     "name": "stdout",
     "output_type": "stream",
     "text": [
      "{'meta': {'status': 400, 'msg': 'Bad Request'}, 'response': {'errors': [\"Oh no! You've reached your photo upload limit for today. Please come again tomorrow!\"]}}\n",
      "Done with 212 out of 578\n"
     ]
    },
    {
     "name": "stderr",
     "output_type": "stream",
     "text": [
      "CurticeBrothersSoups1900sA:\n",
      " downloading Curtice Brothers Soups -1900'sA.jpg: 100%|██████████| 152k/152k [00:00<00:00, 187kiB/s]\n"
     ]
    },
    {
     "name": "stdout",
     "output_type": "stream",
     "text": [
      "{'meta': {'status': 400, 'msg': 'Bad Request'}, 'response': {'errors': [\"Oh no! You've reached your photo upload limit for today. Please come again tomorrow!\"]}}\n",
      "Done with 213 out of 578\n"
     ]
    },
    {
     "name": "stderr",
     "output_type": "stream",
     "text": [
      "CurticeBrothersSoups1903A:\n",
      " downloading Curtice Brothers Soups -1903A.jpg: 100%|██████████| 58.7k/58.7k [00:00<00:00, 74.6kiB/s]\n"
     ]
    },
    {
     "name": "stdout",
     "output_type": "stream",
     "text": [
      "{'meta': {'status': 400, 'msg': 'Bad Request'}, 'response': {'errors': [\"Oh no! You've reached your photo upload limit for today. Please come again tomorrow!\"]}}\n",
      "Done with 214 out of 578\n"
     ]
    },
    {
     "name": "stderr",
     "output_type": "stream",
     "text": [
      "DelMonteApricots1918A:\n",
      " downloading Del Monte Apricots -1918A.jpg: 100%|██████████| 115k/115k [00:00<00:00, 215kiB/s]\n"
     ]
    },
    {
     "name": "stdout",
     "output_type": "stream",
     "text": [
      "{'meta': {'status': 400, 'msg': 'Bad Request'}, 'response': {'errors': [\"Oh no! You've reached your photo upload limit for today. Please come again tomorrow!\"]}}\n",
      "Done with 215 out of 578\n"
     ]
    },
    {
     "name": "stderr",
     "output_type": "stream",
     "text": [
      "DelMonteCannedFoods1923A:\n",
      " downloading Del Monte Canned Foods -1923A.jpg: 100%|██████████| 236k/236k [00:02<00:00, 114kiB/s]\n"
     ]
    },
    {
     "name": "stdout",
     "output_type": "stream",
     "text": [
      "{'meta': {'status': 400, 'msg': 'Bad Request'}, 'response': {'errors': [\"Oh no! You've reached your photo upload limit for today. Please come again tomorrow!\"]}}\n",
      "Done with 216 out of 578\n"
     ]
    },
    {
     "name": "stderr",
     "output_type": "stream",
     "text": [
      "DeliciaPottedMeatProducts1919A:\n",
      " downloading Delicia Potted Meat Products -1919A.jpg: 100%|██████████| 140k/140k [00:00<00:00, 170kiB/s]\n"
     ]
    },
    {
     "name": "stdout",
     "output_type": "stream",
     "text": [
      "{'meta': {'status': 400, 'msg': 'Bad Request'}, 'response': {'errors': [\"Oh no! You've reached your photo upload limit for today. Please come again tomorrow!\"]}}\n",
      "Done with 217 out of 578\n"
     ]
    },
    {
     "name": "stderr",
     "output_type": "stream",
     "text": [
      "DentyneGum1940A:\n",
      " downloading Dentyne Gum -1940A.jpg: 100%|██████████| 69.7k/69.7k [00:00<00:00, 86.7kiB/s]\n"
     ]
    },
    {
     "name": "stdout",
     "output_type": "stream",
     "text": [
      "{'meta': {'status': 400, 'msg': 'Bad Request'}, 'response': {'errors': [\"Oh no! You've reached your photo upload limit for today. Please come again tomorrow!\"]}}\n",
      "Done with 218 out of 578\n"
     ]
    },
    {
     "name": "stderr",
     "output_type": "stream",
     "text": [
      "DentyneGum1948A:\n",
      " downloading Dentyne Gum -1948A.jpg: 100%|██████████| 150k/150k [00:00<00:00, 185kiB/s]\n"
     ]
    },
    {
     "name": "stdout",
     "output_type": "stream",
     "text": [
      "{'meta': {'status': 400, 'msg': 'Bad Request'}, 'response': {'errors': [\"Oh no! You've reached your photo upload limit for today. Please come again tomorrow!\"]}}\n",
      "Done with 219 out of 578\n"
     ]
    },
    {
     "name": "stderr",
     "output_type": "stream",
     "text": [
      "DerbyBarbecueSauce1947A:\n",
      " downloading Derby Barbecue Sauce -1947A.jpg: 100%|██████████| 174k/174k [00:01<00:00, 164kiB/s]\n"
     ]
    },
    {
     "name": "stdout",
     "output_type": "stream",
     "text": [
      "{'meta': {'status': 400, 'msg': 'Bad Request'}, 'response': {'errors': [\"Oh no! You've reached your photo upload limit for today. Please come again tomorrow!\"]}}\n",
      "Done with 220 out of 578\n"
     ]
    },
    {
     "name": "stderr",
     "output_type": "stream",
     "text": [
      "DerbyBarbecueSauce1947B:\n",
      " downloading Derby Barbecue Sauce -1947B.jpg: 100%|██████████| 78.3k/78.3k [00:00<00:00, 295kiB/s]\n"
     ]
    },
    {
     "name": "stdout",
     "output_type": "stream",
     "text": [
      "{'meta': {'status': 400, 'msg': 'Bad Request'}, 'response': {'errors': [\"Oh no! You've reached your photo upload limit for today. Please come again tomorrow!\"]}}\n",
      "Done with 221 out of 578\n"
     ]
    },
    {
     "name": "stderr",
     "output_type": "stream",
     "text": [
      "DerbyBarbecueSauce1948A:\n",
      " downloading Derby Barbecue Sauce -1948A.jpg: 100%|██████████| 178k/178k [00:02<00:00, 76.5kiB/s]\n"
     ]
    },
    {
     "name": "stdout",
     "output_type": "stream",
     "text": [
      "{'meta': {'status': 400, 'msg': 'Bad Request'}, 'response': {'errors': [\"Oh no! You've reached your photo upload limit for today. Please come again tomorrow!\"]}}\n",
      "Done with 222 out of 578\n"
     ]
    },
    {
     "name": "stderr",
     "output_type": "stream",
     "text": [
      "DexoShortening1949A:\n",
      " downloading Dexo Shortening -1949A.jpg: 100%|██████████| 180k/180k [00:02<00:00, 76.3kiB/s]\n"
     ]
    },
    {
     "name": "stdout",
     "output_type": "stream",
     "text": [
      "{'meta': {'status': 400, 'msg': 'Bad Request'}, 'response': {'errors': [\"Oh no! You've reached your photo upload limit for today. Please come again tomorrow!\"]}}\n",
      "Done with 223 out of 578\n"
     ]
    },
    {
     "name": "stderr",
     "output_type": "stream",
     "text": [
      "DonaldDuckPeanutButter1946A:\n",
      " downloading Donald Duck Peanut Butter -1946A.jpg: 100%|██████████| 132k/132k [00:01<00:00, 70.5kiB/s]\n"
     ]
    },
    {
     "name": "stdout",
     "output_type": "stream",
     "text": [
      "{'meta': {'status': 400, 'msg': 'Bad Request'}, 'response': {'errors': [\"Oh no! You've reached your photo upload limit for today. Please come again tomorrow!\"]}}\n",
      "Done with 224 out of 578\n"
     ]
    },
    {
     "name": "stderr",
     "output_type": "stream",
     "text": [
      "DromedaryCocoanut1925A:\n",
      " downloading Dromedary Cocoanut -1925A.jpg: 100%|██████████| 102k/102k [00:01<00:00, 53.9kiB/s]\n"
     ]
    },
    {
     "name": "stdout",
     "output_type": "stream",
     "text": [
      "{'meta': {'status': 400, 'msg': 'Bad Request'}, 'response': {'errors': [\"Oh no! You've reached your photo upload limit for today. Please come again tomorrow!\"]}}\n",
      "Done with 225 out of 578\n"
     ]
    },
    {
     "name": "stderr",
     "output_type": "stream",
     "text": [
      "DuminyChampagne1901A:\n",
      " downloading Duminy Champagne -1901A.jpg: 100%|██████████| 112k/112k [00:01<00:00, 84.7kiB/s]\n"
     ]
    },
    {
     "name": "stdout",
     "output_type": "stream",
     "text": [
      "{'meta': {'status': 400, 'msg': 'Bad Request'}, 'response': {'errors': [\"Oh no! You've reached your photo upload limit for today. Please come again tomorrow!\"]}}\n",
      "Done with 226 out of 578\n"
     ]
    },
    {
     "ename": "KeyboardInterrupt",
     "evalue": "",
     "output_type": "error",
     "traceback": [
      "\u001b[1;31m---------------------------------------------------------------------------\u001b[0m",
      "\u001b[1;31mKeyboardInterrupt\u001b[0m                         Traceback (most recent call last)",
      "\u001b[1;32me:\\GitHub\\brontes\\Code Notebooks\\tumblr.ipynb Cell 10\u001b[0m in \u001b[0;36m<cell line: 1>\u001b[1;34m()\u001b[0m\n\u001b[0;32m      <a href='vscode-notebook-cell:/e%3A/GitHub/brontes/Code%20Notebooks/tumblr.ipynb#X10sZmlsZQ%3D%3D?line=0'>1</a>\u001b[0m \u001b[39mfor\u001b[39;00m i \u001b[39min\u001b[39;00m \u001b[39mrange\u001b[39m(\u001b[39mlen\u001b[39m(data)):\n\u001b[0;32m      <a href='vscode-notebook-cell:/e%3A/GitHub/brontes/Code%20Notebooks/tumblr.ipynb#X10sZmlsZQ%3D%3D?line=1'>2</a>\u001b[0m     illustration \u001b[39m=\u001b[39m data\u001b[39m.\u001b[39miloc[i]\n\u001b[1;32m----> <a href='vscode-notebook-cell:/e%3A/GitHub/brontes/Code%20Notebooks/tumblr.ipynb#X10sZmlsZQ%3D%3D?line=3'>4</a>\u001b[0m     download(illustration[\u001b[39m'\u001b[39;49m\u001b[39midentifier\u001b[39;49m\u001b[39m'\u001b[39;49m], destdir \u001b[39m=\u001b[39;49m \u001b[39m'\u001b[39;49m\u001b[39m../Dump/\u001b[39;49m\u001b[39m'\u001b[39;49m, verbose\u001b[39m=\u001b[39;49m\u001b[39mTrue\u001b[39;49;00m, glob_pattern\u001b[39m=\u001b[39;49millustration[\u001b[39m'\u001b[39;49m\u001b[39mname\u001b[39;49m\u001b[39m'\u001b[39;49m])\n\u001b[0;32m      <a href='vscode-notebook-cell:/e%3A/GitHub/brontes/Code%20Notebooks/tumblr.ipynb#X10sZmlsZQ%3D%3D?line=5'>6</a>\u001b[0m     address \u001b[39m=\u001b[39m \u001b[39m'\u001b[39m\u001b[39m../Dump/\u001b[39m\u001b[39m'\u001b[39m \u001b[39m+\u001b[39m illustration[\u001b[39m'\u001b[39m\u001b[39midentifier\u001b[39m\u001b[39m'\u001b[39m] \u001b[39m+\u001b[39m \u001b[39m'\u001b[39m\u001b[39m/\u001b[39m\u001b[39m'\u001b[39m \u001b[39m+\u001b[39m illustration[\u001b[39m'\u001b[39m\u001b[39mname\u001b[39m\u001b[39m'\u001b[39m]\n\u001b[0;32m      <a href='vscode-notebook-cell:/e%3A/GitHub/brontes/Code%20Notebooks/tumblr.ipynb#X10sZmlsZQ%3D%3D?line=7'>8</a>\u001b[0m     outString \u001b[39m=\u001b[39m pt\u001b[39m.\u001b[39mimage_to_string(Image\u001b[39m.\u001b[39mopen(address))\n",
      "File \u001b[1;32mc:\\Users\\orect\\miniconda3\\envs\\tumblr\\lib\\site-packages\\internetarchive\\api.py:358\u001b[0m, in \u001b[0;36mdownload\u001b[1;34m(identifier, files, formats, glob_pattern, dry_run, verbose, ignore_existing, checksum, destdir, no_directory, retries, item_index, ignore_errors, on_the_fly, return_responses, no_change_timestamp, **get_item_kwargs)\u001b[0m\n\u001b[0;32m    296\u001b[0m \u001b[39mdef\u001b[39;00m \u001b[39mdownload\u001b[39m(\n\u001b[0;32m    297\u001b[0m     identifier: \u001b[39mstr\u001b[39m,\n\u001b[0;32m    298\u001b[0m     files: files\u001b[39m.\u001b[39mFile \u001b[39m|\u001b[39m \u001b[39mlist\u001b[39m[files\u001b[39m.\u001b[39mFile] \u001b[39m|\u001b[39m \u001b[39mNone\u001b[39;00m \u001b[39m=\u001b[39m \u001b[39mNone\u001b[39;00m,\n\u001b[1;32m   (...)\u001b[0m\n\u001b[0;32m    313\u001b[0m     \u001b[39m*\u001b[39m\u001b[39m*\u001b[39mget_item_kwargs,\n\u001b[0;32m    314\u001b[0m ) \u001b[39m-\u001b[39m\u001b[39m>\u001b[39m \u001b[39mlist\u001b[39m[requests\u001b[39m.\u001b[39mRequest \u001b[39m|\u001b[39m requests\u001b[39m.\u001b[39mResponse]:\n\u001b[0;32m    315\u001b[0m     \u001b[39mr\u001b[39m\u001b[39m\"\"\"Download files from an item.\u001b[39;00m\n\u001b[0;32m    316\u001b[0m \n\u001b[0;32m    317\u001b[0m \u001b[39m    :param identifier: The globally unique Archive.org identifier for a given item.\u001b[39;00m\n\u001b[1;32m   (...)\u001b[0m\n\u001b[0;32m    356\u001b[0m \u001b[39m    :returns: A list Requests if debug else a list of Responses.\u001b[39;00m\n\u001b[0;32m    357\u001b[0m \u001b[39m    \"\"\"\u001b[39;00m\n\u001b[1;32m--> 358\u001b[0m     item \u001b[39m=\u001b[39m get_item(identifier, \u001b[39m*\u001b[39m\u001b[39m*\u001b[39mget_item_kwargs)\n\u001b[0;32m    359\u001b[0m     r \u001b[39m=\u001b[39m item\u001b[39m.\u001b[39mdownload(\n\u001b[0;32m    360\u001b[0m         files\u001b[39m=\u001b[39mfiles,\n\u001b[0;32m    361\u001b[0m         formats\u001b[39m=\u001b[39mformats,\n\u001b[1;32m   (...)\u001b[0m\n\u001b[0;32m    374\u001b[0m         no_change_timestamp\u001b[39m=\u001b[39mno_change_timestamp,\n\u001b[0;32m    375\u001b[0m     )\n\u001b[0;32m    376\u001b[0m     \u001b[39mreturn\u001b[39;00m r\n",
      "File \u001b[1;32mc:\\Users\\orect\\miniconda3\\envs\\tumblr\\lib\\site-packages\\internetarchive\\api.py:121\u001b[0m, in \u001b[0;36mget_item\u001b[1;34m(identifier, config, config_file, archive_session, debug, http_adapter_kwargs, request_kwargs)\u001b[0m\n\u001b[0;32m    119\u001b[0m \u001b[39mif\u001b[39;00m \u001b[39mnot\u001b[39;00m archive_session:\n\u001b[0;32m    120\u001b[0m     archive_session \u001b[39m=\u001b[39m get_session(config, config_file, debug, http_adapter_kwargs)\n\u001b[1;32m--> 121\u001b[0m \u001b[39mreturn\u001b[39;00m archive_session\u001b[39m.\u001b[39;49mget_item(identifier, request_kwargs\u001b[39m=\u001b[39;49mrequest_kwargs)\n",
      "File \u001b[1;32mc:\\Users\\orect\\miniconda3\\envs\\tumblr\\lib\\site-packages\\internetarchive\\session.py:253\u001b[0m, in \u001b[0;36mArchiveSession.get_item\u001b[1;34m(self, identifier, item_metadata, request_kwargs)\u001b[0m\n\u001b[0;32m    251\u001b[0m \u001b[39mif\u001b[39;00m \u001b[39mnot\u001b[39;00m item_metadata:\n\u001b[0;32m    252\u001b[0m     logger\u001b[39m.\u001b[39mdebug(\u001b[39mf\u001b[39m\u001b[39m'\u001b[39m\u001b[39mno metadata provided for \u001b[39m\u001b[39m\"\u001b[39m\u001b[39m{\u001b[39;00midentifier\u001b[39m}\u001b[39;00m\u001b[39m\"\u001b[39m\u001b[39m, retrieving now.\u001b[39m\u001b[39m'\u001b[39m)\n\u001b[1;32m--> 253\u001b[0m     item_metadata \u001b[39m=\u001b[39m \u001b[39mself\u001b[39;49m\u001b[39m.\u001b[39;49mget_metadata(identifier, request_kwargs) \u001b[39mor\u001b[39;00m {}\n\u001b[0;32m    254\u001b[0m mediatype \u001b[39m=\u001b[39m item_metadata\u001b[39m.\u001b[39mget(\u001b[39m'\u001b[39m\u001b[39mmetadata\u001b[39m\u001b[39m'\u001b[39m, {})\u001b[39m.\u001b[39mget(\u001b[39m'\u001b[39m\u001b[39mmediatype\u001b[39m\u001b[39m'\u001b[39m)\n\u001b[0;32m    255\u001b[0m \u001b[39mtry\u001b[39;00m:\n",
      "File \u001b[1;32mc:\\Users\\orect\\miniconda3\\envs\\tumblr\\lib\\site-packages\\internetarchive\\session.py:278\u001b[0m, in \u001b[0;36mArchiveSession.get_metadata\u001b[1;34m(self, identifier, request_kwargs)\u001b[0m\n\u001b[0;32m    276\u001b[0m     \u001b[39melse\u001b[39;00m:\n\u001b[0;32m    277\u001b[0m         s3_auth \u001b[39m=\u001b[39m \u001b[39mNone\u001b[39;00m\n\u001b[1;32m--> 278\u001b[0m     resp \u001b[39m=\u001b[39m \u001b[39mself\u001b[39m\u001b[39m.\u001b[39mget(url, auth\u001b[39m=\u001b[39ms3_auth, \u001b[39m*\u001b[39m\u001b[39m*\u001b[39mrequest_kwargs)\n\u001b[0;32m    279\u001b[0m     resp\u001b[39m.\u001b[39mraise_for_status()\n\u001b[0;32m    280\u001b[0m \u001b[39mexcept\u001b[39;00m \u001b[39mException\u001b[39;00m \u001b[39mas\u001b[39;00m exc:\n",
      "File \u001b[1;32mc:\\Users\\orect\\miniconda3\\envs\\tumblr\\lib\\site-packages\\requests\\sessions.py:600\u001b[0m, in \u001b[0;36mSession.get\u001b[1;34m(self, url, **kwargs)\u001b[0m\n\u001b[0;32m    592\u001b[0m \u001b[39mr\u001b[39m\u001b[39m\"\"\"Sends a GET request. Returns :class:`Response` object.\u001b[39;00m\n\u001b[0;32m    593\u001b[0m \n\u001b[0;32m    594\u001b[0m \u001b[39m:param url: URL for the new :class:`Request` object.\u001b[39;00m\n\u001b[0;32m    595\u001b[0m \u001b[39m:param \\*\\*kwargs: Optional arguments that ``request`` takes.\u001b[39;00m\n\u001b[0;32m    596\u001b[0m \u001b[39m:rtype: requests.Response\u001b[39;00m\n\u001b[0;32m    597\u001b[0m \u001b[39m\"\"\"\u001b[39;00m\n\u001b[0;32m    599\u001b[0m kwargs\u001b[39m.\u001b[39msetdefault(\u001b[39m\"\u001b[39m\u001b[39mallow_redirects\u001b[39m\u001b[39m\"\u001b[39m, \u001b[39mTrue\u001b[39;00m)\n\u001b[1;32m--> 600\u001b[0m \u001b[39mreturn\u001b[39;00m \u001b[39mself\u001b[39m\u001b[39m.\u001b[39mrequest(\u001b[39m\"\u001b[39m\u001b[39mGET\u001b[39m\u001b[39m\"\u001b[39m, url, \u001b[39m*\u001b[39m\u001b[39m*\u001b[39mkwargs)\n",
      "File \u001b[1;32mc:\\Users\\orect\\miniconda3\\envs\\tumblr\\lib\\site-packages\\requests\\sessions.py:587\u001b[0m, in \u001b[0;36mSession.request\u001b[1;34m(self, method, url, params, data, headers, cookies, files, auth, timeout, allow_redirects, proxies, hooks, stream, verify, cert, json)\u001b[0m\n\u001b[0;32m    582\u001b[0m send_kwargs \u001b[39m=\u001b[39m {\n\u001b[0;32m    583\u001b[0m     \u001b[39m\"\u001b[39m\u001b[39mtimeout\u001b[39m\u001b[39m\"\u001b[39m: timeout,\n\u001b[0;32m    584\u001b[0m     \u001b[39m\"\u001b[39m\u001b[39mallow_redirects\u001b[39m\u001b[39m\"\u001b[39m: allow_redirects,\n\u001b[0;32m    585\u001b[0m }\n\u001b[0;32m    586\u001b[0m send_kwargs\u001b[39m.\u001b[39mupdate(settings)\n\u001b[1;32m--> 587\u001b[0m resp \u001b[39m=\u001b[39m \u001b[39mself\u001b[39m\u001b[39m.\u001b[39msend(prep, \u001b[39m*\u001b[39m\u001b[39m*\u001b[39msend_kwargs)\n\u001b[0;32m    589\u001b[0m \u001b[39mreturn\u001b[39;00m resp\n",
      "File \u001b[1;32mc:\\Users\\orect\\miniconda3\\envs\\tumblr\\lib\\site-packages\\internetarchive\\session.py:537\u001b[0m, in \u001b[0;36mArchiveSession.send\u001b[1;34m(self, request, **kwargs)\u001b[0m\n\u001b[0;32m    535\u001b[0m warnings\u001b[39m.\u001b[39mfilterwarnings(\u001b[39m'\u001b[39m\u001b[39malways\u001b[39m\u001b[39m'\u001b[39m)\n\u001b[0;32m    536\u001b[0m \u001b[39mtry\u001b[39;00m:\n\u001b[1;32m--> 537\u001b[0m     r \u001b[39m=\u001b[39m \u001b[39msuper\u001b[39m()\u001b[39m.\u001b[39msend(request, \u001b[39m*\u001b[39m\u001b[39m*\u001b[39mkwargs)\n\u001b[0;32m    538\u001b[0m \u001b[39mexcept\u001b[39;00m \u001b[39mException\u001b[39;00m \u001b[39mas\u001b[39;00m e:\n\u001b[0;32m    539\u001b[0m     \u001b[39mtry\u001b[39;00m:\n",
      "File \u001b[1;32mc:\\Users\\orect\\miniconda3\\envs\\tumblr\\lib\\site-packages\\requests\\sessions.py:701\u001b[0m, in \u001b[0;36mSession.send\u001b[1;34m(self, request, **kwargs)\u001b[0m\n\u001b[0;32m    698\u001b[0m start \u001b[39m=\u001b[39m preferred_clock()\n\u001b[0;32m    700\u001b[0m \u001b[39m# Send the request\u001b[39;00m\n\u001b[1;32m--> 701\u001b[0m r \u001b[39m=\u001b[39m adapter\u001b[39m.\u001b[39msend(request, \u001b[39m*\u001b[39m\u001b[39m*\u001b[39mkwargs)\n\u001b[0;32m    703\u001b[0m \u001b[39m# Total elapsed time of the request (approximately)\u001b[39;00m\n\u001b[0;32m    704\u001b[0m elapsed \u001b[39m=\u001b[39m preferred_clock() \u001b[39m-\u001b[39m start\n",
      "File \u001b[1;32mc:\\Users\\orect\\miniconda3\\envs\\tumblr\\lib\\site-packages\\requests\\adapters.py:489\u001b[0m, in \u001b[0;36mHTTPAdapter.send\u001b[1;34m(self, request, stream, timeout, verify, cert, proxies)\u001b[0m\n\u001b[0;32m    487\u001b[0m \u001b[39mtry\u001b[39;00m:\n\u001b[0;32m    488\u001b[0m     \u001b[39mif\u001b[39;00m \u001b[39mnot\u001b[39;00m chunked:\n\u001b[1;32m--> 489\u001b[0m         resp \u001b[39m=\u001b[39m conn\u001b[39m.\u001b[39;49murlopen(\n\u001b[0;32m    490\u001b[0m             method\u001b[39m=\u001b[39;49mrequest\u001b[39m.\u001b[39;49mmethod,\n\u001b[0;32m    491\u001b[0m             url\u001b[39m=\u001b[39;49murl,\n\u001b[0;32m    492\u001b[0m             body\u001b[39m=\u001b[39;49mrequest\u001b[39m.\u001b[39;49mbody,\n\u001b[0;32m    493\u001b[0m             headers\u001b[39m=\u001b[39;49mrequest\u001b[39m.\u001b[39;49mheaders,\n\u001b[0;32m    494\u001b[0m             redirect\u001b[39m=\u001b[39;49m\u001b[39mFalse\u001b[39;49;00m,\n\u001b[0;32m    495\u001b[0m             assert_same_host\u001b[39m=\u001b[39;49m\u001b[39mFalse\u001b[39;49;00m,\n\u001b[0;32m    496\u001b[0m             preload_content\u001b[39m=\u001b[39;49m\u001b[39mFalse\u001b[39;49;00m,\n\u001b[0;32m    497\u001b[0m             decode_content\u001b[39m=\u001b[39;49m\u001b[39mFalse\u001b[39;49;00m,\n\u001b[0;32m    498\u001b[0m             retries\u001b[39m=\u001b[39;49m\u001b[39mself\u001b[39;49m\u001b[39m.\u001b[39;49mmax_retries,\n\u001b[0;32m    499\u001b[0m             timeout\u001b[39m=\u001b[39;49mtimeout,\n\u001b[0;32m    500\u001b[0m         )\n\u001b[0;32m    502\u001b[0m     \u001b[39m# Send the request.\u001b[39;00m\n\u001b[0;32m    503\u001b[0m     \u001b[39melse\u001b[39;00m:\n\u001b[0;32m    504\u001b[0m         \u001b[39mif\u001b[39;00m \u001b[39mhasattr\u001b[39m(conn, \u001b[39m\"\u001b[39m\u001b[39mproxy_pool\u001b[39m\u001b[39m\"\u001b[39m):\n",
      "File \u001b[1;32mc:\\Users\\orect\\miniconda3\\envs\\tumblr\\lib\\site-packages\\urllib3\\connectionpool.py:703\u001b[0m, in \u001b[0;36mHTTPConnectionPool.urlopen\u001b[1;34m(self, method, url, body, headers, retries, redirect, assert_same_host, timeout, pool_timeout, release_conn, chunked, body_pos, **response_kw)\u001b[0m\n\u001b[0;32m    700\u001b[0m     \u001b[39mself\u001b[39m\u001b[39m.\u001b[39m_prepare_proxy(conn)\n\u001b[0;32m    702\u001b[0m \u001b[39m# Make the request on the httplib connection object.\u001b[39;00m\n\u001b[1;32m--> 703\u001b[0m httplib_response \u001b[39m=\u001b[39m \u001b[39mself\u001b[39;49m\u001b[39m.\u001b[39;49m_make_request(\n\u001b[0;32m    704\u001b[0m     conn,\n\u001b[0;32m    705\u001b[0m     method,\n\u001b[0;32m    706\u001b[0m     url,\n\u001b[0;32m    707\u001b[0m     timeout\u001b[39m=\u001b[39;49mtimeout_obj,\n\u001b[0;32m    708\u001b[0m     body\u001b[39m=\u001b[39;49mbody,\n\u001b[0;32m    709\u001b[0m     headers\u001b[39m=\u001b[39;49mheaders,\n\u001b[0;32m    710\u001b[0m     chunked\u001b[39m=\u001b[39;49mchunked,\n\u001b[0;32m    711\u001b[0m )\n\u001b[0;32m    713\u001b[0m \u001b[39m# If we're going to release the connection in ``finally:``, then\u001b[39;00m\n\u001b[0;32m    714\u001b[0m \u001b[39m# the response doesn't need to know about the connection. Otherwise\u001b[39;00m\n\u001b[0;32m    715\u001b[0m \u001b[39m# it will also try to release it and we'll have a double-release\u001b[39;00m\n\u001b[0;32m    716\u001b[0m \u001b[39m# mess.\u001b[39;00m\n\u001b[0;32m    717\u001b[0m response_conn \u001b[39m=\u001b[39m conn \u001b[39mif\u001b[39;00m \u001b[39mnot\u001b[39;00m release_conn \u001b[39melse\u001b[39;00m \u001b[39mNone\u001b[39;00m\n",
      "File \u001b[1;32mc:\\Users\\orect\\miniconda3\\envs\\tumblr\\lib\\site-packages\\urllib3\\connectionpool.py:386\u001b[0m, in \u001b[0;36mHTTPConnectionPool._make_request\u001b[1;34m(self, conn, method, url, timeout, chunked, **httplib_request_kw)\u001b[0m\n\u001b[0;32m    384\u001b[0m \u001b[39m# Trigger any extra validation we need to do.\u001b[39;00m\n\u001b[0;32m    385\u001b[0m \u001b[39mtry\u001b[39;00m:\n\u001b[1;32m--> 386\u001b[0m     \u001b[39mself\u001b[39;49m\u001b[39m.\u001b[39;49m_validate_conn(conn)\n\u001b[0;32m    387\u001b[0m \u001b[39mexcept\u001b[39;00m (SocketTimeout, BaseSSLError) \u001b[39mas\u001b[39;00m e:\n\u001b[0;32m    388\u001b[0m     \u001b[39m# Py2 raises this as a BaseSSLError, Py3 raises it as socket timeout.\u001b[39;00m\n\u001b[0;32m    389\u001b[0m     \u001b[39mself\u001b[39m\u001b[39m.\u001b[39m_raise_timeout(err\u001b[39m=\u001b[39me, url\u001b[39m=\u001b[39murl, timeout_value\u001b[39m=\u001b[39mconn\u001b[39m.\u001b[39mtimeout)\n",
      "File \u001b[1;32mc:\\Users\\orect\\miniconda3\\envs\\tumblr\\lib\\site-packages\\urllib3\\connectionpool.py:1042\u001b[0m, in \u001b[0;36mHTTPSConnectionPool._validate_conn\u001b[1;34m(self, conn)\u001b[0m\n\u001b[0;32m   1040\u001b[0m \u001b[39m# Force connect early to allow us to validate the connection.\u001b[39;00m\n\u001b[0;32m   1041\u001b[0m \u001b[39mif\u001b[39;00m \u001b[39mnot\u001b[39;00m \u001b[39mgetattr\u001b[39m(conn, \u001b[39m\"\u001b[39m\u001b[39msock\u001b[39m\u001b[39m\"\u001b[39m, \u001b[39mNone\u001b[39;00m):  \u001b[39m# AppEngine might not have  `.sock`\u001b[39;00m\n\u001b[1;32m-> 1042\u001b[0m     conn\u001b[39m.\u001b[39;49mconnect()\n\u001b[0;32m   1044\u001b[0m \u001b[39mif\u001b[39;00m \u001b[39mnot\u001b[39;00m conn\u001b[39m.\u001b[39mis_verified:\n\u001b[0;32m   1045\u001b[0m     warnings\u001b[39m.\u001b[39mwarn(\n\u001b[0;32m   1046\u001b[0m         (\n\u001b[0;32m   1047\u001b[0m             \u001b[39m\"\u001b[39m\u001b[39mUnverified HTTPS request is being made to host \u001b[39m\u001b[39m'\u001b[39m\u001b[39m%s\u001b[39;00m\u001b[39m'\u001b[39m\u001b[39m. \u001b[39m\u001b[39m\"\u001b[39m\n\u001b[1;32m   (...)\u001b[0m\n\u001b[0;32m   1052\u001b[0m         InsecureRequestWarning,\n\u001b[0;32m   1053\u001b[0m     )\n",
      "File \u001b[1;32mc:\\Users\\orect\\miniconda3\\envs\\tumblr\\lib\\site-packages\\urllib3\\connection.py:414\u001b[0m, in \u001b[0;36mHTTPSConnection.connect\u001b[1;34m(self)\u001b[0m\n\u001b[0;32m    405\u001b[0m \u001b[39mif\u001b[39;00m (\n\u001b[0;32m    406\u001b[0m     \u001b[39mnot\u001b[39;00m \u001b[39mself\u001b[39m\u001b[39m.\u001b[39mca_certs\n\u001b[0;32m    407\u001b[0m     \u001b[39mand\u001b[39;00m \u001b[39mnot\u001b[39;00m \u001b[39mself\u001b[39m\u001b[39m.\u001b[39mca_cert_dir\n\u001b[1;32m   (...)\u001b[0m\n\u001b[0;32m    410\u001b[0m     \u001b[39mand\u001b[39;00m \u001b[39mhasattr\u001b[39m(context, \u001b[39m\"\u001b[39m\u001b[39mload_default_certs\u001b[39m\u001b[39m\"\u001b[39m)\n\u001b[0;32m    411\u001b[0m ):\n\u001b[0;32m    412\u001b[0m     context\u001b[39m.\u001b[39mload_default_certs()\n\u001b[1;32m--> 414\u001b[0m \u001b[39mself\u001b[39m\u001b[39m.\u001b[39msock \u001b[39m=\u001b[39m ssl_wrap_socket(\n\u001b[0;32m    415\u001b[0m     sock\u001b[39m=\u001b[39;49mconn,\n\u001b[0;32m    416\u001b[0m     keyfile\u001b[39m=\u001b[39;49m\u001b[39mself\u001b[39;49m\u001b[39m.\u001b[39;49mkey_file,\n\u001b[0;32m    417\u001b[0m     certfile\u001b[39m=\u001b[39;49m\u001b[39mself\u001b[39;49m\u001b[39m.\u001b[39;49mcert_file,\n\u001b[0;32m    418\u001b[0m     key_password\u001b[39m=\u001b[39;49m\u001b[39mself\u001b[39;49m\u001b[39m.\u001b[39;49mkey_password,\n\u001b[0;32m    419\u001b[0m     ca_certs\u001b[39m=\u001b[39;49m\u001b[39mself\u001b[39;49m\u001b[39m.\u001b[39;49mca_certs,\n\u001b[0;32m    420\u001b[0m     ca_cert_dir\u001b[39m=\u001b[39;49m\u001b[39mself\u001b[39;49m\u001b[39m.\u001b[39;49mca_cert_dir,\n\u001b[0;32m    421\u001b[0m     ca_cert_data\u001b[39m=\u001b[39;49m\u001b[39mself\u001b[39;49m\u001b[39m.\u001b[39;49mca_cert_data,\n\u001b[0;32m    422\u001b[0m     server_hostname\u001b[39m=\u001b[39;49mserver_hostname,\n\u001b[0;32m    423\u001b[0m     ssl_context\u001b[39m=\u001b[39;49mcontext,\n\u001b[0;32m    424\u001b[0m     tls_in_tls\u001b[39m=\u001b[39;49mtls_in_tls,\n\u001b[0;32m    425\u001b[0m )\n\u001b[0;32m    427\u001b[0m \u001b[39m# If we're using all defaults and the connection\u001b[39;00m\n\u001b[0;32m    428\u001b[0m \u001b[39m# is TLSv1 or TLSv1.1 we throw a DeprecationWarning\u001b[39;00m\n\u001b[0;32m    429\u001b[0m \u001b[39m# for the host.\u001b[39;00m\n\u001b[0;32m    430\u001b[0m \u001b[39mif\u001b[39;00m (\n\u001b[0;32m    431\u001b[0m     default_ssl_context\n\u001b[0;32m    432\u001b[0m     \u001b[39mand\u001b[39;00m \u001b[39mself\u001b[39m\u001b[39m.\u001b[39mssl_version \u001b[39mis\u001b[39;00m \u001b[39mNone\u001b[39;00m\n\u001b[0;32m    433\u001b[0m     \u001b[39mand\u001b[39;00m \u001b[39mhasattr\u001b[39m(\u001b[39mself\u001b[39m\u001b[39m.\u001b[39msock, \u001b[39m\"\u001b[39m\u001b[39mversion\u001b[39m\u001b[39m\"\u001b[39m)\n\u001b[0;32m    434\u001b[0m     \u001b[39mand\u001b[39;00m \u001b[39mself\u001b[39m\u001b[39m.\u001b[39msock\u001b[39m.\u001b[39mversion() \u001b[39min\u001b[39;00m {\u001b[39m\"\u001b[39m\u001b[39mTLSv1\u001b[39m\u001b[39m\"\u001b[39m, \u001b[39m\"\u001b[39m\u001b[39mTLSv1.1\u001b[39m\u001b[39m\"\u001b[39m}\n\u001b[0;32m    435\u001b[0m ):\n",
      "File \u001b[1;32mc:\\Users\\orect\\miniconda3\\envs\\tumblr\\lib\\site-packages\\urllib3\\util\\ssl_.py:449\u001b[0m, in \u001b[0;36mssl_wrap_socket\u001b[1;34m(sock, keyfile, certfile, cert_reqs, ca_certs, server_hostname, ssl_version, ciphers, ssl_context, ca_cert_dir, key_password, ca_cert_data, tls_in_tls)\u001b[0m\n\u001b[0;32m    437\u001b[0m     warnings\u001b[39m.\u001b[39mwarn(\n\u001b[0;32m    438\u001b[0m         \u001b[39m\"\u001b[39m\u001b[39mAn HTTPS request has been made, but the SNI (Server Name \u001b[39m\u001b[39m\"\u001b[39m\n\u001b[0;32m    439\u001b[0m         \u001b[39m\"\u001b[39m\u001b[39mIndication) extension to TLS is not available on this platform. \u001b[39m\u001b[39m\"\u001b[39m\n\u001b[1;32m   (...)\u001b[0m\n\u001b[0;32m    445\u001b[0m         SNIMissingWarning,\n\u001b[0;32m    446\u001b[0m     )\n\u001b[0;32m    448\u001b[0m \u001b[39mif\u001b[39;00m send_sni:\n\u001b[1;32m--> 449\u001b[0m     ssl_sock \u001b[39m=\u001b[39m _ssl_wrap_socket_impl(\n\u001b[0;32m    450\u001b[0m         sock, context, tls_in_tls, server_hostname\u001b[39m=\u001b[39;49mserver_hostname\n\u001b[0;32m    451\u001b[0m     )\n\u001b[0;32m    452\u001b[0m \u001b[39melse\u001b[39;00m:\n\u001b[0;32m    453\u001b[0m     ssl_sock \u001b[39m=\u001b[39m _ssl_wrap_socket_impl(sock, context, tls_in_tls)\n",
      "File \u001b[1;32mc:\\Users\\orect\\miniconda3\\envs\\tumblr\\lib\\site-packages\\urllib3\\util\\ssl_.py:493\u001b[0m, in \u001b[0;36m_ssl_wrap_socket_impl\u001b[1;34m(sock, ssl_context, tls_in_tls, server_hostname)\u001b[0m\n\u001b[0;32m    490\u001b[0m     \u001b[39mreturn\u001b[39;00m SSLTransport(sock, ssl_context, server_hostname)\n\u001b[0;32m    492\u001b[0m \u001b[39mif\u001b[39;00m server_hostname:\n\u001b[1;32m--> 493\u001b[0m     \u001b[39mreturn\u001b[39;00m ssl_context\u001b[39m.\u001b[39;49mwrap_socket(sock, server_hostname\u001b[39m=\u001b[39;49mserver_hostname)\n\u001b[0;32m    494\u001b[0m \u001b[39melse\u001b[39;00m:\n\u001b[0;32m    495\u001b[0m     \u001b[39mreturn\u001b[39;00m ssl_context\u001b[39m.\u001b[39mwrap_socket(sock)\n",
      "File \u001b[1;32mc:\\Users\\orect\\miniconda3\\envs\\tumblr\\lib\\ssl.py:512\u001b[0m, in \u001b[0;36mSSLContext.wrap_socket\u001b[1;34m(self, sock, server_side, do_handshake_on_connect, suppress_ragged_eofs, server_hostname, session)\u001b[0m\n\u001b[0;32m    506\u001b[0m \u001b[39mdef\u001b[39;00m \u001b[39mwrap_socket\u001b[39m(\u001b[39mself\u001b[39m, sock, server_side\u001b[39m=\u001b[39m\u001b[39mFalse\u001b[39;00m,\n\u001b[0;32m    507\u001b[0m                 do_handshake_on_connect\u001b[39m=\u001b[39m\u001b[39mTrue\u001b[39;00m,\n\u001b[0;32m    508\u001b[0m                 suppress_ragged_eofs\u001b[39m=\u001b[39m\u001b[39mTrue\u001b[39;00m,\n\u001b[0;32m    509\u001b[0m                 server_hostname\u001b[39m=\u001b[39m\u001b[39mNone\u001b[39;00m, session\u001b[39m=\u001b[39m\u001b[39mNone\u001b[39;00m):\n\u001b[0;32m    510\u001b[0m     \u001b[39m# SSLSocket class handles server_hostname encoding before it calls\u001b[39;00m\n\u001b[0;32m    511\u001b[0m     \u001b[39m# ctx._wrap_socket()\u001b[39;00m\n\u001b[1;32m--> 512\u001b[0m     \u001b[39mreturn\u001b[39;00m \u001b[39mself\u001b[39;49m\u001b[39m.\u001b[39;49msslsocket_class\u001b[39m.\u001b[39;49m_create(\n\u001b[0;32m    513\u001b[0m         sock\u001b[39m=\u001b[39;49msock,\n\u001b[0;32m    514\u001b[0m         server_side\u001b[39m=\u001b[39;49mserver_side,\n\u001b[0;32m    515\u001b[0m         do_handshake_on_connect\u001b[39m=\u001b[39;49mdo_handshake_on_connect,\n\u001b[0;32m    516\u001b[0m         suppress_ragged_eofs\u001b[39m=\u001b[39;49msuppress_ragged_eofs,\n\u001b[0;32m    517\u001b[0m         server_hostname\u001b[39m=\u001b[39;49mserver_hostname,\n\u001b[0;32m    518\u001b[0m         context\u001b[39m=\u001b[39;49m\u001b[39mself\u001b[39;49m,\n\u001b[0;32m    519\u001b[0m         session\u001b[39m=\u001b[39;49msession\n\u001b[0;32m    520\u001b[0m     )\n",
      "File \u001b[1;32mc:\\Users\\orect\\miniconda3\\envs\\tumblr\\lib\\ssl.py:1070\u001b[0m, in \u001b[0;36mSSLSocket._create\u001b[1;34m(cls, sock, server_side, do_handshake_on_connect, suppress_ragged_eofs, server_hostname, context, session)\u001b[0m\n\u001b[0;32m   1067\u001b[0m         \u001b[39mif\u001b[39;00m timeout \u001b[39m==\u001b[39m \u001b[39m0.0\u001b[39m:\n\u001b[0;32m   1068\u001b[0m             \u001b[39m# non-blocking\u001b[39;00m\n\u001b[0;32m   1069\u001b[0m             \u001b[39mraise\u001b[39;00m \u001b[39mValueError\u001b[39;00m(\u001b[39m\"\u001b[39m\u001b[39mdo_handshake_on_connect should not be specified for non-blocking sockets\u001b[39m\u001b[39m\"\u001b[39m)\n\u001b[1;32m-> 1070\u001b[0m         \u001b[39mself\u001b[39;49m\u001b[39m.\u001b[39;49mdo_handshake()\n\u001b[0;32m   1071\u001b[0m \u001b[39mexcept\u001b[39;00m (\u001b[39mOSError\u001b[39;00m, \u001b[39mValueError\u001b[39;00m):\n\u001b[0;32m   1072\u001b[0m     \u001b[39mself\u001b[39m\u001b[39m.\u001b[39mclose()\n",
      "File \u001b[1;32mc:\\Users\\orect\\miniconda3\\envs\\tumblr\\lib\\ssl.py:1341\u001b[0m, in \u001b[0;36mSSLSocket.do_handshake\u001b[1;34m(self, block)\u001b[0m\n\u001b[0;32m   1339\u001b[0m     \u001b[39mif\u001b[39;00m timeout \u001b[39m==\u001b[39m \u001b[39m0.0\u001b[39m \u001b[39mand\u001b[39;00m block:\n\u001b[0;32m   1340\u001b[0m         \u001b[39mself\u001b[39m\u001b[39m.\u001b[39msettimeout(\u001b[39mNone\u001b[39;00m)\n\u001b[1;32m-> 1341\u001b[0m     \u001b[39mself\u001b[39;49m\u001b[39m.\u001b[39;49m_sslobj\u001b[39m.\u001b[39;49mdo_handshake()\n\u001b[0;32m   1342\u001b[0m \u001b[39mfinally\u001b[39;00m:\n\u001b[0;32m   1343\u001b[0m     \u001b[39mself\u001b[39m\u001b[39m.\u001b[39msettimeout(timeout)\n",
      "\u001b[1;31mKeyboardInterrupt\u001b[0m: "
     ]
    }
   ],
   "source": [
    "for i in range(150, len(data)):\n",
    "    illustration = data.iloc[i]\n",
    "\n",
    "    download(illustration['identifier'], destdir = '../Dump/', verbose=True, glob_pattern=illustration['name'])\n",
    "\n",
    "    address = '../Dump/' + illustration['identifier'] + '/' + illustration['name']\n",
    "\n",
    "    outString = pt.image_to_string(Image.open(address))\n",
    "    outString = outString.replace('\\n', ' ')\n",
    "\n",
    "    words = nltk.word_tokenize(outString)\n",
    "\n",
    "    words = [spell(word) for word in words if word.isalnum()]    \n",
    "\n",
    "    print(client.create_photo('palegentlementale', state=\"published\", tags= words, tweet=illustration['name'][:-4], data=address))\n",
    "\n",
    "    shutil.rmtree('../Dump/' + illustration['identifier'])\n",
    "\n",
    "    print('Done with ' + str(i) + ' out of ' + str(len(data)))\n",
    "    "
   ]
  },
  {
   "cell_type": "code",
   "execution_count": null,
   "metadata": {},
   "outputs": [],
   "source": []
  }
 ],
 "metadata": {
  "kernelspec": {
   "display_name": "Python 3.10.4 ('tumblr')",
   "language": "python",
   "name": "python3"
  },
  "language_info": {
   "codemirror_mode": {
    "name": "ipython",
    "version": 3
   },
   "file_extension": ".py",
   "mimetype": "text/x-python",
   "name": "python",
   "nbconvert_exporter": "python",
   "pygments_lexer": "ipython3",
   "version": "3.10.4"
  },
  "orig_nbformat": 4,
  "vscode": {
   "interpreter": {
    "hash": "5537f978e9935e9e101cfb4c1eb5c80a886277ac530229be6f1dff443d6806cc"
   }
  }
 },
 "nbformat": 4,
 "nbformat_minor": 2
}
