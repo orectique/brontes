{
 "cells": [
  {
   "cell_type": "code",
   "execution_count": 38,
   "metadata": {},
   "outputs": [],
   "source": [
    "from internetarchive import search_items, download\n",
    "\n",
    "import json"
   ]
  },
  {
   "cell_type": "code",
   "execution_count": 34,
   "metadata": {},
   "outputs": [],
   "source": [
    "items = search_items('collection:magazineart-foodandbev')"
   ]
  },
  {
   "cell_type": "code",
   "execution_count": 35,
   "metadata": {},
   "outputs": [],
   "source": [
    "items = list(items.iter_as_items())"
   ]
  },
  {
   "cell_type": "code",
   "execution_count": 36,
   "metadata": {},
   "outputs": [],
   "source": [
    "#download(items[0].identifier, destdir='../Dump/', checksum=True, verbose=True, glob_pattern='*.jpg')"
   ]
  },
  {
   "cell_type": "code",
   "execution_count": 45,
   "metadata": {},
   "outputs": [],
   "source": [
    "listFiles = []\n",
    "\n",
    "stripSpace = lambda fileName: ''.join(val for val in fileName[:-3] if val.isalnum())\n",
    "\n",
    "for item in items:\n",
    "    for file in item.files:\n",
    "        if (stripSpace(file['name']) == item.identifier) and (file['format'] == 'JPEG'):\n",
    "            listFiles.append({'identifier': item.identifier, 'name': file['name'], 'status': 'unused'})"
   ]
  },
  {
   "cell_type": "code",
   "execution_count": 46,
   "metadata": {},
   "outputs": [],
   "source": [
    "exp = json.dumps(listFiles)\n",
    "\n",
    "with open('../Data/listFiles.json', 'w') as f:\n",
    "    f.write(exp)"
   ]
  },
  {
   "cell_type": "code",
   "execution_count": 47,
   "metadata": {},
   "outputs": [
    {
     "data": {
      "text/plain": [
       "578"
      ]
     },
     "execution_count": 47,
     "metadata": {},
     "output_type": "execute_result"
    }
   ],
   "source": [
    "len(listFiles)"
   ]
  },
  {
   "cell_type": "code",
   "execution_count": 48,
   "metadata": {},
   "outputs": [
    {
     "data": {
      "text/plain": [
       "{'identifier': 'AandPAngelFoodCake1949A',\n",
       " 'name': 'A and P Angel Food Cake -1949A.jpg',\n",
       " 'status': 'unused'}"
      ]
     },
     "execution_count": 48,
     "metadata": {},
     "output_type": "execute_result"
    }
   ],
   "source": [
    "listFiles[0]"
   ]
  }
 ],
 "metadata": {
  "kernelspec": {
   "display_name": "Python 3.10.4 ('tumblr')",
   "language": "python",
   "name": "python3"
  },
  "language_info": {
   "codemirror_mode": {
    "name": "ipython",
    "version": 3
   },
   "file_extension": ".py",
   "mimetype": "text/x-python",
   "name": "python",
   "nbconvert_exporter": "python",
   "pygments_lexer": "ipython3",
   "version": "3.10.4"
  },
  "orig_nbformat": 4,
  "vscode": {
   "interpreter": {
    "hash": "5537f978e9935e9e101cfb4c1eb5c80a886277ac530229be6f1dff443d6806cc"
   }
  }
 },
 "nbformat": 4,
 "nbformat_minor": 2
}
