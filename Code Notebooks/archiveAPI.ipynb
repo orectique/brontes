{
 "cells": [
  {
   "cell_type": "code",
   "execution_count": 38,
   "metadata": {},
   "outputs": [],
   "source": [
    "from internetarchive import search_items, download\n",
    "\n",
    "import json"
   ]
  },
  {
   "cell_type": "code",
   "execution_count": 34,
   "metadata": {},
   "outputs": [],
   "source": [
    "items = search_items('collection:magazineart-foodandbev')"
   ]
  },
  {
   "cell_type": "code",
   "execution_count": 35,
   "metadata": {},
   "outputs": [],
   "source": [
    "items = list(items.iter_as_items())"
   ]
  },
  {
   "cell_type": "code",
   "execution_count": 36,
   "metadata": {},
   "outputs": [],
   "source": [
    "#download(items[0].identifier, destdir='../Dump/', checksum=True, verbose=True, glob_pattern='*.jpg')"
   ]
  },
  {
   "cell_type": "code",
   "execution_count": 45,
   "metadata": {},
   "outputs": [],
   "source": [
    "listFiles = []\n",
    "\n",
    "stripSpace = lambda fileName: ''.join(val for val in fileName[:-3] if val.isalnum())\n",
    "\n",
    "for item in items:\n",
    "    for file in item.files:\n",
    "        if (stripSpace(file['name']) == item.identifier) and (file['format'] == 'JPEG'):\n",
    "            listFiles.append({'identifier': item.identifier, 'name': file['name'], 'status': 'unused'})"
   ]
  },
  {
   "cell_type": "code",
   "execution_count": 46,
   "metadata": {},
   "outputs": [],
   "source": [
    "exp = json.dumps(listFiles)\n",
    "\n",
    "with open('../Data/listFiles.json', 'w') as f:\n",
    "    f.write(exp)"
   ]
  },
  {
   "cell_type": "code",
   "execution_count": 47,
   "metadata": {},
   "outputs": [
    {
     "data": {
      "text/plain": [
       "578"
      ]
     },
     "execution_count": 47,
     "metadata": {},
     "output_type": "execute_result"
    }
   ],
   "source": [
    "len(listFiles)"
   ]
  },
  {
   "cell_type": "code",
   "execution_count": 48,
   "metadata": {},
   "outputs": [
    {
     "data": {
      "text/plain": [
       "{'identifier': 'AandPAngelFoodCake1949A',\n",
       " 'name': 'A and P Angel Food Cake -1949A.jpg',\n",
       " 'status': 'unused'}"
      ]
     },
     "execution_count": 48,
     "metadata": {},
     "output_type": "execute_result"
    }
   ],
   "source": [
    "listFiles[0]"
   ]
  },
  {
   "cell_type": "code",
   "execution_count": 53,
   "metadata": {},
   "outputs": [],
   "source": [
    "from internetarchive import get_item, get_files"
   ]
  },
  {
   "cell_type": "code",
   "execution_count": 57,
   "metadata": {},
   "outputs": [
    {
     "data": {
      "text/plain": [
       "[{'name': 'A and P Angel Food Cake -1949A.jpg',\n",
       "  'source': 'original',\n",
       "  'mtime': '1544656898',\n",
       "  'size': '179882',\n",
       "  'md5': '5e5e6a639d9881873eb6f8dc72725296',\n",
       "  'crc32': '7d70f4de',\n",
       "  'sha1': '701f43cab8d313d8486e4881bc0bbf437b7947a1',\n",
       "  'format': 'JPEG',\n",
       "  'rotation': '0'},\n",
       " {'name': 'A and P Angel Food Cake -1949A_thumb.jpg',\n",
       "  'source': 'derivative',\n",
       "  'format': 'JPEG Thumb',\n",
       "  'original': 'A and P Angel Food Cake -1949A.jpg',\n",
       "  'mtime': '1544656921',\n",
       "  'size': '7027',\n",
       "  'md5': 'eca1860ba6cc6161a3f91a6f6f46f57b',\n",
       "  'crc32': '3bad4041',\n",
       "  'sha1': 'a3bcba890cb5286e438ddea16f2c5c1458a77f5d'},\n",
       " {'name': 'AandPAngelFoodCake1949A_archive.torrent',\n",
       "  'source': 'metadata',\n",
       "  'btih': '2b12e7e7bd86caa2dc7507882884750be692ba83',\n",
       "  'mtime': '1589409626',\n",
       "  'size': '2096',\n",
       "  'md5': '09571889477bcdfdfad3c0770dc2a232',\n",
       "  'crc32': '48eb5587',\n",
       "  'sha1': '724fa28e9f8c4c321ea21ddab3071cfeff5488aa',\n",
       "  'format': 'Archive BitTorrent'},\n",
       " {'name': 'AandPAngelFoodCake1949A_files.xml',\n",
       "  'source': 'original',\n",
       "  'format': 'Metadata',\n",
       "  'md5': '3b8da477bf4b88c85e4dd71b06c1ed62'},\n",
       " {'name': 'AandPAngelFoodCake1949A_meta.sqlite',\n",
       "  'source': 'original',\n",
       "  'mtime': '1544656910',\n",
       "  'size': '11264',\n",
       "  'md5': 'abd1aa6ceba8a5a9334a6e286c3e0772',\n",
       "  'crc32': '0d6b287b',\n",
       "  'sha1': 'f073909851bb6e72bef91076544289573d6ad80d',\n",
       "  'format': 'Metadata'},\n",
       " {'name': 'AandPAngelFoodCake1949A_meta.xml',\n",
       "  'source': 'original',\n",
       "  'mtime': '1589409624',\n",
       "  'size': '1118',\n",
       "  'format': 'Metadata',\n",
       "  'md5': 'f345e8a8cd2a0f254544943368d711f9',\n",
       "  'crc32': 'af53c934',\n",
       "  'sha1': '16f42b2be8525c765923fdb507f16ec479bc4e76'},\n",
       " {'name': '__ia_thumb.jpg',\n",
       "  'source': 'original',\n",
       "  'mtime': '1544656929',\n",
       "  'size': '26205',\n",
       "  'md5': '960b2b012c327634749ba8171168a5fe',\n",
       "  'crc32': 'fc962bc5',\n",
       "  'sha1': '94c6e190cef9f19fb106326b3a49fa90d2849afe',\n",
       "  'format': 'Item Tile',\n",
       "  'rotation': '0'}]"
      ]
     },
     "execution_count": 57,
     "metadata": {},
     "output_type": "execute_result"
    }
   ],
   "source": [
    "items[0].files"
   ]
  },
  {
   "cell_type": "code",
   "execution_count": null,
   "metadata": {},
   "outputs": [],
   "source": []
  }
 ],
 "metadata": {
  "kernelspec": {
   "display_name": "Python 3.10.4 ('tumblr')",
   "language": "python",
   "name": "python3"
  },
  "language_info": {
   "codemirror_mode": {
    "name": "ipython",
    "version": 3
   },
   "file_extension": ".py",
   "mimetype": "text/x-python",
   "name": "python",
   "nbconvert_exporter": "python",
   "pygments_lexer": "ipython3",
   "version": "3.10.4"
  },
  "orig_nbformat": 4,
  "vscode": {
   "interpreter": {
    "hash": "5537f978e9935e9e101cfb4c1eb5c80a886277ac530229be6f1dff443d6806cc"
   }
  }
 },
 "nbformat": 4,
 "nbformat_minor": 2
}
